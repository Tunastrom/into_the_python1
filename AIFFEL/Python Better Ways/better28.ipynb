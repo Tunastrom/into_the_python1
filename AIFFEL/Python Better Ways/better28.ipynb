{
 "cells": [
  {
   "cell_type": "markdown",
   "id": "ee25091f",
   "metadata": {},
   "source": [
    "## Better Way 28\n",
    "### 컴프리헨션 내부에 제어 하위 식을 3개 이상 사용하지 말라 \n",
    "\n",
    "컴프리헨션은 루프를 여러 수준으로 내포하도록 허용한다\n",
    "\n",
    "### 컴프리헨션에서 다중루프를 사용하는 타당한 케이스 1: 행렬(matrix)을 flatten 하기"
   ]
  },
  {
   "cell_type": "code",
   "execution_count": 1,
   "id": "295fc6af",
   "metadata": {},
   "outputs": [
    {
     "name": "stdout",
     "output_type": "stream",
     "text": [
      "[1, 2, 3, 4, 5, 6, 7, 8, 9]\n"
     ]
    }
   ],
   "source": [
    "matrix = [[1,2,3],[4,5,6],[7,8,9]]\n",
    "flat = [x for row in matrix for x in row]\n",
    "print(flat)"
   ]
  },
  {
   "cell_type": "markdown",
   "id": "222c9317",
   "metadata": {},
   "source": [
    "\n",
    "간단하고 읽기 쉬우니까\n",
    "\n",
    "\n",
    "### 컴프리헨션에서 다중루프를 사용하는 타당한 케이스 2: 행렬의 원소 제곱하기\n"
   ]
  },
  {
   "cell_type": "code",
   "execution_count": 2,
   "id": "bb879ff6",
   "metadata": {},
   "outputs": [
    {
     "name": "stdout",
     "output_type": "stream",
     "text": [
      "[[1, 4, 9], [16, 25, 36], [49, 64, 81]]\n"
     ]
    }
   ],
   "source": [
    "squared = [[x**2 for x in row] for row in matrix]\n",
    "print(squared)"
   ]
  },
  {
   "cell_type": "markdown",
   "id": "6d0908dc",
   "metadata": {},
   "source": [
    "### 나쁜 케이스 1: 내부에 다른 루프 추가"
   ]
  },
  {
   "cell_type": "code",
   "execution_count": 9,
   "id": "2f68a846",
   "metadata": {},
   "outputs": [
    {
     "name": "stdout",
     "output_type": "stream",
     "text": [
      "[1, 2, 3, 4, 5, 6, 7, 8, 9, 10, 11, 12, 13, 14, 15, 16, 17, 18, 19, 20, 21, 22, 23, 24, 25, 26, 27]\n"
     ]
    }
   ],
   "source": [
    "my_lists = [\n",
    "    [[1,2,3], [4,5,6], [7,8,9]],\n",
    "    [[10,11,12], [13,14,15], [16,17,18]],\n",
    "    [[19,20,21], [22,23,24], [25,26,27]]\n",
    "]\n",
    "flat = [x for sublist1 in my_lists  # 세줄씩 \n",
    "        for sublist2 in sublist1    # 차지하는군\n",
    "        for x in sublist2]          # ㅡㅡ\n",
    "\n",
    "print(flat)"
   ]
  },
  {
   "cell_type": "markdown",
   "id": "19d8d086",
   "metadata": {},
   "source": [
    "### 오히려 이쪽의 코드가 더 명확해보임"
   ]
  },
  {
   "cell_type": "code",
   "execution_count": 12,
   "id": "c166585d",
   "metadata": {},
   "outputs": [
    {
     "name": "stdout",
     "output_type": "stream",
     "text": [
      "[1, 2, 3, 4, 5, 6, 7, 8, 9, 10, 11, 12, 13, 14, 15, 16, 17, 18, 19, 20, 21, 22, 23, 24, 25, 26, 27]\n"
     ]
    }
   ],
   "source": [
    "my_lists = [\n",
    "    [[1,2,3], [4,5,6], [7,8,9]],\n",
    "    [[10,11,12], [13,14,15], [16,17,18]],\n",
    "    [[19,20,21], [22,23,24], [25,26,27]]\n",
    "]\n",
    "flat = []\n",
    "for sublist1 in my_lists:         # 다시보니\n",
    "    for sublist2 in sublist1:     # 선녀로군\n",
    "         flat.extend(sublist2)     # ㅎㅎ\n",
    "print(flat)\n",
    "        "
   ]
  },
  {
   "cell_type": "markdown",
   "id": "9494622b",
   "metadata": {},
   "source": [
    "### 컴프리헨션은 여러 if 조건을 허용함"
   ]
  },
  {
   "cell_type": "code",
   "execution_count": 13,
   "id": "c27d553d",
   "metadata": {},
   "outputs": [],
   "source": [
    "a = [ 1,2,3,4,5,6,7,8,9,10 ]\n",
    "b = [ x for x in a if x > 4 if x % 2 == 0 ] "
   ]
  },
  {
   "cell_type": "code",
   "execution_count": 18,
   "id": "5c49ef22",
   "metadata": {},
   "outputs": [
    {
     "name": "stdout",
     "output_type": "stream",
     "text": [
      "5\n",
      "4\n",
      "3\n",
      "2\n",
      "1\n"
     ]
    },
    {
     "ename": "NameError",
     "evalue": "name 'count' is not defined",
     "output_type": "error",
     "traceback": [
      "\u001b[1;31m---------------------------------------------------------------------------\u001b[0m",
      "\u001b[1;31mNameError\u001b[0m                                 Traceback (most recent call last)",
      "\u001b[1;32m<ipython-input-18-1bf2bc03f522>\u001b[0m in \u001b[0;36m<module>\u001b[1;34m\u001b[0m\n\u001b[0;32m      4\u001b[0m     \u001b[0mprint\u001b[0m\u001b[1;33m(\u001b[0m\u001b[0mcount\u001b[0m\u001b[1;33m)\u001b[0m\u001b[1;33m\u001b[0m\u001b[1;33m\u001b[0m\u001b[0m\n\u001b[0;32m      5\u001b[0m \u001b[1;32mdel\u001b[0m\u001b[1;33m(\u001b[0m\u001b[0mcount\u001b[0m\u001b[1;33m)\u001b[0m\u001b[1;33m\u001b[0m\u001b[1;33m\u001b[0m\u001b[0m\n\u001b[1;32m----> 6\u001b[1;33m \u001b[0mprint\u001b[0m\u001b[1;33m(\u001b[0m\u001b[1;34mf'{list(stock.values())}의 마지막 원소는 {count}'\u001b[0m\u001b[1;33m)\u001b[0m\u001b[1;33m\u001b[0m\u001b[1;33m\u001b[0m\u001b[0m\n\u001b[0m",
      "\u001b[1;31mNameError\u001b[0m: name 'count' is not defined"
     ]
    }
   ],
   "source": [
    "stock = {1:5, 2:4, 3:3, 4:2, 5:1}\n",
    "\n",
    "for count in stock.values():\n",
    "    print(count)\n",
    "del(count)    \n",
    "print(f'{list(stock.values())}의 마지막 원소는 {count}')"
   ]
  },
  {
   "cell_type": "code",
   "execution_count": null,
   "id": "79b090b7",
   "metadata": {},
   "outputs": [],
   "source": []
  }
 ],
 "metadata": {
  "kernelspec": {
   "display_name": "Python 3",
   "language": "python",
   "name": "python3"
  },
  "language_info": {
   "codemirror_mode": {
    "name": "ipython",
    "version": 3
   },
   "file_extension": ".py",
   "mimetype": "text/x-python",
   "name": "python",
   "nbconvert_exporter": "python",
   "pygments_lexer": "ipython3",
   "version": "3.8.8"
  }
 },
 "nbformat": 4,
 "nbformat_minor": 5
}
