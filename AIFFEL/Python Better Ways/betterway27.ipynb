{
 "cells": [
  {
   "cell_type": "markdown",
   "id": "e1db83f4",
   "metadata": {},
   "source": [
    "## Better Way 27\n",
    "### Map과 filter 대신 컴프리헨션을 사용하라\n"
   ]
  },
  {
   "cell_type": "markdown",
   "id": "6a2ada1d",
   "metadata": {},
   "source": [
    "리스트에 있는 모든 원소의 제곱 계산"
   ]
  },
  {
   "cell_type": "code",
   "execution_count": 1,
   "id": "018a6ca1",
   "metadata": {},
   "outputs": [
    {
     "name": "stdout",
     "output_type": "stream",
     "text": [
      "[1, 4, 9, 16, 25, 36, 49, 64, 81, 100]\n"
     ]
    }
   ],
   "source": [
    "a = [1,2,3,4,5,6,7,8,9,10]\n",
    "squares = []\n",
    "for x in a:\n",
    "    squares.append(x**2)\n",
    "print(squares)"
   ]
  },
  {
   "cell_type": "markdown",
   "id": "1cc22098",
   "metadata": {},
   "source": [
    "#### 리스트 컴프리헨션 사용"
   ]
  },
  {
   "cell_type": "code",
   "execution_count": 3,
   "id": "d56da15a",
   "metadata": {},
   "outputs": [
    {
     "name": "stdout",
     "output_type": "stream",
     "text": [
      "[1, 4, 9, 16, 25, 36, 49, 64, 81, 100]\n"
     ]
    }
   ],
   "source": [
    "squares = [x**2 for x in a] # 리스트 컴프리헨션\n",
    "print(squares)"
   ]
  },
  {
   "cell_type": "markdown",
   "id": "879fab43",
   "metadata": {},
   "source": [
    "#### 간단한 경우에도 map 내장함수보다 list 컴프리헨션이 더 명확함.\n",
    "> 단, 인자가 하나인 경우가 아니라면..."
   ]
  },
  {
   "cell_type": "code",
   "execution_count": 6,
   "id": "3a398838",
   "metadata": {},
   "outputs": [
    {
     "name": "stdout",
     "output_type": "stream",
     "text": [
      "[1, 4, 9, 16, 25, 36, 49, 64, 81, 100]\n"
     ]
    }
   ],
   "source": [
    "alt = map(lambda x: x ** 2, a) # lambda 함수 사용으로 시각적으로 좋지 않다.\n",
    "print(list(alt))"
   ]
  },
  {
   "attachments": {
    "image-2.png": {
     "image/png": "[encoded data removed]"
    }
   },
   "cell_type": "markdown",
   "id": "4d7928c2",
   "metadata": {},
   "source": [
    "### lambda 함수 \n",
    "![image-2.png](attachment:image-2.png)"
   ]
  },
  {
   "cell_type": "markdown",
   "id": "83000a28",
   "metadata": {},
   "source": [
    "#### 리스트 컴프리헨션은 입력리스트에서 원소를 쉽게 필터링해 결과에서 원하는 원소를 제거"
   ]
  },
  {
   "cell_type": "code",
   "execution_count": 8,
   "id": "9ae14433",
   "metadata": {},
   "outputs": [
    {
     "name": "stdout",
     "output_type": "stream",
     "text": [
      "[4, 16, 36, 64, 100]\n"
     ]
    }
   ],
   "source": [
    "even_squares = [x**2 for x in a if x % 2 == 0]\n",
    "print(even_squares)"
   ]
  },
  {
   "cell_type": "markdown",
   "id": "3033cfda",
   "metadata": {},
   "source": [
    "filter 내장함수 + map 사용 "
   ]
  },
  {
   "cell_type": "code",
   "execution_count": 10,
   "id": "82e2b80c",
   "metadata": {},
   "outputs": [
    {
     "name": "stdout",
     "output_type": "stream",
     "text": [
      "[4, 16, 36, 64, 100]\n"
     ]
    }
   ],
   "source": [
    "alt = map(lambda x: x**2, filter(lambda x: x % 2 == 0,a)) # 코드를 읽기 어렵다.\n",
    "assert even_squares == list(alt)\n",
    "print(even_squares)"
   ]
  },
  {
   "cell_type": "markdown",
   "id": "017e4f1c",
   "metadata": {},
   "source": [
    "#### 딕셔너리/집합 컴프리헨션 \n",
    "#### 알고리즘 작성시 딕셔너리/집합에서 파생된 데이터구조 쉽게 생성"
   ]
  },
  {
   "cell_type": "code",
   "execution_count": 12,
   "id": "1d70e6ea",
   "metadata": {},
   "outputs": [
    {
     "name": "stdout",
     "output_type": "stream",
     "text": [
      "{2: 4, 4: 16, 6: 36, 8: 64, 10: 100}\n",
      "{216, 729, 27}\n"
     ]
    }
   ],
   "source": [
    "even_squares_dict = {x: x**2 for x in a if x % 2 == 0}\n",
    "threes_cubed_set = {x**3 for x in a if x % 3 == 0}\n",
    "print(even_squares_dict)\n",
    "print(threes_cubed_set)"
   ]
  },
  {
   "cell_type": "markdown",
   "id": "69183852",
   "metadata": {},
   "source": [
    "filter 내장함수 + map 사용"
   ]
  },
  {
   "cell_type": "code",
   "execution_count": 15,
   "id": "de02211d",
   "metadata": {},
   "outputs": [
    {
     "name": "stdout",
     "output_type": "stream",
     "text": [
      "{2: 4, 4: 16, 6: 36, 8: 64, 10: 100}\n",
      "{(6, 216), (3, 27), (9, 729)}\n"
     ]
    }
   ],
   "source": [
    "alt_dict = dict(map(lambda x: (x, x**2), \n",
    "                filter(lambda x: x % 2 == 0, a))) # 코드가 너무 길어서 여러 줄에 나누어 써야한다.\n",
    "alt_set = set(map(lambda x: (x, x**3),            # -> 시각적잡음 발생\n",
    "              filter(lambda x: x % 3 == 0, a)))\n",
    "print(alt_dict)\n",
    "print(alt_set)"
   ]
  },
  {
   "cell_type": "markdown",
   "id": "e5bb9d93",
   "metadata": {},
   "source": [
    "### 그러므로 map과 filter의 사용을 피해라"
   ]
  },
  {
   "cell_type": "markdown",
   "id": "02f9a13a",
   "metadata": {},
   "source": [
    "### 요약\n",
    "\n",
    "* 리스트 컴프리헨션은 lambda식을 사용하지 않기 때문에 같은 일을 하는 map과 filter 내장함수를 사용하는 것보다 더 명확\n",
    "* 리스트 컴프리헨션을 사용하면 쉽게 입력리스트의 원소를 건너뛸 수 있다.\n",
    "  하지만 map을 사용하면 filter의 도움을 받아야함\n",
    "* 딕셔너리와 집합도 컴프리헨션으로 생성할 수 있다."
   ]
  }
 ],
 "metadata": {
  "kernelspec": {
   "display_name": "Python 3",
   "language": "python",
   "name": "python3"
  },
  "language_info": {
   "codemirror_mode": {
    "name": "ipython",
    "version": 3
   },
   "file_extension": ".py",
   "mimetype": "text/x-python",
   "name": "python",
   "nbconvert_exporter": "python",
   "pygments_lexer": "ipython3",
   "version": "3.8.8"
  }
 },
 "nbformat": 4,
 "nbformat_minor": 5
}
