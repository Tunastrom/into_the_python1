{
 "cells": [
  {
   "cell_type": "markdown",
   "id": "f4e4c045",
   "metadata": {},
   "source": [
    "## Better Way 40\n",
    "### super로 부모 클래스를 초기화하라\n",
    "\n",
    "#### 자식클래스에서 부모클래스를 초기화하는 오래된 방법\n",
    ": 자식클래스에서 부모 클래스의 __init__메서드 직접 호출 "
   ]
  },
  {
   "cell_type": "code",
   "execution_count": 5,
   "id": "78a068eb",
   "metadata": {},
   "outputs": [],
   "source": [
    "class MyBaseClass:\n",
    "    def __init__(self, value):\n",
    "        self.value = value\n",
    "\n",
    "class MyChildClass(MyBaseClass):\n",
    "    def __init__(self):\n",
    "        MyBaseClass.__init__(self, 5)"
   ]
  },
  {
   "cell_type": "markdown",
   "id": "7727d840",
   "metadata": {},
   "source": [
    "#### 기본적인 클래스 계층에서는 잘 작동하지만 다른 경우에서는 잘못될 수 있다,\n",
    "\n",
    "\n",
    "### 1. 클래스가 다중 상속에 의해 영향을 받은 경우\n",
    "상위 클래스의 \\__init\\__메서드를 직접호출하면 프로그램이 예측할 수 없는 방향으로 작동할 수 있다,\n",
    "\n",
    "**문제1. 모든 하위클래스에서 __init__의 호출순서가 정해져 있지 않다.**"
   ]
  },
  {
   "cell_type": "code",
   "execution_count": 6,
   "id": "8d768fe0",
   "metadata": {},
   "outputs": [],
   "source": [
    "# 인스턴스의 value필드에 대해 작용하는 두 상위 클래스를 정의하는 코드\n",
    "class TimesTwo:\n",
    "    def __init__(self):\n",
    "        self.value *= 2\n",
    "        \n",
    "class PlusFive:\n",
    "    def __init__(self):\n",
    "        self.value += 5"
   ]
  },
  {
   "cell_type": "code",
   "execution_count": 7,
   "id": "61df9f7c",
   "metadata": {},
   "outputs": [
    {
     "name": "stdout",
     "output_type": "stream",
     "text": [
      "첫 번째 부모 클래스 순서에 따른 값은 (5*2) + 5 = 15\n"
     ]
    }
   ],
   "source": [
    "# 부모 클래스를 TimesTwo, PlusFive순서로 정의하는 코드\n",
    "class OneWay(MyBaseClass, TimesTwo, PlusFive):\n",
    "    def __init__(self, value):\n",
    "        MyBaseClass.__init__(self, value)\n",
    "        TimesTwo.__init__(self)\n",
    "        PlusFive.__init__(self)\n",
    "        \n",
    "# 위 클래스의 인스턴스를 만들면 부모 클래스의 순서에 따라 초기화가 실행된다.\n",
    "foo = OneWay(5)\n",
    "print('첫 번째 부모 클래스 순서에 따른 값은 (5*2) + 5 =', foo.value)"
   ]
  },
  {
   "cell_type": "code",
   "execution_count": 8,
   "id": "b6a82363",
   "metadata": {},
   "outputs": [],
   "source": [
    "# 같은 부모클래스를 사용하지만 부모클래스를 나열한 순서가 다른 경우\n",
    "class AnotherWay(MyBaseClass, PlusFive, TimesTwo):\n",
    "    def __init__(self, value):\n",
    "        MyBaseClass.__init__(self, value)   \n",
    "        # 부모 클래스의 생성자를 호출하는 순서는 그대로 이므로 결과는 같다 \n",
    "        TimesTwo.__init__(self)\n",
    "        PlusFive.__init__(self)"
   ]
  },
  {
   "cell_type": "code",
   "execution_count": 9,
   "id": "f1a96c69",
   "metadata": {},
   "outputs": [
    {
     "name": "stdout",
     "output_type": "stream",
     "text": [
      "두 번째 부모 클래스 순서에 따른 값은 15\n"
     ]
    }
   ],
   "source": [
    "bar = AnotherWay(5)\n",
    "print('두 번째 부모 클래스 순서에 따른 값은', bar.value)"
   ]
  },
  {
   "cell_type": "markdown",
   "id": "5f116696",
   "metadata": {},
   "source": [
    "#### 문제 2. 클래스 정의에 나열한 부모 클래스의 순서와 부모 생성자를 호출한 순서가 일치 하지 않는다. \n",
    "이 문제는 발견이 어렵고, 코드를 처음보고 이해하기도 어렵다.\n",
    "\n",
    "<br>\n",
    "\n",
    "### 문제 2. 다이아몬드 상속인 경우\n",
    "**다이아몬드 상속:** 두 가지 서로 다른 클래스를 상속할 때, 그 두 클래스가 같은 조상 클래스를 가진 경우.\n",
    "\n",
    "#### 공통 조상 클래스의 __init__메서드가 여러번 호출될 수 있어 예기치 못한 방향으로 작동가능.\n"
   ]
  },
  {
   "cell_type": "code",
   "execution_count": 11,
   "id": "66ba1246",
   "metadata": {},
   "outputs": [],
   "source": [
    "# MyBaseClass를 상속하는 두 가지 자식 클래스 정의\n",
    "class TimesSeven(MyBaseClass):\n",
    "    def __init__(self, value):\n",
    "        MyBaseClass.__init__(self, value)\n",
    "        self.value *= 7\n",
    "        \n",
    "class PlusNine(MyBaseClass):\n",
    "    def __init__(self, value):\n",
    "        MyBaseClass.__init__(self, value)\n",
    "        self.value += 9\n",
    "          "
   ]
  },
  {
   "cell_type": "code",
   "execution_count": 12,
   "id": "1490643b",
   "metadata": {},
   "outputs": [
    {
     "name": "stdout",
     "output_type": "stream",
     "text": [
      "(5 *  7) + 9 = 44가 나와야 하지만 실제로는 14\n"
     ]
    }
   ],
   "source": [
    "# 위 두 클래스를 모두 상속하는 자식 클래스 정의\n",
    "class ThisWay(TimesSeven, PlusNine):\n",
    "    def __init__(self, value):\n",
    "        TimesSeven.__init__(self, value)\n",
    "        PlusNine.__init__(self, value)\n",
    "        \n",
    "foo = ThisWay(5)\n",
    "print('(5 *  7) + 9 = 44가 나와야 하지만 실제로는', foo.value)"
   ]
  },
  {
   "cell_type": "markdown",
   "id": "81c7e847",
   "metadata": {},
   "source": [
    "1. TimesSeven.\\__init\\__호출 -> self.value(5) *= 7 -> self.value = 35 \n",
    "2. PlusNine.\\__init\\__을 호출 -> self.value(5) += 9 -> self.value = 14\n",
    "### 2.에서 self.value의 값이 다시 5로 초기화된다!\n",
    "프로그래머를 당황하게 하고, 복잡한 코드의 경우 디버깅이 힘들다.\n",
    "\n",
    "<br>\n",
    "\n",
    "### 해결책: ```super``` 내장함수와 MRO\n",
    "\n",
    "1. **```super```:** 다이아몬드 계층의 공통 상위클래스를 단 한 번만 호출하도록 보장.\n",
    "2. **MRO(Method Resolution Order):** C3 선형화(linearization) 알고리즘 사용해 상위 클래스를 초기화하는 순서를 정의."
   ]
  },
  {
   "cell_type": "code",
   "execution_count": 13,
   "id": "6364b7f3",
   "metadata": {},
   "outputs": [],
   "source": [
    "# 다이아몬드 모양의 클래스 구조를 다시 만들고, super를 사용해 부모클래스 초기화\n",
    "class TimesSevenCorrect(MyBaseClass):\n",
    "    def __init__(self, value):\n",
    "        super().__init__(value)      #MyBaseClass.__init__이 단 한 번만 실행된다. \n",
    "        self.value *= 7\n",
    "\n",
    "class PlusNineCorrect(MyBaseClass):\n",
    "    def __init__(self, value):     \n",
    "        super().__init__(value)      #MyBaseClass.__init__이 단 한 번만 실행된다. \n",
    "        self.value += 9"
   ]
  },
  {
   "cell_type": "code",
   "execution_count": 14,
   "id": "0c04b5b1",
   "metadata": {},
   "outputs": [
    {
     "name": "stdout",
     "output_type": "stream",
     "text": [
      "7 * (5 + 9) = 98이 나와야 하고 실제로도 98\n"
     ]
    }
   ],
   "source": [
    "class GoodWay(TimesSevenCorrect, PlusNineCorrect): # 호출할 때 파라미터로 지정한 순서가 아니라\n",
    "    def __init__(self, value):                     # 이 클래스에 대한 MRO 정의를 따른다.\n",
    "        super().__init__(value)\n",
    "        \n",
    "foo = GoodWay(5)\n",
    "print('7 * (5 + 9) = 98이 나와야 하고 실제로도', foo.value)"
   ]
  },
  {
   "cell_type": "code",
   "execution_count": 15,
   "id": "1b0d815b",
   "metadata": {},
   "outputs": [
    {
     "name": "stdout",
     "output_type": "stream",
     "text": [
      "<class '__main__.GoodWay'>\n",
      "<class '__main__.TimesSevenCorrect'>\n",
      "<class '__main__.PlusNineCorrect'>\n",
      "<class '__main__.MyBaseClass'>\n",
      "<class 'object'>\n"
     ]
    }
   ],
   "source": [
    "#mro메서드를 사용해 MRO 순서를 확인하기\n",
    "mro_str = '\\n'.join(repr(cls) for cls in GoodWay.mro())\n",
    "print(mro_str)"
   ]
  },
  {
   "cell_type": "markdown",
   "id": "16d637ca",
   "metadata": {},
   "source": [
    "위 순서로  **각 클래스의 \\__init\\__을 호출하고 상속 다이아몬드의 정점에 도달한 후**   \n",
    "각 초기화 메서드는 **각 클래스의 \\__init\\__이 호출된 역순으로 작업 수행**\n",
    "\n",
    "Ex)   \n",
    "MyBaseClass.\\__init\\은 value에 5대입   \n",
    "PlusNineCorrect.\\__init\\__은 value에 9를 더해서 14로 만듬   \n",
    "TimesSevenCorrect.\\__init\\__d은 value에 7을 곱해서 98로 만듬  \n",
    "\n",
    "<br>\n",
    "\n",
    "### super().__init__ 호출의 장점 \n",
    "### 1. 다중 상속을 튼튼하게 하고, 유지보수를 더 편하게 해준다.\n",
    "* MyBaseClass 이름 바꾸기\n",
    "* TimesSevenCorrec/PlusNineCorrect가 상속받는 상위 클래스 변경   \n",
    "### 각각의 \\__init\\__메서드 정의를 바꿀 필요 없다.\n",
    "\n",
    "### 2. super 함수에 두 가지 파라미터 넘길 수 있다.\n",
    "1. 접근하고 싶은 MRO 뷰를 제공할 부모타입\n",
    "2. 1.에 지정한 타입의 MRO 뷰에 접근할 때 사용할 인스턴스"
   ]
  },
  {
   "cell_type": "code",
   "execution_count": 16,
   "id": "c8cd8009",
   "metadata": {},
   "outputs": [],
   "source": [
    "# super 함수에 파라미터 사용 예\n",
    "class ExplicitTrisect(MyBaseClass):\n",
    "    def __init__(self, value):\n",
    "             #MRO뷰 부모타입   # 파라미터1에 접근할 인스턴스\n",
    "        super(ExplicitTrisect, self).__init__(value)\n",
    "        self.value /= 3"
   ]
  },
  {
   "cell_type": "markdown",
   "id": "4757e321",
   "metadata": {},
   "source": [
    "#### object 인스턴스 초기화시에는 두 파라미터 지정 불필요   \n",
    "-> 객체지향에서 모든 클래스의 공통 조상인 object를 말하는 것 같은데... 어떻게 생각하시나요?\n",
    "   \n",
    "### 클래스 정의에서 아무 인자도 지정하지 않고 super 호출   \n",
    "### -> 파이썬 컴파일러가 자동으로 올바른 파라미터(\\__class\\__, self)넣어줌"
   ]
  },
  {
   "cell_type": "code",
   "execution_count": 3,
   "id": "b9d22f38",
   "metadata": {},
   "outputs": [
    {
     "ename": "NameError",
     "evalue": "name 'ExplicitTrisect' is not defined",
     "output_type": "error",
     "traceback": [
      "\u001b[1;31m---------------------------------------------------------------------------\u001b[0m",
      "\u001b[1;31mNameError\u001b[0m                                 Traceback (most recent call last)",
      "\u001b[1;32m<ipython-input-3-7ded8bfb4d9e>\u001b[0m in \u001b[0;36m<module>\u001b[1;34m\u001b[0m\n\u001b[0;32m     11\u001b[0m \u001b[1;33m\u001b[0m\u001b[0m\n\u001b[0;32m     12\u001b[0m \u001b[1;31m# assertion 에러가 발생하지 않는다.\u001b[0m\u001b[1;33m\u001b[0m\u001b[1;33m\u001b[0m\u001b[1;33m\u001b[0m\u001b[0m\n\u001b[1;32m---> 13\u001b[1;33m \u001b[1;32massert\u001b[0m \u001b[0mExplicitTrisect\u001b[0m\u001b[1;33m(\u001b[0m\u001b[1;36m9\u001b[0m\u001b[1;33m)\u001b[0m\u001b[1;33m.\u001b[0m\u001b[0mvalue\u001b[0m \u001b[1;33m==\u001b[0m \u001b[1;36m3\u001b[0m\u001b[1;33m\u001b[0m\u001b[1;33m\u001b[0m\u001b[0m\n\u001b[0m\u001b[0;32m     14\u001b[0m \u001b[1;32massert\u001b[0m \u001b[0mAutomaticTrisect\u001b[0m\u001b[1;33m(\u001b[0m\u001b[1;36m9\u001b[0m\u001b[1;33m)\u001b[0m\u001b[1;33m.\u001b[0m\u001b[0mvalue\u001b[0m \u001b[1;33m==\u001b[0m \u001b[1;36m3\u001b[0m\u001b[1;33m\u001b[0m\u001b[1;33m\u001b[0m\u001b[0m\n\u001b[0;32m     15\u001b[0m \u001b[1;32massert\u001b[0m \u001b[0mImplicitTrisect\u001b[0m\u001b[1;33m(\u001b[0m\u001b[1;36m9\u001b[0m\u001b[1;33m)\u001b[0m\u001b[1;33m.\u001b[0m\u001b[0mvalue\u001b[0m \u001b[1;33m==\u001b[0m \u001b[1;36m3\u001b[0m\u001b[1;33m\u001b[0m\u001b[1;33m\u001b[0m\u001b[0m\n",
      "\u001b[1;31mNameError\u001b[0m: name 'ExplicitTrisect' is not defined"
     ]
    }
   ],
   "source": [
    "# 위의 ExplicitTrisect와 아래의 두 가지 사용법은 모두 동일\n",
    "class AutomaticTrisect(MyBaseClass):\n",
    "    def __init__(self, value):\n",
    "        super(__class__, self).__init__(value)\n",
    "        self.value /= 3\n",
    "        \n",
    "class ImplicitTrisect(MyBaseClass):\n",
    "    def __init__(self, value):\n",
    "        super().__init__(value)\n",
    "        self.value /= 3\n",
    "        \n",
    "# assertion 에러가 발생하지 않는다.        \n",
    "assert ExplicitTrisect(9).value == 3\n",
    "assert AutomaticTrisect(9).value == 3\n",
    "assert ImplicitTrisect(9).value == 3"
   ]
  },
  {
   "cell_type": "markdown",
   "id": "4164fecf",
   "metadata": {},
   "source": [
    "### super에 파라미터 전달해야 하는 경우\n",
    "**자식 클래스에서 상위 클래스의 특정 기능에 접근해야 하는 경우 뿐!**   \n",
    "ex) 특정 기능 감싸기, 재사용\n",
    "\n",
    "<br>\n",
    "\n",
    "### 요약\n",
    "* 파이썬은 **표준 메서드 결정순서(MRO)**를 활용해 **상위 클래스 초기화 순서**와 **다이아몬드 상속 문제** 해결\n",
    "* **부모클래스 초기화 할 때 ```super()```를 사용하라.** 파이썬 컴파일러가 올바른 파라미터를 자동으로 넣어준다."
   ]
  }
 ],
 "metadata": {
  "kernelspec": {
   "display_name": "Python 3",
   "language": "python",
   "name": "python3"
  },
  "language_info": {
   "codemirror_mode": {
    "name": "ipython",
    "version": 3
   },
   "file_extension": ".py",
   "mimetype": "text/x-python",
   "name": "python",
   "nbconvert_exporter": "python",
   "pygments_lexer": "ipython3",
   "version": "3.8.8"
  }
 },
 "nbformat": 4,
 "nbformat_minor": 5
}
