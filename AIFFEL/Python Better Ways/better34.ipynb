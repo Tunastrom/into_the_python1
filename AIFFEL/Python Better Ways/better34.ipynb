{
 "cells": [
  {
   "cell_type": "markdown",
   "id": "853bd8b6",
   "metadata": {},
   "source": [
    "## Better Way 34\n",
    "### send로 제너레이터에 데이터를 주입하지 말라\n",
    "\n",
    "<br>\n",
    "\n",
    "### 소프트웨어 라디오로 신호 내보내기 "
   ]
  },
  {
   "cell_type": "code",
   "execution_count": 23,
   "id": "997ba755",
   "metadata": {},
   "outputs": [],
   "source": [
    "import math\n",
    "\n",
    "\n",
    "def wave(amplitude, steps):\n",
    "    '''\n",
    "    주어진 간격(steps), 진폭(amplitude)에 따른 sine wave 값 생성\n",
    "    '''\n",
    "    print('hi1')\n",
    "    step_size = 2 * math.pi / steps   # 2라디안 / 단계수\n",
    "    for step in range(steps):\n",
    "        radians = step * step_size\n",
    "        fraction = math.sin(radians)\n",
    "        output = amplitude * fraction\n",
    "        yield output\n",
    "\n",
    "\n",
    "def transmit(output):\n",
    "    '''\n",
    "    output을 송신\n",
    "    '''\n",
    "    if output is None:\n",
    "        print(f'출력: None')\n",
    "    else:\n",
    "        print(f'출력: {output:>5.1f}')\n",
    "        \n",
    "        \n",
    "def run(it):\n",
    "    '''\n",
    "    wave 제너레이터 이터레이션\n",
    "    '''\n",
    "    for output in it:\n",
    "        print('hi2')\n",
    "        transmit(output) "
   ]
  },
  {
   "cell_type": "code",
   "execution_count": 24,
   "id": "f2fb887e",
   "metadata": {},
   "outputs": [
    {
     "name": "stdout",
     "output_type": "stream",
     "text": [
      "hi1\n",
      "hi2\n",
      "출력:   0.0\n",
      "hi2\n",
      "출력:   2.1\n",
      "hi2\n",
      "출력:   3.0\n",
      "hi2\n",
      "출력:   2.1\n",
      "hi2\n",
      "출력:   0.0\n",
      "hi2\n",
      "출력:  -2.1\n",
      "hi2\n",
      "출력:  -3.0\n",
      "hi2\n",
      "출력:  -2.1\n"
     ]
    }
   ],
   "source": [
    "run(wave(3.0, 8))"
   ]
  },
  {
   "cell_type": "markdown",
   "id": "68811727",
   "metadata": {},
   "source": [
    "기본 파형을 생성하는 한 이 코드는 잘 동작\n",
    "#### 별도의 입력(ex. AM라디오 방송 = 진폭변조)을 사용해 진폭을 지속적으로 변조할 때는 무쓸모\n",
    "\n",
    "<br>\n",
    "\n",
    "### send 메서드 이용해 입력을 제너레이터에 스트리밍 하는 동시에 출력하기\n",
    "#### 일반적인 제너레이터 이터레이션 - for/next 내장함수 사용"
   ]
  },
  {
   "cell_type": "code",
   "execution_count": 16,
   "id": "c69c6c7b",
   "metadata": {},
   "outputs": [
    {
     "name": "stdout",
     "output_type": "stream",
     "text": [
      "hi2\n",
      "출력값 = 1\n",
      "hi1\n",
      "받은 값 = None\n"
     ]
    }
   ],
   "source": [
    "def my_generator():\n",
    "    received = yield 1   # 일반적으로 제너레이터 이터레이션시 yield는 None 반환  \n",
    "    print('hi1')\n",
    "    print(f'받은 값 = {received}')\n",
    "\n",
    "it = iter(my_generator())\n",
    "print('hi2')\n",
    "output = next(it)        # 첫번째 제너레이터 출력\n",
    "print(f'출력값 = {output}')\n",
    "\n",
    "try:\n",
    "    next(it)           # 종료될 때까지 제너레이터 실행\n",
    "except StopIteration:\n",
    "    pass"
   ]
  },
  {
   "cell_type": "markdown",
   "id": "ecd8e781",
   "metadata": {},
   "source": [
    "####  send메서드 사용"
   ]
  },
  {
   "cell_type": "code",
   "execution_count": 4,
   "id": "754fab77",
   "metadata": {},
   "outputs": [
    {
     "name": "stdout",
     "output_type": "stream",
     "text": [
      "hi2\n"
     ]
    },
    {
     "ename": "TypeError",
     "evalue": "can't send non-None value to a just-started generator",
     "output_type": "error",
     "traceback": [
      "\u001b[1;31m---------------------------------------------------------------------------\u001b[0m",
      "\u001b[1;31mTypeError\u001b[0m                                 Traceback (most recent call last)",
      "\u001b[1;32m<ipython-input-4-71967eaab34b>\u001b[0m in \u001b[0;36m<module>\u001b[1;34m\u001b[0m\n\u001b[0;32m      6\u001b[0m \u001b[0mit\u001b[0m \u001b[1;33m=\u001b[0m \u001b[0miter\u001b[0m\u001b[1;33m(\u001b[0m\u001b[0mmy_generator\u001b[0m\u001b[1;33m(\u001b[0m\u001b[1;33m)\u001b[0m\u001b[1;33m)\u001b[0m\u001b[1;33m\u001b[0m\u001b[1;33m\u001b[0m\u001b[0m\n\u001b[0;32m      7\u001b[0m \u001b[0mprint\u001b[0m\u001b[1;33m(\u001b[0m\u001b[1;34m'hi2'\u001b[0m\u001b[1;33m)\u001b[0m\u001b[1;33m\u001b[0m\u001b[1;33m\u001b[0m\u001b[0m\n\u001b[1;32m----> 8\u001b[1;33m \u001b[0moutput\u001b[0m \u001b[1;33m=\u001b[0m \u001b[0mit\u001b[0m\u001b[1;33m.\u001b[0m\u001b[0msend\u001b[0m\u001b[1;33m(\u001b[0m\u001b[0mit\u001b[0m\u001b[1;33m)\u001b[0m        \u001b[1;31m# 첫번째 제너레이터 출력, 최초로 send 호출시에는 send(None)만 가능\u001b[0m\u001b[1;33m\u001b[0m\u001b[1;33m\u001b[0m\u001b[0m\n\u001b[0m\u001b[0;32m      9\u001b[0m \u001b[0mprint\u001b[0m\u001b[1;33m(\u001b[0m\u001b[1;34mf'출력값 = {output}'\u001b[0m\u001b[1;33m)\u001b[0m\u001b[1;33m\u001b[0m\u001b[1;33m\u001b[0m\u001b[0m\n\u001b[0;32m     10\u001b[0m \u001b[1;33m\u001b[0m\u001b[0m\n",
      "\u001b[1;31mTypeError\u001b[0m: can't send non-None value to a just-started generator"
     ]
    }
   ],
   "source": [
    "def my_generator():\n",
    "    received = yield 1  \n",
    "    print('hi1')\n",
    "    print(f'받은 값 = {received}')\n",
    "\n",
    "it = iter(my_generator())\n",
    "print('hi2')\n",
    "output = it.send(it)        # 첫번째 제너레이터 출력, 최초로 send 호출시에는 send(None)만 가능\n",
    "print(f'출력값 = {output}')\n",
    "\n",
    "try:\n",
    "    it.send('안녕!')           # 값을 제너레이터에 넣는다.\n",
    "except StopIteration:\n",
    "    pass"
   ]
  },
  {
   "cell_type": "markdown",
   "id": "d491e0b4",
   "metadata": {},
   "source": [
    "#### send 메서드 호출시 None이외 다른값 전달한 경우\n",
    "1. 제너레이터가 재개(resume)될 때 yield가 send에 전달된 파라미터 값 반환\n",
    "2. **방금 시작한 제너레이터는 아직 yield 식 도달 못함.**\n",
    "3. TypeError: can't send non-None value to a just-started generator\n"
   ]
  },
  {
   "cell_type": "markdown",
   "id": "2ea55723",
   "metadata": {},
   "source": [
    "#### 라디오 예제에 send 적용"
   ]
  },
  {
   "cell_type": "code",
   "execution_count": 41,
   "id": "81fe3cd7",
   "metadata": {},
   "outputs": [],
   "source": [
    "def wave_modulating(steps):\n",
    "    '''\n",
    "    입력 시그널 바탕으로 사인 파의 진폭 변조\n",
    "    '''\n",
    "    step_size = 2 * math.pi / steps\n",
    "    amplitude = yield                 # 초기 진폭 받음\n",
    "    for step in range(steps):\n",
    "        print('hi1')\n",
    "        radians = step * step_size\n",
    "        fraction = math.sin(radians)\n",
    "        ouput = amplitude * fraction\n",
    "        amplitude = yield ouput         # 다음 진폭 받음\n",
    "\n",
    "def run_modulating(it):\n",
    "    amplitudes = [ None, 7, 7, 7, 2, 2, 2, 2, 10, 10, 10, 10, 10 ]\n",
    "    for amplitude in amplitudes:\n",
    "        print(amplitude, 'hi2')\n",
    "        output = it.send(amplitude)\n",
    "        transmit(output)"
   ]
  },
  {
   "cell_type": "code",
   "execution_count": 42,
   "id": "b3c00d76",
   "metadata": {},
   "outputs": [
    {
     "name": "stdout",
     "output_type": "stream",
     "text": [
      "None hi2\n",
      "출력: None\n",
      "7 hi2\n",
      "hi1\n",
      "출력:   0.0\n",
      "7 hi2\n",
      "hi1\n",
      "출력:   3.5\n",
      "7 hi2\n",
      "hi1\n",
      "출력:   6.1\n",
      "2 hi2\n",
      "hi1\n",
      "출력:   2.0\n",
      "2 hi2\n",
      "hi1\n",
      "출력:   1.7\n",
      "2 hi2\n",
      "hi1\n",
      "출력:   1.0\n",
      "2 hi2\n",
      "hi1\n",
      "출력:   0.0\n",
      "10 hi2\n",
      "hi1\n",
      "출력:  -5.0\n",
      "10 hi2\n",
      "hi1\n",
      "출력:  -8.7\n",
      "10 hi2\n",
      "hi1\n",
      "출력: -10.0\n",
      "10 hi2\n",
      "hi1\n",
      "출력:  -8.7\n",
      "10 hi2\n",
      "hi1\n",
      "출력:  -5.0\n"
     ]
    }
   ],
   "source": [
    "run_modulating(wave_modulating(12))"
   ]
  },
  {
   "cell_type": "markdown",
   "id": "b99da93b",
   "metadata": {},
   "source": [
    "#### 이 코드의 문제점\n",
    ": 처음 봤을 때 이해하기 어렵다.\n",
    "* 대입문의 오른쪽에 yield는 직관적이지 않음\n",
    "* 제너레이터 고급기능을 모르면 send와 yield 사이의 연결 알아보기 어려움"
   ]
  },
  {
   "cell_type": "markdown",
   "id": "fdf1be91",
   "metadata": {},
   "source": [
    "### 여러 신호의 시퀀스로 이뤄진 복잡한 파형을 반송파(carrier signal)로 사용하기 \n",
    "### :  yeild from 식 사용해 여러 제너레이터 합성"
   ]
  },
  {
   "cell_type": "markdown",
   "id": "e8bbe0b9",
   "metadata": {},
   "source": [
    "#### yeild from? (코딩도장 예제)\n",
    "* yield"
   ]
  },
  {
   "cell_type": "code",
   "execution_count": 67,
   "id": "f27fdbdc",
   "metadata": {},
   "outputs": [
    {
     "name": "stdout",
     "output_type": "stream",
     "text": [
      "hi1\n",
      "hi2\n",
      "1\n",
      "hi1\n",
      "hi2\n",
      "2\n",
      "hi1\n",
      "hi2\n",
      "3\n"
     ]
    }
   ],
   "source": [
    "def number_generator():\n",
    "    x = [1, 2, 3]\n",
    "    for i in x:\n",
    "        print('hi1')\n",
    "        yield i\n",
    " \n",
    "for i in number_generator():\n",
    "    print('hi2')\n",
    "    print(i)"
   ]
  },
  {
   "cell_type": "markdown",
   "id": "2a98a174",
   "metadata": {},
   "source": [
    "* yield from"
   ]
  },
  {
   "cell_type": "code",
   "execution_count": 66,
   "id": "aecb6250",
   "metadata": {},
   "outputs": [
    {
     "name": "stdout",
     "output_type": "stream",
     "text": [
      "hi1\n",
      "hi2\n",
      "1\n",
      "hi2\n",
      "2\n",
      "hi2\n",
      "3\n"
     ]
    }
   ],
   "source": [
    "def number_generator():\n",
    "    print('hi1')\n",
    "    x = [1, 2, 3]\n",
    "    yield from x    # 리스트에 들어있는 요소를 한 개씩 바깥으로 전달\n",
    " \n",
    "for i in number_generator():\n",
    "    print('hi2')\n",
    "    print(i)"
   ]
  },
  {
   "cell_type": "markdown",
   "id": "c6fed26b",
   "metadata": {},
   "source": [
    "#### yield from은 자신에게 전달된 이터레이터의 반복회수만큼 값을 바깥으로 전달 \n",
    "#### = \\__next__메서드를 이터레이터의 반복회수만큼 호출 가능"
   ]
  },
  {
   "cell_type": "code",
   "execution_count": 61,
   "id": "65a654bc",
   "metadata": {},
   "outputs": [
    {
     "name": "stdout",
     "output_type": "stream",
     "text": [
      "1\n",
      "2\n",
      "3\n"
     ]
    },
    {
     "ename": "StopIteration",
     "evalue": "",
     "output_type": "error",
     "traceback": [
      "\u001b[1;31m---------------------------------------------------------------------------\u001b[0m",
      "\u001b[1;31mStopIteration\u001b[0m                             Traceback (most recent call last)",
      "\u001b[1;32m<ipython-input-61-4e221ea53c89>\u001b[0m in \u001b[0;36m<module>\u001b[1;34m\u001b[0m\n\u001b[0;32m      3\u001b[0m \u001b[0mprint\u001b[0m\u001b[1;33m(\u001b[0m\u001b[0mnext\u001b[0m\u001b[1;33m(\u001b[0m\u001b[0mg\u001b[0m\u001b[1;33m)\u001b[0m\u001b[1;33m)\u001b[0m\u001b[1;33m\u001b[0m\u001b[1;33m\u001b[0m\u001b[0m\n\u001b[0;32m      4\u001b[0m \u001b[0mprint\u001b[0m\u001b[1;33m(\u001b[0m\u001b[0mnext\u001b[0m\u001b[1;33m(\u001b[0m\u001b[0mg\u001b[0m\u001b[1;33m)\u001b[0m\u001b[1;33m)\u001b[0m\u001b[1;33m\u001b[0m\u001b[1;33m\u001b[0m\u001b[0m\n\u001b[1;32m----> 5\u001b[1;33m \u001b[0mprint\u001b[0m\u001b[1;33m(\u001b[0m\u001b[0mnext\u001b[0m\u001b[1;33m(\u001b[0m\u001b[0mg\u001b[0m\u001b[1;33m)\u001b[0m\u001b[1;33m)\u001b[0m\u001b[1;33m\u001b[0m\u001b[1;33m\u001b[0m\u001b[0m\n\u001b[0m",
      "\u001b[1;31mStopIteration\u001b[0m: "
     ]
    }
   ],
   "source": [
    "g = number_generator()\n",
    "print(next(g))\n",
    "print(next(g))\n",
    "print(next(g))\n",
    "print(next(g))"
   ]
  },
  {
   "cell_type": "markdown",
   "id": "3792162d",
   "metadata": {},
   "source": [
    "#### yield from과 제네레이터 함께쓰기"
   ]
  },
  {
   "cell_type": "code",
   "execution_count": 65,
   "id": "1fa48664",
   "metadata": {},
   "outputs": [
    {
     "name": "stdout",
     "output_type": "stream",
     "text": [
      "hi2\n",
      "hi1\n",
      "0\n",
      "hi1\n",
      "1\n",
      "hi1\n",
      "2\n"
     ]
    }
   ],
   "source": [
    "def number_generator(stop):\n",
    "    n = 0\n",
    "    while n < stop:\n",
    "        print('hi1')\n",
    "        yield n\n",
    "        n += 1\n",
    " \n",
    "def three_generator():\n",
    "    print('hi2')\n",
    "    yield from number_generator(3)    # 숫자를 세 번 바깥으로 전달\n",
    " \n",
    "for i in three_generator():\n",
    "    print(i)"
   ]
  },
  {
   "cell_type": "markdown",
   "id": "95e67f78",
   "metadata": {},
   "source": [
    "#### yeild from 작동 테스트"
   ]
  },
  {
   "cell_type": "code",
   "execution_count": 43,
   "id": "3f387f3d",
   "metadata": {},
   "outputs": [],
   "source": [
    "def complex_wave():\n",
    "    yield from wave(7.0, 3)\n",
    "    yield from wave(2.0, 4)\n",
    "    yield from wave(10.0, 5)"
   ]
  },
  {
   "cell_type": "code",
   "execution_count": 44,
   "id": "c95f8e30",
   "metadata": {},
   "outputs": [
    {
     "name": "stdout",
     "output_type": "stream",
     "text": [
      "hi1\n",
      "hi2\n",
      "출력:   0.0\n",
      "hi2\n",
      "출력:   6.1\n",
      "hi2\n",
      "출력:  -6.1\n",
      "hi1\n",
      "hi2\n",
      "출력:   0.0\n",
      "hi2\n",
      "출력:   2.0\n",
      "hi2\n",
      "출력:   0.0\n",
      "hi2\n",
      "출력:  -2.0\n",
      "hi1\n",
      "hi2\n",
      "출력:   0.0\n",
      "hi2\n",
      "출력:   9.5\n",
      "hi2\n",
      "출력:   5.9\n",
      "hi2\n",
      "출력:  -5.9\n",
      "hi2\n",
      "출력:  -9.5\n"
     ]
    }
   ],
   "source": [
    "run(complex_wave())"
   ]
  },
  {
   "cell_type": "markdown",
   "id": "377c73bd",
   "metadata": {},
   "source": [
    "#### yeild from 작동 테스트 - send 사용"
   ]
  },
  {
   "cell_type": "code",
   "execution_count": 45,
   "id": "737a9a0c",
   "metadata": {},
   "outputs": [],
   "source": [
    "def complex_wave_modulating():\n",
    "    yield from wave_modulating(3)\n",
    "    yield from wave_modulating(4)\n",
    "    yield from wave_modulating(5)"
   ]
  },
  {
   "cell_type": "code",
   "execution_count": 47,
   "id": "e269650a",
   "metadata": {},
   "outputs": [
    {
     "name": "stdout",
     "output_type": "stream",
     "text": [
      "None hi2\n",
      "출력: None\n",
      "7 hi2\n",
      "hi1\n",
      "출력:   0.0\n",
      "7 hi2\n",
      "hi1\n",
      "출력:   6.1\n",
      "7 hi2\n",
      "hi1\n",
      "출력:  -6.1\n",
      "2 hi2\n",
      "출력: None\n",
      "2 hi2\n",
      "hi1\n",
      "출력:   0.0\n",
      "2 hi2\n",
      "hi1\n",
      "출력:   2.0\n",
      "2 hi2\n",
      "hi1\n",
      "출력:   0.0\n",
      "10 hi2\n",
      "hi1\n",
      "출력: -10.0\n",
      "10 hi2\n",
      "출력: None\n",
      "10 hi2\n",
      "hi1\n",
      "출력:   0.0\n",
      "10 hi2\n",
      "hi1\n",
      "출력:   9.5\n",
      "10 hi2\n",
      "hi1\n",
      "출력:   5.9\n"
     ]
    }
   ],
   "source": [
    "run_modulating(complex_wave_modulating())"
   ]
  },
  {
   "cell_type": "markdown",
   "id": "aa4ba354",
   "metadata": {},
   "source": [
    "#### 출력에 None이 여럿 보인다!!\n",
    "1. 내포된 제너레이터에 대한 yield from 식이 끝날 때마다 다음 yield from식 실행.\n",
    "2. 각각의 내포된 제너레이터는 send 메서드 호출로부터 값을 받기 위해 아무 값도 만들어내지 않는 단순한 yield로 시작.\n",
    "3. **부모제너레이터가 자식 제너레이터를 옮겨갈 때마다 None 출력**\n",
    "#### yield from과 send를 따로 사용할 때는 제대로 작용하던 특성이 두 기능을 함께 사용할 때 깨진다.\n",
    ": run_modulating 함수의 복잡도를 증가시켜서 None문제를 우회할 수 있다.\n",
    "**send작동방식 어려운데 yield from의 함정까지 이해하는 것은 사태가 매우 악화되는 것**\n",
    "### send 메서드를 아예 쓰지말고 더 단순한 접근방법을 택하라!"
   ]
  },
  {
   "cell_type": "markdown",
   "id": "4b013e40",
   "metadata": {},
   "source": [
    "### 해결방법: wave함수에 이터레이터를 전달하기"
   ]
  },
  {
   "cell_type": "code",
   "execution_count": 85,
   "id": "23f9b5a0",
   "metadata": {},
   "outputs": [],
   "source": [
    "def wave_cascading(amplitude_it, steps):\n",
    "    step_size = 2 * math.pi / steps\n",
    "    for step in range(steps):\n",
    "        radians = step * step_size\n",
    "        fraction = math.sin(radians)\n",
    "        print('hi1', steps, step)\n",
    "        amplitude = next(amplitude_it)   # amplitude_it의 다음 값 가져오기 \n",
    "        print('amplitude:', amplitude)\n",
    "        output = amplitude * fraction\n",
    "        yield output\n",
    "\n",
    "        \n",
    "def complex_wave_cascading(amplitude_it):\n",
    "    print('hi2')\n",
    "    yield from wave_cascading(amplitude_it, 3)\n",
    "    yield from wave_cascading(amplitude_it, 4)\n",
    "    yield from wave_cascading(amplitude_it, 5)\n",
    "    \n",
    "\n",
    "def run_cascading():\n",
    "    amplitudes = [ 7, 7, 7, 2, 2, 2, 2, 10, 10, 10, 10, 10 ]\n",
    "    it = complex_wave_cascading(iter(amplitudes))             # wave함수에 이터레이터 전달\n",
    "    for amplitude in amplitudes:\n",
    "        print('hi3')\n",
    "        output = next(it)\n",
    "        transmit(output)"
   ]
  },
  {
   "cell_type": "code",
   "execution_count": 86,
   "id": "1bd46029",
   "metadata": {},
   "outputs": [
    {
     "name": "stdout",
     "output_type": "stream",
     "text": [
      "hi3\n",
      "hi2\n",
      "hi1 3 0\n",
      "amplitude: 7\n",
      "출력:   0.0\n",
      "hi3\n",
      "hi1 3 1\n",
      "amplitude: 7\n",
      "출력:   6.1\n",
      "hi3\n",
      "hi1 3 2\n",
      "amplitude: 7\n",
      "출력:  -6.1\n",
      "hi3\n",
      "hi1 4 0\n",
      "amplitude: 2\n",
      "출력:   0.0\n",
      "hi3\n",
      "hi1 4 1\n",
      "amplitude: 2\n",
      "출력:   2.0\n",
      "hi3\n",
      "hi1 4 2\n",
      "amplitude: 2\n",
      "출력:   0.0\n",
      "hi3\n",
      "hi1 4 3\n",
      "amplitude: 2\n",
      "출력:  -2.0\n",
      "hi3\n",
      "hi1 5 0\n",
      "amplitude: 10\n",
      "출력:   0.0\n",
      "hi3\n",
      "hi1 5 1\n",
      "amplitude: 10\n",
      "출력:   9.5\n",
      "hi3\n",
      "hi1 5 2\n",
      "amplitude: 10\n",
      "출력:   5.9\n",
      "hi3\n",
      "hi1 5 3\n",
      "amplitude: 10\n",
      "출력:  -5.9\n",
      "hi3\n",
      "hi1 5 4\n",
      "amplitude: 10\n",
      "출력:  -9.5\n"
     ]
    }
   ],
   "source": [
    "run_cascading()"
   ]
  },
  {
   "cell_type": "markdown",
   "id": "206c9fa8",
   "metadata": {},
   "source": [
    "#### iter(호출가능한 객체, 반복을 끝낼 값)\n",
    "iter를 사용한 객체의 \\__iter\\__특별메소드를 호출하여 iterator 객체를 반환한다. \n",
    "이후 next()로 객체의 값을 꺼낼 때, 설정해둔 반복을 끝낼 값과 같은 값이 나오면 StopIteration 발생\n",
    "\n",
    "\n",
    "\n",
    "#### 이 방법이 가장 멋진 부분\n",
    "#### : 아무 데서나 이터레이터를 가져올 수 있고, 이터레이터가 완전히 동적인 경우에도 잘 작동한다!\n",
    "\n",
    "#### 단, 입력 제너레이터가 완전히 thread-safe 하다는 가정 필수\n",
    "하나의 함수가 한 스레드로부터 호출되어 실행 중일 때,    \n",
    "다른 스레드가 그 함수를 호출하여 동시에 함께 실행되더라도 각 스레드에서의 함수의 수행 결과가 올바로 나오는 것으로 정의한다.\n",
    "\n",
    "#### 만약 thread-safe 보장할 수 없다면 async가 더 나은 해법일 수 있다. \n",
    "\n",
    "<br>\n",
    "\n",
    "### 요약\n",
    "* **send 메서드를 사용해 데이터를 제너레이터에 주입할 수 있다.** 제너레이터는 send로 주입된 값을 yield 식이 반환하는 값을 통해 받으며, 이 값을 변수에 저장해 활용할 수 있다.\n",
    "* **send와 yield from 식을 함께 사용하면 제너레이터의 출력에 None이 섞여서 나타나는 의외의 결과**를 얻을 수도 있다.\n",
    "* 합성할 제너레이터들의 입력으로 이터레이터를 전달하는 방식이 send를 사용하는 방식보다 더 낫다.\n",
    "  **send는 가급적 사용하지 말라**"
   ]
  }
 ],
 "metadata": {
  "kernelspec": {
   "display_name": "Python 3",
   "language": "python",
   "name": "python3"
  },
  "language_info": {
   "codemirror_mode": {
    "name": "ipython",
    "version": 3
   },
   "file_extension": ".py",
   "mimetype": "text/x-python",
   "name": "python",
   "nbconvert_exporter": "python",
   "pygments_lexer": "ipython3",
   "version": "3.8.8"
  }
 },
 "nbformat": 4,
 "nbformat_minor": 5
}
