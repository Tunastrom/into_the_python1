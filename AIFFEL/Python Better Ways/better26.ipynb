{
 "cells": [
  {
   "cell_type": "markdown",
   "id": "08635201",
   "metadata": {},
   "source": [
    "## Better Way 26\n",
    "### functools.wrap을 사용해 함수 데코레이터를 정의하라\n",
    "\n",
    "### Python의 데코레이터(Decorator)\n",
    "* 자신이 감싸고 있는 함수가 호출되기 전과 후에 코드를 추가로 실행해준다.\n",
    "\n",
    "* ** 자신이 감싸는 함수의 입력인자, 반환값, 함수에서 발생한 오류에 접근가능!!**\n",
    "\n",
    "* **특히 재귀적 함수에서 함수 호출이 재귀적으로 내포되는 경우의 디버깅에 용이**"
   ]
  },
  {
   "cell_type": "markdown",
   "id": "bf79413b",
   "metadata": {},
   "source": [
    "### 데코레이터 함수 정의"
   ]
  },
  {
   "cell_type": "code",
   "execution_count": 16,
   "id": "4d0cba1b",
   "metadata": {},
   "outputs": [],
   "source": [
    "def trace(func):\n",
    "    def wrapper(*args, ** kwargs):\n",
    "        result = func(*args, **kwargs)\n",
    "        print(f'{func.__name__}({args!r}, {kwargs!r})'\n",
    "              f'-> {result!r}')\n",
    "        return result\n",
    "    return wrapper"
   ]
  },
  {
   "cell_type": "markdown",
   "id": "9dd8fd9f",
   "metadata": {},
   "source": [
    "### 데코레이터의 적용"
   ]
  },
  {
   "cell_type": "code",
   "execution_count": 17,
   "id": "25dc9177",
   "metadata": {},
   "outputs": [],
   "source": [
    "@trace\n",
    "def fibonacci(n):\n",
    "    '''n번째 피보나치 수를 반환한다.'''\n",
    "    if n in (0,1):\n",
    "        return n\n",
    "    return (fibonacci(n-2) + fibonacci(n - 1))"
   ]
  },
  {
   "cell_type": "code",
   "execution_count": 18,
   "id": "c6e68f28",
   "metadata": {},
   "outputs": [
    {
     "name": "stdout",
     "output_type": "stream",
     "text": [
      "fibonacci((0,), {})-> 0\n",
      "wrapper((0,), {})-> 0\n",
      "fibonacci((1,), {})-> 1\n",
      "wrapper((1,), {})-> 1\n",
      "fibonacci((2,), {})-> 1\n",
      "wrapper((2,), {})-> 1\n",
      "fibonacci((1,), {})-> 1\n",
      "wrapper((1,), {})-> 1\n",
      "fibonacci((0,), {})-> 0\n",
      "wrapper((0,), {})-> 0\n",
      "fibonacci((1,), {})-> 1\n",
      "wrapper((1,), {})-> 1\n",
      "fibonacci((2,), {})-> 1\n",
      "wrapper((2,), {})-> 1\n",
      "fibonacci((3,), {})-> 2\n",
      "wrapper((3,), {})-> 2\n",
      "fibonacci((4,), {})-> 3\n",
      "wrapper((4,), {})-> 3\n"
     ]
    },
    {
     "data": {
      "text/plain": [
       "3"
      ]
     },
     "execution_count": 18,
     "metadata": {},
     "output_type": "execute_result"
    }
   ],
   "source": [
    "fibonacci = trace(fibonacci)\n",
    "fibonacci(4)"
   ]
  },
  {
   "cell_type": "code",
   "execution_count": null,
   "id": "c191d318",
   "metadata": {},
   "outputs": [],
   "source": []
  },
  {
   "cell_type": "code",
   "execution_count": null,
   "id": "fefdb1a2",
   "metadata": {},
   "outputs": [],
   "source": [
    "인트로 스펙션, 객체직렬화\n",
    "\n",
    "pickle: 모델을 돌리고 학습된 모델을 재학습할때 사용한 경험\n",
    "\n"
   ]
  }
 ],
 "metadata": {
  "kernelspec": {
   "display_name": "Python 3",
   "language": "python",
   "name": "python3"
  },
  "language_info": {
   "codemirror_mode": {
    "name": "ipython",
    "version": 3
   },
   "file_extension": ".py",
   "mimetype": "text/x-python",
   "name": "python",
   "nbconvert_exporter": "python",
   "pygments_lexer": "ipython3",
   "version": "3.8.8"
  }
 },
 "nbformat": 4,
 "nbformat_minor": 5
}
