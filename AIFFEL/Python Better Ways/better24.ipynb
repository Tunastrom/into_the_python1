{
 "cells": [
  {
   "cell_type": "markdown",
   "id": "ecb29f82",
   "metadata": {},
   "source": [
    "## None과 독스트링을 사용해 동적인 디폴트 인자를 지정하라"
   ]
  },
  {
   "cell_type": "code",
   "execution_count": 4,
   "id": "ce9c5110",
   "metadata": {},
   "outputs": [
    {
     "name": "stdout",
     "output_type": "stream",
     "text": [
      "2021-07-02 15:25:52.582943: 안녕\n",
      "2021-07-02 15:25:52.582943: 다시 안녕!\n"
     ]
    }
   ],
   "source": [
    "from time import sleep\n",
    "from datetime import datetime\n",
    "import json\n",
    "\n",
    "def log(message, when=datetime.now()):\n",
    "    print(f'{when}: {message}')\n",
    "\n",
    "\n",
    "log('안녕')\n",
    "sleep(0.1)\n",
    "log('다시 안녕!')"
   ]
  },
  {
   "cell_type": "markdown",
   "id": "b89219b8",
   "metadata": {},
   "source": [
    "### 시간이 똑같은 시간으로 나온다!\n",
    "\n",
    "datetime.now()가 함수가 정의될 때 한 번만 호출되기 때문이다.\n",
    "\n",
    "### 아래처럼 바꾸어 보자"
   ]
  },
  {
   "cell_type": "code",
   "execution_count": null,
   "id": "bd900e5d",
   "metadata": {},
   "outputs": [],
   "source": [
    "from time import sleep\n",
    "from datetime import datetime\n",
    "import json\n",
    "\n",
    "def log(message, when=None):                # when의 default값을 None으로 지정후, 함수 사용법을 독스트링으로 남김.\n",
    "    ''' 메시지와 타임스탬프를 로그에 남긴다. \n",
    "    Args:\n",
    "        message: 출력할 메시지,\n",
    "        when: 메시지가 발생한 시각(datetime).\n",
    "              디폴트 값은 현재시간이다.\n",
    "    '''        \n",
    "    if when is None:                       # when이 None일 때 datetime.now()를 호출\n",
    "        when = datetime.now()               # 호출되는 시점의 시각을 when이 갖게 된다.\n",
    "    print(f'{when}: {message}')\n",
    "        \n",
    "log('안녕')\n",
    "sleep(0.1)\n",
    "log('다시 안녕!')"
   ]
  },
  {
   "cell_type": "markdown",
   "id": "05a34188",
   "metadata": {},
   "source": [
    "### 비슷한 예제를 하나 더 보자"
   ]
  },
  {
   "cell_type": "code",
   "execution_count": 5,
   "id": "adb6f5f4",
   "metadata": {},
   "outputs": [],
   "source": [
    "import json\n",
    "\n",
    "def decode(data, default={}):\n",
    "    try:\n",
    "        return json.loads(data)\n",
    "    except ValueError:\n",
    "        return default"
   ]
  },
  {
   "cell_type": "code",
   "execution_count": 7,
   "id": "ca093a33",
   "metadata": {},
   "outputs": [
    {
     "name": "stdout",
     "output_type": "stream",
     "text": [
      "Foo: {'stuff': 5, 'meep': 1}\n",
      "Bar: {'stuff': 5, 'meep': 1}\n"
     ]
    }
   ],
   "source": [
    "foo = decode('잘못된 데이터')\n",
    "foo['stuff'] = 5\n",
    "bar = decode('또 잘못된 데이터')\n",
    "bar['meep'] = 1\n",
    "print('Foo:', foo)\n",
    "print('Bar:', bar)\n",
    "assert foo is bar"
   ]
  },
  {
   "cell_type": "markdown",
   "id": "05e6b409",
   "metadata": {},
   "source": [
    "### 마찬가지로 default가 decode 함수가 정의될 때만 호출되므로\n",
    "### foo와 bar가 모두 같은 dict 객체를 참조하고 있다."
   ]
  },
  {
   "cell_type": "code",
   "execution_count": 11,
   "id": "7d79aa07",
   "metadata": {},
   "outputs": [],
   "source": [
    "import json\n",
    "\n",
    "def decode(data, default=None):\n",
    "    '''문자열로부터 JSON데이터를 읽어온다.\n",
    "    \n",
    "    Args:\n",
    "        data: 디코딩 JSON 데이터.\n",
    "        default: 디코딩 실패 시 반환할 값이다.\n",
    "                 디폴트 값은 빈 딕셔너리다.\n",
    "    '''\n",
    "    try:\n",
    "        return json.loads(data)\n",
    "    except ValueError:\n",
    "        if default is None:\n",
    "            default = {}\n",
    "        return default"
   ]
  },
  {
   "cell_type": "code",
   "execution_count": 12,
   "id": "ae9702f6",
   "metadata": {},
   "outputs": [
    {
     "name": "stdout",
     "output_type": "stream",
     "text": [
      "Foo: {'stuff': 5}\n",
      "Bar: {'meep': 1}\n"
     ]
    },
    {
     "ename": "AssertionError",
     "evalue": "",
     "output_type": "error",
     "traceback": [
      "\u001b[1;31m---------------------------------------------------------------------------\u001b[0m",
      "\u001b[1;31mAssertionError\u001b[0m                            Traceback (most recent call last)",
      "\u001b[1;32m<ipython-input-12-5c27eb94d12b>\u001b[0m in \u001b[0;36m<module>\u001b[1;34m\u001b[0m\n\u001b[0;32m      5\u001b[0m \u001b[0mprint\u001b[0m\u001b[1;33m(\u001b[0m\u001b[1;34m'Foo:'\u001b[0m\u001b[1;33m,\u001b[0m \u001b[0mfoo\u001b[0m\u001b[1;33m)\u001b[0m\u001b[1;33m\u001b[0m\u001b[1;33m\u001b[0m\u001b[0m\n\u001b[0;32m      6\u001b[0m \u001b[0mprint\u001b[0m\u001b[1;33m(\u001b[0m\u001b[1;34m'Bar:'\u001b[0m\u001b[1;33m,\u001b[0m \u001b[0mbar\u001b[0m\u001b[1;33m)\u001b[0m\u001b[1;33m\u001b[0m\u001b[1;33m\u001b[0m\u001b[0m\n\u001b[1;32m----> 7\u001b[1;33m \u001b[1;32massert\u001b[0m \u001b[0mfoo\u001b[0m \u001b[1;32mis\u001b[0m \u001b[0mbar\u001b[0m\u001b[1;33m\u001b[0m\u001b[1;33m\u001b[0m\u001b[0m\n\u001b[0m",
      "\u001b[1;31mAssertionError\u001b[0m: "
     ]
    }
   ],
   "source": [
    "foo = decode('잘못된 데이터')\n",
    "foo['stuff'] = 5\n",
    "bar = decode('또 잘못된 데이터')\n",
    "bar['meep'] = 1\n",
    "print('Foo:', foo)\n",
    "print('Bar:', bar)\n",
    "assert foo is bar"
   ]
  },
  {
   "cell_type": "markdown",
   "id": "78b6fcaf",
   "metadata": {},
   "source": [
    "### 타입어노테이션과 정적분석을 사용해도 잘 작동한다."
   ]
  },
  {
   "cell_type": "code",
   "execution_count": 15,
   "id": "d53e5bc9",
   "metadata": {},
   "outputs": [
    {
     "name": "stdout",
     "output_type": "stream",
     "text": [
      "2021-07-02 15:46:44.794188: 안녕\n",
      "2021-07-02 15:46:44.904990: 다시 안녕!\n"
     ]
    }
   ],
   "source": [
    "from time import sleep\n",
    "from datetime import datetime\n",
    "import json\n",
    "from typing import Optional # type 어노테이션\n",
    "\n",
    "\n",
    "def log_typed(message: str, \n",
    "               when: Optional[datetime]=None) -> None:\n",
    "    \n",
    "    ''' 메시지와 타임스탬프를 로그에 남긴다. \n",
    "    Args:\n",
    "        message: 출력할 메시지,\n",
    "        when: 메시지가 발생한 시각(datetime).\n",
    "              디폴트 값은 현재시간이다.\n",
    "    '''   \n",
    "    \n",
    "    if when is None:                       # when이 None일 때 datetime.now()를 호출\n",
    "        when = datetime.now()               # 호출되는 시점의 시각을 when이 갖게 된다.\n",
    "    print(f'{when}: {message}')\n",
    "\n",
    "    \n",
    "log_typed('안녕')\n",
    "sleep(0.1)\n",
    "log_typed('다시 안녕!')"
   ]
  },
  {
   "cell_type": "code",
   "execution_count": null,
   "id": "98044610",
   "metadata": {},
   "outputs": [],
   "source": []
  }
 ],
 "metadata": {
  "kernelspec": {
   "display_name": "Python 3",
   "language": "python",
   "name": "python3"
  },
  "language_info": {
   "codemirror_mode": {
    "name": "ipython",
    "version": 3
   },
   "file_extension": ".py",
   "mimetype": "text/x-python",
   "name": "python",
   "nbconvert_exporter": "python",
   "pygments_lexer": "ipython3",
   "version": "3.8.8"
  }
 },
 "nbformat": 4,
 "nbformat_minor": 5
}
