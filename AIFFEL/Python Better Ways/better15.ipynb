{
 "cells": [
  {
   "cell_type": "markdown",
   "id": "29053769",
   "metadata": {},
   "source": [
    "\n",
    "### 파이썬 3.5나 그 이전 버전에서는 keys, values, items, popitem등 \n",
    "\n",
    "딕셔너리가 제공하는 모든 메서드가 이터레이션 순서에 의존해서 임의로 실행순서가 정해지는 것처럼 보임\n",
    "\n",
    "### 3.5이전의 딕셔너리 구현\n",
    ": 내장 hash 함수와 파이썬 인터프리터가 시작할 때 초기화되는 난수 씨앗값(seed)을 사용하는 해시 테이블 알고리즘으로 만들어짐\n",
    "  \n",
    "  인터프리터 실행 시마다 달라지는 난수 seed값과 hash가 어우러지며 **딕셔너리의 순서가 실행시마다 달라짐**\n"
   ]
  },
  {
   "cell_type": "code",
   "execution_count": null,
   "id": "54d27416",
   "metadata": {},
   "outputs": [],
   "source": [
    "baby_names = {\n",
    "    'cat': 'kitten',\n",
    "    'dog': 'puppy',\n",
    "}"
   ]
  },
  {
   "cell_type": "code",
   "execution_count": null,
   "id": "bc95d49b",
   "metadata": {},
   "outputs": [],
   "source": [
    "print(baby_names)"
   ]
  },
  {
   "cell_type": "code",
   "execution_count": null,
   "id": "3be3976f",
   "metadata": {},
   "outputs": [],
   "source": [
    "print(list(baby_names.keys()))\n",
    "print(list(baby_names.values()))\n",
    "print(list(baby_names.items()))\n",
    "print(list(baby_names.popitem()))"
   ]
  },
  {
   "cell_type": "markdown",
   "id": "8dfa3fa3",
   "metadata": {},
   "source": [
    "### 파이썬 3.5이전에서\n",
    "함수에 대한 ```**kwargs``` 인자 역시 함수 호출시 사용한 인자순서가 뒤죽박죽인 것처럼 보임 "
   ]
  },
  {
   "cell_type": "code",
   "execution_count": null,
   "id": "bcba57ce",
   "metadata": {},
   "outputs": [],
   "source": [
    "int(list(baby_names.popitem()))\n",
    "def my_func(**kwargs):\n",
    "    for key, value in kwargs.items():\n",
    "        print('%s = %s' % (key, value))"
   ]
  },
  {
   "cell_type": "code",
   "execution_count": null,
   "id": "1c4e061d",
   "metadata": {},
   "outputs": [],
   "source": [
    "my_func(goose='gosling', kangaroo='joey')"
   ]
  },
  {
   "cell_type": "markdown",
   "id": "0a8dc3ba",
   "metadata": {},
   "source": [
    "### 클래스도 인스턴스 딕셔너리에 dict 타입 사용 3.5이전은 object필드 난수 같은 동작 \n",
    "\n"
   ]
  },
  {
   "cell_type": "code",
   "execution_count": 88,
   "id": "9470f6a7",
   "metadata": {},
   "outputs": [],
   "source": [
    "class MyClass:\n",
    "    def __init__(self):\n",
    "        self.alligator = 'hatchling'\n",
    "        self.elephant = 'calf'     "
   ]
  },
  {
   "cell_type": "code",
   "execution_count": null,
   "id": "bc201c31",
   "metadata": {},
   "outputs": [],
   "source": [
    "a = MyClass()\n",
    "for key,value in a.__dict__.items():\n",
    "    print('%s = %s' % (key, value))"
   ]
  },
  {
   "cell_type": "markdown",
   "id": "d14acce9",
   "metadata": {},
   "source": [
    "### [OrderedDict()](https://sangwoo0727.github.io/python/Python-11_OrderedDict/)\n",
    "\n",
    "Python 3.7이전에는 삽입 순서대로의 출력을 보장받기 위해 사용했었다.\n",
    "\n",
    "3.7이후 Dict가 순서를 보장하게 되었지만 [최소최근사용(least-recently-used)](https://gomguard.tistory.com/115) 캐시구현 등\n",
    "\n",
    "키 삽입과 popitem호출을 매우 자주 처리해야할 때 dict보다 권장됨\n"
   ]
  },
  {
   "cell_type": "code",
   "execution_count": null,
   "id": "4d91ca30",
   "metadata": {},
   "outputs": [],
   "source": []
  },
  {
   "cell_type": "markdown",
   "id": "215f2960",
   "metadata": {},
   "source": [
    "### Python에서는 프로그래머가 list, dict등의 표준 프로토콜 흉내내는 커스텀 컨테이너 타입 쉽게 정의 가능\n",
    ": 객체의 동작이 객체의 실질적인 타입을 결정하는 덕 타이핑에 의존하는 파이썬의 특성\n",
    "\n",
    "\n",
    "> Python에서 Class는 일종의 컨테이너로 속성과 기능을 함께 캡슐화한다. \n",
    "  내장 컨테이너 타입으로는 리스트, 튜플, 딕셔너리, 셋을 제공하며. 이를 상속하여 커스텀 컨테이너를 정의할 수 있다.\n"
   ]
  },
  {
   "cell_type": "markdown",
   "id": "4e7906c1",
   "metadata": {},
   "source": [
    "### 귀여운 동물 콘테스트"
   ]
  },
  {
   "cell_type": "code",
   "execution_count": 1,
   "id": "ec736b6c",
   "metadata": {},
   "outputs": [],
   "source": [
    "votes ={\n",
    "    'otter': 1281,\n",
    "    'polar bear': 587,\n",
    "    'fox': 863\n",
    "}"
   ]
  },
  {
   "cell_type": "code",
   "execution_count": 17,
   "id": "b85fa75c",
   "metadata": {},
   "outputs": [],
   "source": [
    "def populate_ranks(votes, ranks):\n",
    "    names = list(votes.keys())\n",
    "    names.sort(key=votes.get, reverse=True)\n",
    "    for i, name in enumerate(names, 1):\n",
    "        ranks[name] = i"
   ]
  },
  {
   "cell_type": "code",
   "execution_count": 24,
   "id": "f1d19e78",
   "metadata": {},
   "outputs": [],
   "source": [
    "def get_winner(ranks):\n",
    "    return next(iter(ranks))"
   ]
  },
  {
   "cell_type": "code",
   "execution_count": 4,
   "id": "b0ad6f32",
   "metadata": {},
   "outputs": [
    {
     "name": "stdout",
     "output_type": "stream",
     "text": [
      "{'otter': 1, 'fox': 2, 'polar bear': 3}\n",
      "otter\n"
     ]
    }
   ],
   "source": [
    "ranks = {}\n",
    "populate_ranks(votes, ranks)\n",
    "print(ranks)\n",
    "winner = get_winner(ranks)\n",
    "print(winner)"
   ]
  },
  {
   "cell_type": "markdown",
   "id": "1305ca65",
   "metadata": {},
   "source": [
    "\n"
   ]
  },
  {
   "cell_type": "markdown",
   "id": "01484b6d",
   "metadata": {},
   "source": [
    "### collections.abc 모듈 활용한 새로운 클래스 정의 "
   ]
  },
  {
   "cell_type": "code",
   "execution_count": 5,
   "id": "d4987091",
   "metadata": {},
   "outputs": [],
   "source": [
    "from collections.abc import MutableMapping"
   ]
  },
  {
   "cell_type": "code",
   "execution_count": 27,
   "id": "bf778a79",
   "metadata": {},
   "outputs": [],
   "source": [
    "class SortedDict(MutableMapping):\n",
    "    def __init__(self):\n",
    "        self.data = {}\n",
    "    \n",
    "    def __getitem__(self, key):\n",
    "        return self.data[key]\n",
    "    \n",
    "    def __setitem__(self, key, value):\n",
    "        self.data[key] = value\n",
    "        \n",
    "    def __delitem__(self, key):\n",
    "        del self.data[key]\n",
    "        \n",
    "    def __iter__(self):\n",
    "        keys = list(self.data.keys())\n",
    "        keys.sort()\n",
    "        \n",
    "        for key in keys:\n",
    "            yield key\n",
    "            \n",
    "    def __len__(self):\n",
    "        return len(self.data)"
   ]
  },
  {
   "cell_type": "code",
   "execution_count": 25,
   "id": "86dec117",
   "metadata": {},
   "outputs": [
    {
     "name": "stdout",
     "output_type": "stream",
     "text": [
      "{'otter': 1, 'fox': 2, 'polar bear': 3}\n",
      "fox\n"
     ]
    }
   ],
   "source": [
    "ranks = {}\n",
    "sorted_ranks = SortedDict()\n",
    "populate_ranks(votes, sorted_ranks)\n",
    "print(sorted_ranks.data)\n",
    "winner = get_winner(sorted_ranks)\n",
    "print(winner)"
   ]
  },
  {
   "cell_type": "markdown",
   "id": "d5c2bb71",
   "metadata": {},
   "source": [
    "###  문제점\n",
    "#### : get_winner의 구현이 populate_ranks의 삽입순서에 맞게 딕셔너리를 이터레이션 한다고 가정한 것\n",
    "\n",
    "dict가 아닌 SortedDict를 사용했으므로 틀린 가정\n"
   ]
  },
  {
   "cell_type": "markdown",
   "id": "5043eb7e",
   "metadata": {},
   "source": [
    "### 해결법 1. ranks 딕셔너리가 어떤 특정 순서로 이터레이션 된다는 가정 X\n",
    "\n",
    "가장 보수적이고 튼튼한 해법\n"
   ]
  },
  {
   "cell_type": "code",
   "execution_count": 30,
   "id": "4fee5e08",
   "metadata": {},
   "outputs": [
    {
     "name": "stdout",
     "output_type": "stream",
     "text": [
      "otter\n"
     ]
    }
   ],
   "source": [
    "def get_winner(ranks):\n",
    "    for name, rank in ranks.items():\n",
    "        if rank == 1:\n",
    "            return name\n",
    "        \n",
    "winner = get_winner(sorted_ranks)\n",
    "print(winner)"
   ]
  },
  {
   "cell_type": "markdown",
   "id": "e604c4e4",
   "metadata": {},
   "source": [
    "\n",
    "### 해결법 2. 함수 맨 앞에 ranks 타입이 우리가 원하는 타입인지 검사하는 코드 추가\n",
    "\n",
    "실행성능이 더 좋음 \n"
   ]
  },
  {
   "cell_type": "code",
   "execution_count": 31,
   "id": "9c8f2d6e",
   "metadata": {},
   "outputs": [
    {
     "ename": "TypeError",
     "evalue": "dict 인스턴스가 필요합니다.",
     "output_type": "error",
     "traceback": [
      "\u001b[1;31m---------------------------------------------------------------------------\u001b[0m",
      "\u001b[1;31mTypeError\u001b[0m                                 Traceback (most recent call last)",
      "\u001b[1;32m<ipython-input-31-d26001aae057>\u001b[0m in \u001b[0;36m<module>\u001b[1;34m\u001b[0m\n\u001b[0;32m      4\u001b[0m     \u001b[1;32mreturn\u001b[0m \u001b[0mnext\u001b[0m\u001b[1;33m(\u001b[0m\u001b[0miter\u001b[0m\u001b[1;33m(\u001b[0m\u001b[0mranks\u001b[0m\u001b[1;33m)\u001b[0m\u001b[1;33m)\u001b[0m\u001b[1;33m\u001b[0m\u001b[1;33m\u001b[0m\u001b[0m\n\u001b[0;32m      5\u001b[0m \u001b[1;33m\u001b[0m\u001b[0m\n\u001b[1;32m----> 6\u001b[1;33m \u001b[0mget_winner\u001b[0m\u001b[1;33m(\u001b[0m\u001b[0msorted_ranks\u001b[0m\u001b[1;33m)\u001b[0m\u001b[1;33m\u001b[0m\u001b[1;33m\u001b[0m\u001b[0m\n\u001b[0m",
      "\u001b[1;32m<ipython-input-31-d26001aae057>\u001b[0m in \u001b[0;36mget_winner\u001b[1;34m(ranks)\u001b[0m\n\u001b[0;32m      1\u001b[0m \u001b[1;32mdef\u001b[0m \u001b[0mget_winner\u001b[0m\u001b[1;33m(\u001b[0m\u001b[0mranks\u001b[0m\u001b[1;33m)\u001b[0m\u001b[1;33m:\u001b[0m\u001b[1;33m\u001b[0m\u001b[1;33m\u001b[0m\u001b[0m\n\u001b[0;32m      2\u001b[0m     \u001b[1;32mif\u001b[0m \u001b[1;32mnot\u001b[0m \u001b[0misinstance\u001b[0m\u001b[1;33m(\u001b[0m\u001b[0mranks\u001b[0m\u001b[1;33m,\u001b[0m \u001b[0mdict\u001b[0m\u001b[1;33m)\u001b[0m\u001b[1;33m:\u001b[0m\u001b[1;33m\u001b[0m\u001b[1;33m\u001b[0m\u001b[0m\n\u001b[1;32m----> 3\u001b[1;33m         \u001b[1;32mraise\u001b[0m \u001b[0mTypeError\u001b[0m\u001b[1;33m(\u001b[0m\u001b[1;34m'dict 인스턴스가 필요합니다.'\u001b[0m\u001b[1;33m)\u001b[0m\u001b[1;33m\u001b[0m\u001b[1;33m\u001b[0m\u001b[0m\n\u001b[0m\u001b[0;32m      4\u001b[0m     \u001b[1;32mreturn\u001b[0m \u001b[0mnext\u001b[0m\u001b[1;33m(\u001b[0m\u001b[0miter\u001b[0m\u001b[1;33m(\u001b[0m\u001b[0mranks\u001b[0m\u001b[1;33m)\u001b[0m\u001b[1;33m)\u001b[0m\u001b[1;33m\u001b[0m\u001b[1;33m\u001b[0m\u001b[0m\n\u001b[0;32m      5\u001b[0m \u001b[1;33m\u001b[0m\u001b[0m\n",
      "\u001b[1;31mTypeError\u001b[0m: dict 인스턴스가 필요합니다."
     ]
    }
   ],
   "source": [
    "def get_winner(ranks):\n",
    "    if not isinstance(ranks, dict):\n",
    "        raise TypeError('dict 인스턴스가 필요합니다.')\n",
    "    return next(iter(ranks))\n",
    "\n",
    "get_winner(sorted_ranks)"
   ]
  },
  {
   "cell_type": "markdown",
   "id": "b8aaf94f",
   "metadata": {},
   "source": [
    "### 해결법 3. 타입 어노테이션 사용해 get_winner에 전달되는 값을 dict인스턴스로 강제 \n",
    "\n",
    "정적 타입 안정성과 런타임 성능을 가장 잘 조합해줌\n"
   ]
  },
  {
   "cell_type": "code",
   "execution_count": 32,
   "id": "cc349061",
   "metadata": {},
   "outputs": [],
   "source": [
    "from typing import Dict, MutableMapping"
   ]
  },
  {
   "cell_type": "code",
   "execution_count": 52,
   "id": "0c39f25b",
   "metadata": {},
   "outputs": [],
   "source": [
    "def populate_ranks(votes: Dict[str, int], \n",
    "                   ranks: Dict[str, int]) -> None:\n",
    "    names = list(votes.keys())\n",
    "    names.sort(key=votes.get, reverse=True)\n",
    "    for i, name in enumerate(names, 1):\n",
    "        ranks[name] = i"
   ]
  },
  {
   "cell_type": "code",
   "execution_count": 66,
   "id": "7c3bf9ed",
   "metadata": {},
   "outputs": [],
   "source": [
    "def get_winner1(ranks: Dict[str, int]) -> str:\n",
    "    return next(iter(ranks))"
   ]
  },
  {
   "cell_type": "code",
   "execution_count": 67,
   "id": "1a699f19",
   "metadata": {},
   "outputs": [],
   "source": [
    "class SortedDict(MutableMapping[str, int]):\n",
    "    def __init__(self):\n",
    "        self.data = {}\n",
    "    \n",
    "    def __getitem__(self, key):\n",
    "        return self.data[key]\n",
    "    \n",
    "    def __setitem__(self, key, value):\n",
    "        self.data[key] = value\n",
    "        \n",
    "    def __delitem__(self, key):\n",
    "        del self.data[key]\n",
    "        \n",
    "    def __iter__(self):\n",
    "        keys = list(self.data.keys())\n",
    "        keys.sort()\n",
    "        \n",
    "        for key in keys:\n",
    "            yield key\n",
    "            \n",
    "    def __len__(self):\n",
    "        return len(self.data)"
   ]
  },
  {
   "cell_type": "code",
   "execution_count": 55,
   "id": "c3e3c1b3",
   "metadata": {},
   "outputs": [],
   "source": [
    "votes ={\n",
    "    'otter': 1281,\n",
    "    'polar bear': 587,\n",
    "    'fox': 863\n",
    "}"
   ]
  },
  {
   "cell_type": "code",
   "execution_count": 87,
   "id": "18b1f668",
   "metadata": {},
   "outputs": [
    {
     "name": "stdout",
     "output_type": "stream",
     "text": [
      "{'otter': 1, 'fox': 2, 'polar bear': 3}\n",
      "fox\n"
     ]
    }
   ],
   "source": [
    "sorted_ranks = SortedDict()\n",
    "populate_ranks(votes, sorted_ranks)\n",
    "print(sorted_ranks.data)\n",
    "winner = get_winner1(sorted_ranks)\n",
    "print(winner)"
   ]
  },
  {
   "cell_type": "code",
   "execution_count": 69,
   "id": "4a466db9",
   "metadata": {},
   "outputs": [],
   "source": [
    "x =['빨강', '주황', '노랑']"
   ]
  },
  {
   "cell_type": "code",
   "execution_count": 78,
   "id": "557b0995",
   "metadata": {},
   "outputs": [],
   "source": [
    "odd = x[::2]"
   ]
  },
  {
   "cell_type": "code",
   "execution_count": 75,
   "id": "39716e41",
   "metadata": {},
   "outputs": [],
   "source": [
    "odd2 = odd[::1]"
   ]
  },
  {
   "cell_type": "code",
   "execution_count": 80,
   "id": "5adfe0f5",
   "metadata": {},
   "outputs": [
    {
     "name": "stdout",
     "output_type": "stream",
     "text": [
      "['빨강', '노랑']\n",
      "1899452419264\n"
     ]
    }
   ],
   "source": [
    "print(odd)\n",
    "print(id(odd))"
   ]
  },
  {
   "cell_type": "code",
   "execution_count": 79,
   "id": "e8fb4162",
   "metadata": {},
   "outputs": [
    {
     "name": "stdout",
     "output_type": "stream",
     "text": [
      "['빨강', '노랑']\n",
      "1899452419456\n"
     ]
    }
   ],
   "source": [
    "print(odd2)\n",
    "print(id(odd2))"
   ]
  },
  {
   "cell_type": "code",
   "execution_count": 83,
   "id": "ad07e87d",
   "metadata": {},
   "outputs": [],
   "source": [
    "def generate_csv():\n",
    "    yield('날짜', '제조사', '모델', '연식', '가격')"
   ]
  },
  {
   "cell_type": "code",
   "execution_count": 85,
   "id": "0efd93d1",
   "metadata": {},
   "outputs": [
    {
     "name": "stdout",
     "output_type": "stream",
     "text": [
      "<generator object generate_csv at 0x000001BA402D9510>\n"
     ]
    }
   ],
   "source": [
    "for i in (generate_csv()"
   ]
  },
  {
   "cell_type": "code",
   "execution_count": null,
   "id": "3e8c3684",
   "metadata": {},
   "outputs": [],
   "source": []
  }
 ],
 "metadata": {
  "kernelspec": {
   "display_name": "Python 3",
   "language": "python",
   "name": "python3"
  },
  "language_info": {
   "codemirror_mode": {
    "name": "ipython",
    "version": 3
   },
   "file_extension": ".py",
   "mimetype": "text/x-python",
   "name": "python",
   "nbconvert_exporter": "python",
   "pygments_lexer": "ipython3",
   "version": "3.8.8"
  }
 },
 "nbformat": 4,
 "nbformat_minor": 5
}
