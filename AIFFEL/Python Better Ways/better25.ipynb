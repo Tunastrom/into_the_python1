{
 "cells": [
  {
   "cell_type": "markdown",
   "id": "160a43dc",
   "metadata": {},
   "source": []
  },
  {
   "cell_type": "code",
   "execution_count": 4,
   "id": "2d18a8a6",
   "metadata": {},
   "outputs": [],
   "source": [
    "def safe_division_e(numerator, denominator, /,  # '/' 앞은 위치로만 지정해야하는 인자\n",
    "                    ndigits=10, *,               # '/'과 '*'사이는 위치와 키워드 모두 사용가능한 인자\n",
    "                    ignore_overflow=False,     # '*' 뒤는 키워드로만 사용가능한 인자.\n",
    "                    ignore_zero_division=False):\n",
    "    try:\n",
    "        fraction = numerator / denominator\n",
    "        return round(fraction, ndigits)\n",
    "    except OverflowError:\n",
    "        if ignore_overflow:\n",
    "            return 0\n",
    "        else :\n",
    "            raise\n",
    "    except ZeroDivisionError:\n",
    "        if ignore_Zero_division:\n",
    "            return float('inf')\n",
    "        else:\n",
    "            raise"
   ]
  },
  {
   "cell_type": "code",
   "execution_count": 5,
   "id": "b05407e8",
   "metadata": {},
   "outputs": [
    {
     "name": "stdout",
     "output_type": "stream",
     "text": [
      "3.1428571429\n"
     ]
    }
   ],
   "source": [
    "result = safe_division_e(22, 7)\n",
    "print(result)"
   ]
  },
  {
   "cell_type": "code",
   "execution_count": 6,
   "id": "2e18d7c3",
   "metadata": {},
   "outputs": [
    {
     "name": "stdout",
     "output_type": "stream",
     "text": [
      "3.14286\n"
     ]
    }
   ],
   "source": [
    "result = safe_division_e(22, 7, 5)\n",
    "print(result)"
   ]
  },
  {
   "cell_type": "code",
   "execution_count": 7,
   "id": "e21876d7",
   "metadata": {},
   "outputs": [
    {
     "name": "stdout",
     "output_type": "stream",
     "text": [
      "3.14\n"
     ]
    }
   ],
   "source": [
    "result = safe_division_e(22, 7, ndigits=2)\n",
    "print(result)"
   ]
  },
  {
   "cell_type": "code",
   "execution_count": null,
   "id": "0319d91f",
   "metadata": {},
   "outputs": [],
   "source": []
  }
 ],
 "metadata": {
  "kernelspec": {
   "display_name": "Python 3",
   "language": "python",
   "name": "python3"
  },
  "language_info": {
   "codemirror_mode": {
    "name": "ipython",
    "version": 3
   },
   "file_extension": ".py",
   "mimetype": "text/x-python",
   "name": "python",
   "nbconvert_exporter": "python",
   "pygments_lexer": "ipython3",
   "version": "3.8.8"
  }
 },
 "nbformat": 4,
 "nbformat_minor": 5
}
