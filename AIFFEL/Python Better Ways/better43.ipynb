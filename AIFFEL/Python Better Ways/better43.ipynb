{
 "cells": [
  {
   "cell_type": "markdown",
   "id": "58a1fa91",
   "metadata": {},
   "source": [
    "## Better Way 43\n",
    "### 커스텀 컨테이너 타입은 collections.abc를 상속하라\n",
    "\n",
    "### [collections.abc](https://docs.python.org/ko/3/library/collections.abc.html)\n",
    "* 컨테이너 타입에 정의해야 하는 전형적인 메서드를 모두 제공하는 추상 베이스 클래스(abstract base class)들의 모음 \n",
    "* 하위 클래스에 필요한 메서드의 구현이 안 되어 있으면 에러로 알려준다."
   ]
  },
  {
   "cell_type": "code",
   "execution_count": 8,
   "id": "60dbc762",
   "metadata": {},
   "outputs": [],
   "source": [
    "### 멤버들의 빈도를 계산하는 메서드가 포함된 커스텀 리스트 타입\n",
    "\n",
    "# FrequencyList가 List의 하위 클래스이므로 List가 제공하는 모든 표준함수를 사용할 수 있다.\n",
    "class FrequencyList(list):\n",
    "    def __init__(self, members):\n",
    "        super().__init__(members)\n",
    "    \n",
    "    # 필요한 기능을 제공하는 메서드를 얼마든지 추가 가능     \n",
    "    def frequency(self):\n",
    "        counts = {}\n",
    "        for item in self:\n",
    "            counts[item] = counts.get(item, 0) + 1\n",
    "        return counts"
   ]
  },
  {
   "cell_type": "code",
   "execution_count": 9,
   "id": "a2b8eb29",
   "metadata": {},
   "outputs": [
    {
     "name": "stdout",
     "output_type": "stream",
     "text": [
      "길이:  7\n",
      "pop한 다음:  ['a', 'b', 'a', 'c', 'b', 'a']\n",
      "빈도: {'a': 3, 'b': 2, 'c': 1}\n"
     ]
    }
   ],
   "source": [
    "foo = FrequencyList(['a', 'b', 'a', 'c','b','a','d'])\n",
    "print('길이: ', len(foo))\n",
    "\n",
    "foo.pop()\n",
    "print('pop한 다음: ', repr(foo))\n",
    "print('빈도:', foo.frequency())"
   ]
  },
  {
   "cell_type": "markdown",
   "id": "34344530",
   "metadata": {},
   "source": [
    " ### 아래의 클래스가 시퀀스 타입처럼 작동하게 하는 방법은?\n",
    " : 트리 노드를 깊이 '우선 순회(depth first traverse)'하는 커스텀 \\__getitem\\__ 메서드 구현을 제공한다."
   ]
  },
  {
   "cell_type": "code",
   "execution_count": 10,
   "id": "dd2ba46c",
   "metadata": {},
   "outputs": [],
   "source": [
    "# 리스트 같고 인덱싱가능하지만, 리스트의 하위클래스는 아닌 클래스\n",
    "\n",
    "# 이진트리 클래스\n",
    "class BinaryNode:\n",
    "    def __init__(self, value, left=None, right=None):\n",
    "        self.value = value\n",
    "        self.left = left\n",
    "        self.right = right"
   ]
  },
  {
   "cell_type": "markdown",
   "id": "df5f3d04",
   "metadata": {},
   "source": [
    "#### 인덱스 기능을 구현할 때 \\__getitem\\__ 사용하듯"
   ]
  },
  {
   "cell_type": "code",
   "execution_count": 11,
   "id": "08fd5a69",
   "metadata": {},
   "outputs": [
    {
     "name": "stdout",
     "output_type": "stream",
     "text": [
      "1\n",
      "1\n"
     ]
    }
   ],
   "source": [
    "# 인덱스를 사용해 시퀀스에 접근하는 코드\n",
    "bar = [1, 2, 3]\n",
    "print(bar[0])\n",
    "\n",
    "#아래의 특별 메서드로 해석된다.\n",
    "print(bar.__getitem__(0))"
   ]
  },
  {
   "cell_type": "markdown",
   "id": "63d2aca6",
   "metadata": {},
   "source": [
    "#### 이진트리를 순회하는 것도 \\__getitem\\__메서드를 구현하자"
   ]
  },
  {
   "cell_type": "code",
   "execution_count": 12,
   "id": "9e63a01e",
   "metadata": {},
   "outputs": [],
   "source": [
    "# 커스텀 __getitme__메서드 구현\n",
    "class IndexableNode(BinaryNode):\n",
    "    def _traverse(self):\n",
    "        if self.left is not None:\n",
    "            yield from self.left._traverse()\n",
    "        yield self\n",
    "        if self.right is not None:\n",
    "            yield from self.right._traverse()\n",
    "            \n",
    "    def __getitem__(self, index):\n",
    "        for i, item in enumerate(self._traverse()):\n",
    "            if i == index:\n",
    "                return item.value\n",
    "        raise IndexError(f'인덱스 범위 초과: {index}')"
   ]
  },
  {
   "cell_type": "code",
   "execution_count": 13,
   "id": "9fc62a26",
   "metadata": {},
   "outputs": [],
   "source": [
    "# 이진트리\n",
    "tree = IndexableNode(\n",
    "    10,\n",
    "    left = IndexableNode(\n",
    "        5, \n",
    "        left = IndexableNode(2),\n",
    "        right = IndexableNode(\n",
    "        6,\n",
    "        right = IndexableNode(7))),\n",
    "    right = IndexableNode(\n",
    "        15,\n",
    "        left = IndexableNode(11)))"
   ]
  },
  {
   "cell_type": "code",
   "execution_count": 14,
   "id": "9a079d66",
   "metadata": {},
   "outputs": [
    {
     "name": "stdout",
     "output_type": "stream",
     "text": [
      "LRR:  7\n",
      "인덱스 0: 2\n",
      "인덱스 1: 5\n",
      "11이 트리 안에 있나? True\n",
      "17이 트리 안에 있나? False\n",
      "트리:  [2, 5, 6, 7, 10, 11, 15]\n"
     ]
    }
   ],
   "source": [
    "print('LRR: ', tree.left.right.right.value)\n",
    "print('인덱스 0:', tree[0])\n",
    "print('인덱스 1:', tree[1])\n",
    "print('11이 트리 안에 있나?', 11 in tree)\n",
    "print('17이 트리 안에 있나?', 17 in tree)\n",
    "print('트리: ', list(tree))"
   ]
  },
  {
   "cell_type": "markdown",
   "id": "d0507059",
   "metadata": {},
   "source": [
    "### 문제: __getitem__을 구현하는 것 만으로는 리스트 인스턴스에서 기대할 수 있는 모든 시퀀스 의미구조를 제공할 수 없다."
   ]
  },
  {
   "cell_type": "code",
   "execution_count": 15,
   "id": "83cf74d8",
   "metadata": {},
   "outputs": [
    {
     "ename": "TypeError",
     "evalue": "object of type 'IndexableNode' has no len()",
     "output_type": "error",
     "traceback": [
      "\u001b[1;31m---------------------------------------------------------------------------\u001b[0m",
      "\u001b[1;31mTypeError\u001b[0m                                 Traceback (most recent call last)",
      "\u001b[1;32m<ipython-input-15-b4efeb6e526c>\u001b[0m in \u001b[0;36m<module>\u001b[1;34m\u001b[0m\n\u001b[0;32m      1\u001b[0m \u001b[1;31m# len 내장함수는 __len__ 특별메서드를 구현해야 제대로 작동.\u001b[0m\u001b[1;33m\u001b[0m\u001b[1;33m\u001b[0m\u001b[1;33m\u001b[0m\u001b[0m\n\u001b[1;32m----> 2\u001b[1;33m \u001b[0mlen\u001b[0m\u001b[1;33m(\u001b[0m\u001b[0mtree\u001b[0m\u001b[1;33m)\u001b[0m\u001b[1;33m\u001b[0m\u001b[1;33m\u001b[0m\u001b[0m\n\u001b[0m",
      "\u001b[1;31mTypeError\u001b[0m: object of type 'IndexableNode' has no len()"
     ]
    }
   ],
   "source": [
    "# len 내장함수는 __len__ 특별메서드를 구현해야 제대로 작동.\n",
    "len(tree)"
   ]
  },
  {
   "cell_type": "code",
   "execution_count": 16,
   "id": "d6749257",
   "metadata": {},
   "outputs": [
    {
     "name": "stdout",
     "output_type": "stream",
     "text": [
      "트리 길이: 7\n"
     ]
    }
   ],
   "source": [
    "# 이진트리의 길이를 반환하는 메서드를 추가한 IndexableNode 하위 클래스\n",
    "class SequenceNode(IndexableNode):\n",
    "    # 커스텀 시퀀스타입은 꼭 이 메서드를 구현해야 한다.\n",
    "    def __len__(self):   \n",
    "        for count, _ in enumerate(self._traverse(), 1):\n",
    "            pass\n",
    "        return count\n",
    "    \n",
    "tree = SequenceNode(\n",
    "    10,\n",
    "    left=SequenceNode(\n",
    "        5,\n",
    "        left=SequenceNode(2),\n",
    "        right=SequenceNode(\n",
    "            6,\n",
    "            right=SequenceNode(7))),\n",
    "    right=SequenceNode(\n",
    "        15,\n",
    "        left=SequenceNode(11))\n",
    ")\n",
    "\n",
    "print('트리 길이:', len(tree))"
   ]
  },
  {
   "cell_type": "markdown",
   "id": "4a161b8b",
   "metadata": {},
   "source": [
    "### 그러나 \\__getitem\\__, \\__len\\__만으로는 이 클래스가 올바른 시퀀스라 할수 없다.\n",
    "\n",
    "#### count, index 등등 더많은 메서드들 필요\n",
    "\n",
    "<br>\n",
    "\n",
    "### 그럼 collections.abc 모듈을 사용하자!"
   ]
  },
  {
   "cell_type": "code",
   "execution_count": 17,
   "id": "abed8ee6",
   "metadata": {},
   "outputs": [
    {
     "ename": "TypeError",
     "evalue": "Can't instantiate abstract class BadType with abstract methods __getitem__, __len__",
     "output_type": "error",
     "traceback": [
      "\u001b[1;31m---------------------------------------------------------------------------\u001b[0m",
      "\u001b[1;31mTypeError\u001b[0m                                 Traceback (most recent call last)",
      "\u001b[1;32m<ipython-input-17-c18d11664c1d>\u001b[0m in \u001b[0;36m<module>\u001b[1;34m\u001b[0m\n\u001b[0;32m      5\u001b[0m \u001b[1;33m\u001b[0m\u001b[0m\n\u001b[0;32m      6\u001b[0m \u001b[1;31m# 필요한 메서드가 구현되지 않으면 아래의 에러가 발생한다.\u001b[0m\u001b[1;33m\u001b[0m\u001b[1;33m\u001b[0m\u001b[1;33m\u001b[0m\u001b[0m\n\u001b[1;32m----> 7\u001b[1;33m \u001b[0mfoo\u001b[0m \u001b[1;33m=\u001b[0m \u001b[0mBadType\u001b[0m\u001b[1;33m(\u001b[0m\u001b[1;33m)\u001b[0m\u001b[1;33m\u001b[0m\u001b[1;33m\u001b[0m\u001b[0m\n\u001b[0m",
      "\u001b[1;31mTypeError\u001b[0m: Can't instantiate abstract class BadType with abstract methods __getitem__, __len__"
     ]
    }
   ],
   "source": [
    "from collections.abc import Sequence\n",
    "\n",
    "class BadType(Sequence):\n",
    "    pass\n",
    "\n",
    "# 필요한 메서드가 구현되지 않으면 아래의 에러가 발생한다.\n",
    "foo = BadType()"
   ]
  },
  {
   "cell_type": "markdown",
   "id": "5c62f8d0",
   "metadata": {},
   "source": [
    "#### SequenceNode에서 한 것처럼,    \n",
    "#### collections.abc에서 가져온 추상 기반 클래스가 요구하는 모든 메서드를 구현하면...\n",
    "\n",
    "#### index, count등의 추가 메서드 구현을 거저 얻는다."
   ]
  },
  {
   "cell_type": "code",
   "execution_count": 23,
   "id": "f504f5c6",
   "metadata": {},
   "outputs": [
    {
     "name": "stdout",
     "output_type": "stream",
     "text": [
      "7의 인덱스: 3\n",
      "10의 개수: 1\n"
     ]
    }
   ],
   "source": [
    "class BetterNode(SequenceNode, Sequence): # Sequence를 상속받지 않으면 index 메소드가 없다는 에러 발생\n",
    "    pass\n",
    "\n",
    "tree = BetterNode(\n",
    "    10,\n",
    "    left=BetterNode(\n",
    "        5,\n",
    "        left=BetterNode(2),\n",
    "        right=BetterNode(\n",
    "            6,\n",
    "            right=BetterNode(7))),\n",
    "     right=BetterNode(\n",
    "         5,\n",
    "         left=BetterNode(11))\n",
    ")\n",
    "\n",
    "print('7의 인덱스:', tree.index(7))\n",
    "print('10의 개수:', tree.count(10))"
   ]
  },
  {
   "cell_type": "markdown",
   "id": "ea7f7a39",
   "metadata": {},
   "source": [
    "### 추상 기반 클래스의 이점은 필수적인 특별메서드가 더 많은 복잡한 컨테이너타입을 구현할 때 더 커진다.\n",
    "#### ex) Set, MutableMapping \n",
    "\n",
    "### collection.abc 모듈 외에도 특별메서드는 여러 종류가 있다.\n",
    "#### 컨테이너/비컨테이너 모두 특별메서드 구현 가능하다."
   ]
  },
  {
   "cell_type": "markdown",
   "id": "1ef1d770",
   "metadata": {},
   "source": [
    "## 요약\n",
    "* **간편하게 쓸 때는 파이썬 컨테이너 타입(내장)**을 직접 상속하라.\n",
    "* 커스텀 컨테이너를 제대로 구현하려면 갖춰야 할 메서드가 매우 많다.\n",
    "* **커스텀 컨테이너의 타입이 collection.abc에 정의된 인터페이스를 상속**하면,\n",
    "  정상 작동에 **필요한 인터페이스와 기능을 제대로 구현하도록 보장**할 수 있다."
   ]
  }
 ],
 "metadata": {
  "kernelspec": {
   "display_name": "Python 3",
   "language": "python",
   "name": "python3"
  },
  "language_info": {
   "codemirror_mode": {
    "name": "ipython",
    "version": 3
   },
   "file_extension": ".py",
   "mimetype": "text/x-python",
   "name": "python",
   "nbconvert_exporter": "python",
   "pygments_lexer": "ipython3",
   "version": "3.8.8"
  }
 },
 "nbformat": 4,
 "nbformat_minor": 5
}
