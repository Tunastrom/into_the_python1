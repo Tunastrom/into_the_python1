{
 "cells": [
  {
   "cell_type": "markdown",
   "id": "5e2213c7",
   "metadata": {},
   "source": [
    "## Better Way 31\n",
    "### 인자에 대해 이터레이션 할 때는 방어적이 돼라\n",
    "\n",
    "<br>\n",
    "\n",
    "### 객체가 원소로 들어간 리스트를 함수가 파라미터로 받았을 때, 이 리스트를 반복 이터레이션 하는 경우 \n",
    "Ex) 미국텍사스 주의 여행자 수 분석, 데이터 집합은 도시별 방문자 수. 이때 각 도시가 전체 여행자 수중에서 차지하는 비율 계산 \n",
    "\n",
    "\n",
    "####  각 도시의 방문자 수 / 입력전체 합계 구하는 정규화 함수 "
   ]
  },
  {
   "cell_type": "code",
   "execution_count": 1,
   "id": "00ee1a89",
   "metadata": {},
   "outputs": [],
   "source": [
    "def normalize(numbers):\n",
    "    total = sum(numbers)\n",
    "    result = []\n",
    "    for value in numbers:\n",
    "        percent = 100 * value / total\n",
    "        result.append(percent)\n",
    "    return result"
   ]
  },
  {
   "cell_type": "markdown",
   "id": "165c3410",
   "metadata": {},
   "source": [
    "#### 위 함수는 방문제 데이터가 들어있는 리스트를 입력으로 넣으면 잘 작동"
   ]
  },
  {
   "cell_type": "code",
   "execution_count": 2,
   "id": "b2b53f10",
   "metadata": {},
   "outputs": [
    {
     "name": "stdout",
     "output_type": "stream",
     "text": [
      "[11.538461538461538, 26.923076923076923, 61.53846153846154]\n"
     ]
    }
   ],
   "source": [
    "visits = [15, 35, 80]\n",
    "percentages = normalize(visits)\n",
    "print(percentages)\n",
    "assert sum(percentages) == 100.0"
   ]
  },
  {
   "cell_type": "markdown",
   "id": "9b622447",
   "metadata": {},
   "source": [
    "#### 이 코드의 규모확장성을 높이려면 제너레이터를 정의하자."
   ]
  },
  {
   "cell_type": "code",
   "execution_count": 10,
   "id": "2c46d441",
   "metadata": {},
   "outputs": [],
   "source": [
    "def read_visits(data_path):\n",
    "    with open(data_path) as f:\n",
    "        for line in f:\n",
    "            yield int(line)"
   ]
  },
  {
   "cell_type": "code",
   "execution_count": 26,
   "id": "89ae75b1",
   "metadata": {},
   "outputs": [
    {
     "name": "stdout",
     "output_type": "stream",
     "text": [
      "[]\n"
     ]
    }
   ],
   "source": [
    "it = read_visits('my_numbers.txt')\n",
    "percentages = normalize(it)\n",
    "print(percentages)"
   ]
  },
  {
   "cell_type": "markdown",
   "id": "f45ea297",
   "metadata": {},
   "source": [
    "#### 위 코드 실행시 빈 리스트가 출력된다\n",
    "이터레이터가 결과를 단 한 번만 만들어내기 때문에 아래의 경우엔 아무 결과도 얻을 수 없다.\n",
    "* 이미 StopIteration 예외가 발생한 이터레이터\n",
    "* 제너레이터를 다시 이터레이션 했을 때\n"
   ]
  },
  {
   "cell_type": "code",
   "execution_count": 28,
   "id": "3b20a888",
   "metadata": {},
   "outputs": [
    {
     "name": "stdout",
     "output_type": "stream",
     "text": [
      "[15, 35, 80]\n",
      "[]\n"
     ]
    }
   ],
   "source": [
    "it = read_visits('my_numbers.txt')\n",
    "print(list(it))\n",
    "print(list(it)) # 이미 모든 원소를 다 소진했다."
   ]
  },
  {
   "cell_type": "markdown",
   "id": "d26580a3",
   "metadata": {},
   "source": [
    "#### 이미 소진터레이터에 대해 이터레이션을 수행해도 오류발생하지 않음\n",
    "for 루프, 리스트 생성자, 그 외 파이썬 표준 라이브러리의 많은 함수가 일반적인 연산 도중에 **StopIteration 예외 발생을 가정**         \n",
    "-> 출력이 없는 이터레이터와 이미 소진된 이터레이터를 구분할 수 없다.\n",
    "#### 이터레이터를 명시적으로 소진시키고 그 전체내용을 리스트에 넣어서 해결\n",
    "그후 원하는 수만큼 이터레이션 수행 가능\n",
    "\n",
    "### 입력 이터레이터를 방어적으로 복사하는 코드"
   ]
  },
  {
   "cell_type": "code",
   "execution_count": 29,
   "id": "f57cf242",
   "metadata": {},
   "outputs": [],
   "source": [
    "def normalize_copy(numbers):\n",
    "    numbers_copy = list(numbers)   # 이터레이터 복사\n",
    "    total = sum(numbers_copy)\n",
    "    result = []\n",
    "    for value in numbers_copy:\n",
    "        percent = 100 * value / total\n",
    "        result.append(percent)\n",
    "    return result"
   ]
  },
  {
   "cell_type": "markdown",
   "id": "baab0949",
   "metadata": {},
   "source": [
    "#### 위 함수는 read_visits 제너레이터가 반환하는 값에도 잘 작동"
   ]
  },
  {
   "cell_type": "code",
   "execution_count": 30,
   "id": "69c5a9fb",
   "metadata": {},
   "outputs": [
    {
     "name": "stdout",
     "output_type": "stream",
     "text": [
      "[11.538461538461538, 26.923076923076923, 61.53846153846154]\n"
     ]
    }
   ],
   "source": [
    "it = read_visits('my_numbers.txt')\n",
    "percentages = normalize_copy(it)\n",
    "print(percentages)\n",
    "assert sum(percentages) == 100.0"
   ]
  },
  {
   "cell_type": "markdown",
   "id": "83a3ad68",
   "metadata": {},
   "source": [
    "### 위 접근법의 문제점\n",
    "* 입력 이터레이터의 내용을 복사하여 메모리를 엄청나게 많이 사용할 수 있다.\n",
    "* 메모리 부족으로 인한 프로그램 중단 가능성\n",
    "* 규모확장성의 문제 발생   \n",
    "  -> 처음에 read_visits를 바꿔 쓰기로 결정한 근본적인 이유\n",
    "  \n",
    "### 다른 해결법: 호출될때 마다 새로운 이터레이터를 반환하는 함수를 받기  "
   ]
  },
  {
   "cell_type": "code",
   "execution_count": 31,
   "id": "e65e414d",
   "metadata": {},
   "outputs": [],
   "source": [
    "def normalize_func(get_iter):   # 새 이터레이터\n",
    "    total = sum(get_iter())\n",
    "    result = []\n",
    "    for value in get_iter():   # 새 이터레이터\n",
    "        percent = 100 * value / total\n",
    "        result.append(percent)\n",
    "    return result"
   ]
  },
  {
   "cell_type": "code",
   "execution_count": 32,
   "id": "8e75dfc1",
   "metadata": {},
   "outputs": [
    {
     "name": "stdout",
     "output_type": "stream",
     "text": [
      "[11.538461538461538, 26.923076923076923, 61.53846153846154]\n"
     ]
    }
   ],
   "source": [
    "path = 'my_numbers.txt'\n",
    "percentages = normalize_func(lambda: read_visits(path)) # normalize_func사용시 매번 제너레이터 호출해 \n",
    "print(percentages)                                       # 새 이터레이터 만드는 lambda식 전달\n",
    "assert sum(percentages) == 100.0"
   ]
  },
  {
   "cell_type": "markdown",
   "id": "29fe1140",
   "metadata": {},
   "source": [
    "### 작동하지만 lambda함수를 넘기는 건 보기 좋지 않다.\n",
    "\n",
    "<br>\n",
    "\n",
    "### 더 나은 해결법: 이터레이터 프로토콜(iterator protocol)을 구현한 새로운 컨테이너 클래스 제공\n",
    "\n",
    "#### 이터레이터 프로토콜\n",
    "파이썬의 for루프나 그와 연관된 식들이 컨테이너 타입의 내용을 방문할 때 사용하는 절차. \n",
    "\n",
    "1. 파이썬에서 ```for x in foo``` 사용하면 실제로는 ```iter(foo)```를 호출.\n",
    "2. ```iter```내장함수는 ```foo.__iter__```특별메서드를 호출.\n",
    "3. ```__iter__```는 반드시 이터레이터 객체(```__next__```객체를 정의한)를 반환해야만 한다 \n",
    "4. ```for```루프는 반환받은 이터레이터 객체가 데이터를 소진(StopIteration예외발생)할 때까지 반복적으로 해당 객체에 대한 next내장함수 호출\n",
    "\n",
    "#### 코드를 작성할 때 정의하는 클래스에서 __iter__메서드를 제너레이터로 구현하기만 하면 위의 모든 동작을 만족\n",
    "### 이터러블 컨테이너 클래스 정의 코드"
   ]
  },
  {
   "cell_type": "code",
   "execution_count": 34,
   "id": "4342cd31",
   "metadata": {},
   "outputs": [],
   "source": [
    "class ReadVisits:\n",
    "    def __init__(self, data_path):\n",
    "        self.data_path = data_path\n",
    "        \n",
    "    def __iter__(self):\n",
    "        with open(self.data_path) as f:\n",
    "            for line in f:\n",
    "                yield int(line)"
   ]
  },
  {
   "cell_type": "markdown",
   "id": "42670941",
   "metadata": {},
   "source": [
    "#### 원래의 normalize함수에 새로운 컨테이너를 넘기면 변경없이도 잘 작동"
   ]
  },
  {
   "cell_type": "code",
   "execution_count": 35,
   "id": "d6343e07",
   "metadata": {},
   "outputs": [
    {
     "name": "stdout",
     "output_type": "stream",
     "text": [
      "[11.538461538461538, 26.923076923076923, 61.53846153846154]\n"
     ]
    }
   ],
   "source": [
    "visits = [15, 35, 80]\n",
    "percentages = normalize(visits)\n",
    "print(percentages)\n",
    "assert sum(percentages) == 100.0"
   ]
  },
  {
   "cell_type": "markdown",
   "id": "c85b968b",
   "metadata": {},
   "source": [
    "#### 작동이유\n",
    "1. normalize 함수안의 sum메서드가 ReadVisits.\\__iter\\__ 를 호출하여 새로운 이터레이터 객체를 할당함\n",
    "2. 각숫자를 정규화하기 위한 for루프도 \\__iter\\__를 호출해 두번째 이터레이터 객체 생성\n",
    "3. 1.과 2.의 이터레이터는 서로 독립적으로 진행 및 소진됨   \n",
    "   -> 모든 이터레이터 값을 볼 수 있는 별도의 이터레이션 생성 \n",
    "   \n",
    "#### 입력데이터를 여러번 읽는 다는 것이 유일한 단점   \n",
    "\n",
    "<br>\n",
    "\n",
    "### 파라미터값이 단순 이터레이터가 아니어도 동작하는 함수 정의\n",
    "\n",
    "* iter(이터레이터A) -> 이터레이터A 그대로 반환 \n",
    "* iter(컨테이너B) -> 매번 새로운 이터레이터 객체 B,C,D,E... 반환\n",
    "\n",
    "#### 위 두 경우중 어느 쪽인지 검사해 반복적으로 이터레이션 불가능할 때는 TypeError 발생시켜서 거부"
   ]
  },
  {
   "cell_type": "code",
   "execution_count": 37,
   "id": "abfb5da6",
   "metadata": {},
   "outputs": [],
   "source": [
    "def normalize_defensive(numbers):\n",
    "    if iter(numbers) is numbers:   # 이터레이터 -- 나쁨!\n",
    "        raise TypeError('컨테이너를 제공해야 합니다.')\n",
    "    total = sum(numbers)\n",
    "    result = []\n",
    "    for value in numbers:\n",
    "        percent = 100 * value / total\n",
    "        result.append(percent)\n",
    "    return result"
   ]
  },
  {
   "cell_type": "code",
   "execution_count": 39,
   "id": "8f1a2f1b",
   "metadata": {},
   "outputs": [
    {
     "name": "stdout",
     "output_type": "stream",
     "text": [
      "<class 'list_iterator'> <class 'list'>\n",
      "2307996030288 2307996081984\n",
      "[11.538461538461538, 26.923076923076923, 61.53846153846154]\n"
     ]
    }
   ],
   "source": []
  },
  {
   "cell_type": "code",
   "execution_count": 40,
   "id": "7cf182a1",
   "metadata": {},
   "outputs": [
    {
     "data": {
      "text/plain": [
       "<list_iterator at 0x2195f3b36a0>"
      ]
     },
     "execution_count": 40,
     "metadata": {},
     "output_type": "execute_result"
    }
   ],
   "source": [
    "dir([1, 2, 3].__iter__())"
   ]
  },
  {
   "cell_type": "code",
   "execution_count": 42,
   "id": "7699c8ca",
   "metadata": {},
   "outputs": [
    {
     "data": {
      "text/plain": [
       "['__class__',\n",
       " '__delattr__',\n",
       " '__dir__',\n",
       " '__doc__',\n",
       " '__eq__',\n",
       " '__format__',\n",
       " '__ge__',\n",
       " '__getattribute__',\n",
       " '__gt__',\n",
       " '__hash__',\n",
       " '__init__',\n",
       " '__init_subclass__',\n",
       " '__iter__',\n",
       " '__le__',\n",
       " '__length_hint__',\n",
       " '__lt__',\n",
       " '__ne__',\n",
       " '__new__',\n",
       " '__next__',\n",
       " '__reduce__',\n",
       " '__reduce_ex__',\n",
       " '__repr__',\n",
       " '__setattr__',\n",
       " '__setstate__',\n",
       " '__sizeof__',\n",
       " '__str__',\n",
       " '__subclasshook__']"
      ]
     },
     "execution_count": 42,
     "metadata": {},
     "output_type": "execute_result"
    }
   ],
   "source": [
    "x = [1, 2, 3].__iter__()\n",
    "dir(x)"
   ]
  },
  {
   "cell_type": "code",
   "execution_count": 43,
   "id": "05d3932a",
   "metadata": {},
   "outputs": [
    {
     "data": {
      "text/plain": [
       "['__class__',\n",
       " '__delattr__',\n",
       " '__dir__',\n",
       " '__doc__',\n",
       " '__eq__',\n",
       " '__format__',\n",
       " '__ge__',\n",
       " '__getattribute__',\n",
       " '__gt__',\n",
       " '__hash__',\n",
       " '__init__',\n",
       " '__init_subclass__',\n",
       " '__iter__',\n",
       " '__le__',\n",
       " '__length_hint__',\n",
       " '__lt__',\n",
       " '__ne__',\n",
       " '__new__',\n",
       " '__next__',\n",
       " '__reduce__',\n",
       " '__reduce_ex__',\n",
       " '__repr__',\n",
       " '__setattr__',\n",
       " '__setstate__',\n",
       " '__sizeof__',\n",
       " '__str__',\n",
       " '__subclasshook__']"
      ]
     },
     "execution_count": 43,
     "metadata": {},
     "output_type": "execute_result"
    }
   ],
   "source": []
  },
  {
   "cell_type": "code",
   "execution_count": null,
   "id": "0f04ede5",
   "metadata": {},
   "outputs": [],
   "source": []
  }
 ],
 "metadata": {
  "kernelspec": {
   "display_name": "Python 3",
   "language": "python",
   "name": "python3"
  },
  "language_info": {
   "codemirror_mode": {
    "name": "ipython",
    "version": 3
   },
   "file_extension": ".py",
   "mimetype": "text/x-python",
   "name": "python",
   "nbconvert_exporter": "python",
   "pygments_lexer": "ipython3",
   "version": "3.8.8"
  }
 },
 "nbformat": 4,
 "nbformat_minor": 5
}
