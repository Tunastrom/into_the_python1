{
 "cells": [
  {
   "cell_type": "markdown",
   "id": "3d36dce9",
   "metadata": {},
   "source": [
    "## Better Way 30\n",
    "### 리스트를 반환하기 보다는 제너레이터를 사용하라\n",
    "\n",
    "### 시퀀스를 결과로 만들어 내는 함수를 만드는 가장 간단한 선택: 리스트반환"
   ]
  },
  {
   "cell_type": "code",
   "execution_count": 1,
   "id": "3f535939",
   "metadata": {},
   "outputs": [],
   "source": [
    "def index_words(text):\n",
    "    result = []\n",
    "    if text:\n",
    "        result.append(0)\n",
    "    for index, letter in enumerate(text):\n",
    "        if letter == ' ':\n",
    "            result.append(index + 1)\n",
    "    return result"
   ]
  },
  {
   "cell_type": "code",
   "execution_count": 3,
   "id": "5a9064a8",
   "metadata": {},
   "outputs": [
    {
     "name": "stdout",
     "output_type": "stream",
     "text": [
      "[0, 8, 18, 23, 28, 33, 39]\n"
     ]
    }
   ],
   "source": [
    "address = '컴퓨터(영어: Computer, 문화어: 콤퓨터, 순화어: 전산기)는 진공관'\n",
    "result = index_words(address)\n",
    "print(result[:10])"
   ]
  },
  {
   "cell_type": "markdown",
   "id": "7597b251",
   "metadata": {},
   "source": [
    "### inex_words 함수의 문제점 2가지\n",
    "### 문제 1. 코드에 잡음이 많고 핵심을 알아보기 어렵다.\n",
    "\n",
    "#### 위와 같은 결과를 만들어 내는 제너레이터 코드"
   ]
  },
  {
   "cell_type": "code",
   "execution_count": 4,
   "id": "544151c5",
   "metadata": {},
   "outputs": [],
   "source": [
    "def index_words_iter(text):\n",
    "    if text:\n",
    "        yield 0                         # 첫번째 값 출력\n",
    "    for index, letter in enumerate(text):\n",
    "        if letter == ' ':\n",
    "            yield index + 1"
   ]
  },
  {
   "cell_type": "code",
   "execution_count": 5,
   "id": "11b6eafd",
   "metadata": {},
   "outputs": [
    {
     "name": "stdout",
     "output_type": "stream",
     "text": [
      "0\n",
      "8\n"
     ]
    }
   ],
   "source": [
    "it = index_words_iter(address)\n",
    "print(next(it))\n",
    "print(next(it))"
   ]
  },
  {
   "cell_type": "markdown",
   "id": "b7f52a53",
   "metadata": {},
   "source": [
    "#### 반환하는 리스트와 상호작용하는 코드가 사라져 index_words_iter함수가 훨씬 읽기 쉬워짐\n",
    "* 대신 결과는 yield 식에 의해 전달됨.\n",
    "* 제너레이터가 반환하는 이터레이터를 쉽게 리스트로 형변환 가능"
   ]
  },
  {
   "cell_type": "markdown",
   "id": "248f38a6",
   "metadata": {},
   "source": [
    "#### 제너레이터가 반환한 이터레이터의 리스트 형변환"
   ]
  },
  {
   "cell_type": "code",
   "execution_count": 6,
   "id": "33275700",
   "metadata": {},
   "outputs": [
    {
     "name": "stdout",
     "output_type": "stream",
     "text": [
      "[0, 8, 18, 23, 28, 33, 39]\n"
     ]
    }
   ],
   "source": [
    "result = list(index_words_iter(address)) # 리스트 형변환\n",
    "print(result[:10])"
   ]
  },
  {
   "cell_type": "markdown",
   "id": "fbb37f22",
   "metadata": {},
   "source": [
    "### 문제 2. 반환하기 전에 리스트에 모든 결과를 다 저장해야 한다.\n",
    "= 입력이 매우 크면 프로그램이 메모리를 소진해서 중단될 수 있다. \n",
    "\n",
    "#### 같은 함수를 제너레이터 버전으로 만들면 사용하는 메모리크기를 일정수준으로 제한가능\n",
    "= 입력이 매우 커져도 쉽게 처리가능"
   ]
  },
  {
   "cell_type": "code",
   "execution_count": 7,
   "id": "123c1085",
   "metadata": {},
   "outputs": [],
   "source": [
    "def index_file(handle):\n",
    "    offset = 0\n",
    "    for line in handle:\n",
    "        if line:\n",
    "            yield offset\n",
    "        for letter in line:\n",
    "            offset += 1\n",
    "            if letter == '':\n",
    "                yield offset"
   ]
  },
  {
   "cell_type": "markdown",
   "id": "3bf3452a",
   "metadata": {},
   "source": [
    "#### 이 함수의 작업 메모리는 입력 중 가장 긴 줄의 길이로 제한됨"
   ]
  },
  {
   "cell_type": "code",
   "execution_count": 8,
   "id": "3443ba76",
   "metadata": {},
   "outputs": [
    {
     "ename": "FileNotFoundError",
     "evalue": "[Errno 2] No such file or directory: 'address.txt'",
     "output_type": "error",
     "traceback": [
      "\u001b[1;31m---------------------------------------------------------------------------\u001b[0m",
      "\u001b[1;31mFileNotFoundError\u001b[0m                         Traceback (most recent call last)",
      "\u001b[1;32m<ipython-input-8-f7c07763e32b>\u001b[0m in \u001b[0;36m<module>\u001b[1;34m\u001b[0m\n\u001b[0;32m      1\u001b[0m \u001b[1;31m# 파일에 유니코드 문자가 들어간 경우\u001b[0m\u001b[1;33m\u001b[0m\u001b[1;33m\u001b[0m\u001b[1;33m\u001b[0m\u001b[0m\n\u001b[0;32m      2\u001b[0m \u001b[1;31m# 파일을 읽을 때 utf-8로 디코딩하도록 open에 인코딩을 지정해야 한다.\u001b[0m\u001b[1;33m\u001b[0m\u001b[1;33m\u001b[0m\u001b[1;33m\u001b[0m\u001b[0m\n\u001b[1;32m----> 3\u001b[1;33m \u001b[1;32mwith\u001b[0m \u001b[0mopen\u001b[0m\u001b[1;33m(\u001b[0m\u001b[1;34m'address.txt'\u001b[0m\u001b[1;33m,\u001b[0m \u001b[1;34m'r'\u001b[0m\u001b[1;33m,\u001b[0m \u001b[0mencoding\u001b[0m\u001b[1;33m=\u001b[0m\u001b[1;34m'utf-8'\u001b[0m\u001b[1;33m)\u001b[0m \u001b[1;32mas\u001b[0m \u001b[0mf\u001b[0m\u001b[1;33m:\u001b[0m\u001b[1;33m\u001b[0m\u001b[1;33m\u001b[0m\u001b[0m\n\u001b[0m\u001b[0;32m      4\u001b[0m     \u001b[0mit\u001b[0m \u001b[1;33m=\u001b[0m \u001b[0mindex_file\u001b[0m\u001b[1;33m(\u001b[0m\u001b[0mf\u001b[0m\u001b[1;33m)\u001b[0m\u001b[1;33m\u001b[0m\u001b[1;33m\u001b[0m\u001b[0m\n\u001b[0;32m      5\u001b[0m     \u001b[0mresults\u001b[0m \u001b[1;33m=\u001b[0m \u001b[0mitertools\u001b[0m\u001b[1;33m.\u001b[0m\u001b[0mislice\u001b[0m\u001b[1;33m(\u001b[0m\u001b[0mit\u001b[0m\u001b[1;33m,\u001b[0m \u001b[1;36m0\u001b[0m \u001b[1;33m,\u001b[0m\u001b[1;36m10\u001b[0m\u001b[1;33m)\u001b[0m\u001b[1;33m\u001b[0m\u001b[1;33m\u001b[0m\u001b[0m\n",
      "\u001b[1;31mFileNotFoundError\u001b[0m: [Errno 2] No such file or directory: 'address.txt'"
     ]
    }
   ],
   "source": [
    "# 파일에 유니코드 문자가 들어간 경우\n",
    "# 파일을 읽을 때 utf-8로 디코딩하도록 open에 인코딩을 지정해야 한다.\n",
    "with open('address.txt', 'r', encoding='utf-8') as f:\n",
    "    it = index_file(f)\n",
    "    results = itertools.islice(it, 0 ,10)\n",
    "    print(list(results))"
   ]
  },
  {
   "cell_type": "markdown",
   "id": "0dd60f68",
   "metadata": {},
   "source": [
    "#### 제너레이터 정의할 때 유의점\n",
    "제너레이터가 반환하는 이터레이터에 상태가 있기 때문에 호출하는 쪽에서 재사용이 불가능하다.\n",
    "### 요약\n",
    "* 제너레이터를 사용하면 결과를 리스트에 합쳐서 반환하는 것보다 더 깔끔하다.\n",
    "* 제너레이터가 반환하는 이터레이터는 제너레이터 함수의 본문에서 yield가 반환하는 값들로 이뤄진 집합을 만들어낸다.\n",
    "* 제너레이터를 사용하면 작업 메모리에 모든 입력과 출력을 저장할 필요가 없으므로 입력이 아주 커도 출력 시퀀스를 만들 수 있다."
   ]
  },
  {
   "cell_type": "code",
   "execution_count": null,
   "id": "6fe83cff",
   "metadata": {},
   "outputs": [],
   "source": []
  }
 ],
 "metadata": {
  "kernelspec": {
   "display_name": "Python 3",
   "language": "python",
   "name": "python3"
  },
  "language_info": {
   "codemirror_mode": {
    "name": "ipython",
    "version": 3
   },
   "file_extension": ".py",
   "mimetype": "text/x-python",
   "name": "python",
   "nbconvert_exporter": "python",
   "pygments_lexer": "ipython3",
   "version": "3.8.8"
  }
 },
 "nbformat": 4,
 "nbformat_minor": 5
}
