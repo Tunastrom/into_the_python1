{
 "cells": [
  {
   "cell_type": "markdown",
   "id": "4f2b6228",
   "metadata": {},
   "source": [
    "## 7.1 누락된 데이터 처리하기\n",
    "-----\n",
    "\n",
    " * 누락 데이터의 처리는 pandas의 설계목표중 하나\n",
    " * pandas의 모든 기술통계는 누락데이터를 배제하고 처리한다.\n",
    " * 완벽한 것은 아니나 누락데이터를 NaN(실숫값)으로 취급하여 쉽게 찾을 수 있게 돕는다.\n"
   ]
  },
  {
   "cell_type": "code",
   "execution_count": 57,
   "id": "2f898c00",
   "metadata": {},
   "outputs": [],
   "source": [
    "import pandas as pd\n",
    "import numpy as np"
   ]
  },
  {
   "cell_type": "code",
   "execution_count": 24,
   "id": "0133a109",
   "metadata": {},
   "outputs": [],
   "source": [
    "string_data = pd.Series(['aardvark', 'artichoke', np.nan, 'avocado'])"
   ]
  },
  {
   "cell_type": "code",
   "execution_count": 25,
   "id": "c68d414b",
   "metadata": {},
   "outputs": [
    {
     "data": {
      "text/plain": [
       "0     aardvark\n",
       "1    artichoke\n",
       "2          NaN\n",
       "3      avocado\n",
       "dtype: object"
      ]
     },
     "execution_count": 25,
     "metadata": {},
     "output_type": "execute_result"
    }
   ],
   "source": [
    "string_data"
   ]
  },
  {
   "cell_type": "code",
   "execution_count": 26,
   "id": "4a03608d",
   "metadata": {},
   "outputs": [
    {
     "data": {
      "text/plain": [
       "0    False\n",
       "1    False\n",
       "2     True\n",
       "3    False\n",
       "dtype: bool"
      ]
     },
     "execution_count": 26,
     "metadata": {},
     "output_type": "execute_result"
    }
   ],
   "source": [
    "string_data.isnull() "
   ]
  },
  {
   "cell_type": "markdown",
   "id": "2424d5d1",
   "metadata": {},
   "source": [
    "#### pandas는 R에서 결측치를 NA(Not Available)로 취급하는 개념을 차용하였다.\n",
    "\n",
    "1. NA데이터의 의미\n",
    "  * 분석과정에서 데이터 존재하지 않았음.\n",
    "  * 존재할 때는, 데이터 수집과정에서 검출되지 않았음.\n",
    "  \n",
    "  <br>\n",
    "  \n",
    "2. 데이터 정제과정에서 결측치의 용도\n",
    "  * 데이터 수집과정에서의 실수 파악\n",
    "  * 결측치로 인한 잠재적 편향 파악\n",
    "  "
   ]
  },
  {
   "cell_type": "code",
   "execution_count": 27,
   "id": "cfd37ef7",
   "metadata": {},
   "outputs": [],
   "source": [
    "string_data[0] = None"
   ]
  },
  {
   "cell_type": "code",
   "execution_count": 28,
   "id": "258496a6",
   "metadata": {},
   "outputs": [
    {
     "data": {
      "text/plain": [
       "0     True\n",
       "1    False\n",
       "2     True\n",
       "3    False\n",
       "dtype: bool"
      ]
     },
     "execution_count": 28,
     "metadata": {},
     "output_type": "execute_result"
    }
   ],
   "source": [
    "string_data.isnull() # In[7]과 비교하면 0번이 True로 바뀌어있다."
   ]
  },
  {
   "cell_type": "markdown",
   "id": "c0132307",
   "metadata": {},
   "source": [
    "### 7.1.1 누락된 데이터 골라내기"
   ]
  },
  {
   "cell_type": "markdown",
   "id": "29f62bdf",
   "metadata": {},
   "source": [
    "#### dropna\n",
    "non-null 데이터와 색인값만 들어있는 Series 반환\n",
    "\n",
    "1. Series"
   ]
  },
  {
   "cell_type": "code",
   "execution_count": 58,
   "id": "e4106f6d",
   "metadata": {},
   "outputs": [],
   "source": [
    "from numpy import nan as NA\n",
    "\n",
    "data = pd.Series([1, NA, 3.5, NA, 7])"
   ]
  },
  {
   "cell_type": "code",
   "execution_count": 34,
   "id": "e4d524f6",
   "metadata": {},
   "outputs": [
    {
     "data": {
      "text/plain": [
       "0    1.0\n",
       "2    3.5\n",
       "4    7.0\n",
       "dtype: float64"
      ]
     },
     "execution_count": 34,
     "metadata": {},
     "output_type": "execute_result"
    }
   ],
   "source": [
    "data.dropna()"
   ]
  },
  {
   "cell_type": "markdown",
   "id": "21501288",
   "metadata": {},
   "source": [
    "위 코드와 아래 코드는 동일하다"
   ]
  },
  {
   "cell_type": "code",
   "execution_count": 36,
   "id": "b41e2483",
   "metadata": {},
   "outputs": [
    {
     "data": {
      "text/plain": [
       "0    1.0\n",
       "2    3.5\n",
       "4    7.0\n",
       "dtype: float64"
      ]
     },
     "execution_count": 36,
     "metadata": {},
     "output_type": "execute_result"
    }
   ],
   "source": [
    "data[data.notnull()]"
   ]
  },
  {
   "cell_type": "markdown",
   "id": "82a83930",
   "metadata": {},
   "source": [
    "2. DataFrame"
   ]
  },
  {
   "cell_type": "code",
   "execution_count": 44,
   "id": "1e042782",
   "metadata": {},
   "outputs": [],
   "source": [
    "data = pd.DataFrame([[1., 6.5, 3.], [1., NA, NA],\n",
    "                    [NA, NA, NA], [NA, 6.5, 3.]])"
   ]
  },
  {
   "cell_type": "code",
   "execution_count": 45,
   "id": "29df7dbd",
   "metadata": {},
   "outputs": [],
   "source": [
    "cleaned = data.dropna()"
   ]
  },
  {
   "cell_type": "code",
   "execution_count": 46,
   "id": "b4d7a1b3",
   "metadata": {},
   "outputs": [
    {
     "data": {
      "text/html": [
       "<div>\n",
       "<style scoped>\n",
       "    .dataframe tbody tr th:only-of-type {\n",
       "        vertical-align: middle;\n",
       "    }\n",
       "\n",
       "    .dataframe tbody tr th {\n",
       "        vertical-align: top;\n",
       "    }\n",
       "\n",
       "    .dataframe thead th {\n",
       "        text-align: right;\n",
       "    }\n",
       "</style>\n",
       "<table border=\"1\" class=\"dataframe\">\n",
       "  <thead>\n",
       "    <tr style=\"text-align: right;\">\n",
       "      <th></th>\n",
       "      <th>0</th>\n",
       "      <th>1</th>\n",
       "      <th>2</th>\n",
       "    </tr>\n",
       "  </thead>\n",
       "  <tbody>\n",
       "    <tr>\n",
       "      <th>0</th>\n",
       "      <td>1.0</td>\n",
       "      <td>6.5</td>\n",
       "      <td>3.0</td>\n",
       "    </tr>\n",
       "    <tr>\n",
       "      <th>1</th>\n",
       "      <td>1.0</td>\n",
       "      <td>NaN</td>\n",
       "      <td>NaN</td>\n",
       "    </tr>\n",
       "    <tr>\n",
       "      <th>2</th>\n",
       "      <td>NaN</td>\n",
       "      <td>NaN</td>\n",
       "      <td>NaN</td>\n",
       "    </tr>\n",
       "    <tr>\n",
       "      <th>3</th>\n",
       "      <td>NaN</td>\n",
       "      <td>6.5</td>\n",
       "      <td>3.0</td>\n",
       "    </tr>\n",
       "  </tbody>\n",
       "</table>\n",
       "</div>"
      ],
      "text/plain": [
       "     0    1    2\n",
       "0  1.0  6.5  3.0\n",
       "1  1.0  NaN  NaN\n",
       "2  NaN  NaN  NaN\n",
       "3  NaN  6.5  3.0"
      ]
     },
     "execution_count": 46,
     "metadata": {},
     "output_type": "execute_result"
    }
   ],
   "source": [
    "data"
   ]
  },
  {
   "cell_type": "code",
   "execution_count": 47,
   "id": "5bea8b74",
   "metadata": {},
   "outputs": [
    {
     "data": {
      "text/html": [
       "<div>\n",
       "<style scoped>\n",
       "    .dataframe tbody tr th:only-of-type {\n",
       "        vertical-align: middle;\n",
       "    }\n",
       "\n",
       "    .dataframe tbody tr th {\n",
       "        vertical-align: top;\n",
       "    }\n",
       "\n",
       "    .dataframe thead th {\n",
       "        text-align: right;\n",
       "    }\n",
       "</style>\n",
       "<table border=\"1\" class=\"dataframe\">\n",
       "  <thead>\n",
       "    <tr style=\"text-align: right;\">\n",
       "      <th></th>\n",
       "      <th>0</th>\n",
       "      <th>1</th>\n",
       "      <th>2</th>\n",
       "    </tr>\n",
       "  </thead>\n",
       "  <tbody>\n",
       "    <tr>\n",
       "      <th>0</th>\n",
       "      <td>1.0</td>\n",
       "      <td>6.5</td>\n",
       "      <td>3.0</td>\n",
       "    </tr>\n",
       "  </tbody>\n",
       "</table>\n",
       "</div>"
      ],
      "text/plain": [
       "     0    1    2\n",
       "0  1.0  6.5  3.0"
      ]
     },
     "execution_count": 47,
     "metadata": {},
     "output_type": "execute_result"
    }
   ],
   "source": [
    "cleaned"
   ]
  },
  {
   "cell_type": "code",
   "execution_count": 48,
   "id": "0a635e0e",
   "metadata": {},
   "outputs": [
    {
     "data": {
      "text/html": [
       "<div>\n",
       "<style scoped>\n",
       "    .dataframe tbody tr th:only-of-type {\n",
       "        vertical-align: middle;\n",
       "    }\n",
       "\n",
       "    .dataframe tbody tr th {\n",
       "        vertical-align: top;\n",
       "    }\n",
       "\n",
       "    .dataframe thead th {\n",
       "        text-align: right;\n",
       "    }\n",
       "</style>\n",
       "<table border=\"1\" class=\"dataframe\">\n",
       "  <thead>\n",
       "    <tr style=\"text-align: right;\">\n",
       "      <th></th>\n",
       "      <th>0</th>\n",
       "      <th>1</th>\n",
       "      <th>2</th>\n",
       "    </tr>\n",
       "  </thead>\n",
       "  <tbody>\n",
       "    <tr>\n",
       "      <th>0</th>\n",
       "      <td>1.0</td>\n",
       "      <td>6.5</td>\n",
       "      <td>3.0</td>\n",
       "    </tr>\n",
       "    <tr>\n",
       "      <th>1</th>\n",
       "      <td>1.0</td>\n",
       "      <td>NaN</td>\n",
       "      <td>NaN</td>\n",
       "    </tr>\n",
       "    <tr>\n",
       "      <th>3</th>\n",
       "      <td>NaN</td>\n",
       "      <td>6.5</td>\n",
       "      <td>3.0</td>\n",
       "    </tr>\n",
       "  </tbody>\n",
       "</table>\n",
       "</div>"
      ],
      "text/plain": [
       "     0    1    2\n",
       "0  1.0  6.5  3.0\n",
       "1  1.0  NaN  NaN\n",
       "3  NaN  6.5  3.0"
      ]
     },
     "execution_count": 48,
     "metadata": {},
     "output_type": "execute_result"
    }
   ],
   "source": [
    "# NA인 로우만 제외\n",
    "data.dropna(how='all')"
   ]
  },
  {
   "cell_type": "code",
   "execution_count": 49,
   "id": "3c1061db",
   "metadata": {},
   "outputs": [],
   "source": [
    "data[4] = NA"
   ]
  },
  {
   "cell_type": "code",
   "execution_count": 50,
   "id": "ed966483",
   "metadata": {},
   "outputs": [
    {
     "data": {
      "text/html": [
       "<div>\n",
       "<style scoped>\n",
       "    .dataframe tbody tr th:only-of-type {\n",
       "        vertical-align: middle;\n",
       "    }\n",
       "\n",
       "    .dataframe tbody tr th {\n",
       "        vertical-align: top;\n",
       "    }\n",
       "\n",
       "    .dataframe thead th {\n",
       "        text-align: right;\n",
       "    }\n",
       "</style>\n",
       "<table border=\"1\" class=\"dataframe\">\n",
       "  <thead>\n",
       "    <tr style=\"text-align: right;\">\n",
       "      <th></th>\n",
       "      <th>0</th>\n",
       "      <th>1</th>\n",
       "      <th>2</th>\n",
       "      <th>4</th>\n",
       "    </tr>\n",
       "  </thead>\n",
       "  <tbody>\n",
       "    <tr>\n",
       "      <th>0</th>\n",
       "      <td>1.0</td>\n",
       "      <td>6.5</td>\n",
       "      <td>3.0</td>\n",
       "      <td>NaN</td>\n",
       "    </tr>\n",
       "    <tr>\n",
       "      <th>1</th>\n",
       "      <td>1.0</td>\n",
       "      <td>NaN</td>\n",
       "      <td>NaN</td>\n",
       "      <td>NaN</td>\n",
       "    </tr>\n",
       "    <tr>\n",
       "      <th>2</th>\n",
       "      <td>NaN</td>\n",
       "      <td>NaN</td>\n",
       "      <td>NaN</td>\n",
       "      <td>NaN</td>\n",
       "    </tr>\n",
       "    <tr>\n",
       "      <th>3</th>\n",
       "      <td>NaN</td>\n",
       "      <td>6.5</td>\n",
       "      <td>3.0</td>\n",
       "      <td>NaN</td>\n",
       "    </tr>\n",
       "  </tbody>\n",
       "</table>\n",
       "</div>"
      ],
      "text/plain": [
       "     0    1    2   4\n",
       "0  1.0  6.5  3.0 NaN\n",
       "1  1.0  NaN  NaN NaN\n",
       "2  NaN  NaN  NaN NaN\n",
       "3  NaN  6.5  3.0 NaN"
      ]
     },
     "execution_count": 50,
     "metadata": {},
     "output_type": "execute_result"
    }
   ],
   "source": [
    "data"
   ]
  },
  {
   "cell_type": "code",
   "execution_count": 51,
   "id": "ece716c0",
   "metadata": {},
   "outputs": [
    {
     "data": {
      "text/html": [
       "<div>\n",
       "<style scoped>\n",
       "    .dataframe tbody tr th:only-of-type {\n",
       "        vertical-align: middle;\n",
       "    }\n",
       "\n",
       "    .dataframe tbody tr th {\n",
       "        vertical-align: top;\n",
       "    }\n",
       "\n",
       "    .dataframe thead th {\n",
       "        text-align: right;\n",
       "    }\n",
       "</style>\n",
       "<table border=\"1\" class=\"dataframe\">\n",
       "  <thead>\n",
       "    <tr style=\"text-align: right;\">\n",
       "      <th></th>\n",
       "      <th>0</th>\n",
       "      <th>1</th>\n",
       "      <th>2</th>\n",
       "    </tr>\n",
       "  </thead>\n",
       "  <tbody>\n",
       "    <tr>\n",
       "      <th>0</th>\n",
       "      <td>1.0</td>\n",
       "      <td>6.5</td>\n",
       "      <td>3.0</td>\n",
       "    </tr>\n",
       "    <tr>\n",
       "      <th>1</th>\n",
       "      <td>1.0</td>\n",
       "      <td>NaN</td>\n",
       "      <td>NaN</td>\n",
       "    </tr>\n",
       "    <tr>\n",
       "      <th>2</th>\n",
       "      <td>NaN</td>\n",
       "      <td>NaN</td>\n",
       "      <td>NaN</td>\n",
       "    </tr>\n",
       "    <tr>\n",
       "      <th>3</th>\n",
       "      <td>NaN</td>\n",
       "      <td>6.5</td>\n",
       "      <td>3.0</td>\n",
       "    </tr>\n",
       "  </tbody>\n",
       "</table>\n",
       "</div>"
      ],
      "text/plain": [
       "     0    1    2\n",
       "0  1.0  6.5  3.0\n",
       "1  1.0  NaN  NaN\n",
       "2  NaN  NaN  NaN\n",
       "3  NaN  6.5  3.0"
      ]
     },
     "execution_count": 51,
     "metadata": {},
     "output_type": "execute_result"
    }
   ],
   "source": [
    "# NA인 컬럼만 제외(axis)\n",
    "data.dropna(axis=1, how='all')"
   ]
  },
  {
   "cell_type": "code",
   "execution_count": 59,
   "id": "794c7884",
   "metadata": {},
   "outputs": [],
   "source": [
    "# tresh로 어떤 값이 몇개 이상인 로우만 확인\n",
    "df = pd.DataFrame(np.random.rand(7,3))"
   ]
  },
  {
   "cell_type": "code",
   "execution_count": 60,
   "id": "2246659e",
   "metadata": {},
   "outputs": [],
   "source": [
    "df.iloc[:4, 1] = NA"
   ]
  },
  {
   "cell_type": "code",
   "execution_count": 61,
   "id": "54bc519e",
   "metadata": {},
   "outputs": [],
   "source": [
    "df.iloc[:2, 2] = NA"
   ]
  },
  {
   "cell_type": "code",
   "execution_count": 55,
   "id": "52aa0649",
   "metadata": {},
   "outputs": [
    {
     "data": {
      "text/html": [
       "<div>\n",
       "<style scoped>\n",
       "    .dataframe tbody tr th:only-of-type {\n",
       "        vertical-align: middle;\n",
       "    }\n",
       "\n",
       "    .dataframe tbody tr th {\n",
       "        vertical-align: top;\n",
       "    }\n",
       "\n",
       "    .dataframe thead th {\n",
       "        text-align: right;\n",
       "    }\n",
       "</style>\n",
       "<table border=\"1\" class=\"dataframe\">\n",
       "  <thead>\n",
       "    <tr style=\"text-align: right;\">\n",
       "      <th></th>\n",
       "      <th>0</th>\n",
       "      <th>1</th>\n",
       "      <th>2</th>\n",
       "    </tr>\n",
       "  </thead>\n",
       "  <tbody>\n",
       "    <tr>\n",
       "      <th>0</th>\n",
       "      <td>0.849948</td>\n",
       "      <td>NaN</td>\n",
       "      <td>NaN</td>\n",
       "    </tr>\n",
       "    <tr>\n",
       "      <th>1</th>\n",
       "      <td>0.192606</td>\n",
       "      <td>NaN</td>\n",
       "      <td>NaN</td>\n",
       "    </tr>\n",
       "    <tr>\n",
       "      <th>2</th>\n",
       "      <td>0.309329</td>\n",
       "      <td>NaN</td>\n",
       "      <td>0.481012</td>\n",
       "    </tr>\n",
       "    <tr>\n",
       "      <th>3</th>\n",
       "      <td>0.030148</td>\n",
       "      <td>NaN</td>\n",
       "      <td>0.473001</td>\n",
       "    </tr>\n",
       "    <tr>\n",
       "      <th>4</th>\n",
       "      <td>0.672973</td>\n",
       "      <td>0.561254</td>\n",
       "      <td>0.642846</td>\n",
       "    </tr>\n",
       "    <tr>\n",
       "      <th>5</th>\n",
       "      <td>0.201095</td>\n",
       "      <td>0.937186</td>\n",
       "      <td>0.685778</td>\n",
       "    </tr>\n",
       "    <tr>\n",
       "      <th>6</th>\n",
       "      <td>0.267239</td>\n",
       "      <td>0.131756</td>\n",
       "      <td>0.952688</td>\n",
       "    </tr>\n",
       "  </tbody>\n",
       "</table>\n",
       "</div>"
      ],
      "text/plain": [
       "          0         1         2\n",
       "0  0.849948       NaN       NaN\n",
       "1  0.192606       NaN       NaN\n",
       "2  0.309329       NaN  0.481012\n",
       "3  0.030148       NaN  0.473001\n",
       "4  0.672973  0.561254  0.642846\n",
       "5  0.201095  0.937186  0.685778\n",
       "6  0.267239  0.131756  0.952688"
      ]
     },
     "execution_count": 55,
     "metadata": {},
     "output_type": "execute_result"
    }
   ],
   "source": [
    "df"
   ]
  },
  {
   "cell_type": "code",
   "execution_count": 62,
   "id": "6516cc08",
   "metadata": {},
   "outputs": [
    {
     "data": {
      "text/html": [
       "<div>\n",
       "<style scoped>\n",
       "    .dataframe tbody tr th:only-of-type {\n",
       "        vertical-align: middle;\n",
       "    }\n",
       "\n",
       "    .dataframe tbody tr th {\n",
       "        vertical-align: top;\n",
       "    }\n",
       "\n",
       "    .dataframe thead th {\n",
       "        text-align: right;\n",
       "    }\n",
       "</style>\n",
       "<table border=\"1\" class=\"dataframe\">\n",
       "  <thead>\n",
       "    <tr style=\"text-align: right;\">\n",
       "      <th></th>\n",
       "      <th>0</th>\n",
       "      <th>1</th>\n",
       "      <th>2</th>\n",
       "    </tr>\n",
       "  </thead>\n",
       "  <tbody>\n",
       "    <tr>\n",
       "      <th>4</th>\n",
       "      <td>0.179557</td>\n",
       "      <td>0.067220</td>\n",
       "      <td>0.555981</td>\n",
       "    </tr>\n",
       "    <tr>\n",
       "      <th>5</th>\n",
       "      <td>0.134145</td>\n",
       "      <td>0.055196</td>\n",
       "      <td>0.132323</td>\n",
       "    </tr>\n",
       "    <tr>\n",
       "      <th>6</th>\n",
       "      <td>0.649843</td>\n",
       "      <td>0.945890</td>\n",
       "      <td>0.658331</td>\n",
       "    </tr>\n",
       "  </tbody>\n",
       "</table>\n",
       "</div>"
      ],
      "text/plain": [
       "          0         1         2\n",
       "4  0.179557  0.067220  0.555981\n",
       "5  0.134145  0.055196  0.132323\n",
       "6  0.649843  0.945890  0.658331"
      ]
     },
     "execution_count": 62,
     "metadata": {},
     "output_type": "execute_result"
    }
   ],
   "source": [
    "df.dropna()"
   ]
  },
  {
   "cell_type": "code",
   "execution_count": 63,
   "id": "1dffad45",
   "metadata": {},
   "outputs": [
    {
     "data": {
      "text/html": [
       "<div>\n",
       "<style scoped>\n",
       "    .dataframe tbody tr th:only-of-type {\n",
       "        vertical-align: middle;\n",
       "    }\n",
       "\n",
       "    .dataframe tbody tr th {\n",
       "        vertical-align: top;\n",
       "    }\n",
       "\n",
       "    .dataframe thead th {\n",
       "        text-align: right;\n",
       "    }\n",
       "</style>\n",
       "<table border=\"1\" class=\"dataframe\">\n",
       "  <thead>\n",
       "    <tr style=\"text-align: right;\">\n",
       "      <th></th>\n",
       "      <th>0</th>\n",
       "      <th>1</th>\n",
       "      <th>2</th>\n",
       "    </tr>\n",
       "  </thead>\n",
       "  <tbody>\n",
       "    <tr>\n",
       "      <th>2</th>\n",
       "      <td>0.838671</td>\n",
       "      <td>NaN</td>\n",
       "      <td>0.332038</td>\n",
       "    </tr>\n",
       "    <tr>\n",
       "      <th>3</th>\n",
       "      <td>0.771247</td>\n",
       "      <td>NaN</td>\n",
       "      <td>0.683776</td>\n",
       "    </tr>\n",
       "    <tr>\n",
       "      <th>4</th>\n",
       "      <td>0.179557</td>\n",
       "      <td>0.067220</td>\n",
       "      <td>0.555981</td>\n",
       "    </tr>\n",
       "    <tr>\n",
       "      <th>5</th>\n",
       "      <td>0.134145</td>\n",
       "      <td>0.055196</td>\n",
       "      <td>0.132323</td>\n",
       "    </tr>\n",
       "    <tr>\n",
       "      <th>6</th>\n",
       "      <td>0.649843</td>\n",
       "      <td>0.945890</td>\n",
       "      <td>0.658331</td>\n",
       "    </tr>\n",
       "  </tbody>\n",
       "</table>\n",
       "</div>"
      ],
      "text/plain": [
       "          0         1         2\n",
       "2  0.838671       NaN  0.332038\n",
       "3  0.771247       NaN  0.683776\n",
       "4  0.179557  0.067220  0.555981\n",
       "5  0.134145  0.055196  0.132323\n",
       "6  0.649843  0.945890  0.658331"
      ]
     },
     "execution_count": 63,
     "metadata": {},
     "output_type": "execute_result"
    }
   ],
   "source": [
    "df.dropna(thresh=2)"
   ]
  },
  {
   "cell_type": "markdown",
   "id": "3aa7bfa1",
   "metadata": {},
   "source": [
    "### 7.1.2 결측치 채우기\n",
    "\n",
    "* fillna 메서드를 사용한다\n",
    "* 누락된 값을 새로운 값으로 채운 새로운 객체를 반환한다."
   ]
  },
  {
   "cell_type": "code",
   "execution_count": 59,
   "id": "3b4a925a",
   "metadata": {},
   "outputs": [
    {
     "data": {
      "text/html": [
       "<div>\n",
       "<style scoped>\n",
       "    .dataframe tbody tr th:only-of-type {\n",
       "        vertical-align: middle;\n",
       "    }\n",
       "\n",
       "    .dataframe tbody tr th {\n",
       "        vertical-align: top;\n",
       "    }\n",
       "\n",
       "    .dataframe thead th {\n",
       "        text-align: right;\n",
       "    }\n",
       "</style>\n",
       "<table border=\"1\" class=\"dataframe\">\n",
       "  <thead>\n",
       "    <tr style=\"text-align: right;\">\n",
       "      <th></th>\n",
       "      <th>0</th>\n",
       "      <th>1</th>\n",
       "      <th>2</th>\n",
       "    </tr>\n",
       "  </thead>\n",
       "  <tbody>\n",
       "    <tr>\n",
       "      <th>0</th>\n",
       "      <td>0.849948</td>\n",
       "      <td>0.000000</td>\n",
       "      <td>0.000000</td>\n",
       "    </tr>\n",
       "    <tr>\n",
       "      <th>1</th>\n",
       "      <td>0.192606</td>\n",
       "      <td>0.000000</td>\n",
       "      <td>0.000000</td>\n",
       "    </tr>\n",
       "    <tr>\n",
       "      <th>2</th>\n",
       "      <td>0.309329</td>\n",
       "      <td>0.000000</td>\n",
       "      <td>0.481012</td>\n",
       "    </tr>\n",
       "    <tr>\n",
       "      <th>3</th>\n",
       "      <td>0.030148</td>\n",
       "      <td>0.000000</td>\n",
       "      <td>0.473001</td>\n",
       "    </tr>\n",
       "    <tr>\n",
       "      <th>4</th>\n",
       "      <td>0.672973</td>\n",
       "      <td>0.561254</td>\n",
       "      <td>0.642846</td>\n",
       "    </tr>\n",
       "    <tr>\n",
       "      <th>5</th>\n",
       "      <td>0.201095</td>\n",
       "      <td>0.937186</td>\n",
       "      <td>0.685778</td>\n",
       "    </tr>\n",
       "    <tr>\n",
       "      <th>6</th>\n",
       "      <td>0.267239</td>\n",
       "      <td>0.131756</td>\n",
       "      <td>0.952688</td>\n",
       "    </tr>\n",
       "  </tbody>\n",
       "</table>\n",
       "</div>"
      ],
      "text/plain": [
       "          0         1         2\n",
       "0  0.849948  0.000000  0.000000\n",
       "1  0.192606  0.000000  0.000000\n",
       "2  0.309329  0.000000  0.481012\n",
       "3  0.030148  0.000000  0.473001\n",
       "4  0.672973  0.561254  0.642846\n",
       "5  0.201095  0.937186  0.685778\n",
       "6  0.267239  0.131756  0.952688"
      ]
     },
     "execution_count": 59,
     "metadata": {},
     "output_type": "execute_result"
    }
   ],
   "source": [
    "df.fillna(0)"
   ]
  },
  {
   "cell_type": "code",
   "execution_count": 62,
   "id": "97e5b63e",
   "metadata": {},
   "outputs": [
    {
     "data": {
      "text/html": [
       "<div>\n",
       "<style scoped>\n",
       "    .dataframe tbody tr th:only-of-type {\n",
       "        vertical-align: middle;\n",
       "    }\n",
       "\n",
       "    .dataframe tbody tr th {\n",
       "        vertical-align: top;\n",
       "    }\n",
       "\n",
       "    .dataframe thead th {\n",
       "        text-align: right;\n",
       "    }\n",
       "</style>\n",
       "<table border=\"1\" class=\"dataframe\">\n",
       "  <thead>\n",
       "    <tr style=\"text-align: right;\">\n",
       "      <th></th>\n",
       "      <th>0</th>\n",
       "      <th>1</th>\n",
       "      <th>2</th>\n",
       "    </tr>\n",
       "  </thead>\n",
       "  <tbody>\n",
       "    <tr>\n",
       "      <th>0</th>\n",
       "      <td>0.849948</td>\n",
       "      <td>0.500000</td>\n",
       "      <td>0.000000</td>\n",
       "    </tr>\n",
       "    <tr>\n",
       "      <th>1</th>\n",
       "      <td>0.192606</td>\n",
       "      <td>0.500000</td>\n",
       "      <td>0.000000</td>\n",
       "    </tr>\n",
       "    <tr>\n",
       "      <th>2</th>\n",
       "      <td>0.309329</td>\n",
       "      <td>0.500000</td>\n",
       "      <td>0.481012</td>\n",
       "    </tr>\n",
       "    <tr>\n",
       "      <th>3</th>\n",
       "      <td>0.030148</td>\n",
       "      <td>0.500000</td>\n",
       "      <td>0.473001</td>\n",
       "    </tr>\n",
       "    <tr>\n",
       "      <th>4</th>\n",
       "      <td>0.672973</td>\n",
       "      <td>0.561254</td>\n",
       "      <td>0.642846</td>\n",
       "    </tr>\n",
       "    <tr>\n",
       "      <th>5</th>\n",
       "      <td>0.201095</td>\n",
       "      <td>0.937186</td>\n",
       "      <td>0.685778</td>\n",
       "    </tr>\n",
       "    <tr>\n",
       "      <th>6</th>\n",
       "      <td>0.267239</td>\n",
       "      <td>0.131756</td>\n",
       "      <td>0.952688</td>\n",
       "    </tr>\n",
       "  </tbody>\n",
       "</table>\n",
       "</div>"
      ],
      "text/plain": [
       "          0         1         2\n",
       "0  0.849948  0.500000  0.000000\n",
       "1  0.192606  0.500000  0.000000\n",
       "2  0.309329  0.500000  0.481012\n",
       "3  0.030148  0.500000  0.473001\n",
       "4  0.672973  0.561254  0.642846\n",
       "5  0.201095  0.937186  0.685778\n",
       "6  0.267239  0.131756  0.952688"
      ]
     },
     "execution_count": 62,
     "metadata": {},
     "output_type": "execute_result"
    }
   ],
   "source": [
    "# fillna에 dictionary값을 넘겨 각 컬럼마다 다른 값 채우기\n",
    "df.fillna({1: 0.5, 2: 0}) "
   ]
  },
  {
   "cell_type": "code",
   "execution_count": 63,
   "id": "bc96bfe4",
   "metadata": {},
   "outputs": [],
   "source": [
    "# 새로운 객체 반환없이 기존객체 변경\n",
    "df.fillna(0, inplace=True)"
   ]
  },
  {
   "cell_type": "code",
   "execution_count": 64,
   "id": "9ea1c4fe",
   "metadata": {},
   "outputs": [
    {
     "data": {
      "text/html": [
       "<div>\n",
       "<style scoped>\n",
       "    .dataframe tbody tr th:only-of-type {\n",
       "        vertical-align: middle;\n",
       "    }\n",
       "\n",
       "    .dataframe tbody tr th {\n",
       "        vertical-align: top;\n",
       "    }\n",
       "\n",
       "    .dataframe thead th {\n",
       "        text-align: right;\n",
       "    }\n",
       "</style>\n",
       "<table border=\"1\" class=\"dataframe\">\n",
       "  <thead>\n",
       "    <tr style=\"text-align: right;\">\n",
       "      <th></th>\n",
       "      <th>0</th>\n",
       "      <th>1</th>\n",
       "      <th>2</th>\n",
       "    </tr>\n",
       "  </thead>\n",
       "  <tbody>\n",
       "    <tr>\n",
       "      <th>0</th>\n",
       "      <td>0.849948</td>\n",
       "      <td>0.000000</td>\n",
       "      <td>0.000000</td>\n",
       "    </tr>\n",
       "    <tr>\n",
       "      <th>1</th>\n",
       "      <td>0.192606</td>\n",
       "      <td>0.000000</td>\n",
       "      <td>0.000000</td>\n",
       "    </tr>\n",
       "    <tr>\n",
       "      <th>2</th>\n",
       "      <td>0.309329</td>\n",
       "      <td>0.000000</td>\n",
       "      <td>0.481012</td>\n",
       "    </tr>\n",
       "    <tr>\n",
       "      <th>3</th>\n",
       "      <td>0.030148</td>\n",
       "      <td>0.000000</td>\n",
       "      <td>0.473001</td>\n",
       "    </tr>\n",
       "    <tr>\n",
       "      <th>4</th>\n",
       "      <td>0.672973</td>\n",
       "      <td>0.561254</td>\n",
       "      <td>0.642846</td>\n",
       "    </tr>\n",
       "    <tr>\n",
       "      <th>5</th>\n",
       "      <td>0.201095</td>\n",
       "      <td>0.937186</td>\n",
       "      <td>0.685778</td>\n",
       "    </tr>\n",
       "    <tr>\n",
       "      <th>6</th>\n",
       "      <td>0.267239</td>\n",
       "      <td>0.131756</td>\n",
       "      <td>0.952688</td>\n",
       "    </tr>\n",
       "  </tbody>\n",
       "</table>\n",
       "</div>"
      ],
      "text/plain": [
       "          0         1         2\n",
       "0  0.849948  0.000000  0.000000\n",
       "1  0.192606  0.000000  0.000000\n",
       "2  0.309329  0.000000  0.481012\n",
       "3  0.030148  0.000000  0.473001\n",
       "4  0.672973  0.561254  0.642846\n",
       "5  0.201095  0.937186  0.685778\n",
       "6  0.267239  0.131756  0.952688"
      ]
     },
     "execution_count": 64,
     "metadata": {},
     "output_type": "execute_result"
    }
   ],
   "source": [
    "df"
   ]
  },
  {
   "cell_type": "code",
   "execution_count": 65,
   "id": "ae8f1ff6",
   "metadata": {},
   "outputs": [],
   "source": [
    "df = pd.DataFrame(np.random.randn(6,3))"
   ]
  },
  {
   "cell_type": "code",
   "execution_count": 67,
   "id": "f1feecae",
   "metadata": {},
   "outputs": [],
   "source": [
    "df.iloc[2:, 1] = NA"
   ]
  },
  {
   "cell_type": "code",
   "execution_count": 68,
   "id": "4baea921",
   "metadata": {},
   "outputs": [],
   "source": [
    "df.iloc[4: ,2] = NA"
   ]
  },
  {
   "cell_type": "code",
   "execution_count": 69,
   "id": "948e1432",
   "metadata": {},
   "outputs": [
    {
     "data": {
      "text/html": [
       "<div>\n",
       "<style scoped>\n",
       "    .dataframe tbody tr th:only-of-type {\n",
       "        vertical-align: middle;\n",
       "    }\n",
       "\n",
       "    .dataframe tbody tr th {\n",
       "        vertical-align: top;\n",
       "    }\n",
       "\n",
       "    .dataframe thead th {\n",
       "        text-align: right;\n",
       "    }\n",
       "</style>\n",
       "<table border=\"1\" class=\"dataframe\">\n",
       "  <thead>\n",
       "    <tr style=\"text-align: right;\">\n",
       "      <th></th>\n",
       "      <th>0</th>\n",
       "      <th>1</th>\n",
       "      <th>2</th>\n",
       "    </tr>\n",
       "  </thead>\n",
       "  <tbody>\n",
       "    <tr>\n",
       "      <th>0</th>\n",
       "      <td>0.756351</td>\n",
       "      <td>0.278301</td>\n",
       "      <td>0.491457</td>\n",
       "    </tr>\n",
       "    <tr>\n",
       "      <th>1</th>\n",
       "      <td>-0.115797</td>\n",
       "      <td>-0.489699</td>\n",
       "      <td>-0.416984</td>\n",
       "    </tr>\n",
       "    <tr>\n",
       "      <th>2</th>\n",
       "      <td>0.969470</td>\n",
       "      <td>NaN</td>\n",
       "      <td>0.396248</td>\n",
       "    </tr>\n",
       "    <tr>\n",
       "      <th>3</th>\n",
       "      <td>0.518545</td>\n",
       "      <td>NaN</td>\n",
       "      <td>0.202706</td>\n",
       "    </tr>\n",
       "    <tr>\n",
       "      <th>4</th>\n",
       "      <td>1.209206</td>\n",
       "      <td>NaN</td>\n",
       "      <td>NaN</td>\n",
       "    </tr>\n",
       "    <tr>\n",
       "      <th>5</th>\n",
       "      <td>-0.570478</td>\n",
       "      <td>NaN</td>\n",
       "      <td>NaN</td>\n",
       "    </tr>\n",
       "  </tbody>\n",
       "</table>\n",
       "</div>"
      ],
      "text/plain": [
       "          0         1         2\n",
       "0  0.756351  0.278301  0.491457\n",
       "1 -0.115797 -0.489699 -0.416984\n",
       "2  0.969470       NaN  0.396248\n",
       "3  0.518545       NaN  0.202706\n",
       "4  1.209206       NaN       NaN\n",
       "5 -0.570478       NaN       NaN"
      ]
     },
     "execution_count": 69,
     "metadata": {},
     "output_type": "execute_result"
    }
   ],
   "source": [
    "df"
   ]
  },
  {
   "cell_type": "code",
   "execution_count": 70,
   "id": "f1212ef9",
   "metadata": {},
   "outputs": [
    {
     "data": {
      "text/html": [
       "<div>\n",
       "<style scoped>\n",
       "    .dataframe tbody tr th:only-of-type {\n",
       "        vertical-align: middle;\n",
       "    }\n",
       "\n",
       "    .dataframe tbody tr th {\n",
       "        vertical-align: top;\n",
       "    }\n",
       "\n",
       "    .dataframe thead th {\n",
       "        text-align: right;\n",
       "    }\n",
       "</style>\n",
       "<table border=\"1\" class=\"dataframe\">\n",
       "  <thead>\n",
       "    <tr style=\"text-align: right;\">\n",
       "      <th></th>\n",
       "      <th>0</th>\n",
       "      <th>1</th>\n",
       "      <th>2</th>\n",
       "    </tr>\n",
       "  </thead>\n",
       "  <tbody>\n",
       "    <tr>\n",
       "      <th>0</th>\n",
       "      <td>0.756351</td>\n",
       "      <td>0.278301</td>\n",
       "      <td>0.491457</td>\n",
       "    </tr>\n",
       "    <tr>\n",
       "      <th>1</th>\n",
       "      <td>-0.115797</td>\n",
       "      <td>-0.489699</td>\n",
       "      <td>-0.416984</td>\n",
       "    </tr>\n",
       "    <tr>\n",
       "      <th>2</th>\n",
       "      <td>0.969470</td>\n",
       "      <td>-0.489699</td>\n",
       "      <td>0.396248</td>\n",
       "    </tr>\n",
       "    <tr>\n",
       "      <th>3</th>\n",
       "      <td>0.518545</td>\n",
       "      <td>-0.489699</td>\n",
       "      <td>0.202706</td>\n",
       "    </tr>\n",
       "    <tr>\n",
       "      <th>4</th>\n",
       "      <td>1.209206</td>\n",
       "      <td>-0.489699</td>\n",
       "      <td>0.202706</td>\n",
       "    </tr>\n",
       "    <tr>\n",
       "      <th>5</th>\n",
       "      <td>-0.570478</td>\n",
       "      <td>-0.489699</td>\n",
       "      <td>0.202706</td>\n",
       "    </tr>\n",
       "  </tbody>\n",
       "</table>\n",
       "</div>"
      ],
      "text/plain": [
       "          0         1         2\n",
       "0  0.756351  0.278301  0.491457\n",
       "1 -0.115797 -0.489699 -0.416984\n",
       "2  0.969470 -0.489699  0.396248\n",
       "3  0.518545 -0.489699  0.202706\n",
       "4  1.209206 -0.489699  0.202706\n",
       "5 -0.570478 -0.489699  0.202706"
      ]
     },
     "execution_count": 70,
     "metadata": {},
     "output_type": "execute_result"
    }
   ],
   "source": [
    "# 보간메서드 사용   \n",
    "df.fillna(method='ffill')"
   ]
  },
  {
   "cell_type": "code",
   "execution_count": 77,
   "id": "7c9d050c",
   "metadata": {},
   "outputs": [
    {
     "data": {
      "text/html": [
       "<div>\n",
       "<style scoped>\n",
       "    .dataframe tbody tr th:only-of-type {\n",
       "        vertical-align: middle;\n",
       "    }\n",
       "\n",
       "    .dataframe tbody tr th {\n",
       "        vertical-align: top;\n",
       "    }\n",
       "\n",
       "    .dataframe thead th {\n",
       "        text-align: right;\n",
       "    }\n",
       "</style>\n",
       "<table border=\"1\" class=\"dataframe\">\n",
       "  <thead>\n",
       "    <tr style=\"text-align: right;\">\n",
       "      <th></th>\n",
       "      <th>0</th>\n",
       "      <th>1</th>\n",
       "      <th>2</th>\n",
       "    </tr>\n",
       "  </thead>\n",
       "  <tbody>\n",
       "    <tr>\n",
       "      <th>0</th>\n",
       "      <td>0.756351</td>\n",
       "      <td>0.278301</td>\n",
       "      <td>0.491457</td>\n",
       "    </tr>\n",
       "    <tr>\n",
       "      <th>1</th>\n",
       "      <td>-0.115797</td>\n",
       "      <td>-0.489699</td>\n",
       "      <td>-0.416984</td>\n",
       "    </tr>\n",
       "    <tr>\n",
       "      <th>2</th>\n",
       "      <td>0.969470</td>\n",
       "      <td>-0.489699</td>\n",
       "      <td>0.396248</td>\n",
       "    </tr>\n",
       "    <tr>\n",
       "      <th>3</th>\n",
       "      <td>0.518545</td>\n",
       "      <td>NaN</td>\n",
       "      <td>0.202706</td>\n",
       "    </tr>\n",
       "    <tr>\n",
       "      <th>4</th>\n",
       "      <td>1.209206</td>\n",
       "      <td>NaN</td>\n",
       "      <td>0.202706</td>\n",
       "    </tr>\n",
       "    <tr>\n",
       "      <th>5</th>\n",
       "      <td>-0.570478</td>\n",
       "      <td>NaN</td>\n",
       "      <td>NaN</td>\n",
       "    </tr>\n",
       "  </tbody>\n",
       "</table>\n",
       "</div>"
      ],
      "text/plain": [
       "          0         1         2\n",
       "0  0.756351  0.278301  0.491457\n",
       "1 -0.115797 -0.489699 -0.416984\n",
       "2  0.969470 -0.489699  0.396248\n",
       "3  0.518545       NaN  0.202706\n",
       "4  1.209206       NaN  0.202706\n",
       "5 -0.570478       NaN       NaN"
      ]
     },
     "execution_count": 77,
     "metadata": {},
     "output_type": "execute_result"
    }
   ],
   "source": [
    "df.fillna(method='ffill', limit=1) # NaN 1개만적용"
   ]
  },
  {
   "cell_type": "code",
   "execution_count": 76,
   "id": "a92ac801",
   "metadata": {},
   "outputs": [
    {
     "data": {
      "text/html": [
       "<div>\n",
       "<style scoped>\n",
       "    .dataframe tbody tr th:only-of-type {\n",
       "        vertical-align: middle;\n",
       "    }\n",
       "\n",
       "    .dataframe tbody tr th {\n",
       "        vertical-align: top;\n",
       "    }\n",
       "\n",
       "    .dataframe thead th {\n",
       "        text-align: right;\n",
       "    }\n",
       "</style>\n",
       "<table border=\"1\" class=\"dataframe\">\n",
       "  <thead>\n",
       "    <tr style=\"text-align: right;\">\n",
       "      <th></th>\n",
       "      <th>0</th>\n",
       "      <th>1</th>\n",
       "      <th>2</th>\n",
       "    </tr>\n",
       "  </thead>\n",
       "  <tbody>\n",
       "    <tr>\n",
       "      <th>0</th>\n",
       "      <td>0.756351</td>\n",
       "      <td>0.278301</td>\n",
       "      <td>0.491457</td>\n",
       "    </tr>\n",
       "    <tr>\n",
       "      <th>1</th>\n",
       "      <td>-0.115797</td>\n",
       "      <td>-0.489699</td>\n",
       "      <td>-0.416984</td>\n",
       "    </tr>\n",
       "    <tr>\n",
       "      <th>2</th>\n",
       "      <td>0.969470</td>\n",
       "      <td>-0.489699</td>\n",
       "      <td>0.396248</td>\n",
       "    </tr>\n",
       "    <tr>\n",
       "      <th>3</th>\n",
       "      <td>0.518545</td>\n",
       "      <td>-0.489699</td>\n",
       "      <td>0.202706</td>\n",
       "    </tr>\n",
       "    <tr>\n",
       "      <th>4</th>\n",
       "      <td>1.209206</td>\n",
       "      <td>NaN</td>\n",
       "      <td>0.202706</td>\n",
       "    </tr>\n",
       "    <tr>\n",
       "      <th>5</th>\n",
       "      <td>-0.570478</td>\n",
       "      <td>NaN</td>\n",
       "      <td>0.202706</td>\n",
       "    </tr>\n",
       "  </tbody>\n",
       "</table>\n",
       "</div>"
      ],
      "text/plain": [
       "          0         1         2\n",
       "0  0.756351  0.278301  0.491457\n",
       "1 -0.115797 -0.489699 -0.416984\n",
       "2  0.969470 -0.489699  0.396248\n",
       "3  0.518545 -0.489699  0.202706\n",
       "4  1.209206       NaN  0.202706\n",
       "5 -0.570478       NaN  0.202706"
      ]
     },
     "execution_count": 76,
     "metadata": {},
     "output_type": "execute_result"
    }
   ],
   "source": [
    "df.fillna(method='ffill', limit=2) # NaN 2개만적용"
   ]
  },
  {
   "cell_type": "code",
   "execution_count": 80,
   "id": "6416922b",
   "metadata": {},
   "outputs": [
    {
     "data": {
      "text/html": [
       "<div>\n",
       "<style scoped>\n",
       "    .dataframe tbody tr th:only-of-type {\n",
       "        vertical-align: middle;\n",
       "    }\n",
       "\n",
       "    .dataframe tbody tr th {\n",
       "        vertical-align: top;\n",
       "    }\n",
       "\n",
       "    .dataframe thead th {\n",
       "        text-align: right;\n",
       "    }\n",
       "</style>\n",
       "<table border=\"1\" class=\"dataframe\">\n",
       "  <thead>\n",
       "    <tr style=\"text-align: right;\">\n",
       "      <th></th>\n",
       "      <th>0</th>\n",
       "      <th>1</th>\n",
       "      <th>2</th>\n",
       "    </tr>\n",
       "  </thead>\n",
       "  <tbody>\n",
       "    <tr>\n",
       "      <th>0</th>\n",
       "      <td>0.756351</td>\n",
       "      <td>0.278301</td>\n",
       "      <td>0.491457</td>\n",
       "    </tr>\n",
       "    <tr>\n",
       "      <th>1</th>\n",
       "      <td>-0.115797</td>\n",
       "      <td>-0.489699</td>\n",
       "      <td>-0.416984</td>\n",
       "    </tr>\n",
       "    <tr>\n",
       "      <th>2</th>\n",
       "      <td>0.969470</td>\n",
       "      <td>-0.489699</td>\n",
       "      <td>0.396248</td>\n",
       "    </tr>\n",
       "    <tr>\n",
       "      <th>3</th>\n",
       "      <td>0.518545</td>\n",
       "      <td>-0.489699</td>\n",
       "      <td>0.202706</td>\n",
       "    </tr>\n",
       "    <tr>\n",
       "      <th>4</th>\n",
       "      <td>1.209206</td>\n",
       "      <td>-0.489699</td>\n",
       "      <td>0.202706</td>\n",
       "    </tr>\n",
       "    <tr>\n",
       "      <th>5</th>\n",
       "      <td>-0.570478</td>\n",
       "      <td>NaN</td>\n",
       "      <td>0.202706</td>\n",
       "    </tr>\n",
       "  </tbody>\n",
       "</table>\n",
       "</div>"
      ],
      "text/plain": [
       "          0         1         2\n",
       "0  0.756351  0.278301  0.491457\n",
       "1 -0.115797 -0.489699 -0.416984\n",
       "2  0.969470 -0.489699  0.396248\n",
       "3  0.518545 -0.489699  0.202706\n",
       "4  1.209206 -0.489699  0.202706\n",
       "5 -0.570478       NaN  0.202706"
      ]
     },
     "execution_count": 80,
     "metadata": {},
     "output_type": "execute_result"
    }
   ],
   "source": [
    "df.fillna(method='ffill', limit=3) # NaN 3개만적용"
   ]
  },
  {
   "cell_type": "code",
   "execution_count": 81,
   "id": "82293797",
   "metadata": {},
   "outputs": [
    {
     "data": {
      "text/html": [
       "<div>\n",
       "<style scoped>\n",
       "    .dataframe tbody tr th:only-of-type {\n",
       "        vertical-align: middle;\n",
       "    }\n",
       "\n",
       "    .dataframe tbody tr th {\n",
       "        vertical-align: top;\n",
       "    }\n",
       "\n",
       "    .dataframe thead th {\n",
       "        text-align: right;\n",
       "    }\n",
       "</style>\n",
       "<table border=\"1\" class=\"dataframe\">\n",
       "  <thead>\n",
       "    <tr style=\"text-align: right;\">\n",
       "      <th></th>\n",
       "      <th>0</th>\n",
       "      <th>1</th>\n",
       "      <th>2</th>\n",
       "    </tr>\n",
       "  </thead>\n",
       "  <tbody>\n",
       "    <tr>\n",
       "      <th>0</th>\n",
       "      <td>0.756351</td>\n",
       "      <td>0.278301</td>\n",
       "      <td>0.491457</td>\n",
       "    </tr>\n",
       "    <tr>\n",
       "      <th>1</th>\n",
       "      <td>-0.115797</td>\n",
       "      <td>-0.489699</td>\n",
       "      <td>-0.416984</td>\n",
       "    </tr>\n",
       "    <tr>\n",
       "      <th>2</th>\n",
       "      <td>0.969470</td>\n",
       "      <td>-0.489699</td>\n",
       "      <td>0.396248</td>\n",
       "    </tr>\n",
       "    <tr>\n",
       "      <th>3</th>\n",
       "      <td>0.518545</td>\n",
       "      <td>-0.489699</td>\n",
       "      <td>0.202706</td>\n",
       "    </tr>\n",
       "    <tr>\n",
       "      <th>4</th>\n",
       "      <td>1.209206</td>\n",
       "      <td>-0.489699</td>\n",
       "      <td>0.202706</td>\n",
       "    </tr>\n",
       "    <tr>\n",
       "      <th>5</th>\n",
       "      <td>-0.570478</td>\n",
       "      <td>-0.489699</td>\n",
       "      <td>0.202706</td>\n",
       "    </tr>\n",
       "  </tbody>\n",
       "</table>\n",
       "</div>"
      ],
      "text/plain": [
       "          0         1         2\n",
       "0  0.756351  0.278301  0.491457\n",
       "1 -0.115797 -0.489699 -0.416984\n",
       "2  0.969470 -0.489699  0.396248\n",
       "3  0.518545 -0.489699  0.202706\n",
       "4  1.209206 -0.489699  0.202706\n",
       "5 -0.570478 -0.489699  0.202706"
      ]
     },
     "execution_count": 81,
     "metadata": {},
     "output_type": "execute_result"
    }
   ],
   "source": [
    "df.fillna(method='ffill', limit=4) # NaN 4개만적용"
   ]
  },
  {
   "cell_type": "code",
   "execution_count": 83,
   "id": "293c2b80",
   "metadata": {},
   "outputs": [
    {
     "data": {
      "text/plain": [
       "0    1.000000\n",
       "1    3.833333\n",
       "2    3.500000\n",
       "3    3.833333\n",
       "4    7.000000\n",
       "dtype: float64"
      ]
     },
     "execution_count": 83,
     "metadata": {},
     "output_type": "execute_result"
    }
   ],
   "source": [
    "# 결측치를 평균값으로 대체하기\n",
    "data = pd.Series([1., NA, 3.5, NA, 7])\n",
    "data.fillna(data.mean())"
   ]
  },
  {
   "cell_type": "markdown",
   "id": "aefb9d67",
   "metadata": {},
   "source": [
    "## 7.2 데이터 변형\n",
    "-----\n",
    "\n",
    "### 7.2.1 중복 제거하기"
   ]
  },
  {
   "cell_type": "code",
   "execution_count": 66,
   "id": "3714e48a",
   "metadata": {},
   "outputs": [],
   "source": [
    "# 데이터의 중복 발생\n",
    "data = pd.DataFrame({'k1':['one', 'two'] * 3 + ['two'],\n",
    "                     'k2': [1, 1, 2, 3, 3, 4, 4]})"
   ]
  },
  {
   "cell_type": "code",
   "execution_count": 67,
   "id": "06b54d2c",
   "metadata": {},
   "outputs": [
    {
     "data": {
      "text/html": [
       "<div>\n",
       "<style scoped>\n",
       "    .dataframe tbody tr th:only-of-type {\n",
       "        vertical-align: middle;\n",
       "    }\n",
       "\n",
       "    .dataframe tbody tr th {\n",
       "        vertical-align: top;\n",
       "    }\n",
       "\n",
       "    .dataframe thead th {\n",
       "        text-align: right;\n",
       "    }\n",
       "</style>\n",
       "<table border=\"1\" class=\"dataframe\">\n",
       "  <thead>\n",
       "    <tr style=\"text-align: right;\">\n",
       "      <th></th>\n",
       "      <th>k1</th>\n",
       "      <th>k2</th>\n",
       "    </tr>\n",
       "  </thead>\n",
       "  <tbody>\n",
       "    <tr>\n",
       "      <th>0</th>\n",
       "      <td>one</td>\n",
       "      <td>1</td>\n",
       "    </tr>\n",
       "    <tr>\n",
       "      <th>1</th>\n",
       "      <td>two</td>\n",
       "      <td>1</td>\n",
       "    </tr>\n",
       "    <tr>\n",
       "      <th>2</th>\n",
       "      <td>one</td>\n",
       "      <td>2</td>\n",
       "    </tr>\n",
       "    <tr>\n",
       "      <th>3</th>\n",
       "      <td>two</td>\n",
       "      <td>3</td>\n",
       "    </tr>\n",
       "    <tr>\n",
       "      <th>4</th>\n",
       "      <td>one</td>\n",
       "      <td>3</td>\n",
       "    </tr>\n",
       "    <tr>\n",
       "      <th>5</th>\n",
       "      <td>two</td>\n",
       "      <td>4</td>\n",
       "    </tr>\n",
       "    <tr>\n",
       "      <th>6</th>\n",
       "      <td>two</td>\n",
       "      <td>4</td>\n",
       "    </tr>\n",
       "  </tbody>\n",
       "</table>\n",
       "</div>"
      ],
      "text/plain": [
       "    k1  k2\n",
       "0  one   1\n",
       "1  two   1\n",
       "2  one   2\n",
       "3  two   3\n",
       "4  one   3\n",
       "5  two   4\n",
       "6  two   4"
      ]
     },
     "execution_count": 67,
     "metadata": {},
     "output_type": "execute_result"
    }
   ],
   "source": [
    "data"
   ]
  },
  {
   "cell_type": "code",
   "execution_count": 68,
   "id": "6fa238fc",
   "metadata": {},
   "outputs": [
    {
     "data": {
      "text/plain": [
       "0    False\n",
       "1    False\n",
       "2    False\n",
       "3    False\n",
       "4    False\n",
       "5    False\n",
       "6     True\n",
       "dtype: bool"
      ]
     },
     "execution_count": 68,
     "metadata": {},
     "output_type": "execute_result"
    }
   ],
   "source": [
    "# 중복된 row 찾기\n",
    "data.duplicated()"
   ]
  },
  {
   "cell_type": "code",
   "execution_count": 69,
   "id": "3cbf62c6",
   "metadata": {},
   "outputs": [
    {
     "data": {
      "text/html": [
       "<div>\n",
       "<style scoped>\n",
       "    .dataframe tbody tr th:only-of-type {\n",
       "        vertical-align: middle;\n",
       "    }\n",
       "\n",
       "    .dataframe tbody tr th {\n",
       "        vertical-align: top;\n",
       "    }\n",
       "\n",
       "    .dataframe thead th {\n",
       "        text-align: right;\n",
       "    }\n",
       "</style>\n",
       "<table border=\"1\" class=\"dataframe\">\n",
       "  <thead>\n",
       "    <tr style=\"text-align: right;\">\n",
       "      <th></th>\n",
       "      <th>k1</th>\n",
       "      <th>k2</th>\n",
       "    </tr>\n",
       "  </thead>\n",
       "  <tbody>\n",
       "    <tr>\n",
       "      <th>0</th>\n",
       "      <td>one</td>\n",
       "      <td>1</td>\n",
       "    </tr>\n",
       "    <tr>\n",
       "      <th>1</th>\n",
       "      <td>two</td>\n",
       "      <td>1</td>\n",
       "    </tr>\n",
       "    <tr>\n",
       "      <th>2</th>\n",
       "      <td>one</td>\n",
       "      <td>2</td>\n",
       "    </tr>\n",
       "    <tr>\n",
       "      <th>3</th>\n",
       "      <td>two</td>\n",
       "      <td>3</td>\n",
       "    </tr>\n",
       "    <tr>\n",
       "      <th>4</th>\n",
       "      <td>one</td>\n",
       "      <td>3</td>\n",
       "    </tr>\n",
       "    <tr>\n",
       "      <th>5</th>\n",
       "      <td>two</td>\n",
       "      <td>4</td>\n",
       "    </tr>\n",
       "  </tbody>\n",
       "</table>\n",
       "</div>"
      ],
      "text/plain": [
       "    k1  k2\n",
       "0  one   1\n",
       "1  two   1\n",
       "2  one   2\n",
       "3  two   3\n",
       "4  one   3\n",
       "5  two   4"
      ]
     },
     "execution_count": 69,
     "metadata": {},
     "output_type": "execute_result"
    }
   ],
   "source": [
    "# duplicated에서 False인 행만있는 DataFrame 반환\n",
    "data.drop_duplicates()"
   ]
  },
  {
   "cell_type": "code",
   "execution_count": 70,
   "id": "2ec2c865",
   "metadata": {},
   "outputs": [
    {
     "data": {
      "text/html": [
       "<div>\n",
       "<style scoped>\n",
       "    .dataframe tbody tr th:only-of-type {\n",
       "        vertical-align: middle;\n",
       "    }\n",
       "\n",
       "    .dataframe tbody tr th {\n",
       "        vertical-align: top;\n",
       "    }\n",
       "\n",
       "    .dataframe thead th {\n",
       "        text-align: right;\n",
       "    }\n",
       "</style>\n",
       "<table border=\"1\" class=\"dataframe\">\n",
       "  <thead>\n",
       "    <tr style=\"text-align: right;\">\n",
       "      <th></th>\n",
       "      <th>k1</th>\n",
       "      <th>k2</th>\n",
       "    </tr>\n",
       "  </thead>\n",
       "  <tbody>\n",
       "    <tr>\n",
       "      <th>0</th>\n",
       "      <td>one</td>\n",
       "      <td>1</td>\n",
       "    </tr>\n",
       "    <tr>\n",
       "      <th>1</th>\n",
       "      <td>two</td>\n",
       "      <td>1</td>\n",
       "    </tr>\n",
       "    <tr>\n",
       "      <th>2</th>\n",
       "      <td>one</td>\n",
       "      <td>2</td>\n",
       "    </tr>\n",
       "    <tr>\n",
       "      <th>3</th>\n",
       "      <td>two</td>\n",
       "      <td>3</td>\n",
       "    </tr>\n",
       "    <tr>\n",
       "      <th>4</th>\n",
       "      <td>one</td>\n",
       "      <td>3</td>\n",
       "    </tr>\n",
       "    <tr>\n",
       "      <th>5</th>\n",
       "      <td>two</td>\n",
       "      <td>4</td>\n",
       "    </tr>\n",
       "    <tr>\n",
       "      <th>6</th>\n",
       "      <td>two</td>\n",
       "      <td>4</td>\n",
       "    </tr>\n",
       "  </tbody>\n",
       "</table>\n",
       "</div>"
      ],
      "text/plain": [
       "    k1  k2\n",
       "0  one   1\n",
       "1  two   1\n",
       "2  one   2\n",
       "3  two   3\n",
       "4  one   3\n",
       "5  two   4\n",
       "6  two   4"
      ]
     },
     "execution_count": 70,
     "metadata": {},
     "output_type": "execute_result"
    }
   ],
   "source": [
    "# 기존객체의 값은 그대로이다 = 새로운 객체 반환\n",
    "data"
   ]
  },
  {
   "cell_type": "markdown",
   "id": "c4274146",
   "metadata": {},
   "source": [
    "drop_duplicates와 duplicated는 모든 컬럼에 적용된다(기본)"
   ]
  },
  {
   "cell_type": "code",
   "execution_count": 71,
   "id": "06e4639f",
   "metadata": {},
   "outputs": [],
   "source": [
    "# 중복을 찾아내기 위한 부분합을 지정해주기\n",
    "data['v1'] = range(7)"
   ]
  },
  {
   "cell_type": "code",
   "execution_count": 72,
   "id": "586fe584",
   "metadata": {},
   "outputs": [
    {
     "data": {
      "text/html": [
       "<div>\n",
       "<style scoped>\n",
       "    .dataframe tbody tr th:only-of-type {\n",
       "        vertical-align: middle;\n",
       "    }\n",
       "\n",
       "    .dataframe tbody tr th {\n",
       "        vertical-align: top;\n",
       "    }\n",
       "\n",
       "    .dataframe thead th {\n",
       "        text-align: right;\n",
       "    }\n",
       "</style>\n",
       "<table border=\"1\" class=\"dataframe\">\n",
       "  <thead>\n",
       "    <tr style=\"text-align: right;\">\n",
       "      <th></th>\n",
       "      <th>k1</th>\n",
       "      <th>k2</th>\n",
       "      <th>v1</th>\n",
       "    </tr>\n",
       "  </thead>\n",
       "  <tbody>\n",
       "    <tr>\n",
       "      <th>0</th>\n",
       "      <td>one</td>\n",
       "      <td>1</td>\n",
       "      <td>0</td>\n",
       "    </tr>\n",
       "    <tr>\n",
       "      <th>1</th>\n",
       "      <td>two</td>\n",
       "      <td>1</td>\n",
       "      <td>1</td>\n",
       "    </tr>\n",
       "  </tbody>\n",
       "</table>\n",
       "</div>"
      ],
      "text/plain": [
       "    k1  k2  v1\n",
       "0  one   1   0\n",
       "1  two   1   1"
      ]
     },
     "execution_count": 72,
     "metadata": {},
     "output_type": "execute_result"
    }
   ],
   "source": [
    "data.drop_duplicates(['k1'])"
   ]
  },
  {
   "cell_type": "code",
   "execution_count": 75,
   "id": "3178e04b",
   "metadata": {},
   "outputs": [
    {
     "data": {
      "text/html": [
       "<div>\n",
       "<style scoped>\n",
       "    .dataframe tbody tr th:only-of-type {\n",
       "        vertical-align: middle;\n",
       "    }\n",
       "\n",
       "    .dataframe tbody tr th {\n",
       "        vertical-align: top;\n",
       "    }\n",
       "\n",
       "    .dataframe thead th {\n",
       "        text-align: right;\n",
       "    }\n",
       "</style>\n",
       "<table border=\"1\" class=\"dataframe\">\n",
       "  <thead>\n",
       "    <tr style=\"text-align: right;\">\n",
       "      <th></th>\n",
       "      <th>k1</th>\n",
       "      <th>k2</th>\n",
       "      <th>v1</th>\n",
       "    </tr>\n",
       "  </thead>\n",
       "  <tbody>\n",
       "    <tr>\n",
       "      <th>0</th>\n",
       "      <td>one</td>\n",
       "      <td>1</td>\n",
       "      <td>0</td>\n",
       "    </tr>\n",
       "    <tr>\n",
       "      <th>1</th>\n",
       "      <td>two</td>\n",
       "      <td>1</td>\n",
       "      <td>1</td>\n",
       "    </tr>\n",
       "    <tr>\n",
       "      <th>2</th>\n",
       "      <td>one</td>\n",
       "      <td>2</td>\n",
       "      <td>2</td>\n",
       "    </tr>\n",
       "    <tr>\n",
       "      <th>3</th>\n",
       "      <td>two</td>\n",
       "      <td>3</td>\n",
       "      <td>3</td>\n",
       "    </tr>\n",
       "    <tr>\n",
       "      <th>4</th>\n",
       "      <td>one</td>\n",
       "      <td>3</td>\n",
       "      <td>4</td>\n",
       "    </tr>\n",
       "    <tr>\n",
       "      <th>6</th>\n",
       "      <td>two</td>\n",
       "      <td>4</td>\n",
       "      <td>6</td>\n",
       "    </tr>\n",
       "  </tbody>\n",
       "</table>\n",
       "</div>"
      ],
      "text/plain": [
       "    k1  k2  v1\n",
       "0  one   1   0\n",
       "1  two   1   1\n",
       "2  one   2   2\n",
       "3  two   3   3\n",
       "4  one   3   4\n",
       "6  two   4   6"
      ]
     },
     "execution_count": 75,
     "metadata": {},
     "output_type": "execute_result"
    }
   ],
   "source": [
    "data.drop_duplicates(['k1', 'k2'], keep='last')"
   ]
  },
  {
   "cell_type": "markdown",
   "id": "6373d918",
   "metadata": {},
   "source": [
    "### 7.2.2 함수, 매핑을 이용한 데이터 변형"
   ]
  },
  {
   "cell_type": "code",
   "execution_count": 118,
   "id": "75fb9db6",
   "metadata": {},
   "outputs": [],
   "source": [
    "# 수집한 육류에 대한 정보 \n",
    "data = pd.DataFrame({'food': ['bacon', 'pulled pork' ,'bacon',\n",
    "                             'Pastrami', 'corned beef', 'Bacon',\n",
    "                             'pastrami', 'honey ham', 'nova lox'],\n",
    "                      'ounces': [4, 3 , 12, 6, 7.5, 8, 3, 5, 6]})"
   ]
  },
  {
   "cell_type": "code",
   "execution_count": 119,
   "id": "35a153ad",
   "metadata": {},
   "outputs": [
    {
     "data": {
      "text/html": [
       "<div>\n",
       "<style scoped>\n",
       "    .dataframe tbody tr th:only-of-type {\n",
       "        vertical-align: middle;\n",
       "    }\n",
       "\n",
       "    .dataframe tbody tr th {\n",
       "        vertical-align: top;\n",
       "    }\n",
       "\n",
       "    .dataframe thead th {\n",
       "        text-align: right;\n",
       "    }\n",
       "</style>\n",
       "<table border=\"1\" class=\"dataframe\">\n",
       "  <thead>\n",
       "    <tr style=\"text-align: right;\">\n",
       "      <th></th>\n",
       "      <th>food</th>\n",
       "      <th>ounces</th>\n",
       "    </tr>\n",
       "  </thead>\n",
       "  <tbody>\n",
       "    <tr>\n",
       "      <th>0</th>\n",
       "      <td>bacon</td>\n",
       "      <td>4.0</td>\n",
       "    </tr>\n",
       "    <tr>\n",
       "      <th>1</th>\n",
       "      <td>pulled pork</td>\n",
       "      <td>3.0</td>\n",
       "    </tr>\n",
       "    <tr>\n",
       "      <th>2</th>\n",
       "      <td>bacon</td>\n",
       "      <td>12.0</td>\n",
       "    </tr>\n",
       "    <tr>\n",
       "      <th>3</th>\n",
       "      <td>Pastrami</td>\n",
       "      <td>6.0</td>\n",
       "    </tr>\n",
       "    <tr>\n",
       "      <th>4</th>\n",
       "      <td>corned beef</td>\n",
       "      <td>7.5</td>\n",
       "    </tr>\n",
       "    <tr>\n",
       "      <th>5</th>\n",
       "      <td>Bacon</td>\n",
       "      <td>8.0</td>\n",
       "    </tr>\n",
       "    <tr>\n",
       "      <th>6</th>\n",
       "      <td>pastrami</td>\n",
       "      <td>3.0</td>\n",
       "    </tr>\n",
       "    <tr>\n",
       "      <th>7</th>\n",
       "      <td>honey ham</td>\n",
       "      <td>5.0</td>\n",
       "    </tr>\n",
       "    <tr>\n",
       "      <th>8</th>\n",
       "      <td>nova lox</td>\n",
       "      <td>6.0</td>\n",
       "    </tr>\n",
       "  </tbody>\n",
       "</table>\n",
       "</div>"
      ],
      "text/plain": [
       "          food  ounces\n",
       "0        bacon     4.0\n",
       "1  pulled pork     3.0\n",
       "2        bacon    12.0\n",
       "3     Pastrami     6.0\n",
       "4  corned beef     7.5\n",
       "5        Bacon     8.0\n",
       "6     pastrami     3.0\n",
       "7    honey ham     5.0\n",
       "8     nova lox     6.0"
      ]
     },
     "execution_count": 119,
     "metadata": {},
     "output_type": "execute_result"
    }
   ],
   "source": [
    "data"
   ]
  },
  {
   "cell_type": "code",
   "execution_count": 128,
   "id": "5853cc29",
   "metadata": {},
   "outputs": [],
   "source": [
    "# 각 육류별 동물\n",
    "meat_to_animal = {\n",
    "    'bacon': 'pig',\n",
    "    'pulled pork': 'pig',\n",
    "    'pastrami': 'cow',\n",
    "    'corned beef': 'cow',\n",
    "    'honey ham': 'pig',\n",
    "    'nova lox': 'salmon',\n",
    "}"
   ]
  },
  {
   "cell_type": "code",
   "execution_count": 129,
   "id": "cc43f624",
   "metadata": {},
   "outputs": [],
   "source": [
    "# 모든 요소를 소문자로 변경\n",
    "lowercased = data['food'].str.lower()"
   ]
  },
  {
   "cell_type": "code",
   "execution_count": 130,
   "id": "24df6279",
   "metadata": {},
   "outputs": [
    {
     "data": {
      "text/plain": [
       "0          bacon\n",
       "1    pulled pork\n",
       "2          bacon\n",
       "3       pastrami\n",
       "4    corned beef\n",
       "5          bacon\n",
       "6       pastrami\n",
       "7      honey ham\n",
       "8       nova lox\n",
       "Name: food, dtype: object"
      ]
     },
     "execution_count": 130,
     "metadata": {},
     "output_type": "execute_result"
    }
   ],
   "source": [
    "lowercased"
   ]
  },
  {
   "cell_type": "code",
   "execution_count": 131,
   "id": "52466f1e",
   "metadata": {},
   "outputs": [],
   "source": [
    "# map을 이용하면 편리하게 lowercaed의 각 행을 meat_to_animal의 밸류값과 매칭되는 값으로 바꾼 새 컬럼을 만들 수 있다.\n",
    "data['animal'] = lowercased.map(meat_to_animal)"
   ]
  },
  {
   "cell_type": "code",
   "execution_count": 132,
   "id": "8555d160",
   "metadata": {},
   "outputs": [
    {
     "data": {
      "text/html": [
       "<div>\n",
       "<style scoped>\n",
       "    .dataframe tbody tr th:only-of-type {\n",
       "        vertical-align: middle;\n",
       "    }\n",
       "\n",
       "    .dataframe tbody tr th {\n",
       "        vertical-align: top;\n",
       "    }\n",
       "\n",
       "    .dataframe thead th {\n",
       "        text-align: right;\n",
       "    }\n",
       "</style>\n",
       "<table border=\"1\" class=\"dataframe\">\n",
       "  <thead>\n",
       "    <tr style=\"text-align: right;\">\n",
       "      <th></th>\n",
       "      <th>food</th>\n",
       "      <th>ounces</th>\n",
       "      <th>animal</th>\n",
       "    </tr>\n",
       "  </thead>\n",
       "  <tbody>\n",
       "    <tr>\n",
       "      <th>0</th>\n",
       "      <td>bacon</td>\n",
       "      <td>4.0</td>\n",
       "      <td>pig</td>\n",
       "    </tr>\n",
       "    <tr>\n",
       "      <th>1</th>\n",
       "      <td>pulled pork</td>\n",
       "      <td>3.0</td>\n",
       "      <td>pig</td>\n",
       "    </tr>\n",
       "    <tr>\n",
       "      <th>2</th>\n",
       "      <td>bacon</td>\n",
       "      <td>12.0</td>\n",
       "      <td>pig</td>\n",
       "    </tr>\n",
       "    <tr>\n",
       "      <th>3</th>\n",
       "      <td>Pastrami</td>\n",
       "      <td>6.0</td>\n",
       "      <td>cow</td>\n",
       "    </tr>\n",
       "    <tr>\n",
       "      <th>4</th>\n",
       "      <td>corned beef</td>\n",
       "      <td>7.5</td>\n",
       "      <td>cow</td>\n",
       "    </tr>\n",
       "    <tr>\n",
       "      <th>5</th>\n",
       "      <td>Bacon</td>\n",
       "      <td>8.0</td>\n",
       "      <td>pig</td>\n",
       "    </tr>\n",
       "    <tr>\n",
       "      <th>6</th>\n",
       "      <td>pastrami</td>\n",
       "      <td>3.0</td>\n",
       "      <td>cow</td>\n",
       "    </tr>\n",
       "    <tr>\n",
       "      <th>7</th>\n",
       "      <td>honey ham</td>\n",
       "      <td>5.0</td>\n",
       "      <td>pig</td>\n",
       "    </tr>\n",
       "    <tr>\n",
       "      <th>8</th>\n",
       "      <td>nova lox</td>\n",
       "      <td>6.0</td>\n",
       "      <td>salmon</td>\n",
       "    </tr>\n",
       "  </tbody>\n",
       "</table>\n",
       "</div>"
      ],
      "text/plain": [
       "          food  ounces  animal\n",
       "0        bacon     4.0     pig\n",
       "1  pulled pork     3.0     pig\n",
       "2        bacon    12.0     pig\n",
       "3     Pastrami     6.0     cow\n",
       "4  corned beef     7.5     cow\n",
       "5        Bacon     8.0     pig\n",
       "6     pastrami     3.0     cow\n",
       "7    honey ham     5.0     pig\n",
       "8     nova lox     6.0  salmon"
      ]
     },
     "execution_count": 132,
     "metadata": {},
     "output_type": "execute_result"
    }
   ],
   "source": [
    "data"
   ]
  },
  {
   "cell_type": "code",
   "execution_count": 134,
   "id": "de6e8392",
   "metadata": {},
   "outputs": [
    {
     "data": {
      "text/plain": [
       "0       pig\n",
       "1       pig\n",
       "2       pig\n",
       "3       cow\n",
       "4       cow\n",
       "5       pig\n",
       "6       cow\n",
       "7       pig\n",
       "8    salmon\n",
       "Name: food, dtype: object"
      ]
     },
     "execution_count": 134,
     "metadata": {},
     "output_type": "execute_result"
    }
   ],
   "source": [
    "# 함수로 lowercaed와 같은 작업 수행\n",
    "data['food'].map(lambda x: meat_to_animal[x.lower()])"
   ]
  },
  {
   "cell_type": "markdown",
   "id": "63a42cf9",
   "metadata": {},
   "source": [
    "### 7.2.3 값 치환하기 - replace()"
   ]
  },
  {
   "cell_type": "code",
   "execution_count": 135,
   "id": "524bbfb6",
   "metadata": {},
   "outputs": [],
   "source": [
    "data = pd.Series([1., -999., 2., -999., -1000., 3.])"
   ]
  },
  {
   "cell_type": "code",
   "execution_count": 136,
   "id": "555c3ce8",
   "metadata": {},
   "outputs": [
    {
     "data": {
      "text/plain": [
       "0       1.0\n",
       "1    -999.0\n",
       "2       2.0\n",
       "3    -999.0\n",
       "4   -1000.0\n",
       "5       3.0\n",
       "dtype: float64"
      ]
     },
     "execution_count": 136,
     "metadata": {},
     "output_type": "execute_result"
    }
   ],
   "source": [
    "# -999로 누락된 값 표현\n",
    "data"
   ]
  },
  {
   "cell_type": "code",
   "execution_count": 137,
   "id": "10e61e0e",
   "metadata": {},
   "outputs": [
    {
     "data": {
      "text/plain": [
       "0       1.0\n",
       "1       NaN\n",
       "2       2.0\n",
       "3       NaN\n",
       "4   -1000.0\n",
       "5       3.0\n",
       "dtype: float64"
      ]
     },
     "execution_count": 137,
     "metadata": {},
     "output_type": "execute_result"
    }
   ],
   "source": [
    "# replace로 -999 nan으로 치환한 새로운 Series 생성\n",
    "data.replace(-999, np.nan)"
   ]
  },
  {
   "cell_type": "code",
   "execution_count": 138,
   "id": "c56cf8a9",
   "metadata": {},
   "outputs": [],
   "source": [
    "# 기존객체 변경\n",
    "data.replace(-999, np.nan, inplace=True)"
   ]
  },
  {
   "cell_type": "code",
   "execution_count": 139,
   "id": "c5655444",
   "metadata": {},
   "outputs": [
    {
     "data": {
      "text/plain": [
       "0       1.0\n",
       "1       NaN\n",
       "2       2.0\n",
       "3       NaN\n",
       "4   -1000.0\n",
       "5       3.0\n",
       "dtype: float64"
      ]
     },
     "execution_count": 139,
     "metadata": {},
     "output_type": "execute_result"
    }
   ],
   "source": [
    "data"
   ]
  },
  {
   "cell_type": "markdown",
   "id": "5f415a93",
   "metadata": {},
   "source": [
    "#### 리스트안의 요소들 한번에 치환"
   ]
  },
  {
   "cell_type": "code",
   "execution_count": 140,
   "id": "97d5e8f0",
   "metadata": {},
   "outputs": [
    {
     "data": {
      "text/plain": [
       "0    1.0\n",
       "1    NaN\n",
       "2    2.0\n",
       "3    NaN\n",
       "4    NaN\n",
       "5    3.0\n",
       "dtype: float64"
      ]
     },
     "execution_count": 140,
     "metadata": {},
     "output_type": "execute_result"
    }
   ],
   "source": [
    "data.replace([-999, -1000], np.nan)"
   ]
  },
  {
   "cell_type": "code",
   "execution_count": 141,
   "id": "176d5ee2",
   "metadata": {},
   "outputs": [
    {
     "data": {
      "text/plain": [
       "0    1.0\n",
       "1    NaN\n",
       "2    2.0\n",
       "3    NaN\n",
       "4    0.0\n",
       "5    3.0\n",
       "dtype: float64"
      ]
     },
     "execution_count": 141,
     "metadata": {},
     "output_type": "execute_result"
    }
   ],
   "source": [
    "# 리스트안의 요소들을 치환할 값들의 리스트로 각각 치환  \n",
    "data.replace([-999, -1000], [np.nan, 0])"
   ]
  },
  {
   "cell_type": "code",
   "execution_count": 143,
   "id": "d0aadbf2",
   "metadata": {},
   "outputs": [
    {
     "data": {
      "text/plain": [
       "0    1.0\n",
       "1    NaN\n",
       "2    2.0\n",
       "3    NaN\n",
       "4    0.0\n",
       "5    3.0\n",
       "dtype: float64"
      ]
     },
     "execution_count": 143,
     "metadata": {},
     "output_type": "execute_result"
    }
   ],
   "source": [
    "# dictionary 이용\n",
    "data.replace({-999: np.nan, -1000: 0})"
   ]
  },
  {
   "cell_type": "markdown",
   "id": "be49aec7",
   "metadata": {},
   "source": [
    "### 7.2.4 축 색인 이름 바꾸기"
   ]
  },
  {
   "cell_type": "code",
   "execution_count": 145,
   "id": "16778f80",
   "metadata": {},
   "outputs": [],
   "source": [
    "data = pd.DataFrame(np.arange(12).reshape((3,4)),\n",
    "                index=['Ohio', 'Colorado', 'New York'],\n",
    "                columns=['one', 'two', 'three', 'four'])"
   ]
  },
  {
   "cell_type": "code",
   "execution_count": 146,
   "id": "603938e4",
   "metadata": {},
   "outputs": [
    {
     "data": {
      "text/plain": [
       "Index(['OHIO', 'COLO', 'NEW '], dtype='object')"
      ]
     },
     "execution_count": 146,
     "metadata": {},
     "output_type": "execute_result"
    }
   ],
   "source": [
    "# 함수이용해 축이름 대문자로 변경 \n",
    "transform = lambda x: x[:4].upper()\n",
    "data.index.map(transform)"
   ]
  },
  {
   "cell_type": "code",
   "execution_count": null,
   "id": "5e021c1b",
   "metadata": {},
   "outputs": [],
   "source": [
    "# 대문자로 변경된 축이름을 DataFrame Index에 바로 대입\n",
    "data.index = data.index.map(transform)"
   ]
  },
  {
   "cell_type": "code",
   "execution_count": 152,
   "id": "1c6ccdd8",
   "metadata": {},
   "outputs": [
    {
     "data": {
      "text/html": [
       "<div>\n",
       "<style scoped>\n",
       "    .dataframe tbody tr th:only-of-type {\n",
       "        vertical-align: middle;\n",
       "    }\n",
       "\n",
       "    .dataframe tbody tr th {\n",
       "        vertical-align: top;\n",
       "    }\n",
       "\n",
       "    .dataframe thead th {\n",
       "        text-align: right;\n",
       "    }\n",
       "</style>\n",
       "<table border=\"1\" class=\"dataframe\">\n",
       "  <thead>\n",
       "    <tr style=\"text-align: right;\">\n",
       "      <th></th>\n",
       "      <th>one</th>\n",
       "      <th>two</th>\n",
       "      <th>three</th>\n",
       "      <th>four</th>\n",
       "    </tr>\n",
       "  </thead>\n",
       "  <tbody>\n",
       "    <tr>\n",
       "      <th>OHIO</th>\n",
       "      <td>0</td>\n",
       "      <td>1</td>\n",
       "      <td>2</td>\n",
       "      <td>3</td>\n",
       "    </tr>\n",
       "    <tr>\n",
       "      <th>COLO</th>\n",
       "      <td>4</td>\n",
       "      <td>5</td>\n",
       "      <td>6</td>\n",
       "      <td>7</td>\n",
       "    </tr>\n",
       "    <tr>\n",
       "      <th>NEW</th>\n",
       "      <td>8</td>\n",
       "      <td>9</td>\n",
       "      <td>10</td>\n",
       "      <td>11</td>\n",
       "    </tr>\n",
       "  </tbody>\n",
       "</table>\n",
       "</div>"
      ],
      "text/plain": [
       "      one  two  three  four\n",
       "OHIO    0    1      2     3\n",
       "COLO    4    5      6     7\n",
       "NEW     8    9     10    11"
      ]
     },
     "execution_count": 152,
     "metadata": {},
     "output_type": "execute_result"
    }
   ],
   "source": [
    "data"
   ]
  },
  {
   "cell_type": "markdown",
   "id": "28337733",
   "metadata": {},
   "source": [
    "#### rename을 사용하여 새로운 객체 생성"
   ]
  },
  {
   "cell_type": "code",
   "execution_count": 153,
   "id": "caf889ad",
   "metadata": {},
   "outputs": [
    {
     "data": {
      "text/html": [
       "<div>\n",
       "<style scoped>\n",
       "    .dataframe tbody tr th:only-of-type {\n",
       "        vertical-align: middle;\n",
       "    }\n",
       "\n",
       "    .dataframe tbody tr th {\n",
       "        vertical-align: top;\n",
       "    }\n",
       "\n",
       "    .dataframe thead th {\n",
       "        text-align: right;\n",
       "    }\n",
       "</style>\n",
       "<table border=\"1\" class=\"dataframe\">\n",
       "  <thead>\n",
       "    <tr style=\"text-align: right;\">\n",
       "      <th></th>\n",
       "      <th>ONE</th>\n",
       "      <th>TWO</th>\n",
       "      <th>THREE</th>\n",
       "      <th>FOUR</th>\n",
       "    </tr>\n",
       "  </thead>\n",
       "  <tbody>\n",
       "    <tr>\n",
       "      <th>Ohio</th>\n",
       "      <td>0</td>\n",
       "      <td>1</td>\n",
       "      <td>2</td>\n",
       "      <td>3</td>\n",
       "    </tr>\n",
       "    <tr>\n",
       "      <th>Colo</th>\n",
       "      <td>4</td>\n",
       "      <td>5</td>\n",
       "      <td>6</td>\n",
       "      <td>7</td>\n",
       "    </tr>\n",
       "    <tr>\n",
       "      <th>New</th>\n",
       "      <td>8</td>\n",
       "      <td>9</td>\n",
       "      <td>10</td>\n",
       "      <td>11</td>\n",
       "    </tr>\n",
       "  </tbody>\n",
       "</table>\n",
       "</div>"
      ],
      "text/plain": [
       "      ONE  TWO  THREE  FOUR\n",
       "Ohio    0    1      2     3\n",
       "Colo    4    5      6     7\n",
       "New     8    9     10    11"
      ]
     },
     "execution_count": 153,
     "metadata": {},
     "output_type": "execute_result"
    }
   ],
   "source": [
    "data.rename(index=str.title, columns=str.upper)"
   ]
  },
  {
   "cell_type": "code",
   "execution_count": 154,
   "id": "7b4045df",
   "metadata": {},
   "outputs": [],
   "source": [
    "data.rename(index=str.title, columns=str.upper, inplace=True)"
   ]
  },
  {
   "cell_type": "code",
   "execution_count": 155,
   "id": "2b13925a",
   "metadata": {},
   "outputs": [
    {
     "data": {
      "text/html": [
       "<div>\n",
       "<style scoped>\n",
       "    .dataframe tbody tr th:only-of-type {\n",
       "        vertical-align: middle;\n",
       "    }\n",
       "\n",
       "    .dataframe tbody tr th {\n",
       "        vertical-align: top;\n",
       "    }\n",
       "\n",
       "    .dataframe thead th {\n",
       "        text-align: right;\n",
       "    }\n",
       "</style>\n",
       "<table border=\"1\" class=\"dataframe\">\n",
       "  <thead>\n",
       "    <tr style=\"text-align: right;\">\n",
       "      <th></th>\n",
       "      <th>ONE</th>\n",
       "      <th>TWO</th>\n",
       "      <th>THREE</th>\n",
       "      <th>FOUR</th>\n",
       "    </tr>\n",
       "  </thead>\n",
       "  <tbody>\n",
       "    <tr>\n",
       "      <th>Ohio</th>\n",
       "      <td>0</td>\n",
       "      <td>1</td>\n",
       "      <td>2</td>\n",
       "      <td>3</td>\n",
       "    </tr>\n",
       "    <tr>\n",
       "      <th>Colo</th>\n",
       "      <td>4</td>\n",
       "      <td>5</td>\n",
       "      <td>6</td>\n",
       "      <td>7</td>\n",
       "    </tr>\n",
       "    <tr>\n",
       "      <th>New</th>\n",
       "      <td>8</td>\n",
       "      <td>9</td>\n",
       "      <td>10</td>\n",
       "      <td>11</td>\n",
       "    </tr>\n",
       "  </tbody>\n",
       "</table>\n",
       "</div>"
      ],
      "text/plain": [
       "      ONE  TWO  THREE  FOUR\n",
       "Ohio    0    1      2     3\n",
       "Colo    4    5      6     7\n",
       "New     8    9     10    11"
      ]
     },
     "execution_count": 155,
     "metadata": {},
     "output_type": "execute_result"
    }
   ],
   "source": [
    "data"
   ]
  },
  {
   "cell_type": "markdown",
   "id": "e0cdcff7",
   "metadata": {},
   "source": [
    "### 7.2.5 개별화와 양자화\n",
    "* 연속된 데이터의 개별분할 \n",
    "* 연속되 데이터의 그룹화"
   ]
  },
  {
   "cell_type": "code",
   "execution_count": 156,
   "id": "da4dc7ce",
   "metadata": {},
   "outputs": [],
   "source": [
    "# 수업에 참여하는 학생들의 나이\n",
    "ages = [20, 22, 25, 27, 21, 23, 37, 31, 61, 45, 41, 32]"
   ]
  },
  {
   "cell_type": "code",
   "execution_count": 157,
   "id": "8c616f41",
   "metadata": {},
   "outputs": [],
   "source": [
    "bins = [18, 25, 35, 60, 100]"
   ]
  },
  {
   "cell_type": "code",
   "execution_count": 166,
   "id": "1c5d5f71",
   "metadata": {},
   "outputs": [],
   "source": [
    "# bins에서 설정한 값을 기준으로 age를 그룹화한다.\n",
    "cats = pd.cut(ages, bins)"
   ]
  },
  {
   "cell_type": "code",
   "execution_count": 159,
   "id": "7918fada",
   "metadata": {},
   "outputs": [
    {
     "data": {
      "text/plain": [
       "[(18, 25], (18, 25], (18, 25], (25, 35], (18, 25], ..., (25, 35], (60, 100], (35, 60], (35, 60], (25, 35]]\n",
       "Length: 12\n",
       "Categories (4, interval[int64]): [(18, 25] < (25, 35] < (35, 60] < (60, 100]]"
      ]
     },
     "execution_count": 159,
     "metadata": {},
     "output_type": "execute_result"
    }
   ],
   "source": [
    "cats"
   ]
  },
  {
   "cell_type": "markdown",
   "id": "68013b47",
   "metadata": {},
   "source": [
    "#### Categorical 객체\n",
    "* 그룹 이름이 담긴 배열\n",
    "* code 속성이 가진 데이터에 대한 카테고리 이름을 내부적으로 담고 있다."
   ]
  },
  {
   "cell_type": "code",
   "execution_count": 160,
   "id": "7062018b",
   "metadata": {},
   "outputs": [
    {
     "data": {
      "text/plain": [
       "array([0, 0, 0, 1, 0, 0, 2, 1, 3, 2, 2, 1], dtype=int8)"
      ]
     },
     "execution_count": 160,
     "metadata": {},
     "output_type": "execute_result"
    }
   ],
   "source": [
    "cats.codes"
   ]
  },
  {
   "cell_type": "code",
   "execution_count": 163,
   "id": "e7d288a1",
   "metadata": {},
   "outputs": [
    {
     "data": {
      "text/plain": [
       "IntervalIndex([(18, 25], (25, 35], (35, 60], (60, 100]],\n",
       "              closed='right',\n",
       "              dtype='interval[int64]')"
      ]
     },
     "execution_count": 163,
     "metadata": {},
     "output_type": "execute_result"
    }
   ],
   "source": [
    "# 중괄호 < 범위 <= 대괄호  \n",
    "cats.categories"
   ]
  },
  {
   "cell_type": "code",
   "execution_count": 164,
   "id": "4e8cc1a9",
   "metadata": {},
   "outputs": [
    {
     "data": {
      "text/plain": [
       "(18, 25]     5\n",
       "(25, 35]     3\n",
       "(35, 60]     3\n",
       "(60, 100]    1\n",
       "dtype: int64"
      ]
     },
     "execution_count": 164,
     "metadata": {},
     "output_type": "execute_result"
    }
   ],
   "source": [
    "# pd.cut에 대한 그룹수\n",
    "pd.value_counts(cats)"
   ]
  },
  {
   "cell_type": "code",
   "execution_count": 167,
   "id": "e09b3607",
   "metadata": {},
   "outputs": [
    {
     "data": {
      "text/plain": [
       "[[18, 26), [18, 26), [18, 26), [26, 36), [18, 26), ..., [26, 36), [61, 100), [36, 61), [36, 61), [26, 36)]\n",
       "Length: 12\n",
       "Categories (4, interval[int64]): [[18, 26) < [26, 36) < [36, 61) < [61, 100)]"
      ]
     },
     "execution_count": 167,
     "metadata": {},
     "output_type": "execute_result"
    }
   ],
   "source": [
    "# 대괄호 <= 범위 < 중괄호\n",
    "pd.cut(ages, [18, 26, 36, 61, 100], right=False)"
   ]
  },
  {
   "cell_type": "markdown",
   "id": "db11c0ed",
   "metadata": {},
   "source": [
    "#### labels 옵션으로 그룹 이름 직접 넘기기"
   ]
  },
  {
   "cell_type": "code",
   "execution_count": 168,
   "id": "37b3cf57",
   "metadata": {},
   "outputs": [],
   "source": [
    "group_names = ['Youth', 'YoungAdult', 'MiddleAged', 'Senior']"
   ]
  },
  {
   "cell_type": "code",
   "execution_count": 169,
   "id": "c2ad5e20",
   "metadata": {},
   "outputs": [
    {
     "data": {
      "text/plain": [
       "['Youth', 'Youth', 'Youth', 'YoungAdult', 'Youth', ..., 'YoungAdult', 'Senior', 'MiddleAged', 'MiddleAged', 'YoungAdult']\n",
       "Length: 12\n",
       "Categories (4, object): ['Youth' < 'YoungAdult' < 'MiddleAged' < 'Senior']"
      ]
     },
     "execution_count": 169,
     "metadata": {},
     "output_type": "execute_result"
    }
   ],
   "source": [
    "pd.cut(ages, bins, labels=group_names)"
   ]
  },
  {
   "cell_type": "markdown",
   "id": "414af2b5",
   "metadata": {},
   "source": [
    "#### cut함수에 그룹의 경곗값 넘기지 않고 그룹의 개수를 넘겨주어 그룹화\n",
    "데이터에서 최솟값과 최댓값을 기준으로 균등한 길이의 그룹 자동 계산"
   ]
  },
  {
   "cell_type": "code",
   "execution_count": 170,
   "id": "cd739c25",
   "metadata": {},
   "outputs": [],
   "source": [
    "data = np.random.rand(20)"
   ]
  },
  {
   "cell_type": "code",
   "execution_count": 171,
   "id": "022991a0",
   "metadata": {},
   "outputs": [
    {
     "data": {
      "text/plain": [
       "[(0.042, 0.26], (0.26, 0.48], (0.48, 0.7], (0.042, 0.26], (0.042, 0.26], ..., (0.042, 0.26], (0.26, 0.48], (0.26, 0.48], (0.48, 0.7], (0.7, 0.92]]\n",
       "Length: 20\n",
       "Categories (4, interval[float64]): [(0.042, 0.26] < (0.26, 0.48] < (0.48, 0.7] < (0.7, 0.92]]"
      ]
     },
     "execution_count": 171,
     "metadata": {},
     "output_type": "execute_result"
    }
   ],
   "source": [
    "# cut 사용\n",
    "pd.cut(data, 4, precision=2) #소수점 아래 2자리까지로 제한(precision)해 4분위(4)로 분류"
   ]
  },
  {
   "cell_type": "markdown",
   "id": "bdf54fa7",
   "metadata": {},
   "source": [
    "#### qcut\n",
    "\n",
    "* 표본 편위치를 기반으로 데이터를 나눠준다.\n",
    "* 적당히 **비슷한 크기의 그룹**으로 나눌 수 있다.   \n",
    "  (cut의 경우 데이터의 분산에 따라 각 그룹마다 데이터 수가 다르게 나뉘는 수가 많다.)"
   ]
  },
  {
   "cell_type": "code",
   "execution_count": 172,
   "id": "4ec75ed5",
   "metadata": {},
   "outputs": [],
   "source": [
    "# qcut 사용\n",
    "data = np.random.randn(1000) # 정규분포"
   ]
  },
  {
   "cell_type": "code",
   "execution_count": 173,
   "id": "5e6f3ae9",
   "metadata": {},
   "outputs": [],
   "source": [
    "cats = pd.qcut(data, 4) # 4분위로 분류"
   ]
  },
  {
   "cell_type": "code",
   "execution_count": 174,
   "id": "d2673225",
   "metadata": {},
   "outputs": [
    {
     "data": {
      "text/plain": [
       "[(-0.706, -0.0366], (-2.8649999999999998, -0.706], (-0.0366, 0.695], (-0.706, -0.0366], (0.695, 2.748], ..., (0.695, 2.748], (-0.0366, 0.695], (-0.0366, 0.695], (0.695, 2.748], (-0.706, -0.0366]]\n",
       "Length: 1000\n",
       "Categories (4, interval[float64]): [(-2.8649999999999998, -0.706] < (-0.706, -0.0366] < (-0.0366, 0.695] < (0.695, 2.748]]"
      ]
     },
     "execution_count": 174,
     "metadata": {},
     "output_type": "execute_result"
    }
   ],
   "source": [
    "cats"
   ]
  },
  {
   "cell_type": "code",
   "execution_count": 175,
   "id": "de68685b",
   "metadata": {},
   "outputs": [
    {
     "data": {
      "text/plain": [
       "(-2.8649999999999998, -0.706]    250\n",
       "(-0.706, -0.0366]                250\n",
       "(-0.0366, 0.695]                 250\n",
       "(0.695, 2.748]                   250\n",
       "dtype: int64"
      ]
     },
     "execution_count": 175,
     "metadata": {},
     "output_type": "execute_result"
    }
   ],
   "source": [
    "pd.value_counts(cats)"
   ]
  },
  {
   "cell_type": "code",
   "execution_count": 177,
   "id": "3c425411",
   "metadata": {},
   "outputs": [
    {
     "data": {
      "text/plain": [
       "[(-1.275, -0.0366], (-1.275, -0.0366], (-0.0366, 1.224], (-1.275, -0.0366], (-0.0366, 1.224], ..., (1.224, 2.748], (-0.0366, 1.224], (-0.0366, 1.224], (1.224, 2.748], (-1.275, -0.0366]]\n",
       "Length: 1000\n",
       "Categories (4, interval[float64]): [(-2.8649999999999998, -1.275] < (-1.275, -0.0366] < (-0.0366, 1.224] < (1.224, 2.748]]"
      ]
     },
     "execution_count": 177,
     "metadata": {},
     "output_type": "execute_result"
    }
   ],
   "source": [
    "# cut 함수처럼 변위치 직접 지정\n",
    "pd.qcut(data, [0., 0.1, 0.5, 0.9, 1.])"
   ]
  },
  {
   "cell_type": "markdown",
   "id": "dcb65862",
   "metadata": {},
   "source": [
    "#### cut과 qcut 같은 이산함수는 그룹분석과 변위치 다룰 때 유용"
   ]
  },
  {
   "cell_type": "markdown",
   "id": "cf00f3a6",
   "metadata": {},
   "source": [
    "### 7.2.6 특잇값 찾고 제외하기\n",
    "* 배열연산시 특잇값(outlier)을 제외/대체 하는 것 중요"
   ]
  },
  {
   "cell_type": "code",
   "execution_count": 83,
   "id": "35bac7e2",
   "metadata": {},
   "outputs": [],
   "source": [
    "data = pd.DataFrame(np.random.randn(1000, 4))"
   ]
  },
  {
   "cell_type": "code",
   "execution_count": 84,
   "id": "bc160e8f",
   "metadata": {},
   "outputs": [
    {
     "data": {
      "text/html": [
       "<div>\n",
       "<style scoped>\n",
       "    .dataframe tbody tr th:only-of-type {\n",
       "        vertical-align: middle;\n",
       "    }\n",
       "\n",
       "    .dataframe tbody tr th {\n",
       "        vertical-align: top;\n",
       "    }\n",
       "\n",
       "    .dataframe thead th {\n",
       "        text-align: right;\n",
       "    }\n",
       "</style>\n",
       "<table border=\"1\" class=\"dataframe\">\n",
       "  <thead>\n",
       "    <tr style=\"text-align: right;\">\n",
       "      <th></th>\n",
       "      <th>0</th>\n",
       "      <th>1</th>\n",
       "      <th>2</th>\n",
       "      <th>3</th>\n",
       "    </tr>\n",
       "  </thead>\n",
       "  <tbody>\n",
       "    <tr>\n",
       "      <th>count</th>\n",
       "      <td>1000.000000</td>\n",
       "      <td>1000.000000</td>\n",
       "      <td>1000.000000</td>\n",
       "      <td>1000.000000</td>\n",
       "    </tr>\n",
       "    <tr>\n",
       "      <th>mean</th>\n",
       "      <td>-0.050235</td>\n",
       "      <td>-0.008409</td>\n",
       "      <td>0.029291</td>\n",
       "      <td>0.015311</td>\n",
       "    </tr>\n",
       "    <tr>\n",
       "      <th>std</th>\n",
       "      <td>1.016561</td>\n",
       "      <td>1.020637</td>\n",
       "      <td>1.024169</td>\n",
       "      <td>1.010616</td>\n",
       "    </tr>\n",
       "    <tr>\n",
       "      <th>min</th>\n",
       "      <td>-2.748691</td>\n",
       "      <td>-3.154819</td>\n",
       "      <td>-3.310472</td>\n",
       "      <td>-3.232902</td>\n",
       "    </tr>\n",
       "    <tr>\n",
       "      <th>25%</th>\n",
       "      <td>-0.748204</td>\n",
       "      <td>-0.681881</td>\n",
       "      <td>-0.670044</td>\n",
       "      <td>-0.660514</td>\n",
       "    </tr>\n",
       "    <tr>\n",
       "      <th>50%</th>\n",
       "      <td>-0.089383</td>\n",
       "      <td>0.035024</td>\n",
       "      <td>0.013754</td>\n",
       "      <td>-0.022715</td>\n",
       "    </tr>\n",
       "    <tr>\n",
       "      <th>75%</th>\n",
       "      <td>0.597162</td>\n",
       "      <td>0.703507</td>\n",
       "      <td>0.708746</td>\n",
       "      <td>0.700731</td>\n",
       "    </tr>\n",
       "    <tr>\n",
       "      <th>max</th>\n",
       "      <td>3.005672</td>\n",
       "      <td>2.936937</td>\n",
       "      <td>2.776772</td>\n",
       "      <td>3.372054</td>\n",
       "    </tr>\n",
       "  </tbody>\n",
       "</table>\n",
       "</div>"
      ],
      "text/plain": [
       "                 0            1            2            3\n",
       "count  1000.000000  1000.000000  1000.000000  1000.000000\n",
       "mean     -0.050235    -0.008409     0.029291     0.015311\n",
       "std       1.016561     1.020637     1.024169     1.010616\n",
       "min      -2.748691    -3.154819    -3.310472    -3.232902\n",
       "25%      -0.748204    -0.681881    -0.670044    -0.660514\n",
       "50%      -0.089383     0.035024     0.013754    -0.022715\n",
       "75%       0.597162     0.703507     0.708746     0.700731\n",
       "max       3.005672     2.936937     2.776772     3.372054"
      ]
     },
     "execution_count": 84,
     "metadata": {},
     "output_type": "execute_result"
    }
   ],
   "source": [
    "# 적절히 분산되어 있다.\n",
    "data.describe()"
   ]
  },
  {
   "cell_type": "markdown",
   "id": "a8986f99",
   "metadata": {},
   "source": [
    "#### 절댓값 3초과하는 것 찾기"
   ]
  },
  {
   "cell_type": "code",
   "execution_count": 85,
   "id": "92ce765a",
   "metadata": {},
   "outputs": [],
   "source": [
    "col = data[2]"
   ]
  },
  {
   "cell_type": "code",
   "execution_count": 86,
   "id": "8763f27d",
   "metadata": {},
   "outputs": [
    {
     "data": {
      "text/plain": [
       "626   -3.310472\n",
       "Name: 2, dtype: float64"
      ]
     },
     "execution_count": 86,
     "metadata": {},
     "output_type": "execute_result"
    }
   ],
   "source": [
    "col[np.abs(col) > 3]"
   ]
  },
  {
   "cell_type": "code",
   "execution_count": 97,
   "id": "d37162a9",
   "metadata": {},
   "outputs": [
    {
     "data": {
      "text/html": [
       "<div>\n",
       "<style scoped>\n",
       "    .dataframe tbody tr th:only-of-type {\n",
       "        vertical-align: middle;\n",
       "    }\n",
       "\n",
       "    .dataframe tbody tr th {\n",
       "        vertical-align: top;\n",
       "    }\n",
       "\n",
       "    .dataframe thead th {\n",
       "        text-align: right;\n",
       "    }\n",
       "</style>\n",
       "<table border=\"1\" class=\"dataframe\">\n",
       "  <thead>\n",
       "    <tr style=\"text-align: right;\">\n",
       "      <th></th>\n",
       "      <th>0</th>\n",
       "      <th>1</th>\n",
       "      <th>2</th>\n",
       "      <th>3</th>\n",
       "      <th>4</th>\n",
       "      <th>5</th>\n",
       "      <th>6</th>\n",
       "      <th>7</th>\n",
       "      <th>8</th>\n",
       "      <th>9</th>\n",
       "      <th>...</th>\n",
       "      <th>990</th>\n",
       "      <th>991</th>\n",
       "      <th>992</th>\n",
       "      <th>993</th>\n",
       "      <th>994</th>\n",
       "      <th>995</th>\n",
       "      <th>996</th>\n",
       "      <th>997</th>\n",
       "      <th>998</th>\n",
       "      <th>999</th>\n",
       "    </tr>\n",
       "  </thead>\n",
       "  <tbody>\n",
       "    <tr>\n",
       "      <th>0</th>\n",
       "      <td>-1.037040</td>\n",
       "      <td>0.280114</td>\n",
       "      <td>0.348141</td>\n",
       "      <td>0.404818</td>\n",
       "      <td>-0.252379</td>\n",
       "      <td>-0.496607</td>\n",
       "      <td>-0.801455</td>\n",
       "      <td>0.010109</td>\n",
       "      <td>0.518206</td>\n",
       "      <td>1.259485</td>\n",
       "      <td>...</td>\n",
       "      <td>-1.175073</td>\n",
       "      <td>-0.355527</td>\n",
       "      <td>-0.891619</td>\n",
       "      <td>-1.670753</td>\n",
       "      <td>-0.172193</td>\n",
       "      <td>0.997816</td>\n",
       "      <td>0.704568</td>\n",
       "      <td>-0.847005</td>\n",
       "      <td>0.088300</td>\n",
       "      <td>2.256119</td>\n",
       "    </tr>\n",
       "    <tr>\n",
       "      <th>1</th>\n",
       "      <td>0.480368</td>\n",
       "      <td>-0.658197</td>\n",
       "      <td>0.323081</td>\n",
       "      <td>-1.106004</td>\n",
       "      <td>0.222831</td>\n",
       "      <td>-0.206471</td>\n",
       "      <td>1.258577</td>\n",
       "      <td>0.478437</td>\n",
       "      <td>-0.103478</td>\n",
       "      <td>-1.710111</td>\n",
       "      <td>...</td>\n",
       "      <td>-0.948752</td>\n",
       "      <td>0.432391</td>\n",
       "      <td>-1.325932</td>\n",
       "      <td>0.411172</td>\n",
       "      <td>1.052084</td>\n",
       "      <td>0.018778</td>\n",
       "      <td>0.499831</td>\n",
       "      <td>0.943988</td>\n",
       "      <td>-0.896484</td>\n",
       "      <td>1.506937</td>\n",
       "    </tr>\n",
       "    <tr>\n",
       "      <th>2</th>\n",
       "      <td>-0.732494</td>\n",
       "      <td>-0.640299</td>\n",
       "      <td>-0.282703</td>\n",
       "      <td>1.206464</td>\n",
       "      <td>-0.661767</td>\n",
       "      <td>0.911110</td>\n",
       "      <td>-1.004270</td>\n",
       "      <td>1.746622</td>\n",
       "      <td>-0.510934</td>\n",
       "      <td>-0.704893</td>\n",
       "      <td>...</td>\n",
       "      <td>-0.440009</td>\n",
       "      <td>-0.549347</td>\n",
       "      <td>1.929740</td>\n",
       "      <td>-0.473230</td>\n",
       "      <td>0.918225</td>\n",
       "      <td>-0.816405</td>\n",
       "      <td>-1.227830</td>\n",
       "      <td>-0.674538</td>\n",
       "      <td>0.741609</td>\n",
       "      <td>-0.946734</td>\n",
       "    </tr>\n",
       "    <tr>\n",
       "      <th>3</th>\n",
       "      <td>-0.962969</td>\n",
       "      <td>-1.392586</td>\n",
       "      <td>-0.756485</td>\n",
       "      <td>0.648723</td>\n",
       "      <td>-1.276991</td>\n",
       "      <td>-0.350624</td>\n",
       "      <td>-1.366720</td>\n",
       "      <td>0.960641</td>\n",
       "      <td>-0.785663</td>\n",
       "      <td>-0.519845</td>\n",
       "      <td>...</td>\n",
       "      <td>-1.033335</td>\n",
       "      <td>-0.638294</td>\n",
       "      <td>-0.166657</td>\n",
       "      <td>0.435040</td>\n",
       "      <td>-1.862281</td>\n",
       "      <td>0.761295</td>\n",
       "      <td>-0.021104</td>\n",
       "      <td>0.698034</td>\n",
       "      <td>-0.464865</td>\n",
       "      <td>1.372058</td>\n",
       "    </tr>\n",
       "  </tbody>\n",
       "</table>\n",
       "<p>4 rows × 1000 columns</p>\n",
       "</div>"
      ],
      "text/plain": [
       "        0         1         2         3         4         5         6    \\\n",
       "0 -1.037040  0.280114  0.348141  0.404818 -0.252379 -0.496607 -0.801455   \n",
       "1  0.480368 -0.658197  0.323081 -1.106004  0.222831 -0.206471  1.258577   \n",
       "2 -0.732494 -0.640299 -0.282703  1.206464 -0.661767  0.911110 -1.004270   \n",
       "3 -0.962969 -1.392586 -0.756485  0.648723 -1.276991 -0.350624 -1.366720   \n",
       "\n",
       "        7         8         9    ...       990       991       992       993  \\\n",
       "0  0.010109  0.518206  1.259485  ... -1.175073 -0.355527 -0.891619 -1.670753   \n",
       "1  0.478437 -0.103478 -1.710111  ... -0.948752  0.432391 -1.325932  0.411172   \n",
       "2  1.746622 -0.510934 -0.704893  ... -0.440009 -0.549347  1.929740 -0.473230   \n",
       "3  0.960641 -0.785663 -0.519845  ... -1.033335 -0.638294 -0.166657  0.435040   \n",
       "\n",
       "        994       995       996       997       998       999  \n",
       "0 -0.172193  0.997816  0.704568 -0.847005  0.088300  2.256119  \n",
       "1  1.052084  0.018778  0.499831  0.943988 -0.896484  1.506937  \n",
       "2  0.918225 -0.816405 -1.227830 -0.674538  0.741609 -0.946734  \n",
       "3 -1.862281  0.761295 -0.021104  0.698034 -0.464865  1.372058  \n",
       "\n",
       "[4 rows x 1000 columns]"
      ]
     },
     "execution_count": 97,
     "metadata": {},
     "output_type": "execute_result"
    }
   ],
   "source": [
    "data.T[(np.abs(data) > 3).any(0)]"
   ]
  },
  {
   "cell_type": "code",
   "execution_count": 96,
   "id": "a3c82b25",
   "metadata": {},
   "outputs": [
    {
     "data": {
      "text/plain": [
       "0      False\n",
       "1      False\n",
       "2      False\n",
       "3      False\n",
       "4      False\n",
       "       ...  \n",
       "995    False\n",
       "996    False\n",
       "997    False\n",
       "998    False\n",
       "999    False\n",
       "Length: 1000, dtype: bool"
      ]
     },
     "execution_count": 96,
     "metadata": {},
     "output_type": "execute_result"
    }
   ],
   "source": [
    "(np.abs(data) > 3).any(1)"
   ]
  },
  {
   "cell_type": "code",
   "execution_count": 186,
   "id": "b445a7cc",
   "metadata": {},
   "outputs": [],
   "source": [
    "#   x >=  -3 , 또는 3 <= x 이면 각각 -3, 3으로 지정\n",
    "data[np.abs(data) > 3 ] = np.sign(data) * 3"
   ]
  },
  {
   "cell_type": "code",
   "execution_count": 187,
   "id": "c2279a6d",
   "metadata": {},
   "outputs": [
    {
     "data": {
      "text/html": [
       "<div>\n",
       "<style scoped>\n",
       "    .dataframe tbody tr th:only-of-type {\n",
       "        vertical-align: middle;\n",
       "    }\n",
       "\n",
       "    .dataframe tbody tr th {\n",
       "        vertical-align: top;\n",
       "    }\n",
       "\n",
       "    .dataframe thead th {\n",
       "        text-align: right;\n",
       "    }\n",
       "</style>\n",
       "<table border=\"1\" class=\"dataframe\">\n",
       "  <thead>\n",
       "    <tr style=\"text-align: right;\">\n",
       "      <th></th>\n",
       "      <th>0</th>\n",
       "      <th>1</th>\n",
       "      <th>2</th>\n",
       "      <th>3</th>\n",
       "    </tr>\n",
       "  </thead>\n",
       "  <tbody>\n",
       "    <tr>\n",
       "      <th>count</th>\n",
       "      <td>1000.000000</td>\n",
       "      <td>1000.000000</td>\n",
       "      <td>1000.000000</td>\n",
       "      <td>1000.000000</td>\n",
       "    </tr>\n",
       "    <tr>\n",
       "      <th>mean</th>\n",
       "      <td>-0.012877</td>\n",
       "      <td>0.034329</td>\n",
       "      <td>0.001791</td>\n",
       "      <td>-0.007808</td>\n",
       "    </tr>\n",
       "    <tr>\n",
       "      <th>std</th>\n",
       "      <td>1.031802</td>\n",
       "      <td>1.000609</td>\n",
       "      <td>0.992134</td>\n",
       "      <td>0.986311</td>\n",
       "    </tr>\n",
       "    <tr>\n",
       "      <th>min</th>\n",
       "      <td>-3.000000</td>\n",
       "      <td>-3.000000</td>\n",
       "      <td>-2.866316</td>\n",
       "      <td>-3.000000</td>\n",
       "    </tr>\n",
       "    <tr>\n",
       "      <th>25%</th>\n",
       "      <td>-0.684784</td>\n",
       "      <td>-0.625814</td>\n",
       "      <td>-0.644758</td>\n",
       "      <td>-0.676616</td>\n",
       "    </tr>\n",
       "    <tr>\n",
       "      <th>50%</th>\n",
       "      <td>0.004110</td>\n",
       "      <td>0.025001</td>\n",
       "      <td>0.009390</td>\n",
       "      <td>-0.013527</td>\n",
       "    </tr>\n",
       "    <tr>\n",
       "      <th>75%</th>\n",
       "      <td>0.663414</td>\n",
       "      <td>0.704429</td>\n",
       "      <td>0.641861</td>\n",
       "      <td>0.635498</td>\n",
       "    </tr>\n",
       "    <tr>\n",
       "      <th>max</th>\n",
       "      <td>2.898936</td>\n",
       "      <td>3.000000</td>\n",
       "      <td>3.000000</td>\n",
       "      <td>3.000000</td>\n",
       "    </tr>\n",
       "  </tbody>\n",
       "</table>\n",
       "</div>"
      ],
      "text/plain": [
       "                 0            1            2            3\n",
       "count  1000.000000  1000.000000  1000.000000  1000.000000\n",
       "mean     -0.012877     0.034329     0.001791    -0.007808\n",
       "std       1.031802     1.000609     0.992134     0.986311\n",
       "min      -3.000000    -3.000000    -2.866316    -3.000000\n",
       "25%      -0.684784    -0.625814    -0.644758    -0.676616\n",
       "50%       0.004110     0.025001     0.009390    -0.013527\n",
       "75%       0.663414     0.704429     0.641861     0.635498\n",
       "max       2.898936     3.000000     3.000000     3.000000"
      ]
     },
     "execution_count": 187,
     "metadata": {},
     "output_type": "execute_result"
    }
   ],
   "source": [
    "data.describe()"
   ]
  },
  {
   "cell_type": "code",
   "execution_count": 189,
   "id": "a07c1a2a",
   "metadata": {},
   "outputs": [
    {
     "data": {
      "text/html": [
       "<div>\n",
       "<style scoped>\n",
       "    .dataframe tbody tr th:only-of-type {\n",
       "        vertical-align: middle;\n",
       "    }\n",
       "\n",
       "    .dataframe tbody tr th {\n",
       "        vertical-align: top;\n",
       "    }\n",
       "\n",
       "    .dataframe thead th {\n",
       "        text-align: right;\n",
       "    }\n",
       "</style>\n",
       "<table border=\"1\" class=\"dataframe\">\n",
       "  <thead>\n",
       "    <tr style=\"text-align: right;\">\n",
       "      <th></th>\n",
       "      <th>0</th>\n",
       "      <th>1</th>\n",
       "      <th>2</th>\n",
       "      <th>3</th>\n",
       "    </tr>\n",
       "  </thead>\n",
       "  <tbody>\n",
       "    <tr>\n",
       "      <th>0</th>\n",
       "      <td>1.0</td>\n",
       "      <td>1.0</td>\n",
       "      <td>1.0</td>\n",
       "      <td>-1.0</td>\n",
       "    </tr>\n",
       "    <tr>\n",
       "      <th>1</th>\n",
       "      <td>-1.0</td>\n",
       "      <td>-1.0</td>\n",
       "      <td>-1.0</td>\n",
       "      <td>1.0</td>\n",
       "    </tr>\n",
       "    <tr>\n",
       "      <th>2</th>\n",
       "      <td>1.0</td>\n",
       "      <td>-1.0</td>\n",
       "      <td>1.0</td>\n",
       "      <td>1.0</td>\n",
       "    </tr>\n",
       "    <tr>\n",
       "      <th>3</th>\n",
       "      <td>1.0</td>\n",
       "      <td>-1.0</td>\n",
       "      <td>1.0</td>\n",
       "      <td>1.0</td>\n",
       "    </tr>\n",
       "    <tr>\n",
       "      <th>4</th>\n",
       "      <td>1.0</td>\n",
       "      <td>1.0</td>\n",
       "      <td>-1.0</td>\n",
       "      <td>-1.0</td>\n",
       "    </tr>\n",
       "  </tbody>\n",
       "</table>\n",
       "</div>"
      ],
      "text/plain": [
       "     0    1    2    3\n",
       "0  1.0  1.0  1.0 -1.0\n",
       "1 -1.0 -1.0 -1.0  1.0\n",
       "2  1.0 -1.0  1.0  1.0\n",
       "3  1.0 -1.0  1.0  1.0\n",
       "4  1.0  1.0 -1.0 -1.0"
      ]
     },
     "execution_count": 189,
     "metadata": {},
     "output_type": "execute_result"
    }
   ],
   "source": [
    "# sign은 양수 = 1.0 음수 = -1.0 로 만들어 반환\n",
    "np.sign(data).head()"
   ]
  },
  {
   "cell_type": "markdown",
   "id": "19488f7a",
   "metadata": {},
   "source": [
    "### 7.2.7 치환과 임의 샘플링\n",
    "#### numpy.random.permutation\n",
    "* Series나 DataFrame의 row를 임의 순서로 재배치 한다.\n",
    "* 순서룰 바꾸고 싶은 만큼의 길이를 인자로 넘긴다."
   ]
  },
  {
   "cell_type": "code",
   "execution_count": 190,
   "id": "80d525ce",
   "metadata": {},
   "outputs": [],
   "source": [
    "df = pd.DataFrame(np.arange(5 * 4).reshape((5, 4)))"
   ]
  },
  {
   "cell_type": "code",
   "execution_count": 197,
   "id": "3a9780bf",
   "metadata": {},
   "outputs": [],
   "source": [
    "sampler = np.random.permutation(5)"
   ]
  },
  {
   "cell_type": "code",
   "execution_count": 198,
   "id": "a3ecab04",
   "metadata": {},
   "outputs": [
    {
     "data": {
      "text/plain": [
       "array([0, 4, 2, 1, 3])"
      ]
     },
     "execution_count": 198,
     "metadata": {},
     "output_type": "execute_result"
    }
   ],
   "source": [
    "sampler"
   ]
  },
  {
   "cell_type": "markdown",
   "id": "b6c2c734",
   "metadata": {},
   "source": [
    "#### take\n",
    "또는 iloc"
   ]
  },
  {
   "cell_type": "code",
   "execution_count": null,
   "id": "2f4a45f4",
   "metadata": {},
   "outputs": [],
   "source": [
    "df"
   ]
  },
  {
   "cell_type": "code",
   "execution_count": 203,
   "id": "3bddc9cc",
   "metadata": {},
   "outputs": [
    {
     "data": {
      "text/html": [
       "<div>\n",
       "<style scoped>\n",
       "    .dataframe tbody tr th:only-of-type {\n",
       "        vertical-align: middle;\n",
       "    }\n",
       "\n",
       "    .dataframe tbody tr th {\n",
       "        vertical-align: top;\n",
       "    }\n",
       "\n",
       "    .dataframe thead th {\n",
       "        text-align: right;\n",
       "    }\n",
       "</style>\n",
       "<table border=\"1\" class=\"dataframe\">\n",
       "  <thead>\n",
       "    <tr style=\"text-align: right;\">\n",
       "      <th></th>\n",
       "      <th>0</th>\n",
       "      <th>1</th>\n",
       "      <th>2</th>\n",
       "      <th>3</th>\n",
       "    </tr>\n",
       "  </thead>\n",
       "  <tbody>\n",
       "    <tr>\n",
       "      <th>0</th>\n",
       "      <td>0</td>\n",
       "      <td>1</td>\n",
       "      <td>2</td>\n",
       "      <td>3</td>\n",
       "    </tr>\n",
       "    <tr>\n",
       "      <th>4</th>\n",
       "      <td>16</td>\n",
       "      <td>17</td>\n",
       "      <td>18</td>\n",
       "      <td>19</td>\n",
       "    </tr>\n",
       "    <tr>\n",
       "      <th>2</th>\n",
       "      <td>8</td>\n",
       "      <td>9</td>\n",
       "      <td>10</td>\n",
       "      <td>11</td>\n",
       "    </tr>\n",
       "    <tr>\n",
       "      <th>1</th>\n",
       "      <td>4</td>\n",
       "      <td>5</td>\n",
       "      <td>6</td>\n",
       "      <td>7</td>\n",
       "    </tr>\n",
       "    <tr>\n",
       "      <th>3</th>\n",
       "      <td>12</td>\n",
       "      <td>13</td>\n",
       "      <td>14</td>\n",
       "      <td>15</td>\n",
       "    </tr>\n",
       "  </tbody>\n",
       "</table>\n",
       "</div>"
      ],
      "text/plain": [
       "    0   1   2   3\n",
       "0   0   1   2   3\n",
       "4  16  17  18  19\n",
       "2   8   9  10  11\n",
       "1   4   5   6   7\n",
       "3  12  13  14  15"
      ]
     },
     "execution_count": 203,
     "metadata": {},
     "output_type": "execute_result"
    }
   ],
   "source": [
    "# sampler의 행순서대로 정렬\n",
    "df.take(sampler)"
   ]
  },
  {
   "cell_type": "markdown",
   "id": "a3b5d4c5",
   "metadata": {},
   "source": [
    "#### Series(DataFrame).sample()"
   ]
  },
  {
   "cell_type": "code",
   "execution_count": 202,
   "id": "9e15306e",
   "metadata": {},
   "outputs": [
    {
     "data": {
      "text/html": [
       "<div>\n",
       "<style scoped>\n",
       "    .dataframe tbody tr th:only-of-type {\n",
       "        vertical-align: middle;\n",
       "    }\n",
       "\n",
       "    .dataframe tbody tr th {\n",
       "        vertical-align: top;\n",
       "    }\n",
       "\n",
       "    .dataframe thead th {\n",
       "        text-align: right;\n",
       "    }\n",
       "</style>\n",
       "<table border=\"1\" class=\"dataframe\">\n",
       "  <thead>\n",
       "    <tr style=\"text-align: right;\">\n",
       "      <th></th>\n",
       "      <th>0</th>\n",
       "      <th>1</th>\n",
       "      <th>2</th>\n",
       "      <th>3</th>\n",
       "    </tr>\n",
       "  </thead>\n",
       "  <tbody>\n",
       "    <tr>\n",
       "      <th>0</th>\n",
       "      <td>0</td>\n",
       "      <td>1</td>\n",
       "      <td>2</td>\n",
       "      <td>3</td>\n",
       "    </tr>\n",
       "    <tr>\n",
       "      <th>4</th>\n",
       "      <td>16</td>\n",
       "      <td>17</td>\n",
       "      <td>18</td>\n",
       "      <td>19</td>\n",
       "    </tr>\n",
       "    <tr>\n",
       "      <th>2</th>\n",
       "      <td>8</td>\n",
       "      <td>9</td>\n",
       "      <td>10</td>\n",
       "      <td>11</td>\n",
       "    </tr>\n",
       "  </tbody>\n",
       "</table>\n",
       "</div>"
      ],
      "text/plain": [
       "    0   1   2   3\n",
       "0   0   1   2   3\n",
       "4  16  17  18  19\n",
       "2   8   9  10  11"
      ]
     },
     "execution_count": 202,
     "metadata": {},
     "output_type": "execute_result"
    }
   ],
   "source": [
    "# 치환없이 일부만 임의 선택\n",
    "df.sample(n=3)"
   ]
  },
  {
   "cell_type": "code",
   "execution_count": 205,
   "id": "da9684c3",
   "metadata": {},
   "outputs": [],
   "source": [
    "# replace옵션으로 반복 선택 허용하여 표본을 치환을 통해 생성\n",
    "choices = pd.Series([5,7,-1,6,4])\n",
    "draws = choices.sample(n=10, replace=True)"
   ]
  },
  {
   "cell_type": "code",
   "execution_count": 206,
   "id": "dbede136",
   "metadata": {},
   "outputs": [
    {
     "data": {
      "text/plain": [
       "1    7\n",
       "0    5\n",
       "4    4\n",
       "4    4\n",
       "3    6\n",
       "4    4\n",
       "0    5\n",
       "2   -1\n",
       "0    5\n",
       "1    7\n",
       "dtype: int64"
      ]
     },
     "execution_count": 206,
     "metadata": {},
     "output_type": "execute_result"
    }
   ],
   "source": [
    "draws"
   ]
  },
  {
   "cell_type": "markdown",
   "id": "5f1a1010",
   "metadata": {},
   "source": [
    "### 7.2.8 표시자/더미 변수 계산하기\n",
    "\n",
    "#### pandas.get_dummies\n",
    "* 분류값을 '더미'나 '표시자'행렬로 전환\n",
    "* One-Hot 인코딩"
   ]
  },
  {
   "cell_type": "code",
   "execution_count": 207,
   "id": "b92d6890",
   "metadata": {},
   "outputs": [],
   "source": [
    "df = pd.DataFrame({'key': ['b', 'b', 'a', 'c', 'a', 'b'],\n",
    "                  'data1':range(6)})"
   ]
  },
  {
   "cell_type": "code",
   "execution_count": 208,
   "id": "57bf2eb5",
   "metadata": {},
   "outputs": [
    {
     "data": {
      "text/html": [
       "<div>\n",
       "<style scoped>\n",
       "    .dataframe tbody tr th:only-of-type {\n",
       "        vertical-align: middle;\n",
       "    }\n",
       "\n",
       "    .dataframe tbody tr th {\n",
       "        vertical-align: top;\n",
       "    }\n",
       "\n",
       "    .dataframe thead th {\n",
       "        text-align: right;\n",
       "    }\n",
       "</style>\n",
       "<table border=\"1\" class=\"dataframe\">\n",
       "  <thead>\n",
       "    <tr style=\"text-align: right;\">\n",
       "      <th></th>\n",
       "      <th>a</th>\n",
       "      <th>b</th>\n",
       "      <th>c</th>\n",
       "    </tr>\n",
       "  </thead>\n",
       "  <tbody>\n",
       "    <tr>\n",
       "      <th>0</th>\n",
       "      <td>0</td>\n",
       "      <td>1</td>\n",
       "      <td>0</td>\n",
       "    </tr>\n",
       "    <tr>\n",
       "      <th>1</th>\n",
       "      <td>0</td>\n",
       "      <td>1</td>\n",
       "      <td>0</td>\n",
       "    </tr>\n",
       "    <tr>\n",
       "      <th>2</th>\n",
       "      <td>1</td>\n",
       "      <td>0</td>\n",
       "      <td>0</td>\n",
       "    </tr>\n",
       "    <tr>\n",
       "      <th>3</th>\n",
       "      <td>0</td>\n",
       "      <td>0</td>\n",
       "      <td>1</td>\n",
       "    </tr>\n",
       "    <tr>\n",
       "      <th>4</th>\n",
       "      <td>1</td>\n",
       "      <td>0</td>\n",
       "      <td>0</td>\n",
       "    </tr>\n",
       "    <tr>\n",
       "      <th>5</th>\n",
       "      <td>0</td>\n",
       "      <td>1</td>\n",
       "      <td>0</td>\n",
       "    </tr>\n",
       "  </tbody>\n",
       "</table>\n",
       "</div>"
      ],
      "text/plain": [
       "   a  b  c\n",
       "0  0  1  0\n",
       "1  0  1  0\n",
       "2  1  0  0\n",
       "3  0  0  1\n",
       "4  1  0  0\n",
       "5  0  1  0"
      ]
     },
     "execution_count": 208,
     "metadata": {},
     "output_type": "execute_result"
    }
   ],
   "source": [
    "pd.get_dummies(df['key'])"
   ]
  },
  {
   "cell_type": "markdown",
   "id": "4812b6f4",
   "metadata": {},
   "source": [
    "#### get_dummies(DataFrame['컬럼명'], prefix)"
   ]
  },
  {
   "cell_type": "code",
   "execution_count": 209,
   "id": "f0667ae3",
   "metadata": {},
   "outputs": [],
   "source": [
    "dummies = pd.get_dummies(df['key'], prefix='key')"
   ]
  },
  {
   "cell_type": "code",
   "execution_count": 210,
   "id": "51e26e60",
   "metadata": {},
   "outputs": [],
   "source": [
    "df_with_dummy = df[['data1']].join(dummies)"
   ]
  },
  {
   "cell_type": "code",
   "execution_count": 211,
   "id": "e69e6bc9",
   "metadata": {},
   "outputs": [
    {
     "data": {
      "text/html": [
       "<div>\n",
       "<style scoped>\n",
       "    .dataframe tbody tr th:only-of-type {\n",
       "        vertical-align: middle;\n",
       "    }\n",
       "\n",
       "    .dataframe tbody tr th {\n",
       "        vertical-align: top;\n",
       "    }\n",
       "\n",
       "    .dataframe thead th {\n",
       "        text-align: right;\n",
       "    }\n",
       "</style>\n",
       "<table border=\"1\" class=\"dataframe\">\n",
       "  <thead>\n",
       "    <tr style=\"text-align: right;\">\n",
       "      <th></th>\n",
       "      <th>data1</th>\n",
       "      <th>key_a</th>\n",
       "      <th>key_b</th>\n",
       "      <th>key_c</th>\n",
       "    </tr>\n",
       "  </thead>\n",
       "  <tbody>\n",
       "    <tr>\n",
       "      <th>0</th>\n",
       "      <td>0</td>\n",
       "      <td>0</td>\n",
       "      <td>1</td>\n",
       "      <td>0</td>\n",
       "    </tr>\n",
       "    <tr>\n",
       "      <th>1</th>\n",
       "      <td>1</td>\n",
       "      <td>0</td>\n",
       "      <td>1</td>\n",
       "      <td>0</td>\n",
       "    </tr>\n",
       "    <tr>\n",
       "      <th>2</th>\n",
       "      <td>2</td>\n",
       "      <td>1</td>\n",
       "      <td>0</td>\n",
       "      <td>0</td>\n",
       "    </tr>\n",
       "    <tr>\n",
       "      <th>3</th>\n",
       "      <td>3</td>\n",
       "      <td>0</td>\n",
       "      <td>0</td>\n",
       "      <td>1</td>\n",
       "    </tr>\n",
       "    <tr>\n",
       "      <th>4</th>\n",
       "      <td>4</td>\n",
       "      <td>1</td>\n",
       "      <td>0</td>\n",
       "      <td>0</td>\n",
       "    </tr>\n",
       "    <tr>\n",
       "      <th>5</th>\n",
       "      <td>5</td>\n",
       "      <td>0</td>\n",
       "      <td>1</td>\n",
       "      <td>0</td>\n",
       "    </tr>\n",
       "  </tbody>\n",
       "</table>\n",
       "</div>"
      ],
      "text/plain": [
       "   data1  key_a  key_b  key_c\n",
       "0      0      0      1      0\n",
       "1      1      0      1      0\n",
       "2      2      1      0      0\n",
       "3      3      0      0      1\n",
       "4      4      1      0      0\n",
       "5      5      0      1      0"
      ]
     },
     "execution_count": 211,
     "metadata": {},
     "output_type": "execute_result"
    }
   ],
   "source": [
    "df_with_dummy"
   ]
  },
  {
   "cell_type": "markdown",
   "id": "9bf51f67",
   "metadata": {},
   "source": [
    "#### MovieLens 영화평점 데이터에서 각 장르별로 표시자값 추가하기\n",
    "아래의 예제는 [GroupLens.org](https://grouplens.org/datasets/movielens/)에서 제공하는 Movielens 데이터셋 사용"
   ]
  },
  {
   "cell_type": "code",
   "execution_count": 212,
   "id": "d0434740",
   "metadata": {},
   "outputs": [],
   "source": [
    "mnames = ['movie_id', 'title', 'genres']"
   ]
  },
  {
   "cell_type": "code",
   "execution_count": 217,
   "id": "f0d5b184",
   "metadata": {},
   "outputs": [],
   "source": [
    "movies = pd.read_table('ml-latest-small\\movies.csv', sep=',', header=None, names=mnames)"
   ]
  },
  {
   "cell_type": "code",
   "execution_count": 218,
   "id": "4881eea3",
   "metadata": {},
   "outputs": [
    {
     "data": {
      "text/html": [
       "<div>\n",
       "<style scoped>\n",
       "    .dataframe tbody tr th:only-of-type {\n",
       "        vertical-align: middle;\n",
       "    }\n",
       "\n",
       "    .dataframe tbody tr th {\n",
       "        vertical-align: top;\n",
       "    }\n",
       "\n",
       "    .dataframe thead th {\n",
       "        text-align: right;\n",
       "    }\n",
       "</style>\n",
       "<table border=\"1\" class=\"dataframe\">\n",
       "  <thead>\n",
       "    <tr style=\"text-align: right;\">\n",
       "      <th></th>\n",
       "      <th>movie_id</th>\n",
       "      <th>title</th>\n",
       "      <th>genres</th>\n",
       "    </tr>\n",
       "  </thead>\n",
       "  <tbody>\n",
       "    <tr>\n",
       "      <th>0</th>\n",
       "      <td>movieId</td>\n",
       "      <td>title</td>\n",
       "      <td>genres</td>\n",
       "    </tr>\n",
       "    <tr>\n",
       "      <th>1</th>\n",
       "      <td>1</td>\n",
       "      <td>Toy Story (1995)</td>\n",
       "      <td>Adventure|Animation|Children|Comedy|Fantasy</td>\n",
       "    </tr>\n",
       "    <tr>\n",
       "      <th>2</th>\n",
       "      <td>2</td>\n",
       "      <td>Jumanji (1995)</td>\n",
       "      <td>Adventure|Children|Fantasy</td>\n",
       "    </tr>\n",
       "    <tr>\n",
       "      <th>3</th>\n",
       "      <td>3</td>\n",
       "      <td>Grumpier Old Men (1995)</td>\n",
       "      <td>Comedy|Romance</td>\n",
       "    </tr>\n",
       "    <tr>\n",
       "      <th>4</th>\n",
       "      <td>4</td>\n",
       "      <td>Waiting to Exhale (1995)</td>\n",
       "      <td>Comedy|Drama|Romance</td>\n",
       "    </tr>\n",
       "    <tr>\n",
       "      <th>5</th>\n",
       "      <td>5</td>\n",
       "      <td>Father of the Bride Part II (1995)</td>\n",
       "      <td>Comedy</td>\n",
       "    </tr>\n",
       "    <tr>\n",
       "      <th>6</th>\n",
       "      <td>6</td>\n",
       "      <td>Heat (1995)</td>\n",
       "      <td>Action|Crime|Thriller</td>\n",
       "    </tr>\n",
       "    <tr>\n",
       "      <th>7</th>\n",
       "      <td>7</td>\n",
       "      <td>Sabrina (1995)</td>\n",
       "      <td>Comedy|Romance</td>\n",
       "    </tr>\n",
       "    <tr>\n",
       "      <th>8</th>\n",
       "      <td>8</td>\n",
       "      <td>Tom and Huck (1995)</td>\n",
       "      <td>Adventure|Children</td>\n",
       "    </tr>\n",
       "    <tr>\n",
       "      <th>9</th>\n",
       "      <td>9</td>\n",
       "      <td>Sudden Death (1995)</td>\n",
       "      <td>Action</td>\n",
       "    </tr>\n",
       "  </tbody>\n",
       "</table>\n",
       "</div>"
      ],
      "text/plain": [
       "  movie_id                               title  \\\n",
       "0  movieId                               title   \n",
       "1        1                    Toy Story (1995)   \n",
       "2        2                      Jumanji (1995)   \n",
       "3        3             Grumpier Old Men (1995)   \n",
       "4        4            Waiting to Exhale (1995)   \n",
       "5        5  Father of the Bride Part II (1995)   \n",
       "6        6                         Heat (1995)   \n",
       "7        7                      Sabrina (1995)   \n",
       "8        8                 Tom and Huck (1995)   \n",
       "9        9                 Sudden Death (1995)   \n",
       "\n",
       "                                        genres  \n",
       "0                                       genres  \n",
       "1  Adventure|Animation|Children|Comedy|Fantasy  \n",
       "2                   Adventure|Children|Fantasy  \n",
       "3                               Comedy|Romance  \n",
       "4                         Comedy|Drama|Romance  \n",
       "5                                       Comedy  \n",
       "6                        Action|Crime|Thriller  \n",
       "7                               Comedy|Romance  \n",
       "8                           Adventure|Children  \n",
       "9                                       Action  "
      ]
     },
     "execution_count": 218,
     "metadata": {},
     "output_type": "execute_result"
    }
   ],
   "source": [
    "movies[:10]"
   ]
  },
  {
   "cell_type": "code",
   "execution_count": 300,
   "id": "05733dc9",
   "metadata": {},
   "outputs": [],
   "source": [
    "all_genres = []"
   ]
  },
  {
   "cell_type": "code",
   "execution_count": 301,
   "id": "a707a7ca",
   "metadata": {},
   "outputs": [
    {
     "name": "stdout",
     "output_type": "stream",
     "text": [
      "['Adventure', 'Animation', 'Children', 'Comedy', 'Fantasy', 'Adventure', 'Children', 'Fantasy', 'Comedy', 'Romance', 'Comedy', 'Drama', 'Romance', 'Comedy', 'Action', 'Crime', 'Thriller', 'Comedy', 'Romance', 'Adventure', 'Children', 'Action', 'Action', 'Adventure', 'Thriller', 'Comedy', 'Drama', 'Romance', 'Comedy', 'Horror', 'Adventure', 'Animation', 'Children', 'Drama', 'Action', 'Adventure', 'Romance', 'Crime', 'Drama', 'Drama', 'Romance', 'Comedy', 'Comedy', 'Action', 'Comedy', 'Crime', 'Drama', 'Thriller', 'Comedy', 'Crime', 'Thriller', 'Crime', 'Drama', 'Horror', 'Mystery', 'Thriller', 'Action', 'Crime', 'Thriller', 'Drama', 'Sci-Fi', 'Drama', 'Romance', 'Drama', 'Children', 'Drama', 'Drama', 'Romance', 'Adventure', 'Drama', 'Fantasy', 'Mystery', 'Sci-Fi', 'Crime', 'Drama', 'Drama', 'Mystery', 'Sci-Fi', 'Thriller', 'Children', 'Drama', 'Crime', 'Drama', 'Children', 'Comedy', 'Comedy', 'Romance', 'Drama', 'Drama', 'War', 'Action', 'Crime', 'Drama', 'Drama', 'Action', 'Adventure', 'Fantasy', 'Comedy', 'Drama', 'Thriller', 'Drama', 'Romance', 'Mystery', 'Thriller', 'Animation', 'Children', 'Drama', 'Musical', 'Romance', 'Drama', 'Romance', 'Crime', 'Mystery', 'Thriller', 'Comedy', 'Drama', 'Romance', 'Adventure', 'Drama', 'Children', 'Comedy', 'Drama', 'Drama', 'Comedy', 'Drama', 'Romance', 'Adventure', 'Children', 'Fantasy', 'Drama', 'Thriller', 'Drama', 'Comedy', 'Crime', 'Comedy', 'Romance', 'Comedy', 'Action', 'Sci-Fi', 'Thriller', 'Comedy', 'Romance', 'Comedy', 'Action', 'Comedy', 'Horror', 'Thriller', 'Action', 'Comedy', 'Drama', 'Drama', 'War', 'Drama', 'Romance', 'Comedy', 'Drama', 'Action', 'Sci-Fi', 'Thriller', 'Documentary', 'Action', 'Crime', 'Drama', 'Thriller', 'Drama', 'Thriller', 'Children', 'Drama', 'Crime', 'Drama', 'Romance', 'Comedy', 'Drama', 'Drama', 'Romance', 'Drama', 'Romance', 'Action', 'Adventure', 'Drama', 'Children', 'Comedy', 'Comedy', 'Action', 'Thriller', 'Drama', 'Horror', 'Thriller', 'Comedy', 'Horror', 'Romance', 'Comedy', 'Drama', 'Romance', 'Action', 'Adventure', 'Thriller', 'Comedy', 'Drama', 'Crime', 'Drama', 'Documentary', 'Drama', 'Thriller', 'Adventure', 'Comedy', 'Crime', 'Romance', 'Comedy', 'Mystery', 'Sci-Fi', 'Thriller', 'Comedy', 'Drama', 'Romance', 'Comedy', 'Drama', 'Adventure', 'Children', 'Comedy', 'Musical', 'Documentary', 'Action', 'Drama', 'War', 'Crime', 'Drama', 'Thriller', 'Action', 'Adventure', 'Comedy', 'Crime', 'Drama', 'Mystery', 'Documentary', 'Crime', 'Drama', 'Comedy', 'Romance', 'Comedy', 'Drama', 'Comedy', 'Romance', 'Drama', 'Mystery', 'Romance', 'Comedy', 'Adventure', 'Children', 'Fantasy', 'Documentary', 'Comedy', 'Romance', 'Thriller', 'Comedy', 'Documentary', 'Drama', 'Romance', 'Comedy', 'Comedy', 'Action', 'Comedy', 'Crime', 'Drama', 'Thriller', 'Adventure', 'Children', 'Drama', 'Drama', 'Crime', 'Drama', 'Thriller', 'Adventure', 'Drama', 'IMAX', 'Action', 'Drama', 'Romance', 'War', 'Drama', 'Horror', 'Action', 'Adventure', 'Comedy', 'Crime', 'Drama', 'Adventure', 'Drama', 'War', 'Comedy', 'Drama', 'Comedy', 'War', 'Adventure', 'Children', 'Crime', 'Drama', 'Mystery', 'Action', 'Adventure', 'Mystery', 'Sci-Fi', 'Drama', 'Thriller', 'War', 'Documentary', 'Action', 'Romance', 'Western', 'Crime', 'Film-Noir', 'Mystery', 'Thriller', 'Action', 'Crime', 'Thriller', 'Comedy', 'Crime', 'Drama', 'Action', 'Drama', 'Romance', 'Adventure', 'Children', 'Drama', 'Action', 'Adventure', 'Crime', 'Thriller', 'Comedy', 'Drama', 'Action', 'Sci-Fi', 'Thriller', 'Action', 'Crime', 'Sci-Fi', 'Comedy', 'Drama', 'Comedy', 'Horror', 'Comedy', 'Drama', 'Drama', 'Romance', 'Comedy', 'Romance', 'Action', 'Children', 'Comedy', 'Horror', 'Thriller', 'Drama', 'Action', 'Crime', 'Thriller', 'Comedy', 'Romance', 'Comedy', 'Fantasy', 'Horror', 'Mystery', 'Comedy', 'Fantasy', 'Thriller', 'Drama', 'Romance', 'Drama', 'Comedy', 'Drama', 'Comedy', 'Drama', 'Romance', 'Horror', 'Sci-Fi', 'Action', 'Crime', 'Drama', 'Mystery', 'Sci-Fi', 'Thriller', 'Drama', 'Musical', 'Romance', 'Drama', 'Fantasy', 'Drama', 'Romance', 'Comedy', 'Action', 'Comedy', 'Drama', 'Documentary', 'Drama', 'Romance', 'Action', 'Adventure', 'Sci-Fi', 'Drama', 'Western', 'Drama', 'Adventure', 'Comedy', 'Crime', 'Mystery', 'Drama', 'Drama', 'War', 'Drama', 'Romance', 'Comedy', 'Drama', 'Thriller', 'Comedy', 'Drama', 'Drama', 'Horror', 'Drama', 'Romance', 'Comedy', 'Comedy', 'Drama', 'Romance', 'Drama', 'Thriller', 'Action', 'Thriller', 'Comedy', 'Drama', 'Thriller', 'Drama', 'Thriller', 'Adventure', 'Comedy', 'Comedy', 'Drama', 'Romance', 'Drama', 'Comedy', 'Comedy', 'Drama', 'Action', 'Comedy', 'Romance', 'Comedy', 'Romance', 'Adventure', 'Children', 'Animation', 'Children', 'Comedy', 'Romance', 'Thriller', 'Children', 'Drama', 'Drama', 'Musical', 'Children', 'Comedy', 'Fantasy', 'Documentary', 'Crime', 'Drama', 'Comedy', 'Drama', 'Romance', 'Children', 'Comedy', 'Action', 'Comedy', 'Romance', 'Drama', 'Horror', 'Drama', 'Comedy', 'Comedy', 'Sci-Fi', 'Mystery', 'Thriller', 'Adventure', 'Children', 'Comedy', 'Fantasy', 'Romance', 'Crime', 'Drama', 'Thriller', 'Action', 'Adventure', 'Sci-Fi', 'Drama', 'Children', 'Drama', 'Drama', 'Drama', 'Fantasy', 'Romance', 'Drama', 'Romance', 'War', 'Western', 'Comedy', 'Drama', 'Drama', 'Romance', 'Drama', 'Comedy', 'Drama', 'Drama', 'Horror', 'Sci-Fi', 'Comedy', 'Comedy', 'Comedy', 'Romance', 'Drama', 'Comedy', 'Drama', 'Drama', 'Thriller', 'Comedy', 'Drama', 'Romance', 'Drama', 'Crime', 'Drama', 'Action', 'Crime', 'Drama', 'Horror', 'Comedy', 'Romance', 'Action', 'Crime', 'Thriller', 'Comedy', 'Romance', 'Crime', 'Drama', 'Drama', 'Thriller', 'Action', 'Drama', 'Sci-Fi', 'Thriller', 'Action', 'Crime', 'Drama', 'Thriller', 'Comedy', 'Romance', 'Comedy', 'Romance', 'Comedy', 'Crime', 'Drama', 'Thriller', 'Drama', 'Drama', 'Drama', 'Drama', 'Romance', 'Drama', 'Romance', 'Action', 'Thriller', 'Western', 'Comedy', 'Drama', 'Comedy', 'Drama', 'Drama', 'Comedy', 'Drama', 'Comedy', 'Horror', 'Thriller', 'Comedy', 'Animation', 'Children', 'Children', 'Drama', 'Fantasy', 'Mystery', 'Action', 'Drama', 'Thriller', 'Action', 'Adventure', 'Sci-Fi', 'Comedy', 'Drama', 'Fantasy', 'Crime', 'Drama', 'Comedy', 'Drama', 'Thriller', 'Film-Noir', 'Thriller', 'Drama', 'Comedy', 'Drama', 'Comedy', 'Drama', 'Comedy', 'Drama', 'Action', 'Comedy', 'Sci-Fi', 'Horror', 'Thriller', 'Adventure', 'Drama', 'Sci-Fi', 'Action', 'Crime', 'Horror', 'Drama', 'Horror', 'Sci-Fi', 'Comedy', 'Drama', 'Mystery', 'Thriller', 'Drama', 'War', 'Drama', 'Action', 'Sci-Fi', 'Thriller', 'Comedy', 'Romance', 'Adventure', 'Drama', 'War', 'Drama', 'Comedy', 'Children', 'Comedy', 'Comedy', 'Drama', 'Drama', 'Musical', 'Drama', 'Film-Noir', 'Romance', 'Comedy', 'Action', 'Crime', 'Drama', 'Thriller', 'Drama', 'Mystery', 'Thriller', 'Comedy', 'Drama', 'Romance', 'Comedy', 'Drama', 'Action', 'Crime', 'Fantasy', 'Thriller', 'Drama', 'Children', 'Comedy', 'Fantasy', 'Comedy', 'Drama', 'Romance', 'War', 'Comedy', 'Romance', 'Drama', 'Comedy', 'Drama', 'Romance', 'Action', 'Comedy', 'Comedy', 'Drama', 'Romance', 'Adventure', 'Children', 'Romance', 'Documentary', 'Adventure', 'Animation', 'Children', 'Drama', 'Musical', 'IMAX', 'Drama', 'Drama', 'Horror', 'Mystery', 'Thriller', 'Action', 'Comedy', 'Crime', 'Fantasy', 'Adventure', 'Comedy', 'Western', 'Drama', 'Action', 'Comedy', 'Comedy', 'Drama', 'Comedy', 'Drama', 'Romance', 'Thriller', 'Children', 'Comedy', 'Action', 'Thriller', 'Action', 'Romance', 'Thriller', 'Comedy', 'Romance', 'Action', 'Sci-Fi', 'Thriller', 'Action', 'Adventure', 'Comedy', 'Romance', 'Thriller', 'Drama', 'Romance', 'Drama', 'Horror', 'Romance', 'Thriller', 'Western', 'Action', 'Crime', 'Drama', 'Drama', 'Drama', 'Action', 'Comedy', 'Drama', 'Drama', 'Romance', 'War', 'Action', 'Crime', 'Drama', 'Crime', 'Drama', 'Action', 'Adventure', 'Fantasy', 'Action', 'Fantasy', 'Drama', 'Horror', 'Thriller', 'Drama', 'Crime', 'Drama', 'Children', 'Comedy', 'Fantasy', 'Drama', 'Comedy', 'Comedy', 'Comedy', 'Thriller', 'Western', 'Comedy', 'Romance', 'Drama', 'Comedy', 'Action', 'Comedy', 'Crime', 'Thriller', 'Adventure', 'Children', 'Drama', 'Thriller', 'Action', 'Thriller', 'Drama', 'Drama', 'Romance', 'Horror', 'Sci-Fi', 'Thriller', 'Drama', 'Mystery', 'Romance', 'Thriller', 'Drama', 'Comedy', 'Comedy', 'Drama', 'Crime', 'Drama', 'Adventure', 'Comedy', 'Western', 'Comedy', 'Action', 'Adventure', 'Thriller', 'Comedy', 'Sci-Fi', 'Drama', 'Thriller', 'Comedy', 'Action', 'Comedy', 'Drama', 'Comedy', 'Romance', 'Comedy', 'Action', 'Adventure', 'Sci-Fi', 'Comedy', 'Romance', 'Comedy', 'Drama', 'Romance', 'Drama', 'Comedy', 'Comedy', 'Drama', 'Drama', 'Mystery', 'Romance', 'Drama', 'Comedy', 'Romance', 'Drama', 'Thriller', 'Adventure', 'Children', 'Drama', 'Crime', 'Drama', 'Thriller', 'Thriller', 'Drama', 'Western', 'Action', 'Adventure', 'Crime', 'Drama', 'Romance', 'Thriller', 'Comedy', 'Drama', 'Romance', 'Action', 'Adventure', 'Crime', 'Thriller', 'Action', 'Comedy', 'War', 'Comedy', 'Comedy', 'Romance', 'Drama', 'Romance', 'Comedy', 'Comedy', 'Comedy', 'Drama', 'Comedy', 'War', 'Action', 'Thriller', 'Drama', 'Comedy', 'Drama', 'Drama', 'Musical', 'Comedy', 'Crime', 'Drama', 'Action', 'Crime', 'Thriller', 'Action', 'Adventure', 'Sci-Fi', 'Thriller', 'Drama', 'Thriller', 'Crime', 'Drama', 'Thriller', 'Adventure', 'Children', 'Action', 'Adventure', 'Comedy', 'Fantasy', 'Comedy', 'Comedy', 'Western', 'Drama', 'Romance', 'Comedy', 'Thriller', 'Drama', 'Comedy', 'Mystery', 'Action', 'Crime', 'Drama', 'Action', 'Adventure', 'Thriller', 'Drama', 'Comedy', 'Drama', 'Romance', 'Thriller', 'Comedy', 'Romance', 'Comedy', 'Romance', 'Comedy', 'Drama', 'Drama', 'Action', 'Children', 'Romance', 'Action', 'Drama', 'Sci-Fi', 'Comedy', 'Drama', 'Fantasy', 'Romance', 'Crime', 'Drama', 'Thriller', 'Drama', 'Drama', 'Romance', 'Drama', 'Action', 'Drama', 'Horror', 'Sci-Fi', 'Comedy', 'Mystery', 'Romance', 'Comedy', 'Drama', 'Romance', 'Comedy', 'Drama', 'Action', 'Drama', 'Mystery', 'Comedy', 'Action', 'Crime', 'Drama', 'Sci-Fi', 'Thriller', 'Comedy', 'Crime', 'Thriller', 'Action', 'Drama', 'Drama', 'Drama', 'Drama', 'Drama', 'War', 'Comedy', 'Drama', 'Drama', 'Children', 'Drama', 'Comedy', 'Crime', 'Horror', 'Action', 'Adventure', 'Fantasy', 'Mystery', 'Drama', 'Romance', 'Drama', 'Drama', 'Drama', 'Drama', 'Comedy', 'Drama', 'Romance', 'Thriller', 'Action', 'Sci-Fi', 'Thriller', 'Comedy', 'Drama', 'Romance', 'Comedy', 'Romance', 'Thriller', 'Action', 'Crime', 'Action', 'Adventure', 'Children', 'Comedy', 'Fantasy', 'Sci-Fi', 'Action', 'Adventure', 'Thriller', 'Action', 'Mystery', 'Thriller', 'Drama', 'Musical', 'Comedy', 'Romance', 'Animation', 'Children', 'Fantasy', 'Musical', 'Action', 'Adventure', 'Comedy', 'Romance', 'Action', 'Drama', 'Western', 'Crime', 'Thriller', 'Documentary', 'Action', 'Adventure', 'Animation', 'Children', 'Fantasy', 'Comedy', 'Drama', 'Drama', 'Romance', 'Comedy', 'Comedy', 'Drama', 'Comedy', 'Drama', 'Comedy', 'Drama', 'Drama', 'Comedy', 'Drama', 'Children', 'Comedy', 'Adventure', 'Children', 'Drama', 'Crime', 'Thriller', 'Drama', 'Documentary', 'Comedy', 'Drama', 'Comedy', 'Children', 'Comedy', 'Comedy', 'Drama', 'Fantasy', 'Romance', 'Thriller', 'Adventure', 'Animation', 'Children', 'Comedy', 'Musical', 'Action', 'Sci-Fi', 'Adventure', 'Drama', 'Western', 'Action', 'Crime', 'Thriller', 'Crime', 'Horror', 'Thriller', 'Animation', 'Children', 'Drama', 'Fantasy', 'Musical', 'Animation', 'Children', 'Fantasy', 'Musical', 'Romance', 'IMAX', 'Animation', 'Children', 'Fantasy', 'Musical', 'Comedy', 'Romance', 'Adventure', 'Western', 'Action', 'Comedy', 'Crime', 'Documentary', 'Drama', 'Romance', 'Fantasy', 'Horror', 'Comedy', 'Crime', 'Drama', 'Thriller', 'Adventure', 'Children', 'Action', 'Adventure', 'Animation', 'Horror', 'Sci-Fi', 'Action', 'Horror', 'Sci-Fi', 'Comedy', 'Drama', 'Romance', 'Comedy', 'Drama', 'Animation', 'Children', 'Comedy', 'Drama', 'Comedy', 'Romance', 'Comedy', 'Comedy', 'Drama', 'Thriller', 'Crime', 'Drama', 'Mystery', 'Thriller', 'Adventure', 'Animation', 'Children', 'Fantasy', 'Musical', 'Romance', 'Drama', 'War', 'Comedy', 'Comedy', 'Comedy', 'Drama', 'Drama', 'Comedy', 'Romance', 'Comedy', 'Drama', 'Drama', 'Thriller', 'Drama', 'Action', 'Crime', 'Drama', 'War', 'Action', 'Adventure', 'Mystery', 'Thriller', 'Comedy', 'Drama', 'Drama', 'Action', 'Adventure', 'Fantasy', 'Comedy', 'Adventure', 'Animation', 'Children', 'Fantasy', 'Musical', 'Thriller', 'Comedy', 'Comedy', 'Drama', 'War', 'Action', 'Drama', 'Drama', 'Comedy', 'Sci-Fi', 'Adventure', 'Animation', 'Children', 'Comedy', 'Fantasy', 'Sci-Fi', 'Adventure', 'Comedy', 'Sci-Fi', 'Drama', 'Thriller', 'Drama', 'Drama', 'Mystery', 'Romance', 'Sci-Fi', 'Thriller', 'Drama', 'Action', 'Adventure', 'Comedy', 'War', 'Comedy', 'Romance', 'Action', 'Sci-Fi', 'Thriller', 'Action', 'Crime', 'Drama', 'Mystery', 'Thriller', 'Drama', 'Romance', 'Drama', 'Comedy', 'Drama', 'Action', 'Adventure', 'Drama', 'Crime', 'Drama', 'Thriller', 'Comedy', 'Romance', 'Adventure', 'Animation', 'Children', 'Comedy', 'Musical', 'Comedy', 'Adventure', 'Children', 'Drama', 'Mystery', 'Western', 'Drama', 'Romance', 'Comedy', 'Fantasy', 'Sci-Fi', 'Comedy', 'Adventure', 'Animation', 'Comedy', 'Documentary', 'Drama', 'Fantasy', 'Horror', 'Thriller', 'Comedy', 'Drama', 'Comedy', 'Crime', 'Thriller', 'Action', 'Adventure', 'Thriller', 'Horror', 'Action', 'Adventure', 'Romance', 'Thriller', 'Action', 'Sci-Fi', 'Animation', 'Sci-Fi', 'Horror', 'Thriller', 'Comedy', 'Animation', 'Children', 'Comedy', 'Comedy', 'Action', 'Sci-Fi', 'Thriller', 'Comedy', 'War', 'Drama', 'Documentary', 'Drama', 'War', 'Action', 'Adventure', 'Comedy', 'Crime', 'Drama', 'Romance', 'Comedy', 'Drama', 'Drama', 'Drama', 'Horror', 'Mystery', 'Comedy', 'Crime', 'Drama', 'Drama', 'Romance', 'Action', 'Adventure', 'Sci-Fi', 'Thriller', 'Drama', 'Drama', 'Thriller', 'Animation', 'Children', 'Drama', 'Musical', 'Romance', 'Comedy', 'Thriller', 'Comedy', 'Action', 'Drama', 'Thriller', 'Comedy', 'Fantasy', 'Romance', 'Sci-Fi', 'Drama', 'Documentary', 'Drama', 'Action', 'Adventure', 'Drama', 'Thriller', 'Comedy', 'Horror', 'Thriller', 'Drama', 'Mystery', 'Western', 'Children', 'Comedy', 'Drama', 'Romance', 'Comedy', 'Drama', 'Romance', 'Comedy', 'Romance', 'Drama', 'Thriller', 'Crime', 'Drama', 'Adventure', 'Children', 'Action', 'Adventure', 'Children', 'Comedy', 'Fantasy', 'Comedy', 'Comedy', 'Drama', 'Drama', 'Mystery', 'Adventure', 'Children', 'Comedy', 'Fantasy', 'Musical', 'Comedy', 'Crime', 'Thriller', 'Comedy', 'Drama', 'Action', 'Adventure', 'Thriller', 'Children', 'Comedy', 'Fantasy', 'Comedy', 'Drama', 'Romance', 'Action', 'Thriller', 'Children', 'Comedy', 'Horror', 'Comedy', 'Horror', 'Drama', 'Action', 'Adventure', 'Sci-Fi', 'Thriller', 'Drama', 'Comedy', 'Drama', 'Romance', 'Crime', 'Drama', 'Action', 'Comedy', 'Crime', 'Thriller', 'Crime', 'Drama', 'Romance', 'Thriller', 'Comedy', 'Crime', 'Crime', 'Drama', 'Musical', 'Thriller', 'Comedy', 'Action', 'Crime', 'Drama', 'Action', 'Comedy', 'Crime', 'Thriller', 'Horror', 'Thriller', 'Sci-Fi', 'Thriller', 'Children', 'Comedy', 'Drama', 'Thriller', 'Children', 'Drama', 'Fantasy', 'Action', 'Comedy', 'Crime', 'Adventure', 'Animation', 'Children', 'Musical', 'Drama', 'Romance', 'Horror', 'Thriller', 'Comedy', 'Drama', 'Romance', 'Drama', 'Drama', 'Adventure', 'Drama', 'Romance', 'War', 'Comedy', 'Drama', 'Romance', 'Comedy', 'Musical', 'Romance', 'Musical', 'Romance', 'Comedy', 'Musical', 'Drama', 'Romance', 'Drama', 'Mystery', 'Romance', 'Thriller', 'Mystery', 'Thriller', 'Comedy', 'Romance', 'Drama', 'Thriller', 'Comedy', 'Musical', 'Romance', 'Action', 'Adventure', 'Mystery', 'Romance', 'Thriller', 'Comedy', 'Drama', 'Romance', 'Comedy', 'Crime', 'Comedy', 'Crime', 'Mystery', 'Romance', 'Thriller', 'Drama', 'Romance', 'Film-Noir', 'Mystery', 'Comedy', 'Drama', 'Musical', 'Romance', 'Comedy', 'Romance', 'Comedy', 'Drama', 'Romance', 'Children', 'Drama', 'Musical', 'Adventure', 'Children', 'Fantasy', 'Musical', 'Drama', 'Romance', 'War', 'Comedy', 'Drama', 'Film-Noir', 'Romance', 'Drama', 'Mystery', 'Adventure', 'Drama', 'Sci-Fi', 'Drama', 'Comedy', 'Drama', 'Mystery', 'Romance', 'Thriller', 'Drama', 'Film-Noir', 'Mystery', 'Thriller', 'Film-Noir', 'Romance', 'Thriller', 'Mystery', 'Romance', 'Thriller', 'Drama', 'Romance', 'Crime', 'Mystery', 'Romance', 'Thriller', 'Comedy', 'Comedy', 'Musical', 'Comedy', 'Romance', 'Comedy', 'Romance', 'Musical', 'Action', 'Adventure', 'Romance', 'Adventure', 'Crime', 'Film-Noir', 'Mystery', 'Drama', 'Fantasy', 'Romance', 'Drama', 'Comedy', 'Musical', 'Romance', 'Comedy', 'Drama', 'War', 'Comedy', 'Romance', 'Drama', 'Romance', 'Western', 'Drama', 'Comedy', 'Crime', 'Comedy', 'Romance', 'Adventure', 'Comedy', 'Children', 'Drama', 'Fantasy', 'Romance', 'Drama', 'Comedy', 'Romance', 'Drama', 'Romance', 'Drama', 'Drama', 'Musical', 'Drama', 'Mystery', 'Thriller', 'Horror', 'Sci-Fi', 'Thriller', 'Adventure', 'Comedy', 'Romance', 'War', 'Adventure', 'Comedy', 'Crime', 'Drama', 'Romance', 'Drama', 'Comedy', 'Drama', 'Romance', 'War', 'Drama', 'War', 'Drama', 'Drama', 'Comedy', 'Drama', 'Adventure', 'Children', 'Drama', 'Romance', 'Comedy', 'Drama', 'Action', 'Adventure', 'Thriller', 'Drama', 'Drama', 'Comedy', 'Drama', 'Action', 'Crime', 'Drama', 'Thriller', 'Action', 'Crime', 'Crime', 'Film-Noir', 'Drama', 'Thriller', 'Action', 'Thriller', 'Children', 'Comedy', 'Drama', 'Children', 'Comedy', 'Western', 'Adventure', 'Western', 'Adventure', 'Children', 'Fantasy', 'Children', 'Comedy', 'Children', 'Comedy', 'Fantasy', 'Romance', 'Children', 'Drama', 'Children', 'Comedy', 'Romance', 'Children', 'Comedy', 'Drama', 'Adventure', 'Children', 'Drama', 'Children', 'Comedy', 'Adventure', 'Children', 'Children', 'Comedy', 'Mystery', 'Adventure', 'Drama', 'Sci-Fi', 'Comedy', 'Children', 'Comedy', 'Animation', 'Children', 'Fantasy', 'Musical', 'Romance', 'Animation', 'Children', 'Musical', 'Animation', 'Children', 'Musical', 'Animation', 'Children', 'Fantasy', 'Musical', 'Adventure', 'Drama', 'Children', 'Comedy', 'Fantasy', 'Musical', 'Animation', 'Children', 'Drama', 'Musical', 'Adventure', 'Animation', 'Children', 'Musical', 'Adventure', 'Children', 'Musical', 'Adventure', 'Animation', 'Children', 'Fantasy', 'Musical', 'Animation', 'Children', 'Drama', 'Comedy', 'Crime', 'Drama', 'Thriller', 'Musical', 'Romance', 'Action', 'Crime', 'Thriller', 'Action', 'Horror', 'Sci-Fi', 'Thriller', 'Drama', 'Drama', 'Comedy', 'Drama', 'Drama', 'Romance', 'Drama', 'Romance', 'Action', 'Drama', 'Thriller', 'Action', 'Adventure', 'Documentary', 'Drama', 'Drama', 'Crime', 'Drama', 'Romance', 'Drama', 'Thriller', 'Drama', 'Comedy', 'Musical', 'Romance', 'Drama', 'Romance', 'Comedy', 'Drama', 'Thriller', 'Animation', 'Children', 'Comedy', 'Fantasy', 'Musical', 'Romance', 'Comedy', 'Musical', 'Romance', 'Crime', 'Film-Noir', 'Children', 'Comedy', 'Fantasy', 'Musical', 'Drama', 'Horror', 'Thriller', 'Comedy', 'Sci-Fi', 'Comedy', 'War', 'Comedy', 'Crime', 'Comedy', 'Comedy', 'Musical', 'Romance', 'Drama', 'Comedy', 'Musical', 'Crime', 'Drama', 'Adventure', 'Drama', 'Crime', 'Mystery', 'Thriller', 'Drama', 'Musical', 'Romance', 'Crime', 'Mystery', 'Thriller', 'Drama', 'War', 'Comedy', 'Crime', 'Mystery', 'Thriller', 'Drama', 'Drama', 'Romance', 'Thriller', 'Drama', 'Drama', 'Children', 'Drama', 'Sci-Fi', 'Children', 'Drama', 'Fantasy', 'Action', 'Drama', 'Romance', 'Action', 'Romance', 'Drama', 'Drama', 'Horror', 'Comedy', 'Documentary', 'Action', 'Comedy', 'Drama', 'Crime', 'Drama', 'Drama', 'Drama', 'Drama', 'Comedy', 'Drama', 'Drama', 'Documentary', 'Drama', 'Comedy', 'Crime', 'Comedy', 'Fantasy', 'Action', 'Adventure', 'Sci-Fi', 'Thriller', 'Horror', 'Action', 'Adventure', 'Sci-Fi', 'Thriller', 'Horror', 'Mystery', 'Drama', 'Mystery', 'Drama', 'Comedy', 'Adventure', 'Comedy', 'Fantasy', 'Romance', 'Drama', 'Documentary', 'Documentary', 'Animation', 'Children', 'Comedy', 'Crime', 'Drama', 'Animation', 'Comedy', 'Drama', 'Fantasy', 'Drama', 'Drama', 'War', 'Comedy', 'Drama', 'Drama', 'Comedy', 'Action', 'Comedy', 'Drama', 'Comedy', 'Drama', 'Comedy', 'Drama', 'Romance', 'Drama', 'Fantasy', 'Romance', 'Drama', 'Romance', 'Drama', 'War', 'Crime', 'Drama', 'Film-Noir', 'Comedy', 'Drama', 'Romance', 'War', 'Comedy', 'Drama', 'Drama', 'Drama', 'Drama', 'Comedy', 'Romance', 'Documentary', 'Crime', 'Drama', 'Romance', 'Documentary', 'Musical', 'Documentary', 'Drama', 'Comedy', 'Action', 'Adventure', 'Sci-Fi', 'Action', 'Adventure', 'Comedy', 'Fantasy', 'Romance', 'Action', 'Adventure', 'Fantasy', 'Sci-Fi', 'Action', 'Adventure', 'Horror', 'Sci-Fi', 'Action', 'Adventure', 'Western', 'Comedy', 'Drama', 'Adventure', 'Drama', 'War', 'Crime', 'Drama', 'Sci-Fi', 'Thriller', 'Drama', 'Action', 'Drama', 'War', 'Action', 'Drama', 'Western', 'Action', 'Adventure', 'Sci-Fi', 'Drama', 'Fantasy', 'Romance', 'Film-Noir', 'Mystery', 'Thriller', 'Crime', 'Drama', 'Horror', 'Sci-Fi', 'Action', 'Adventure', 'Comedy', 'Fantasy', 'Horror', 'Adventure', 'Drama', 'Romance', 'Drama', 'War', 'Action', 'Crime', 'Drama', 'Thriller', 'Crime', 'Horror', 'Action', 'Comedy', 'Musical', 'Crime', 'Drama', 'Drama', 'War', 'Adventure', 'Animation', 'Children', 'Comedy', 'Sci-Fi', 'Action', 'Drama', 'Romance', 'War', 'Drama', 'Drama', 'Romance', 'Crime', 'Drama', 'Drama', 'Comedy', 'Romance', 'Drama', 'Drama', 'Mystery', 'Sci-Fi', 'Action', 'Drama', 'War', 'Comedy', 'Crime', 'Comedy', 'Drama', 'Romance', 'Comedy', 'Drama', 'Romance', 'Drama', 'Comedy', 'Action', 'Sci-Fi', 'Thriller', 'Comedy', 'Fantasy', 'Horror', 'Drama', 'War', 'Comedy', 'Drama', 'Comedy', 'Drama', 'Romance', 'Crime', 'Drama', 'Film-Noir', 'Thriller', 'Drama', 'Comedy', 'Drama', 'Romance', 'Crime', 'Film-Noir', 'Thriller', 'Action', 'Crime', 'Romance', 'Thriller', 'Adventure', 'Drama', 'War', 'Drama', 'Fantasy', 'Crime', 'Film-Noir', 'Mystery', 'Thriller', 'Drama', 'Sci-Fi', 'Thriller', 'Action', 'Adventure', 'Drama', 'Western', 'Comedy', 'Horror', 'Sci-Fi', 'Comedy', 'Musical', 'War', 'Comedy', 'Romance', 'Horror', 'Adventure', 'Drama', 'Crime', 'Film-Noir', 'Thriller', 'Action', 'Comedy', 'Fantasy', 'Horror', 'Action', 'Adventure', 'Drama', 'War', 'Drama', 'War', 'Action', 'Drama', 'Mystery', 'Romance', 'Thriller', 'Comedy', 'Fantasy', 'Romance', 'Drama', 'Western', 'Crime', 'Thriller', 'War', 'Comedy', 'Drama', 'Comedy', 'Mystery', 'Thriller', 'Adventure', 'Comedy', 'Sci-Fi', 'Comedy', 'Crime', 'Drama', 'Drama', 'War', 'Comedy', 'Drama', 'Film-Noir', 'Action', 'Adventure', 'Animation', 'Sci-Fi', 'Action', 'Adventure', 'Fantasy', 'Drama', 'Comedy', 'Drama', 'Romance', 'Comedy', 'Fantasy', 'Comedy', 'Drama', 'Drama', 'Comedy', 'Drama', 'War', 'Animation', 'Children', 'Fantasy', 'Musical', 'Drama', 'Western', 'Crime', 'Film-Noir', 'Mystery', 'Comedy', 'Drama', 'Romance', 'Action', 'Adventure', 'Drama', 'Comedy', 'Documentary', 'Drama', 'Romance', 'Action', 'Adventure', 'Comedy', 'Drama', 'Drama', 'Drama', 'Drama', 'Romance', 'Comedy', 'Drama', 'Musical', 'Drama', 'War', 'Comedy', 'Drama', 'Drama', 'Sci-Fi', 'Children', 'Drama', 'Fantasy', 'Adventure', 'Drama', 'Action', 'Western', 'Drama', 'Romance', 'Adventure', 'Drama', 'Sci-Fi', 'Comedy', 'Romance', 'Documentary', 'Drama', 'Comedy', 'Drama', 'Action', 'Horror', 'Sci-Fi', 'Thriller', 'Comedy', 'Horror', 'Thriller', 'Horror', 'Horror', 'Horror', 'Horror', 'Horror', 'Drama', 'Horror', 'Mystery', 'Thriller', 'Horror', 'Horror', 'Horror', 'Horror', 'Horror', 'Thriller', 'Horror', 'Thriller', 'Horror', 'Sci-Fi', 'Horror', 'Mystery', 'Horror', 'Thriller', 'Drama', 'Horror', 'Thriller', 'Fantasy', 'Horror', 'Romance', 'Thriller', 'Drama', 'Horror', 'Sci-Fi', 'Horror', 'Horror', 'Thriller', 'Thriller', 'Crime', 'Drama', 'Thriller', 'Drama', 'Fantasy', 'Horror', 'Thriller', 'Drama', 'Fantasy', 'Horror', 'Horror', 'Thriller', 'Horror', 'Horror', 'Horror', 'Mystery', 'Thriller', 'Crime', 'Drama', 'Thriller', 'Crime', 'Thriller', 'Comedy', 'Drama', 'Romance', 'Drama', 'Mystery', 'Horror', 'Thriller', 'Action', 'Adventure', 'Sci-Fi', 'Thriller', 'Drama', 'Romance', 'Drama', 'Children', 'Comedy', 'Documentary', 'Drama', 'Drama', 'Drama', 'Adventure', 'Children', 'Comedy', 'Action', 'Adventure', 'Thriller', 'Adventure', 'Sci-Fi', 'Action', 'Mystery', 'Sci-Fi', 'Action', 'Sci-Fi', 'Action', 'Adventure', 'Sci-Fi', 'Thriller', 'Action', 'Adventure', 'Sci-Fi', 'Adventure', 'Comedy', 'Sci-Fi', 'Action', 'Crime', 'Action', 'Comedy', 'Western', 'Action', 'Western', 'Comedy', 'Musical', 'Romance', 'Comedy', 'Musical', 'Romance', 'Action', 'Drama', 'Action', 'Drama', 'Thriller', 'Action', 'Horror', 'Horror', 'Thriller', 'Action', 'Horror', 'Comedy', 'Action', 'Comedy', 'Sci-Fi', 'Comedy', 'Drama', 'Drama', 'Romance', 'Comedy', 'Comedy', 'Drama', 'Action', 'Comedy', 'Crime', 'Drama', 'Sci-Fi', 'Drama', 'Romance', 'War', 'Drama', 'Drama', 'Adventure', 'Animation', 'Comedy', 'Crime', 'Crime', 'Drama', 'Mystery', 'Thriller', 'Comedy', 'Horror', 'Mystery', 'Thriller', 'Action', 'Romance', 'War', 'Western', 'Comedy', 'Drama', 'Fantasy', 'Romance', 'Crime', 'Drama', 'Romance', 'Drama', 'Drama', 'Comedy', 'Crime', 'Drama', 'Romance', 'Drama', 'Musical', 'Drama', 'Adventure', 'Drama', 'Crime', 'Drama', 'Mystery', 'Thriller', 'Drama', 'Comedy', 'Children', 'Action', 'Thriller', 'Drama', 'Action', 'Adventure', 'Comedy', 'Thriller', 'Comedy', 'Thriller', 'Action', 'Comedy', 'Action', 'Comedy', 'Crime', 'Drama', 'Thriller', 'Drama', 'Action', 'Thriller', 'Comedy', 'Comedy', 'Comedy', 'Romance', 'Drama', 'Comedy', 'War', 'Comedy', 'Drama', 'Crime', 'Comedy', 'Comedy', 'Romance', 'Comedy', 'Drama', 'Comedy', 'Comedy', 'Drama', 'Romance', 'Drama', 'Fantasy', 'Romance', 'Mystery', 'Thriller', 'Children', 'Comedy', 'Mystery', 'Comedy', 'Crime', 'Drama', 'Fantasy', 'Film-Noir', 'Mystery', 'Romance', 'Action', 'Drama', 'Crime', 'Drama', 'Comedy', 'Romance', 'Action', 'Comedy', 'Crime', 'Drama', 'Children', 'Comedy', 'Romance', 'Comedy', 'Drama', 'Romance', 'Action', 'Romance', 'Sci-Fi', 'Thriller', 'Drama', 'Thriller', 'Drama', 'Thriller', 'Comedy', 'Drama', 'Mystery', 'Romance', 'Comedy', 'Drama', 'Musical', 'Action', 'Drama', 'Thriller', 'Animation', 'Children', 'Musical', 'Comedy', 'Romance', 'Action', 'Adventure', 'Children', 'Drama', 'Romance', 'Action', 'Drama', 'Romance', 'Action', 'Adventure', 'Thriller', 'Comedy', 'Crime', 'Romance', 'Drama', 'Romance', 'Comedy', 'Drama', 'War', 'Comedy', 'Romance', 'Action', 'Drama', 'Thriller', 'Comedy', 'Action', 'Adventure', 'Comedy', 'Action', 'Thriller', 'Drama', 'Comedy', 'Action', 'Adventure', 'Comedy', 'Sci-Fi', 'Comedy', 'Drama', 'Drama', 'Comedy', 'Drama', 'Romance', 'Comedy', 'Romance', 'Comedy', 'Drama', 'Romance', 'Action', 'Adventure', 'Sci-Fi', 'Thriller', 'Drama', 'Comedy', 'Children', 'Drama', 'Drama', 'Romance', 'Comedy', 'Romance', 'Adventure', 'Children', 'Drama', 'Action', 'Adventure', 'Thriller', 'Drama', 'Romance', 'Action', 'Romance', 'Thriller', 'Action', 'Adventure', 'Fantasy', 'Thriller', 'Comedy', 'Drama', 'Romance', 'Comedy', 'Thriller', 'Adventure', 'Animation', 'Children', 'Comedy', 'Musical', 'Comedy', 'Romance', 'Comedy', 'Romance', 'Drama', 'Action', 'Crime', 'Drama', 'Thriller', 'Romance', 'Action', 'Comedy', 'Sci-Fi', 'Comedy', 'Adventure', 'Children', 'Children', 'Fantasy', 'Drama', 'Sci-Fi', 'Comedy', 'Action', 'Drama', 'Action', 'Adventure', 'Fantasy', 'Children', 'Comedy', 'Action', 'Crime', 'Drama', 'Thriller', 'Horror', 'Sci-Fi', 'Thriller', 'Action', 'Adventure', 'Sci-Fi', 'Thriller', 'Children', 'Comedy', 'Comedy', 'Romance', 'Comedy', 'Drama', 'Drama', 'Drama', 'Mystery', 'Romance', 'Thriller', 'Crime', 'Drama', 'Thriller', 'Action', 'Drama', 'Romance', 'Crime', 'Drama', 'Film-Noir', 'Comedy', 'Horror', 'Sci-Fi', 'Thriller', 'Action', 'Comedy', 'Adventure', 'Romance', 'Action', 'Adventure', 'Action', 'Thriller', 'Drama', 'Thriller', 'Action', 'Adventure', 'Thriller', 'Drama', 'Romance', 'Comedy', 'Drama', 'Comedy', 'Adventure', 'Drama', 'Action', 'Thriller', 'War', 'Crime', 'Film-Noir', 'Mystery', 'Thriller', 'Adventure', 'Drama', 'War', 'Crime', 'Drama', 'Mystery', 'Thriller', 'Drama', 'Horror', 'Drama', 'Drama', 'Mystery', 'Thriller', 'Action', 'Drama', 'Thriller', 'Crime', 'Drama', 'Mystery', 'Comedy', 'Romance', 'Action', 'Thriller', 'Drama', 'Drama', 'Comedy', 'Drama', 'Romance', 'Comedy', 'Drama', 'Comedy', 'Drama', 'Drama', 'Romance', 'Horror', 'Mystery', 'Thriller', 'Drama', 'Mystery', 'Thriller', 'Children', 'Comedy', 'Romance', 'Sci-Fi', 'Crime', 'Drama', 'Thriller', 'Comedy', 'Drama', 'Documentary', 'Drama', 'Documentary', 'Drama', 'Sci-Fi', 'Thriller', 'Children', 'Drama', 'Fantasy', 'Drama', 'Horror', 'Thriller', 'Drama', 'Romance', 'Romance', 'Thriller', 'Drama', 'Drama', 'Crime', 'Mystery', 'Thriller', 'Crime', 'Comedy', 'War', 'Comedy', 'Action', 'Drama', 'Drama', 'War', 'Crime', 'Drama', 'Thriller', 'Drama', 'Drama', 'Drama', 'Romance', 'Thriller', 'Crime', 'Thriller', 'Action', 'Sci-Fi', 'Comedy', 'Drama', 'Drama', 'Romance', 'Comedy', 'Drama', 'Romance', 'Action', 'Adventure', 'Fantasy', 'Comedy', 'Drama', 'Sci-Fi', 'Drama', 'Romance', 'Drama', 'Romance', 'Drama', 'Romance', 'Crime', 'Thriller', 'Action', 'Thriller', 'Adventure', 'Animation', 'Children', 'Drama', 'Musical', 'Comedy', 'Crime', 'Thriller', 'Action', 'Horror', 'Sci-Fi', 'Drama', 'Mystery', 'Drama', 'Drama', 'Drama', 'War', 'Comedy', 'Drama', 'Comedy', 'Drama', 'Children', 'Comedy', 'Fantasy', 'Comedy', 'Drama', 'Romance', 'Children', 'Comedy', 'Crime', 'Drama', 'Mystery', 'Children', 'Comedy', 'Comedy', 'Horror', 'Mystery', 'Thriller', 'Thriller', 'Drama', 'Drama', 'Romance', 'Action', 'Adventure', 'Thriller', 'Action', 'Adventure', 'Drama', 'Sci-Fi', 'Drama', 'Romance', 'Crime', 'Drama', 'Thriller', 'Drama', 'Comedy', 'Comedy', 'Crime', 'Drama', 'Romance', 'Comedy', 'Drama', 'Drama', 'Romance', 'Action', 'Children', 'Comedy', 'Comedy', 'Comedy', 'Adventure', 'Film-Noir', 'Sci-Fi', 'Thriller', 'Action', 'Crime', 'Thriller', 'Comedy', 'Crime', 'Drama', 'Fantasy', 'Thriller', 'Comedy', 'Romance', 'Drama', 'Romance', 'Drama', 'Comedy', 'Action', 'Horror', 'Sci-Fi', 'Drama', 'Romance', 'Action', 'Crime', 'Thriller', 'Crime', 'Romance', 'Thriller', 'Horror', 'Action', 'Comedy', 'Musical', 'Comedy', 'Romance', 'Sci-Fi', 'Thriller', 'Crime', 'Drama', 'Mystery', 'Romance', 'Thriller', 'Comedy', 'Drama', 'Romance', 'Crime', 'Thriller', 'Crime', 'Drama', 'Thriller', 'Action', 'Crime', 'Thriller', 'Comedy', 'Comedy', 'Drama', 'Documentary', 'IMAX', 'Thriller', 'Comedy', 'Crime', 'Drama', 'Mystery', 'Thriller', 'Action', 'Adventure', 'Drama', 'Crime', 'Drama', 'Crime', 'Drama', 'Mystery', 'Thriller', 'Adventure', 'Children', 'Comedy', 'Drama', 'Crime', 'Drama', 'Comedy', 'Drama', 'Children', 'Comedy', 'Drama', 'Comedy', 'Drama', 'Comedy', 'Romance', 'Comedy', 'Thriller', 'Comedy', 'Drama', 'Adventure', 'Children', 'Comedy', 'Documentary', 'Drama', 'Romance', 'Action', 'Adventure', 'Sci-Fi', 'Action', 'Drama', 'Thriller', 'Crime', 'Drama', 'Mystery', 'Thriller', 'Drama', 'Fantasy', 'Romance', 'Comedy', 'Drama', 'Comedy', 'Comedy', 'Drama', 'Drama', 'Thriller', 'Drama', 'Romance', 'Comedy', 'Mystery', 'Thriller', 'Adventure', 'Children', 'Comedy', 'Fantasy', 'Comedy', 'Documentary', 'Comedy', 'Action', 'Comedy', 'Drama', 'Drama', 'Horror', 'Sci-Fi', 'Comedy', 'Action', 'Comedy', 'Crime', 'Action', 'Adventure', 'Comedy', 'Drama', 'Crime', 'Drama', 'Romance', 'War', 'Comedy', 'Drama', 'Sci-Fi', 'Thriller', 'Adventure', 'Animation', 'Children', 'Fantasy', 'Musical', 'Action', 'Sci-Fi', 'Thriller', 'Comedy', 'Drama', 'Romance', 'Adventure', 'Comedy', 'Drama', 'Comedy', 'Drama', 'Romance', 'Adventure', 'Comedy', 'Western', 'Comedy', 'Drama', 'Romance', 'Drama', 'Mystery', 'Thriller', 'Horror', 'Thriller', 'Thriller', 'Drama', 'Adventure', 'Comedy', 'Romance', 'Comedy', 'Drama', 'Romance', 'Drama', 'Romance', 'Comedy', 'Drama', 'Drama', 'Romance', 'Comedy', 'Drama', 'Comedy', 'Romance', 'Adventure', 'Animation', 'Children', 'Comedy', 'Drama', 'Musical', 'Romance', 'Action', 'Crime', 'Mystery', 'Sci-Fi', 'Thriller', 'Comedy', 'Crime', 'Drama', 'Comedy', 'Comedy', 'Crime', 'Drama', 'Romance', 'Thriller', 'Drama', 'Mystery', 'Comedy', 'Drama', 'Drama', 'Romance', 'Action', 'Romance', 'Sci-Fi', 'Thriller', 'Action', 'Comedy', 'Crime', 'Thriller', 'Children', 'Comedy', 'Animation', 'Children', 'Fantasy', 'War', 'Drama', 'Sci-Fi', 'Thriller', 'Drama', 'Comedy', 'Romance', 'Horror', 'Sci-Fi', 'Musical', 'Action', 'Drama', 'War', 'Drama', 'Western', 'Drama', 'Romance', 'Adventure', 'Drama', 'Drama', 'Musical', 'Drama', 'Comedy', 'Romance', 'Drama', 'War', 'Comedy', 'Drama', 'Musical', 'Drama', 'Drama', 'War', 'Drama', 'Drama', 'Drama', 'Drama', 'Romance', 'War', 'Crime', 'Drama', 'Drama', 'Romance', 'Drama', 'Musical', 'Romance', 'Adventure', 'Comedy', 'Romance', 'Drama', 'Drama', 'Mystery', 'Drama', 'Musical', 'Drama', 'Action', 'Crime', 'Thriller', 'Drama', 'Drama', 'Drama', 'Drama', 'Comedy', 'Drama', 'Drama', 'Romance', 'Drama', 'Drama', 'Drama', 'Comedy', 'Crime', 'Drama', 'Mystery', 'Comedy', 'Sci-Fi', 'Comedy', 'Adventure', 'Fantasy', 'Musical', 'Comedy', 'Drama', 'Horror', 'Horror', 'Thriller', 'Horror', 'Thriller', 'Horror', 'Horror', 'Horror', 'Mystery', 'Thriller', 'Horror', 'Horror', 'Horror', 'Horror', 'Horror', 'Horror', 'Horror', 'Horror', 'Horror', 'Horror', 'Horror', 'Horror', 'Horror', 'Horror', 'Horror', 'Thriller', 'Horror', 'Thriller', 'Comedy', 'Horror', 'Thriller', 'Horror', 'Thriller', 'Horror', 'Thriller', 'Horror', 'Thriller', 'Horror', 'Mystery', 'Horror', 'Horror', 'Action', 'Comedy', 'Crime', 'Drama', 'Action', 'Comedy', 'Crime', 'Drama', 'Action', 'Comedy', 'Crime', 'Drama', 'Comedy', 'Horror', 'Comedy', 'Horror', 'Action', 'Adventure', 'Children', 'Comedy', 'Fantasy', 'Action', 'Comedy', 'Romance', 'Comedy', 'Crime', 'Drama', 'Film-Noir', 'Drama', 'Mystery', 'Sci-Fi', 'Thriller', 'Drama', 'Sci-Fi', 'Adventure', 'Comedy', 'Sci-Fi', 'Adventure', 'Comedy', 'Sci-Fi', 'Western', 'Action', 'Adventure', 'Drama', 'Children', 'Comedy', 'Fantasy', 'Children', 'Comedy', 'Fantasy', 'Children', 'Comedy', 'Western', 'Children', 'Fantasy', 'Musical', 'Animation', 'Children', 'Drama', 'Action', 'Adventure', 'Drama', 'Drama', 'Romance', 'Adventure', 'Sci-Fi', 'Drama', 'Crime', 'Drama', 'Mystery', 'Thriller', 'Drama', 'Mystery', 'Drama', 'Romance', 'Horror', 'Thriller', 'Comedy', 'Crime', 'Action', 'Drama', 'War', 'Children', 'Comedy', 'Adventure', 'Animation', 'Children', 'Fantasy', 'Children', 'Sci-Fi', 'Children', 'Comedy', 'Children', 'Comedy', 'Adventure', 'Children', 'Comedy', 'Children', 'Comedy', 'Sci-Fi', 'Children', 'Comedy', 'Action', 'Adventure', 'Children', 'Comedy', 'Children', 'Comedy', 'Adventure', 'Children', 'Fantasy', 'Comedy', 'Fantasy', 'Adventure', 'Children', 'Sci-Fi', 'Action', 'Animation', 'Children', 'Crime', 'Adventure', 'Children', 'Comedy', 'Adventure', 'Children', 'Comedy', 'Children', 'Comedy', 'Fantasy', 'Horror', 'Children', 'Comedy', 'Sci-Fi', 'Adventure', 'Children', 'Comedy', 'Fantasy', 'Sci-Fi', 'Action', 'Comedy', 'Western', 'Adventure', 'Children', 'Adventure', 'Children', 'Action', 'Crime', 'Drama', 'Mystery', 'Thriller', 'Children', 'Comedy', 'Romance', 'Comedy', 'Documentary', 'Comedy', 'Drama', 'Fantasy', 'Romance', 'Film-Noir', 'Drama', 'Romance', 'War', 'Drama', 'Fantasy', 'Mystery', 'Drama', 'Drama', 'Romance', 'Western', 'Drama', 'Comedy', 'Comedy', 'Crime', 'Drama', 'Romance', 'Drama', 'War', 'Drama', 'Mystery', 'Thriller', 'Adventure', 'Children', 'Animation', 'Children', 'Comedy', 'Musical', 'Animation', 'Children', 'Comedy', 'Romance', 'Animation', 'Children', 'Comedy', 'Musical', 'Romance', 'Children', 'Comedy', 'Children', 'Comedy', 'Musical', 'Children', 'Musical', 'Adventure', 'Animation', 'Children', 'Animation', 'Children', 'Fantasy', 'Musical', 'Adventure', 'Comedy', 'Musical', 'Adventure', 'Animation', 'Children', 'Adventure', 'Animation', 'Children', 'Crime', 'Drama', 'Children', 'Sci-Fi', 'Adventure', 'Animation', 'Children', 'Fantasy', 'Musical', 'Romance', 'Adventure', 'Children', 'Fantasy', 'Action', 'Adventure', 'Sci-Fi', 'Children', 'Comedy', 'Animation', 'Children', 'Musical', 'Children', 'Drama', 'Fantasy', 'Mystery', 'Thriller', 'Children', 'Comedy', 'Adventure', 'Animation', 'Children', 'Musical', 'Comedy', 'Fantasy', 'Romance', 'Animation', 'Children', 'Comedy', 'Musical', 'Adventure', 'Children', 'Fantasy', 'Western', 'Drama', 'Action', 'Adventure', 'Sci-Fi', 'Drama', 'War', 'Horror', 'Thriller', 'Comedy', 'Romance', 'Comedy', 'Comedy', 'Crime', 'Thriller', 'Comedy', 'Crime', 'Drama', 'Drama', 'Action', 'Adventure', 'Fantasy', 'Adventure', 'Animation', 'Children', 'Fantasy', 'Drama', 'Sci-Fi', 'Thriller', 'Horror', 'Drama', 'Horror', 'Horror', 'Thriller', 'Horror', 'Thriller', 'Animation', 'Children', 'Comedy', 'Drama', 'Fantasy', 'Children', 'Comedy', 'Fantasy', 'Comedy', 'Drama', 'Romance', 'Action', 'Crime', 'Mystery', 'Thriller', 'Crime', 'Drama', 'Romance', 'Drama', 'Drama', 'Adventure', 'Comedy', 'Comedy', 'Fantasy', 'Sci-Fi', 'Adventure', 'Children', 'Musical', 'Comedy', 'Sci-Fi', 'Animation', 'Children', 'Adventure', 'Animation', 'Children', 'Drama', 'Fantasy', 'Adventure', 'Animation', 'Children', 'Drama', 'Adventure', 'Fantasy', 'Adventure', 'Animation', 'Children', 'Comedy', 'Adventure', 'Animation', 'Children', 'Musical', 'Western', 'Adventure', 'Fantasy', 'Romance', 'Comedy', 'Romance', 'Comedy', 'Drama', 'Romance', 'Drama', 'Romance', 'Adventure', 'Drama', 'Fantasy', 'Comedy', 'Fantasy', 'Horror', 'Comedy', 'Fantasy', 'Horror', 'Adventure', 'Comedy', 'Comedy', 'Children', 'Comedy', 'Action', 'Adventure', 'Drama', 'Romance', 'Comedy', 'Drama', 'Comedy', 'Drama', 'Romance', 'Crime', 'Horror', 'Thriller', 'Drama', 'Horror', 'Thriller', 'Adventure', 'Children', 'Fantasy', 'Adventure', 'Children', 'Fantasy', 'Comedy', 'Horror', 'Action', 'Comedy', 'Drama', 'Horror', 'Comedy', 'Drama', 'Crime', 'Drama', 'Romance', 'Thriller', 'Action', 'Horror', 'Thriller', 'Comedy', 'Action', 'Comedy', 'Comedy', 'Drama', 'Romance', 'Comedy', 'Drama', 'Comedy', 'Fantasy', 'Drama', 'Romance', 'Crime', 'Drama', 'Thriller', 'Comedy', 'Thriller', 'Thriller', 'Thriller', 'Thriller', 'Drama', 'Mystery', 'Romance', 'Thriller', 'Drama', 'Film-Noir', 'Thriller', 'Adventure', 'Drama', 'Mystery', 'Thriller', 'Comedy', 'Mystery', 'Thriller', 'Crime', 'Drama', 'Film-Noir', 'Thriller', 'Mystery', 'Romance', 'Thriller', 'Drama', 'Drama', 'Action', 'Adventure', 'Fantasy', 'Action', 'Crime', 'Drama', 'Comedy', 'Action', 'Drama', 'Drama', 'War', 'Crime', 'Drama', 'Thriller', 'Mystery', 'Thriller', 'Comedy', 'Romance', 'Film-Noir', 'Mystery', 'Thriller', 'Drama', 'Drama', 'Mystery', 'Thriller', 'Thriller', 'Thriller', 'Drama', 'Thriller', 'Drama', 'Crime', 'Drama', 'Thriller', 'Drama', 'Horror', 'Mystery', 'Sci-Fi', 'Thriller', 'Drama', 'Comedy', 'Drama', 'Drama', 'Comedy', 'Comedy', 'Drama', 'Romance', 'Comedy', 'Romance', 'Comedy', 'Drama', 'Romance', 'Comedy', 'Comedy', 'Drama', 'Romance', 'Comedy', 'Comedy', 'Drama', 'Comedy', 'Fantasy', 'Comedy', 'Horror', 'Sci-Fi', 'Comedy', 'Romance', 'Comedy', 'Romance', 'Crime', 'Drama', 'Comedy', 'Comedy', 'Drama', 'Romance', 'Drama', 'Fantasy', 'Thriller', 'Comedy', 'Crime', 'Adventure', 'Comedy', 'Comedy', 'Romance', 'Mystery', 'Thriller', 'Crime', 'Drama', 'Thriller', 'Drama', 'Romance', 'Drama', 'Drama', 'Action', 'Comedy', 'Crime', 'Thriller', 'Action', 'Adventure', 'Sci-Fi', 'Action', 'Crime', 'Thriller', 'Horror', 'Thriller', 'Crime', 'Action', 'Crime', 'Drama', 'Comedy', 'Drama', 'Drama', 'Comedy', 'Horror', 'Sci-Fi', 'Thriller', 'Action', 'Horror', 'Sci-Fi', 'Thriller', 'Comedy', 'Crime', 'Drama', 'Comedy', 'Drama', 'Drama', 'Fantasy', 'Romance', 'Comedy', 'Romance', 'Adventure', 'Animation', 'Children', 'Comedy', 'Fantasy', 'Comedy', 'Comedy', 'Adventure', 'Drama', 'Fantasy', 'Romance', 'Thriller', 'Comedy', 'Comedy', 'Musical', 'Comedy', 'Drama', 'Musical', 'Drama', 'Comedy', 'Action', 'Crime', 'Drama', 'Sci-Fi', 'Drama', 'Drama', 'Drama', 'Comedy', 'Horror', 'Thriller', 'Drama', 'Fantasy', 'Mystery', 'Romance', 'Comedy', 'Drama', 'Drama', 'Thriller', 'Comedy', 'Drama', 'Fantasy', 'Action', 'Sci-Fi', 'War', 'Documentary', 'Comedy', 'Drama', 'Romance', 'War', 'Comedy', 'Fantasy', 'Horror', 'Thriller', 'Horror', 'Western', 'Crime', 'Drama', 'Comedy', 'Documentary', 'Comedy', 'Drama', 'Romance', 'Crime', 'Drama', 'Drama', 'Action', 'Thriller', 'Comedy', 'Drama', 'Drama', 'Horror', 'Mystery', 'Thriller', 'Comedy', 'Romance', 'Romance', 'Comedy', 'Drama', 'Action', 'Adventure', 'Drama', 'Thriller', 'Mystery', 'Sci-Fi', 'Thriller', 'Drama', 'Drama', 'Comedy', 'Thriller', 'Comedy', 'Drama', 'Comedy', 'Drama', 'Action', 'Thriller', 'Animation', 'Children', 'Comedy', 'Adventure', 'Animation', 'Children', 'Comedy', 'Comedy', 'Drama', 'Drama', 'War', 'Comedy', 'Drama', 'Comedy', 'Drama', 'Drama', 'Horror', 'Sci-Fi', 'Action', 'Horror', 'Sci-Fi', 'Thriller', 'Action', 'Sci-Fi', 'Action', 'Adventure', 'Fantasy', 'Horror', 'Adventure', 'Fantasy', 'Romance', 'Sci-Fi', 'Thriller', 'Adventure', 'Sci-Fi', 'Comedy', 'Drama', 'Romance', 'Action', 'Adventure', 'Drama', 'Comedy', 'Crime', 'Mystery', 'Comedy', 'Action', 'Adventure', 'Fantasy', 'Comedy', 'Drama', 'Comedy', 'Action', 'Adventure', 'Thriller', 'Horror', 'Sci-Fi', 'Comedy', 'Crime', 'Comedy', 'Crime', 'Comedy', 'Crime', 'Comedy', 'Crime', 'Comedy', 'Crime', 'Comedy', 'Crime', 'Adventure', 'Children', 'Drama', 'Comedy', 'Romance', 'Comedy', 'Crime', 'Drama', 'Romance', 'Crime', 'Horror', 'Thriller', 'Comedy', 'Crime', 'Drama', 'Thriller', 'Children', 'Comedy', 'Drama', 'Action', 'Drama', 'Romance', 'Sci-Fi', 'Animation', 'Musical', 'Comedy', 'Drama', 'Comedy', 'Drama', 'Romance', 'Comedy', 'Drama', 'Adventure', 'Children', 'Fantasy', 'Children', 'Drama', 'Fantasy', 'Western', 'Action', 'Adventure', 'Thriller', 'Action', 'Adventure', 'Drama', 'Thriller', 'Action', 'Adventure', 'Thriller', 'War', 'Action', 'Adventure', 'Comedy', 'Romance', 'Action', 'Adventure', 'Comedy', 'Romance', 'Comedy', 'Sci-Fi', 'Comedy', 'Sci-Fi', 'Action', 'Drama', 'Action', 'Drama', 'Action', 'Drama', 'Action', 'Drama', 'Comedy', 'Crime', 'Mystery', 'Thriller', 'Action', 'Adventure', 'Children', 'Fantasy', 'Mystery', 'Thriller', 'Drama', 'Romance', 'Comedy', 'Comedy', 'Drama', 'Comedy', 'Drama', 'Thriller', 'Drama', 'Action', 'Adventure', 'Drama', 'Action', 'Adventure', 'Children', 'Drama', 'Comedy', 'Comedy', 'Romance', 'Crime', 'Action', 'Drama', 'War', 'Horror', 'Sci-Fi', 'Action', 'Adventure', 'Drama', 'Fantasy', 'Thriller', 'Adventure', 'Children', 'Drama', 'Comedy', 'Drama', 'Drama', 'Drama', 'Drama', 'Comedy', 'Drama', 'War', 'Drama', 'Drama', 'Drama', 'Romance', 'Drama', 'Horror', 'Thriller', 'Comedy', 'Drama', 'Horror', 'Sci-Fi', 'Adventure', 'Comedy', 'Sci-Fi', 'Horror', 'Drama', 'Fantasy', 'Horror', 'Mystery', 'Sci-Fi', 'Drama', 'Horror', 'Sci-Fi', 'Thriller', 'Horror', 'Sci-Fi', 'Action', 'Comedy', 'Comedy', 'Crime', 'Horror', 'Horror', 'Horror', 'Comedy', 'Horror', 'Crime', 'Drama', 'Mystery', 'Thriller', 'Action', 'Comedy', 'Romance', 'Thriller', 'Comedy', 'Drama', 'Adventure', 'Comedy', 'Action', 'Adventure', 'Comedy', 'Comedy', 'Comedy', 'Drama', 'Action', 'Mystery', 'Thriller', 'Action', 'War', 'Adventure', 'Comedy', 'Western', 'Drama', 'Romance', 'Comedy', 'Romance', 'Adventure', 'Comedy', 'Thriller', 'Comedy', 'Romance', 'Drama', 'Horror', 'Thriller', 'Action', 'Thriller', 'Comedy', 'Romance', 'Comedy', 'Romance', 'Drama', 'Documentary', 'Animation', 'Sci-Fi', 'Comedy', 'Romance', 'Romance', 'Comedy', 'Sci-Fi', 'Comedy', 'Drama', 'Comedy', 'Crime', 'Drama', 'Comedy', 'Drama', 'Drama', 'Mystery', 'Thriller', 'Comedy', 'Drama', 'Romance', 'Crime', 'Film-Noir', 'Drama', 'Horror', 'Comedy', 'Horror', 'Horror', 'Horror', 'Horror', 'Comedy', 'Drama', 'Action', 'Drama', 'Thriller', 'Drama', 'Drama', 'Thriller', 'Action', 'Adventure', 'Drama', 'Thriller', 'Action', 'Horror', 'Sci-Fi', 'Sci-Fi', 'Action', 'Sci-Fi', 'Thriller', 'Western', 'Action', 'Adventure', 'Sci-Fi', 'Action', 'Drama', 'Sci-Fi', 'Action', 'Sci-Fi', 'Action', 'Sci-Fi', 'Action', 'Sci-Fi', 'Action', 'Sci-Fi', 'Action', 'Action', 'Drama', 'Thriller', 'Adventure', 'Documentary', 'Comedy', 'Action', 'Crime', 'Drama', 'Thriller', 'Drama', 'Comedy', 'Crime', 'Thriller', 'Drama', 'Romance', 'Drama', 'Horror', 'Action', 'Sci-Fi', 'Horror', 'Thriller', 'Drama', 'Horror', 'Thriller', 'Comedy', 'Horror', 'Sci-Fi', 'Thriller', 'Horror', 'Sci-Fi', 'Thriller', 'Comedy', 'Drama', 'Thriller', 'Comedy', 'Romance', 'Animation', 'Children', 'Horror', 'Thriller', 'Crime', 'Thriller', 'Drama', 'Drama', 'Musical', 'Romance', 'Animation', 'Children', 'Comedy', 'Action', 'Crime', 'Drama', 'Romance', 'Action', 'Sci-Fi', 'Thriller', 'Comedy', 'Romance', 'Drama', 'Musical', 'Comedy', 'Drama', 'Comedy', 'Drama', 'Crime', 'Mystery', 'Thriller', 'Comedy', 'Crime', 'Comedy', 'Romance', 'Action', 'Comedy', 'Comedy', 'Drama', 'Drama', 'Romance', 'Comedy', 'Crime', 'Thriller', 'Comedy', 'Crime', 'Drama', 'Comedy', 'Drama', 'Romance', 'Drama', 'Comedy', 'Drama', 'Romance', 'Sci-Fi', 'Thriller', 'Comedy', 'Drama', 'Comedy', 'Romance', 'Comedy', 'Comedy', 'Action', 'Sci-Fi', 'Thriller', 'Crime', 'Thriller', 'Comedy', 'Horror', 'Drama', 'Romance', 'Drama', 'Drama', 'Drama', 'Film-Noir', 'Comedy', 'Horror', 'Sci-Fi', 'Action', 'Horror', 'Sci-Fi', 'Adventure', 'Sci-Fi', 'Action', 'Crime', 'Action', 'Adventure', 'Comedy', 'Fantasy', 'Horror', 'Thriller', 'Comedy', 'Drama', 'Romance', 'Comedy', 'Fantasy', 'Comedy', 'Drama', 'Fantasy', 'Action', 'Adventure', 'Crime', 'Sci-Fi', 'Thriller', 'Action', 'Adventure', 'Sci-Fi', 'Comedy', 'Romance', 'Drama', 'Adventure', 'Drama', 'Mystery', 'Horror', 'Romance', 'Horror', 'Drama', 'Action', 'Adventure', 'Sci-Fi', 'Action', 'Sci-Fi', 'Action', 'Adventure', 'Sci-Fi', 'Action', 'Adventure', 'Sci-Fi', 'Horror', 'Drama', 'Horror', 'Sci-Fi', 'Horror', 'Horror', 'Drama', 'Fantasy', 'Horror', 'Horror', 'Horror', 'Sci-Fi', 'Comedy', 'Horror', 'Musical', 'Sci-Fi', 'Comedy', 'Documentary', 'Horror', 'Sci-Fi', 'Sci-Fi', 'Action', 'Drama', 'Sci-Fi', 'Horror', 'Sci-Fi', 'Thriller', 'Sci-Fi', 'Horror', 'Sci-Fi', 'War', 'War', 'Comedy', 'Romance', 'Drama', 'Sci-Fi', 'Thriller', 'Drama', 'Fantasy', 'Drama', 'Thriller', 'Documentary', 'Musical', 'Comedy', 'Romance', 'Sci-Fi', 'Drama', 'Action', 'Adventure', 'Comedy', 'Drama', 'Mystery', 'Adventure', 'Animation', 'Children', 'Drama', 'Crime', 'Drama', 'Mystery', 'Thriller', 'Comedy', 'Romance', 'Drama', 'Action', 'Crime', 'Documentary', 'Comedy', 'Drama', 'Comedy', 'Comedy', 'Drama', 'Romance', 'Sci-Fi', 'Comedy', 'Horror', 'Animation', 'Comedy', 'Musical', 'Action', 'Comedy', 'Sci-Fi', 'Western', 'Drama', 'Comedy', 'Romance', 'Thriller', 'Romance', 'Children', 'Comedy', 'Drama', 'Horror', 'Thriller', 'Drama', 'Mystery', 'Thriller', 'Horror', 'Thriller', 'Action', 'Comedy', 'Sci-Fi', 'Comedy', 'Fantasy', 'Sci-Fi', 'Comedy', 'Horror', 'Thriller', 'Action', 'Adventure', 'Children', 'Comedy', 'Action', 'Horror', 'Sci-Fi', 'Thriller', 'Action', 'Comedy', 'Fantasy', 'Comedy', 'Romance', 'Drama', 'Crime', 'Film-Noir', 'Crime', 'Film-Noir', 'Action', 'Drama', 'Romance', 'War', 'Drama', 'Romance', 'Drama', 'Romance', 'War', 'Crime', 'Drama', 'Drama', 'Romance', 'Adventure', 'Comedy', 'Romance', 'Adventure', 'Drama', 'Thriller', 'Action', 'Adventure', 'Comedy', 'Fantasy', 'Mystery', 'Comedy', 'Action', 'Drama', 'Thriller', 'Comedy', 'Drama', 'Drama', 'Horror', 'Sci-Fi', 'Action', 'Crime', 'Thriller', 'Comedy', 'Drama', 'Drama', 'Drama', 'Drama', 'Comedy', 'Horror', 'Musical', 'Comedy', 'Horror', 'Action', 'Adventure', 'Comedy', 'Drama', 'Mystery', 'Comedy', 'Drama', 'Comedy', 'Drama', 'Comedy', 'Mystery', 'Horror', 'Drama', 'Comedy', 'Adventure', 'Animation', 'Children', 'Drama', 'Sci-Fi', 'Drama', 'Horror', 'Mystery', 'Action', 'Mystery', 'Crime', 'Drama', 'Romance', 'Thriller', 'Comedy', 'Drama', 'Comedy', 'Drama', 'Crime', 'Drama', 'Comedy', 'Drama', 'Comedy', 'Comedy', 'Romance', 'Drama', 'Comedy', 'Horror', 'Horror', 'Comedy', 'Horror', 'Comedy', 'Horror', 'Horror', 'Thriller', 'Comedy', 'Comedy', 'Comedy', 'Horror', 'Romance', 'Thriller', 'Adventure', 'Comedy', 'Romance', 'Comedy', 'Comedy', 'Comedy', 'Drama', 'Fantasy', 'Romance', 'Children', 'Comedy', 'Comedy', 'Adventure', 'Animation', 'Children', 'Drama', 'Fantasy', 'Drama', 'Romance', 'Action', 'Drama', 'Romance', 'Thriller', 'Crime', 'Drama', 'Mystery', 'Romance', 'Thriller', 'Children', 'Comedy', 'Comedy', 'Romance', 'Comedy', 'Thriller', 'Action', 'Sci-Fi', 'Action', 'Sci-Fi', 'Animation', 'Horror', 'Mystery', 'Thriller', 'Action', 'Thriller', 'Documentary', 'Action', 'War', 'Action', 'War', 'Action', 'Action', 'War', 'Drama', 'Mystery', 'Romance', 'Thriller', 'Drama', 'Adventure', 'Romance', 'Documentary', 'Drama', 'Action', 'Adventure', 'Fantasy', 'Horror', 'Sci-Fi', 'Thriller', 'Children', 'Comedy', 'Comedy', 'Action', 'Adventure', 'Comedy', 'Thriller', 'Comedy', 'Comedy', 'Romance', 'Drama', 'Drama', 'Thriller', 'Horror', 'Mystery', 'Thriller', 'Comedy', 'Romance', 'Drama', 'Mystery', 'Adventure', 'Children', 'Comedy', 'Drama', 'Adventure', 'Drama', 'Romance', 'Drama', 'Adventure', 'Sci-Fi', 'Thriller', 'Drama', 'Thriller', 'Adventure', 'Animation', 'Comedy', 'Fantasy', 'Musical', 'Drama', 'Romance', 'Documentary', 'Musical', 'Comedy', 'Comedy', 'Drama', 'Drama', 'Adventure', 'Comedy', 'Musical', 'Comedy', 'Drama', 'Comedy', 'Horror', 'Thriller', 'Horror', 'Comedy', 'Adventure', 'Drama', 'Thriller', 'Adventure', 'Fantasy', 'Comedy', 'Musical', 'Romance', 'Drama', 'Mystery', 'Romance', 'Animation', 'Children', 'Fantasy', 'Musical', 'Horror', 'Action', 'Adventure', 'Comedy', 'Action', 'Adventure', 'Comedy', 'Action', 'Crime', 'Drama', 'Thriller', 'Drama', 'Comedy', 'Drama', 'Comedy', 'Romance', 'Drama', 'Romance', 'Children', 'Comedy', 'Action', 'Comedy', 'Comedy', 'Romance', 'Comedy', 'Drama', 'Action', 'Adventure', 'Comedy', 'Drama', 'War', 'Comedy', 'Action', 'Drama', 'Action', 'Adventure', 'Drama', 'Drama', 'Romance', 'Western', 'Comedy', 'War', 'Horror', 'Mystery', 'Adventure', 'Animation', 'Children', 'Horror', 'Sci-Fi', 'Horror', 'Sci-Fi', 'Horror', 'Mystery', 'Thriller', 'Horror', 'Thriller', 'Action', 'Adventure', 'Drama', 'Drama', 'Romance', 'Comedy', 'Drama', 'Crime', 'Drama', 'Thriller', 'Comedy', 'Action', 'Adventure', 'Sci-Fi', 'Thriller', 'Crime', 'Thriller', 'Comedy', 'Drama', 'Romance', 'War', 'Western', 'Crime', 'Drama', 'Western', 'Action', 'Comedy', 'Drama', 'Comedy', 'Drama', 'Drama', 'Romance', 'Drama', 'Drama', 'Romance', 'Documentary', 'Comedy', 'Crime', 'Drama', 'Fantasy', 'Drama', 'Comedy', 'Romance', 'Adventure', 'Comedy', 'Romance', 'Comedy', 'Drama', 'Thriller', 'Drama', 'Film-Noir', 'Mystery', 'Romance', 'Musical', 'Romance', 'War', 'Drama', 'Romance', 'Drama', 'Romance', 'Action', 'Drama', 'War', 'Comedy', 'Musical', 'Action', 'Adventure', 'Thriller', 'Action', 'Adventure', 'Thriller', 'Action', 'Adventure', 'Thriller', 'Adventure', 'Drama', 'Romance', 'Action', 'Western', 'Crime', 'Drama', 'Thriller', 'Children', 'Comedy', 'Action', 'Crime', 'Thriller', 'Action', 'Crime', 'Drama', 'Thriller', 'Comedy', 'Drama', 'Comedy', 'Romance', 'Drama', 'Action', 'Adventure', 'Drama', 'Drama', 'Thriller', 'Adventure', 'Comedy', 'Fantasy', 'Sci-Fi', 'Drama', 'Romance', 'Adventure', 'Drama', 'Drama', 'Fantasy', 'Musical', 'Drama', 'War', 'Comedy', 'Crime', 'Drama', 'Horror', 'Thriller', 'Comedy', 'Drama', 'Drama', 'Comedy', 'Drama', 'Comedy', 'Romance', 'Drama', 'Horror', 'Thriller', 'Thriller', 'Documentary', 'Action', 'Crime', 'Drama', 'Sci-Fi', 'Thriller', 'Action', 'Crime', 'Sci-Fi', 'Thriller', 'Adventure', 'Animation', 'Children', 'Comedy', 'Crime', 'Fantasy', 'Mystery', 'Drama', 'Action', 'Adventure', 'Thriller', 'Action', 'Adventure', 'Thriller', 'Action', 'Adventure', 'Thriller', 'Horror', 'Thriller', 'Action', 'Adventure', 'Thriller', 'Horror', 'Thriller', 'Drama', 'Comedy', 'Drama', 'Fantasy', 'Action', 'Adventure', 'Animation', 'Drama', 'Fantasy', 'Documentary', 'Comedy', 'Drama', 'Romance', 'War', 'Comedy', 'Romance', 'Thriller', 'Drama', 'Thriller', 'Documentary', 'Drama', 'Sci-Fi', 'Drama', 'Drama', 'Comedy', 'Horror', 'Comedy', 'Thriller', 'Horror', 'Horror', 'Comedy', 'Horror', 'Sci-Fi', 'Crime', 'Drama', 'Action', 'Drama', 'Horror', 'Comedy', 'War', 'Horror', 'Sci-Fi', 'Comedy', 'Action', 'Drama', 'Action', 'Adventure', 'Comedy', 'Action', 'Drama', 'Sci-Fi', 'Thriller', 'Comedy', 'Sci-Fi', 'Adventure', 'Animation', 'Children', 'Comedy', 'Musical', 'Comedy', 'Drama', 'War', 'Adventure', 'Drama', 'Western', 'Drama', 'Comedy', 'Comedy', 'Comedy', 'Comedy', 'Comedy', 'Mystery', 'Romance', 'Thriller', 'Comedy', 'Drama', 'Comedy', 'Romance', 'Comedy', 'Comedy', 'Drama', 'Adventure', 'Comedy', 'Fantasy', 'Drama', 'War', 'Adventure', 'Animation', 'Children', 'Fantasy', 'Sci-Fi', 'Thriller', 'Crime', 'Drama', 'Thriller', 'Comedy', 'Comedy', 'Drama', 'Musical', 'Comedy', 'Musical', 'Action', 'Drama', 'War', 'Drama', 'Thriller', 'Drama', 'Thriller', 'Action', 'Drama', 'War', 'Comedy', 'Drama', 'Drama', 'Mystery', 'Adventure', 'Comedy', 'Sci-Fi', 'Comedy', 'Drama', 'Comedy', 'Romance', 'Drama', 'Romance', 'Western', 'Drama', 'Horror', 'Comedy', 'Documentary', 'Drama', 'Comedy', 'Drama', 'Romance', 'Fantasy', 'Horror', 'Mystery', 'Romance', 'Action', 'Adventure', 'Thriller', 'Drama', 'Children', 'Comedy', 'Fantasy', 'Musical', 'Comedy', 'Fantasy', 'Romance', 'Comedy', 'Fantasy', 'Drama', 'Drama', 'Drama', 'War', 'Drama', 'Western', 'Drama', 'Romance', 'Drama', 'Comedy', 'Comedy', 'Drama', 'Romance', 'Drama', 'Comedy', 'Drama', 'Romance', 'Drama', 'Drama', 'Thriller', 'Crime', 'Romance', 'Thriller', 'Drama', 'Romance', 'Action', 'Comedy', 'Crime', 'Thriller', 'Drama', 'Mystery', 'Drama', 'Romance', 'Action', 'Drama', 'Comedy', 'Drama', 'Fantasy', 'Romance', 'Drama', 'Drama', 'Drama', 'Action', 'Fantasy', 'Horror', 'Mystery', 'Thriller', 'Adventure', 'Animation', 'Children', 'Comedy', 'Fantasy', 'Drama', 'Drama', 'Romance', 'War', 'Comedy', 'Drama', 'Comedy', 'Drama', 'Comedy', 'Drama', 'Comedy', 'Crime', 'Drama', 'Comedy', 'Drama', 'Drama', 'War', 'Drama', 'Drama', 'Drama', 'Documentary', 'Musical', 'Drama', 'War', 'Drama', 'Comedy', 'Crime', 'Drama', 'Drama', 'Drama', 'Thriller', 'Drama', 'Action', 'Adventure', 'Fantasy', 'Drama', 'Romance', 'Drama', 'Romance', 'Sci-Fi', 'Children', 'Comedy', 'Fantasy', 'Drama', 'Animation', 'Children', 'Musical', 'IMAX', 'Drama', 'Drama', 'Romance', 'Comedy', 'Drama', 'Comedy', 'Drama', 'Musical', 'Action', 'Drama', 'Comedy', 'Drama', 'Adventure', 'Drama', 'Crime', 'Drama', 'Thriller', 'Drama', 'Drama', 'Comedy', 'Drama', 'Adventure', 'Comedy', 'Sci-Fi', 'Drama', 'Mystery', 'Thriller', 'Comedy', 'Drama', 'Drama', 'Drama', 'Documentary', 'Drama', 'Drama', 'Drama', 'Children', 'Drama', 'Adventure', 'Sci-Fi', 'Thriller', 'Drama', 'Drama', 'Romance', 'Drama', 'War', 'Action', 'Crime', 'Romance', 'Thriller', 'Crime', 'Drama', 'Comedy', 'Drama', 'Drama', 'Thriller', 'Action', 'Mystery', 'Thriller', 'Romance', 'Action', 'Comedy', 'Comedy', 'Drama', 'Romance', 'Drama', 'Animation', 'Children', 'Drama', 'Drama', 'Mystery', 'Thriller', 'Drama', 'Drama', 'Drama', 'Comedy', 'Romance', 'Thriller', 'Comedy', 'Thriller', 'Comedy', 'Comedy', 'Comedy', 'Comedy', 'Romance', 'Drama', 'Comedy', 'Crime', 'Comedy', 'Drama', 'Thriller', 'Drama', 'Drama', 'Mystery', 'Drama', 'Comedy', 'Comedy', 'Comedy', 'Drama', 'Action', 'Crime', 'Drama', 'Thriller', 'Drama', 'Romance', 'Thriller', 'Comedy', 'Fantasy', 'Adventure', 'Drama', 'Romance', 'Drama', 'Comedy', 'Drama', 'Romance', 'Crime', 'Drama', 'Mystery', 'Thriller', 'Comedy', 'Drama', 'Action', 'Comedy', 'Horror', 'Action', 'Crime', 'Drama', 'Thriller', 'Comedy', 'Crime', 'Drama', 'Thriller', 'Action', 'Crime', 'Thriller', 'Western', 'Action', 'Comedy', 'Drama', 'Romance', 'Sci-Fi', 'Comedy', 'Drama', 'Romance', 'Drama', 'Crime', 'Drama', 'Comedy', 'Horror', 'Mystery', 'Thriller', 'Drama', 'Thriller', 'Action', 'Crime', 'Drama', 'Thriller', 'Comedy', 'Horror', 'Documentary', 'Action', 'Comedy', 'Mystery', 'Romance', 'Adventure', 'Drama', 'Comedy', 'Animation', 'Children', 'Drama', 'Horror', 'Drama', 'Drama', 'Crime', 'Drama', 'Thriller', 'Comedy', 'Drama', 'Horror', 'Sci-Fi', 'Thriller', 'Comedy', 'Crime', 'Comedy', 'Documentary', 'Comedy', 'Comedy', 'Drama', 'Romance', 'Comedy', 'Drama', 'Comedy', 'Drama', 'Comedy', 'Musical', 'Action', 'Thriller', 'Comedy', 'Drama', 'Comedy', 'Crime', 'Comedy', 'Comedy', 'Drama', 'Comedy', 'Sci-Fi', 'Documentary', 'Crime', 'Drama', 'Drama', 'Romance', 'Drama', 'Romance', 'Drama', 'Crime', 'Drama', 'Film-Noir', 'Thriller', 'Documentary', 'Comedy', 'Drama', 'War', 'Horror', 'Adventure', 'Children', 'Adventure', 'Drama', 'Drama', 'Comedy', 'Romance', 'Sci-Fi', 'Fantasy', 'Horror', 'Mystery', 'Thriller', 'Drama', 'Romance', 'Comedy', 'Drama', 'Fantasy', 'Romance', 'Comedy', 'Drama', 'Drama', 'Romance', 'Comedy', 'Drama', 'Romance', 'Crime', 'Drama', 'Comedy', 'Drama', 'Crime', 'Film-Noir', 'Drama', 'Western', 'Romance', 'Western', 'Drama', 'Thriller', 'Action', 'War', 'Drama', 'Drama', 'Drama', 'Action', 'Crime', 'Comedy', 'Drama', 'Mystery', 'Thriller', 'Comedy', 'Mystery', 'Children', 'Comedy', 'Action', 'Adventure', 'Adventure', 'Crime', 'Drama', 'Romance', 'Comedy', 'Comedy', 'Comedy', 'Fantasy', 'Romance', 'Comedy', 'Romance', 'Comedy', 'Adventure', 'Children', 'Comedy', 'Musical', 'Children', 'Comedy', 'Children', 'Comedy', 'Musical', 'Adventure', 'Animation', 'Children', 'Fantasy', 'Adventure', 'Sci-Fi', 'Comedy', 'Drama', 'Romance', 'Drama', 'Thriller', 'Action', 'Drama', 'Action', 'Drama', 'Action', 'Adventure', 'Drama', 'War', 'Drama', 'Drama', 'Thriller', 'Comedy', 'Drama', 'Adventure', 'Children', 'Drama', 'Drama', 'Romance', 'War', 'Drama', 'Adventure', 'Comedy', 'Adventure', 'Crime', 'Drama', 'Drama', 'Thriller', 'Comedy', 'Comedy', 'Romance', 'Drama', 'Drama', 'Drama', 'Musical', 'Drama', 'Romance', 'Drama', 'Animation', 'Comedy', 'Action', 'Crime', 'Drama', 'Action', 'Drama', 'Action', 'Drama', 'Action', 'Drama', 'Action', 'Drama', 'Crime', 'Drama', 'Film-Noir', 'Drama', 'Romance', 'Action', 'Children', 'Comedy', 'Fantasy', 'Sci-Fi', 'Action', 'Children', 'Fantasy', 'Action', 'Adventure', 'Children', 'Comedy', 'Fantasy', 'Action', 'Drama', 'War', 'Action', 'Crime', 'Drama', 'Action', 'Mystery', 'Thriller', 'Comedy', 'Drama', 'Drama', 'Comedy', 'Drama', 'War', 'Drama', 'Comedy', 'Drama', 'Action', 'Crime', 'Romance', 'Thriller', 'Drama', 'Romance', 'Comedy', 'Romance', 'Drama', 'Thriller', 'Drama', 'Drama', 'Horror', 'Adventure', 'Drama', 'Thriller', 'Comedy', 'Drama', 'Romance', 'Comedy', 'Fantasy', 'Drama', 'Western', 'Drama', 'Drama', 'Adventure', 'Drama', 'Adventure', 'Drama', 'Sci-Fi', 'Comedy', 'Sci-Fi', 'Thriller', 'Drama', 'Romance', 'Horror', 'Mystery', 'Comedy', 'Drama', 'Drama', 'Adventure', 'Fantasy', 'Romance', 'Drama', 'Romance', 'Comedy', 'Drama', 'Romance', 'Animation', 'Children', 'Thriller', 'Adventure', 'Comedy', 'Fantasy', 'Adventure', 'Comedy', 'Romance', 'Adventure', 'Drama', 'Western', 'Drama', 'Comedy', 'Drama', 'Drama', 'Horror', 'Thriller', 'Comedy', 'Drama', 'Comedy', 'Romance', 'Drama', 'Drama', 'Mystery', 'Sci-Fi', 'Comedy', 'Drama', 'Drama', 'Mystery', 'Thriller', 'Comedy', 'Drama', 'Comedy', 'Action', 'Adventure', 'Drama', 'Thriller', 'Western', 'Drama', 'Thriller', 'Comedy', 'Drama', 'Romance', 'Drama', 'Thriller', 'Drama', 'Comedy', 'Romance', 'Comedy', 'Fantasy', 'Romance', 'Action', 'Drama', 'War', 'Comedy', 'Drama', 'Comedy', 'Romance', 'Comedy', 'Comedy', 'Drama', 'Action', 'Sci-Fi', 'Thriller', 'Drama', 'Romance', 'Crime', 'Thriller', 'Comedy', 'Drama', 'Romance', 'Drama', 'Crime', 'Horror', 'Mystery', 'Thriller', 'Comedy', 'Drama', 'Romance', 'Comedy', 'Drama', 'Comedy', 'Documentary', 'Comedy', 'Drama', 'Comedy', 'Drama', 'Musical', 'Drama', 'Horror', 'Thriller', 'Comedy', 'Drama', 'Comedy', 'Musical', 'Romance', 'Horror', 'Crime', 'Drama', 'Thriller', 'Comedy', 'Drama', 'Thriller', 'Drama', 'Romance', 'Action', 'Thriller', 'War', 'Drama', 'Romance', 'Mystery', 'Thriller', 'Comedy', 'Drama', 'Romance', 'Action', 'Horror', 'Children', 'Comedy', 'Comedy', 'Drama', 'Comedy', 'Drama', 'Comedy', 'Drama', 'Romance', 'Comedy', 'Romance', 'Comedy', 'Drama', 'Comedy', 'Drama', 'Horror', 'Sci-Fi', 'Horror', 'Sci-Fi', 'Horror', 'Sci-Fi', 'Action', 'Horror', 'Sci-Fi', 'Drama', 'Romance', 'Action', 'Adventure', 'Drama', 'Drama', 'Comedy', 'Action', 'Drama', 'Romance', 'Thriller', 'Drama', 'Romance', 'Horror', 'Comedy', 'Drama', 'Comedy', 'Drama', 'Animation', 'Sci-Fi', 'Action', 'Sci-Fi', 'Drama', 'Musical', 'Comedy', 'Comedy', 'Crime', 'Drama', 'Romance', 'Thriller', 'Comedy', 'Musical', 'Musical', 'Comedy', 'Musical', 'Romance', 'Adventure', 'Comedy', 'Documentary', 'Comedy', 'Romance', 'Adventure', 'Animation', 'Children', 'Comedy', 'Romance', 'Comedy', 'Comedy', 'Crime', 'Comedy', 'Comedy', 'Action', 'Adventure', 'Thriller', 'Action', 'Adventure', 'Comedy', 'Western', 'Documentary', 'Comedy', 'Horror', 'Thriller', 'Action', 'Drama', 'Romance', 'War', 'Adventure', 'Comedy', 'Romance', 'Comedy', 'Crime', 'Action', 'Adventure', 'Romance', 'Thriller', 'Thriller', 'Action', 'Adventure', 'Thriller', 'Drama', 'Action', 'Adventure', 'Sci-Fi', 'Thriller', 'Action', 'Adventure', 'Thriller', 'Comedy', 'Drama', 'Drama', 'Action', 'Drama', 'War', 'Comedy', 'Horror', 'Sci-Fi', 'Drama', 'Horror', 'Documentary', 'Action', 'Adventure', 'Drama', 'War', 'Drama', 'Horror', 'Sci-Fi', 'Horror', 'Sci-Fi', 'Thriller', 'Horror', 'Sci-Fi', 'Thriller', 'Horror', 'Sci-Fi', 'Thriller', 'Horror', 'Sci-Fi', 'Thriller', 'Horror', 'Sci-Fi', 'Thriller', 'Action', 'Comedy', 'Crime', 'Drama', 'Romance', 'Comedy', 'Comedy', 'Western', 'Adventure', 'Children', 'Adventure', 'Children', 'Adventure', 'Children', 'Comedy', 'Drama', 'Comedy', 'Musical', 'Romance', 'Drama', 'Horror', 'Documentary', 'Drama', 'Documentary', 'Musical', 'Documentary', 'Action', 'Drama', 'Thriller', 'Western', 'Action', 'Crime', 'Drama', 'Thriller', 'Crime', 'Drama', 'Film-Noir', 'Drama', 'Romance', 'Comedy', 'Drama', 'Romance', 'Horror', 'Sci-Fi', 'Thriller', 'Adventure', 'Animation', 'Fantasy', 'Sci-Fi', 'Comedy', 'Comedy', 'Comedy', 'Comedy', 'Comedy', 'Horror', 'Comedy', 'Horror', 'Comedy', 'Horror', 'Comedy', 'Horror', 'Comedy', 'Horror', 'Sci-Fi', 'Thriller', 'Action', 'Sci-Fi', 'Thriller', 'Action', 'Sci-Fi', 'Adventure', 'Drama', 'Romance', 'Sci-Fi', 'Drama', 'Sci-Fi', 'Crime', 'Drama', 'Sci-Fi', 'Thriller', 'Action', 'Adventure', 'Sci-Fi', 'Action', 'Adventure', 'Sci-Fi', 'Thriller', 'Action', 'Adventure', 'Sci-Fi', 'Action', 'Comedy', 'Romance', 'Film-Noir', 'Horror', 'Mystery', 'Thriller', 'Drama', 'Romance', 'Horror', 'Thriller', 'Horror', 'Action', 'Comedy', 'Crime', 'Thriller', 'Drama', 'Comedy', 'Drama', 'Drama', 'Comedy', 'Crime', 'Action', 'Comedy', 'Crime', 'Drama', 'Action', 'Crime', 'Comedy', 'Romance', 'Drama', 'Drama', 'Drama', 'War', 'Animation', 'Musical', 'Action', 'Thriller', 'Horror', 'Western', 'Crime', 'Drama', 'Film-Noir', 'Thriller', 'Action', 'Crime', 'Drama', 'Thriller', 'Drama', 'Mystery', 'Drama', 'Thriller', 'Horror', 'Drama', 'Crime', 'Drama', 'Drama', 'Drama', 'Western', 'Drama', 'Comedy', 'Romance', 'Action', 'Adventure', 'Comedy', 'Fantasy', 'Crime', 'Drama', 'Thriller', 'Drama', 'War', 'Comedy', 'Romance', 'Action', 'Crime', 'Thriller', 'Action', 'Adventure', 'Animation', 'Children', 'Sci-Fi', 'Drama', 'Drama', 'Animation', 'Children', 'Comedy', 'Adventure', 'Comedy', 'Action', 'Drama', 'War', 'Adventure', 'Animation', 'Children', 'Comedy', 'Fantasy', 'Drama', 'Thriller', 'Drama', 'Drama', 'Sci-Fi', 'Thriller', 'Comedy', 'Action', 'Crime', 'Drama', 'Thriller', 'Action', 'Crime', 'Thriller', 'Action', 'Crime', 'Thriller', 'Crime', 'Drama', 'Romance', 'Action', 'War', 'Action', 'War', 'Action', 'War', 'Action', 'Horror', 'Sci-Fi', 'Thriller', 'Action', 'Adventure', 'Fantasy', 'Comedy', 'Comedy', 'Drama', 'Romance', 'Crime', 'Drama', 'Comedy', 'Fantasy', 'Comedy', 'Horror', 'Comedy', 'Comedy', 'Drama', 'Mystery', 'Drama', 'Drama', 'Drama', 'Drama', 'Romance', 'Western', 'Action', 'Adventure', 'Sci-Fi', 'Comedy', 'Drama', 'Drama', 'Thriller', 'Drama', 'Horror', 'Mystery', 'Animation', 'Children', 'Drama', 'Mystery', 'Action', 'Sci-Fi', 'Western', 'Adventure', 'Fantasy', 'Drama', 'War', 'Comedy', 'Drama', 'Thriller', 'Drama', 'War', 'Comedy', 'Drama', 'Comedy', 'Drama', 'Comedy', 'Comedy', 'Drama', 'Romance', 'Drama', 'Drama', 'Romance', 'Comedy', 'Drama', 'Romance', 'Horror', 'Sci-Fi', 'Thriller', 'Action', 'Adventure', 'Comedy', 'Sci-Fi', 'Comedy', 'Horror', 'Thriller', 'Comedy', 'Horror', 'Horror', 'Sci-Fi', 'Adventure', 'Drama', 'Romance', 'Thriller', 'Action', 'Comedy', 'War', 'Action', 'Fantasy', 'Horror', 'Sci-Fi', 'Thriller', 'Horror', 'Horror', 'Horror', 'Action', 'Comedy', 'Horror', 'Drama', 'Drama', 'Comedy', 'Horror', 'Horror', 'Mystery', 'Thriller', 'Comedy', 'Comedy', 'Drama', 'Romance', 'Thriller', 'Comedy', 'Documentary', 'Comedy', 'Comedy', 'Drama', 'Horror', 'Thriller', 'Action', 'Adventure', 'Sci-Fi', 'Comedy', 'Documentary', 'Action', 'Comedy', 'Crime', 'Romance', 'Comedy', 'Drama', 'Drama', 'Western', 'Drama', 'Comedy', 'Western', 'Action', 'Adventure', 'Fantasy', 'Action', 'Thriller', 'Comedy', 'Comedy', 'Drama', 'Romance', 'Action', 'Adventure', 'Fantasy', 'Comedy', 'Crime', 'Drama', 'Romance', 'Thriller', 'Drama', 'Crime', 'Thriller', 'Crime', 'Thriller', 'Drama', 'Action', 'Comedy', 'Crime', 'Drama', 'Thriller', 'Comedy', 'Drama', 'Comedy', 'Drama', 'Crime', 'Thriller', 'Horror', 'Comedy', 'Romance', 'Drama', 'Musical', 'Comedy', 'Comedy', 'Drama', 'Drama', 'Drama', 'Drama', 'Horror', 'Horror', 'Horror', 'Drama', 'Fantasy', 'Mystery', 'Romance', 'Comedy', 'Comedy', 'Drama', 'Adventure', 'Sci-Fi', 'Adventure', 'Sci-Fi', 'Comedy', 'Horror', 'Comedy', 'Adventure', 'Horror', 'Sci-Fi', 'Horror', 'Sci-Fi', 'Horror', 'Sci-Fi', 'Sci-Fi', 'Thriller', 'Horror', 'Horror', 'Horror', 'Horror', 'Horror', 'Comedy', 'Adventure', 'Animation', 'Children', 'Action', 'Drama', 'Thriller', 'Action', 'Crime', 'Drama', 'Thriller', 'Comedy', 'Drama', 'Drama', 'Drama', 'Drama', 'Thriller', 'Comedy', 'Romance', 'Comedy', 'Action', 'Drama', 'Drama', 'Action', 'Adventure', 'Sci-Fi', 'Comedy', 'Horror', 'Musical', 'Animation', 'Children', 'Drama', 'Film-Noir', 'Crime', 'Film-Noir', 'Drama', 'Comedy', 'Drama', 'Comedy', 'Mystery', 'Action', 'Comedy', 'Crime', 'Horror', 'Mystery', 'Thriller', 'Adventure', 'Children', 'Action', 'Comedy', 'Drama', 'Romance', 'Comedy', 'Drama', 'Action', 'Sci-Fi', 'Thriller', 'Drama', 'Romance', 'Action', 'Adventure', 'Thriller', 'Drama', 'War', 'Action', 'Sci-Fi', 'Thriller', 'Drama', 'Romance', 'Children', 'Comedy', 'Fantasy', 'Documentary', 'Animation', 'Children', 'Comedy', 'Children', 'Comedy', 'Drama', 'Romance', 'War', 'Drama', 'Romance', 'Drama', 'Sci-Fi', 'Action', 'Drama', 'Romance', 'Action', 'Adventure', 'Comedy', 'Fantasy', 'Drama', 'Action', 'Adventure', 'Adventure', 'Drama', 'Comedy', 'Comedy', 'Action', 'Adventure', 'Thriller', 'Adventure', 'Animation', 'Children', 'Sci-Fi', 'Drama', 'Drama', 'War', 'Drama', 'Comedy', 'Comedy', 'Crime', 'Thriller', 'Comedy', 'Drama', 'Drama', 'Romance', 'Comedy', 'Sci-Fi', 'Adventure', 'Animation', 'Children', 'Comedy', 'Fantasy', 'Drama', 'Comedy', 'Romance', 'Drama', 'Thriller', 'Drama', 'Drama', 'Comedy', 'Drama', 'Romance', 'Romance', 'Comedy', 'Crime', 'Adventure', 'Comedy', 'Crime', 'Comedy', 'Drama', 'Horror', 'Drama', 'Romance', 'Western', 'Comedy', 'Drama', 'Thriller', 'War', 'Crime', 'Drama', 'Thriller', 'Romance', 'Western', 'Drama', 'Horror', 'Crime', 'Film-Noir', 'Mystery', 'Thriller', 'Children', 'Musical', 'Comedy', 'Drama', 'Romance', 'Action', 'Drama', 'War', 'Western', 'Crime', 'Drama', 'Drama', 'Drama', 'War', 'Horror', 'Sci-Fi', 'Crime', 'Drama', 'Thriller', 'Action', 'Comedy', 'Drama', 'Romance', 'Drama', 'Crime', 'Drama', 'Mystery', 'Thriller', 'Drama', 'Romance', 'Comedy', 'Drama', 'Romance', 'Comedy', 'Drama', 'Romance', 'Action', 'Crime', 'Thriller', 'Action', 'Crime', 'Drama', 'Action', 'Comedy', 'Drama', 'Romance', 'Comedy', 'Comedy', 'Romance', 'Drama', 'Drama', 'Thriller', 'Drama', 'Comedy', 'Sci-Fi', 'Comedy', 'Comedy', 'Comedy', 'Drama', 'Romance', 'Thriller', 'Action', 'Comedy', 'Crime', 'Thriller', 'Action', 'Comedy', 'Crime', 'Drama', 'Action', 'Crime', 'Mystery', 'Romance', 'Thriller', 'Comedy', 'Animation', 'Children', 'Comedy', 'Romance', 'Romance', 'Sci-Fi', 'Thriller', 'Comedy', 'Documentary', 'Action', 'Adventure', 'Drama', 'War', 'Comedy', 'Fantasy', 'Horror', 'Thriller', 'Drama', 'Thriller', 'Thriller', 'Drama', 'War', 'Drama', 'Comedy', 'Comedy', 'Drama', 'Action', 'Adventure', 'Comedy', 'Sci-Fi', 'Comedy', 'Horror', 'Thriller', 'Comedy', 'Sci-Fi', 'Drama', 'Comedy', 'Comedy', 'Horror', 'Thriller', 'Fantasy', 'Romance', 'Comedy', 'Fantasy', 'Comedy', 'Romance', 'Sci-Fi', 'Comedy', 'Romance', 'Action', 'Adventure', 'Fantasy', 'Sci-Fi', 'Adventure', 'Comedy', 'Horror', 'Comedy', 'Horror', 'Crime', 'Drama', 'Comedy', 'Romance', 'Action', 'Adventure', 'Drama', 'Thriller', 'Horror', 'Mystery', 'Drama', 'Romance', 'Drama', 'Mystery', 'Romance', 'Comedy', 'Drama', 'Romance', 'Horror', 'Thriller', 'Comedy', 'Romance', 'Drama', 'Comedy', 'Fantasy', 'Romance', 'Animation', 'Children', 'Drama', 'Romance', 'Comedy', 'Comedy', 'Drama', 'Fantasy', 'Romance', 'Animation', 'Comedy', 'Fantasy', 'Action', 'Thriller', 'Drama', 'Romance', 'Action', 'Comedy', 'Drama', 'Action', 'Drama', 'Thriller', 'Comedy', 'Romance', 'Documentary', 'Drama', 'Comedy', 'Drama', 'Drama', 'Action', 'Drama', 'Comedy', 'Comedy', 'Drama', 'Romance', 'Drama', 'Drama', 'Drama', 'Comedy', 'Drama', 'Romance', 'Musical', 'Drama', 'Romance', 'War', 'Horror', 'Mystery', 'Comedy', 'Sci-Fi', 'Action', 'Drama', 'Action', 'Crime', 'Drama', 'Comedy', 'Comedy', 'Drama', 'Romance', 'Action', 'Adventure', 'War', 'Action', 'Crime', 'Drama', 'Horror', 'Thriller', 'Drama', 'Crime', 'Mystery', 'Comedy', 'Comedy', 'Documentary', 'Crime', 'Drama', 'Comedy', 'Comedy', 'Comedy', 'Drama', 'War', 'Action', 'Thriller', 'Comedy', 'Mystery', 'Thriller', 'Comedy', 'Crime', 'Romance', 'Comedy', 'Romance', 'Comedy', 'Romance', 'Action', 'Adventure', 'Children', 'Comedy', 'Comedy', 'Drama', 'Thriller', 'Drama', 'Thriller', 'Documentary', 'Documentary', 'Action', 'Crime', 'Mystery', 'Thriller', 'Crime', 'Drama', 'Comedy', 'Fantasy', 'Animation', 'Children', 'Comedy', 'Crime', 'Drama', 'Thriller', 'Crime', 'Drama', 'Mystery', 'Comedy', 'Drama', 'Romance', 'Adventure', 'Comedy', 'Mystery', 'Romance', 'Comedy', 'Drama', 'Thriller', 'Drama', 'Comedy', 'Drama', 'Comedy', 'Drama', 'Drama', 'Romance', 'Drama', 'Action', 'Crime', 'Drama', 'Drama', 'Action', 'Thriller', 'Comedy', 'Comedy', 'Action', 'Adventure', 'Comedy', 'Thriller', 'Drama', 'Action', 'Adventure', 'Fantasy', 'Sci-Fi', 'Comedy', 'Documentary', 'Comedy', 'Drama', 'Romance', 'Drama', 'Fantasy', 'Comedy', 'Comedy', 'Romance', 'Comedy', 'Drama', 'Comedy', 'Drama', 'Musical', 'Comedy', 'Crime', 'Drama', 'Comedy', 'Children', 'Fantasy', 'Musical', 'Drama', 'Romance', 'Drama', 'Crime', 'Film-Noir', 'Thriller', 'Action', 'Comedy', 'Romance', 'Drama', 'Documentary', 'Romance', 'Thriller', 'Adventure', 'Animation', 'Children', 'Comedy', 'Fantasy', 'Romance', 'Comedy', 'Romance', 'Drama', 'Musical', 'Romance', 'Action', 'Drama', 'Romance', 'War', 'Adventure', 'Drama', 'Drama', 'Drama', 'Comedy', 'Romance', 'Comedy', 'Western', 'Drama', 'Adventure', 'War', 'Western', 'Drama', 'Crime', 'Drama', 'Thriller', 'Adventure', 'Western', 'Western', 'Comedy', 'Crime', 'Drama', 'Drama', 'Romance', 'War', 'Drama', 'War', 'Action', 'Adventure', 'Drama', 'War', 'Comedy', 'Drama', 'Romance', 'Comedy', 'Sci-Fi', 'Action', 'Crime', 'Drama', 'Drama', 'Comedy', 'Drama', 'Comedy', 'War', 'Comedy', 'Documentary', 'Action', 'Crime', 'Thriller', 'Action', 'War', 'Crime', 'Thriller', 'Action', 'Drama', 'Comedy', 'Musical', 'Romance', 'Comedy', 'Drama', 'Romance', 'Comedy', 'Comedy', 'Romance', 'Adventure', 'Animation', 'Children', 'Fantasy', 'Action', 'Adventure', 'Comedy', 'Action', 'Crime', 'Thriller', 'Adventure', 'Drama', 'Sci-Fi', 'Crime', 'Drama', 'Drama', 'Romance', 'Comedy', 'Comedy', 'Romance', 'Crime', 'Drama', 'Drama', 'Romance', 'Comedy', 'Crime', 'Drama', 'Mystery', 'Thriller', 'Drama', 'Children', 'Comedy', 'Action', 'Comedy', 'Drama', 'Crime', 'Drama', 'Thriller', 'Comedy', 'Drama', 'Fantasy', 'Romance', 'Drama', 'Comedy', 'Musical', 'Comedy', 'Crime', 'Action', 'Comedy', 'Action', 'Comedy', 'Comedy', 'Drama', 'Comedy', 'Horror', 'Drama', 'Fantasy', 'Horror', 'Crime', 'Drama', 'Western', 'Drama', 'Thriller', 'War', 'Drama', 'Comedy', 'Drama', 'Mystery', 'Thriller', 'Comedy', 'Crime', 'Drama', 'Comedy', 'Horror', 'Sci-Fi', 'Drama', 'Romance', 'Drama', 'Drama', 'Drama', 'Film-Noir', 'Drama', 'Comedy', 'Drama', 'Romance', 'Western', 'Drama', 'Drama', 'Film-Noir', 'Drama', 'Action', 'Comedy', 'Sci-Fi', 'Thriller', 'Mystery', 'Thriller', 'Horror', 'Action', 'Drama', 'Romance', 'Thriller', 'Drama', 'Action', 'Thriller', 'Action', 'Action', 'Comedy', 'Drama', 'Action', 'Sci-Fi', 'Thriller', 'Action', 'Crime', 'Adventure', 'Documentary', 'IMAX', 'Adventure', 'Animation', 'Fantasy', 'Sci-Fi', 'Comedy', 'Romance', 'Action', 'Drama', 'Drama', 'Crime', 'Drama', 'Thriller', 'Comedy', 'Drama', 'Romance', 'Comedy', 'Documentary', 'IMAX', 'Animation', 'Drama', 'Sci-Fi', 'IMAX', 'Documentary', 'IMAX', 'Documentary', 'IMAX', 'Comedy', 'Fantasy', 'Drama', 'War', 'Comedy', 'Drama', 'Romance', 'Drama', 'Action', 'Crime', 'Drama', 'Adventure', 'Comedy', 'Fantasy', 'Drama', 'Comedy', 'Romance', 'Drama', 'War', 'Comedy', 'Drama', 'Musical', 'Drama', 'War', 'Comedy', 'Adventure', 'Children', 'Comedy', 'Comedy', 'Drama', 'Horror', 'Sci-Fi', 'Drama', 'Comedy', 'Drama', 'Drama', 'Romance', 'Action', 'Crime', 'Drama', 'Comedy', 'Romance', 'Comedy', 'Comedy', 'Sci-Fi', 'Comedy', 'Romance', 'Film-Noir', 'Mystery', 'Thriller', 'Action', 'Comedy', 'Horror', 'Sci-Fi', 'Action', 'Crime', 'Thriller', 'Comedy', 'Comedy', 'Drama', 'Children', 'Comedy', 'Comedy', 'Drama', 'Romance', 'Crime', 'Mystery', 'Thriller', 'Drama', 'Comedy', 'Comedy', 'Comedy', 'Horror', 'Mystery', 'Thriller', 'Comedy', 'Horror', 'Adventure', 'Animation', 'Children', 'Fantasy', 'Comedy', 'Drama', 'Mystery', 'Romance', 'Thriller', 'Comedy', 'Drama', 'Fantasy', 'Comedy', 'Comedy', 'Romance', 'Sci-Fi', 'Comedy', 'Romance', 'Comedy', 'Drama', 'Action', 'Comedy', 'Horror', 'Sci-Fi', 'Adventure', 'Drama', 'Western', 'Drama', 'Romance', 'Western', 'Drama', 'Horror', 'Comedy', 'Sci-Fi', 'Comedy', 'Sci-Fi', 'Drama', 'Thriller', 'Action', 'Horror', 'Sci-Fi', 'Thriller', 'Action', 'Sci-Fi', 'Thriller', 'Drama', 'Comedy', 'Comedy', 'Mystery', 'Comedy', 'Drama', 'Fantasy', 'Romance', 'Action', 'Adventure', 'Action', 'Adventure', 'Comedy', 'Sci-Fi', 'Action', 'Crime', 'Drama', 'Comedy', 'Drama', 'Action', 'Thriller', 'Drama', 'War', 'Comedy', 'Romance', 'Action', 'Sci-Fi', 'Drama', 'Action', 'Comedy', 'Comedy', 'Drama', 'Romance', 'Comedy', 'Comedy', 'Musical', 'Sci-Fi', 'Drama', 'Musical', 'Mystery', 'Adventure', 'Comedy', 'Fantasy', 'Comedy', 'Action', 'War', 'Drama', 'Action', 'Drama', 'Mystery', 'Drama', 'Comedy', 'Drama', 'Comedy', 'Crime', 'Romance', 'Comedy', 'Romance', 'Comedy', 'Fantasy', 'Crime', 'Drama', 'Comedy', 'Crime', 'Mystery', 'Thriller', 'Crime', 'Drama', 'Drama', 'Action', 'Comedy', 'Crime', 'Action', 'Drama', 'Drama', 'Comedy', 'Comedy', 'Comedy', 'Romance', 'Comedy', 'Comedy', 'Animation', 'Comedy', 'Musical', 'Drama', 'Sci-Fi', 'Thriller', 'Drama', 'Romance', 'Sci-Fi', 'Comedy', 'Drama', 'Action', 'Crime', 'Thriller', 'Action', 'Action', 'Thriller', 'Adventure', 'Comedy', 'Action', 'Comedy', 'Drama', 'Action', 'Action', 'Adventure', 'Sci-Fi', 'Thriller', 'Comedy', 'Romance', 'Action', 'Crime', 'Thriller', 'Comedy', 'Drama', 'Comedy', 'Drama', 'Musical', 'Action', 'Adventure', 'Drama', 'Sci-Fi', 'Comedy', 'Drama', 'Romance', 'Crime', 'Horror', 'Thriller', 'Comedy', 'Drama', 'Comedy', 'Adventure', 'Comedy', 'Action', 'Drama', 'Drama', 'Horror', 'Mystery', 'Thriller', 'Comedy', 'Crime', 'Drama', 'Thriller', 'Comedy', 'Crime', 'Comedy', 'Comedy', 'Horror', 'Thriller', 'Drama', 'Comedy', 'Romance', 'Action', 'Comedy', 'Crime', 'Thriller', 'Action', 'Comedy', 'Comedy', 'Comedy', 'Crime', 'Comedy', 'Comedy', 'Comedy', 'Drama', 'Adventure', 'Children', 'Comedy', 'Drama', 'Adventure', 'Comedy', 'Comedy', 'Adventure', 'Drama', 'Mystery', 'Thriller', 'Crime', 'Musical', 'Crime', 'Drama', 'Comedy', 'Horror', 'Drama', 'Romance', 'Thriller', 'Children', 'Comedy', 'Romance', 'Action', 'Comedy', 'Drama', 'Adventure', 'Comedy', 'Comedy', 'Drama', 'Musical', 'Comedy', 'Musical', 'Western', 'Drama', 'Western', 'Documentary', 'Drama', 'Sci-Fi', 'Comedy', 'Horror', 'Action', 'Comedy', 'Comedy', 'Action', 'Animation', 'Comedy', 'Crime', 'Drama', 'Romance', 'Thriller', 'Drama', 'Horror', 'Mystery', 'Thriller', 'Action', 'Comedy', 'Western', 'Comedy', 'Drama', 'Horror', 'Thriller', 'Drama', 'Romance', 'War', 'Comedy', 'Comedy', 'Comedy', 'Adventure', 'Comedy', 'Horror', 'Sci-Fi', 'Thriller', 'Comedy', 'Drama', 'Romance', 'Romance', 'Sci-Fi', 'Comedy', 'Romance', 'Comedy', 'Drama', 'Romance', 'Comedy', 'Romance', 'Horror', 'Drama', 'Action', 'Children', 'Comedy', 'Action', 'Children', 'Comedy', 'Action', 'Children', 'Drama', 'Horror', 'Mystery', 'Thriller', 'Action', 'Adventure', 'Drama', 'Romance', 'Comedy', 'Drama', 'Musical', 'Comedy', 'Drama', 'Drama', 'Crime', 'Drama', 'Romance', 'Documentary', 'Thriller', 'Drama', 'Drama', 'Comedy', 'Comedy', 'Crime', 'Drama', 'Musical', 'Romance', 'Crime', 'Drama', 'Thriller', 'Comedy', 'Musical', 'Sci-Fi', 'Drama', 'Comedy', 'Romance', 'Documentary', 'Drama', 'Drama', 'Western', 'Horror', 'Thriller', 'Drama', 'Drama', 'Romance', 'Comedy', 'Fantasy', 'Horror', 'Musical', 'Thriller', 'Horror', 'Crime', 'Horror', 'Mystery', 'Adventure', 'Comedy', 'Romance', 'War', 'Comedy', 'Romance', 'Comedy', 'Romance', 'Action', 'Adventure', 'Comedy', 'Crime', 'Action', 'Adventure', 'Drama', 'Romance', 'Thriller', 'Drama', 'Action', 'Comedy', 'Romance', 'War', 'Drama', 'Thriller', 'Comedy', 'Drama', 'Mystery', 'Thriller', 'Drama', 'Drama', 'Drama', 'Musical', 'Adventure', 'Sci-Fi', 'Sci-Fi', 'Thriller', 'Drama', 'Comedy', 'Action', 'Adventure', 'Comedy', 'Drama', 'Adventure', 'Thriller', 'Children', 'Comedy', 'Comedy', 'Romance', 'Comedy', 'Drama', 'Action', 'Adventure', 'Drama', 'War', 'Horror', 'Comedy', 'Romance', 'Crime', 'Drama', 'Comedy', 'Musical', 'Horror', 'Mystery', 'Thriller', 'Drama', 'Drama', 'Romance', 'Drama', 'Romance', 'Comedy', 'Crime', 'Romance', 'Comedy', 'Crime', 'Action', 'Comedy', 'Drama', 'Crime', 'Drama', 'Film-Noir', 'Mystery', 'Thriller', 'Comedy', 'Drama', 'Action', 'Animation', 'Sci-Fi', 'Horror', 'Action', 'Crime', 'Thriller', 'Drama', 'Musical', 'Comedy', 'Drama', 'Comedy', 'Crime', 'Documentary', 'IMAX', 'Crime', 'Horror', 'Mystery', 'Thriller', 'Action', 'Comedy', 'Drama', 'Drama', 'Animation', 'Drama', 'Fantasy', 'Drama', 'Fantasy', 'Mystery', 'Sci-Fi', 'Horror', 'Thriller', 'Comedy', 'Romance', 'Drama', 'Mystery', 'Sci-Fi', 'Thriller', 'Action', 'Comedy', 'Crime', 'Drama', 'Drama', 'Crime', 'Drama', 'Drama', 'Thriller', 'Adventure', 'Animation', 'Children', 'Comedy', 'Fantasy', 'Action', 'Sci-Fi', 'Thriller', 'Drama', 'Crime', 'Drama', 'Comedy', 'Fantasy', 'Romance', 'Horror', 'Thriller', 'Adventure', 'Children', 'Fantasy', 'Comedy', 'Crime', 'Mystery', 'Thriller', 'Adventure', 'Comedy', 'Fantasy', 'Comedy', 'Action', 'Crime', 'Drama', 'Thriller', 'Drama', 'Fantasy', 'Horror', 'Thriller', 'War', 'Drama', 'Comedy', 'Sci-Fi', 'Adventure', 'Comedy', 'Fantasy', 'Drama', 'Musical', 'Romance', 'Crime', 'Drama', 'Romance', 'Action', 'Adventure', 'Fantasy', 'Drama', 'War', 'Drama', 'Crime', 'Drama', 'Romance', 'Thriller', 'Drama', 'Romance', 'Drama', 'Romance', 'Comedy', 'Comedy', 'Drama', 'Musical', 'Fantasy', 'Mystery', 'Thriller', 'Drama', 'Comedy', 'Mystery', 'Thriller', 'Drama', 'Musical', 'Action', 'Sci-Fi', 'Action', 'Adventure', 'Sci-Fi', 'Sci-Fi', 'Crime', 'Action', 'Crime', 'Thriller', 'Action', 'Adventure', 'Drama', 'Thriller', 'Comedy', 'Sci-Fi', 'Adventure', 'Sci-Fi', 'Comedy', 'Crime', 'Action', 'Adventure', 'Comedy', 'Drama', 'Romance', 'Thriller', 'Crime', 'Thriller', 'Action', 'Drama', 'War', 'Drama', 'Documentary', 'Adventure', 'Western', 'Crime', 'Thriller', 'Adventure', 'Drama', 'Romance', 'Action', 'Drama', 'Thriller', 'Sci-Fi', 'Thriller', 'Drama', 'War', 'Crime', 'Mystery', 'Drama', 'Comedy', 'Drama', 'Comedy', 'Romance', 'Comedy', 'Mystery', 'Romance', 'Sci-Fi', 'Thriller', 'Drama', 'Drama', 'Drama', 'Mystery', 'Thriller', 'Comedy', 'Drama', 'Adventure', 'Comedy', 'Fantasy', 'Sci-Fi', 'Comedy', 'Action', 'Adventure', 'Fantasy', 'Action', 'Adventure', 'Sci-Fi', 'Adventure', 'Comedy', 'Adventure', 'Animation', 'Children', 'Comedy', 'Comedy', 'Drama', 'Romance', 'Comedy', 'Romance', 'Adventure', 'Fantasy', 'Comedy', 'Drama', 'Romance', 'Drama', 'Romance', 'Adventure', 'Crime', 'Drama', 'Thriller', 'Comedy', 'Adventure', 'Comedy', 'Thriller', 'Drama', 'Mystery', 'Thriller', 'Drama', 'Action', 'Drama', 'War', 'Drama', 'Romance', 'Drama', 'Musical', 'Romance', 'Comedy', 'Drama', 'Mystery', 'Drama', 'Drama', 'Romance', 'Drama', 'Comedy', 'Crime', 'Mystery', 'Thriller', 'Drama', 'Comedy', 'Action', 'Mystery', 'Thriller', 'Action', 'Comedy', 'Crime', 'Drama', 'Thriller', 'Drama', 'Drama', 'Thriller', 'Drama', 'Romance', 'Action', 'Adventure', 'Fantasy', 'Action', 'Adventure', 'Fantasy', 'Animation', 'Fantasy', 'Action', 'Drama', 'Sci-Fi', 'Thriller', 'Action', 'Comedy', 'Adventure', 'Children', 'Comedy', 'Action', 'Comedy', 'Crime', 'Drama', 'Comedy', 'Drama', 'Romance', 'Comedy', 'Sci-Fi', 'Thriller', 'Action', 'Drama', 'Documentary', 'Comedy', 'Drama', 'War', 'Mystery', 'Sci-Fi', 'Thriller', 'Western', 'Action', 'Adventure', 'Drama', 'Thriller', 'Drama', 'Fantasy', 'Horror', 'Mystery', 'Thriller', 'Drama', 'Romance', 'Drama', 'Action', 'Adventure', 'Animation', 'Drama', 'Fantasy', 'Drama', 'Romance', 'Animation', 'Sci-Fi', 'Drama', 'Comedy', 'Drama', 'Comedy', 'Adventure', 'Children', 'Comedy', 'Drama', 'Comedy', 'Romance', 'Comedy', 'Drama', 'Romance', 'Comedy', 'Drama', 'Comedy', 'Crime', 'Drama', 'Children', 'Comedy', 'Action', 'Thriller', 'Action', 'Sci-Fi', 'Comedy', 'Crime', 'Comedy', 'Children', 'Drama', 'Comedy', 'Fantasy', 'Children', 'Comedy', 'Drama', 'Drama', 'Horror', 'Thriller', 'Comedy', 'Musical', 'Romance', 'Drama', 'War', 'Crime', 'Drama', 'Thriller', 'Adventure', 'Animation', 'Children', 'Comedy', 'Crime', 'Mystery', 'Drama', 'Thriller', 'Drama', 'Comedy', 'Crime', 'Drama', 'Comedy', 'Comedy', 'Mystery', 'Thriller', 'Comedy', 'Drama', 'Drama', 'Fantasy', 'Mystery', 'Romance', 'Thriller', 'Fantasy', 'Horror', 'Comedy', 'Drama', 'Comedy', 'Drama', 'Comedy', 'Romance', 'Drama', 'Horror', 'Documentary', 'Comedy', 'Animation', 'Fantasy', 'Horror', 'Sci-Fi', 'Drama', 'Comedy', 'Romance', 'Action', 'Drama', 'War', 'Action', 'Action', 'Animation', 'Children', 'Comedy', 'Musical', 'Horror', 'Comedy', 'Musical', 'Romance', 'Action', 'Comedy', 'Crime', 'Action', 'Adventure', 'Sci-Fi', 'Drama', 'Romance', 'Crime', 'Drama', 'Action', 'Sci-Fi', 'Thriller', 'Comedy', 'Horror', 'Sci-Fi', 'Drama', 'Drama', 'Thriller', 'Drama', 'Comedy', 'Horror', 'Action', 'Adventure', 'Thriller', 'Action', 'Comedy', 'Comedy', 'Fantasy', 'Adventure', 'Animation', 'Children', 'Comedy', 'Action', 'Horror', 'Sci-Fi', 'Thriller', 'Action', 'Comedy', 'Drama', 'Comedy', 'Romance', 'Documentary', 'Drama', 'Romance', 'Drama', 'Romance', 'Comedy', 'Drama', 'Drama', 'Documentary', 'Drama', 'Action', 'Drama', 'Comedy', 'Romance', 'Action', 'Adventure', 'Action', 'Comedy', 'Action', 'Comedy', 'Action', 'Comedy', 'Comedy', 'Action', 'Horror', 'Thriller', 'Comedy', 'Drama', 'Drama', 'Action', 'Adventure', 'Sci-Fi', 'Thriller', 'Comedy', 'Crime', 'Drama', 'Thriller', 'Drama', 'Drama', 'Fantasy', 'Romance', 'Drama', 'Drama', 'Drama', 'Comedy', 'Romance', 'Comedy', 'Romance', 'Thriller', 'Comedy', 'Comedy', 'Romance', 'Comedy', 'Crime', 'Documentary', 'War', 'Crime', 'Drama', 'Mystery', 'Comedy', 'Drama', 'Thriller', 'Crime', 'Drama', 'Thriller', 'Comedy', 'Romance', 'Drama', 'Thriller', 'Comedy', 'Romance', 'Comedy', 'Romance', 'Action', 'Adventure', 'Drama', 'Thriller', 'Western', 'Comedy', 'Romance', 'Drama', 'War', 'Comedy', 'Comedy', 'Comedy', 'Romance', 'Children', 'Horror', 'Mystery', 'Thriller', 'Crime', 'Thriller', 'Action', 'Adventure', 'Fantasy', 'Thriller', 'Romance', 'Thriller', 'Crime', 'Thriller', 'Comedy', 'Drama', 'Horror', 'Sci-Fi', 'Thriller', 'Comedy', 'Romance', 'Documentary', 'Drama', 'Romance', 'Crime', 'Drama', 'Thriller', 'Crime', 'Drama', 'Comedy', 'Crime', 'Comedy', 'Drama', 'Comedy', 'Drama', 'Drama', 'Drama', 'Drama', 'Romance', 'Drama', 'Comedy', 'Drama', 'Action', 'Adventure', 'Sci-Fi', 'Thriller', 'Comedy', 'Drama', 'Horror', 'Sci-Fi', 'Adventure', 'Adventure', 'Adventure', 'Comedy', 'Drama', 'Thriller', 'Drama', 'Romance', 'Musical', 'Western', 'Drama', 'Romance', 'War', 'Comedy', 'Musical', 'Western', 'Comedy', 'Drama', 'Romance', 'Action', 'Adventure', 'Sci-Fi', 'IMAX', 'Drama', 'Comedy', 'Drama', 'Romance', 'Comedy', 'Crime', 'Drama', 'Documentary', 'Drama', 'Thriller', 'Action', 'Crime', 'Drama', 'Mystery', 'Thriller', 'Adventure', 'Animation', 'Children', 'Western', 'Drama', 'Drama', 'Comedy', 'Sci-Fi', 'Drama', 'Drama', 'Thriller', 'Comedy', 'Drama', 'Romance', 'Action', 'Drama', 'Sci-Fi', 'Action', 'Comedy', 'Crime', 'Comedy', 'Drama', 'Comedy', 'Drama', 'Thriller', 'Drama', 'Fantasy', 'Action', 'Mystery', 'Thriller', 'Adventure', 'Children', 'Comedy', 'Fantasy', 'Mystery', 'Action', 'Drama', 'War', 'Drama', 'Comedy', 'Action', 'Crime', 'Thriller', 'Crime', 'Drama', 'Romance', 'Thriller', 'Drama', 'War', 'Comedy', 'Comedy', 'Adventure', 'Drama', 'Horror', 'Mystery', 'Thriller', 'Drama', 'Film-Noir', 'Thriller', 'Western', 'Comedy', 'Sci-Fi', 'Thriller', 'Action', 'Comedy', 'Western', 'Action', 'Comedy', 'Crime', 'Comedy', 'Adventure', 'Animation', 'Children', 'Sci-Fi', 'Action', 'Crime', 'Mystery', 'Sci-Fi', 'Thriller', 'Adventure', 'Drama', 'Drama', 'Adventure', 'Animation', 'Children', 'Comedy', 'Comedy', 'Romance', 'Comedy', 'Drama', 'Romance', 'Comedy', 'Drama', 'Romance', 'Children', 'Comedy', 'Romance', 'Comedy', 'Romance', 'Comedy', 'Drama', 'Comedy', 'Western', 'Children', 'Comedy', 'Fantasy', 'Action', 'Comedy', 'Sci-Fi', 'Action', 'Animation', 'Children', 'Comedy', 'Comedy', 'Drama', 'Adventure', 'Comedy', 'Action', 'Adventure', 'Fantasy', 'Crime', 'Drama', 'Crime', 'Drama', 'Thriller', 'Comedy', 'Drama', 'Romance', 'Sci-Fi', 'Comedy', 'Romance', 'Drama', 'Romance', 'Children', 'Drama', 'Musical', 'Drama', 'Mystery', 'Thriller', 'Horror', 'Thriller', 'Drama', 'Romance', 'Action', 'Comedy', 'Horror', 'Sci-Fi', 'Action', 'Adventure', 'Drama', 'Thriller', 'Children', 'Comedy', 'Comedy', 'Documentary', 'Comedy', 'Drama', 'Romance', 'Comedy', 'Horror', 'Action', 'Comedy', 'Action', 'Adventure', 'Comedy', 'Adventure', 'Comedy', 'Sci-Fi', 'Drama', 'Adventure', 'Drama', 'Romance', 'Comedy', 'Comedy', 'Mystery', 'Horror', 'Sci-Fi', 'Thriller', 'Comedy', 'Drama', 'Romance', 'Adventure', 'Children', 'Comedy', 'Drama', 'Crime', 'Drama', 'Mystery', 'Thriller', 'Action', 'Crime', 'Thriller', 'Comedy', 'Drama', 'Musical', 'Comedy', 'Comedy', 'Documentary', 'Drama', 'Action', 'Crime', 'Drama', 'Action', 'Drama', 'Sci-Fi', 'Action', 'Adventure', 'Comedy', 'Sci-Fi', 'Adventure', 'Drama', 'Romance', 'Comedy', 'Drama', 'Romance', 'Drama', 'Romance', 'Drama', 'Thriller', 'Comedy', 'Romance', 'Comedy', 'Drama', 'Fantasy', 'Sci-Fi', 'Drama', 'Comedy', 'Romance', 'Drama', 'Musical', 'Animation', 'Children', 'Fantasy', 'Animation', 'Children', 'Action', 'Adventure', 'Fantasy', 'Romance', 'Action', 'Comedy', 'Romance', 'War', 'Action', 'Horror', 'Sci-Fi', 'Sci-Fi', 'Thriller', 'Comedy', 'Musical', 'Western', 'Comedy', 'Crime', 'Romance', 'Thriller', 'Crime', 'Horror', 'Thriller', 'Comedy', 'Musical', 'Drama', 'Thriller', 'Crime', 'Drama', 'Thriller', 'Comedy', 'Crime', 'Horror', 'Thriller', 'Drama', 'Horror', 'Thriller', 'Comedy', 'Comedy', 'Crime', 'Action', 'Crime', 'Crime', 'Drama', 'Comedy', 'Drama', 'Action', 'Comedy', 'Adventure', 'Comedy', 'Comedy', 'Comedy', 'Horror', 'Comedy', 'Drama', 'Crime', 'Children', 'Comedy', 'Adventure', 'Comedy', 'Sci-Fi', 'Comedy', 'Sci-Fi', 'Children', 'Drama', 'Comedy', 'Crime', 'Comedy', 'Crime', 'Comedy', 'Sci-Fi', 'Comedy', 'Drama', 'Drama', 'Thriller', 'Action', 'Thriller', 'Comedy', 'Drama', 'Adventure', 'War', 'Action', 'Thriller', 'Comedy', 'Crime', 'Musical', 'Mystery', 'Drama', 'Romance', 'Drama', 'Comedy', 'Drama', 'Romance', 'Adventure', 'Animation', 'Fantasy', 'Documentary', 'Comedy', 'Romance', 'Action', 'Comedy', 'Drama', 'Romance', 'Action', 'Comedy', 'Crime', 'Drama', 'Thriller', 'Animation', 'Children', 'Musical', 'Crime', 'Mystery', 'Thriller', 'Drama', 'Drama', 'Drama', 'Comedy', 'Crime', 'Drama', 'Action', 'Adventure', 'Fantasy', 'Sci-Fi', 'Horror', 'Sci-Fi', 'Documentary', 'Drama', 'Drama', 'Romance', 'Horror', 'Comedy', 'Animation', 'Comedy', 'War', 'Action', 'Adventure', 'Comedy', 'Crime', 'Drama', 'Horror', 'Romance', 'Action', 'Comedy', 'Crime', 'Comedy', 'Drama', 'Romance', 'Thriller', 'Drama', 'Fantasy', 'Drama', 'Documentary', 'Comedy', 'Documentary', 'Adventure', 'Animation', 'Children', 'Fantasy', 'Comedy', 'Drama', 'Romance', 'Comedy', 'Romance', 'Action', 'Comedy', 'Crime', 'Thriller', 'Horror', 'Mystery', 'Thriller', 'Crime', 'Drama', 'Drama', 'Documentary', 'Comedy', 'Drama', 'Drama', 'Crime', 'Drama', 'Animation', 'Drama', 'War', 'Comedy', 'Drama', 'Romance', 'Comedy', 'Drama', 'Musical', 'Drama', 'Western', 'Action', 'Adventure', 'Fantasy', 'Sci-Fi', 'Horror', 'Sci-Fi', 'Comedy', 'Drama', 'Drama', 'Romance', 'Comedy', 'Mystery', 'Thriller', 'Action', 'Adventure', 'Comedy', 'Drama', 'Comedy', 'Romance', 'Thriller', 'Documentary', 'Horror', 'Documentary', 'Horror', 'Drama', 'Romance', 'Comedy', 'Drama', 'Comedy', 'Drama', 'Action', 'Horror', 'Mystery', 'Sci-Fi', 'Drama', 'War', 'Drama', 'Horror', 'Comedy', 'Romance', 'Horror', 'Mystery', 'Drama', 'Horror', 'Sci-Fi', 'Thriller', 'Comedy', 'Crime', 'Comedy', 'Fantasy', 'Drama', 'Horror', 'Thriller', 'Drama', 'Comedy', 'Horror', 'Sci-Fi', 'Comedy', 'Action', 'Drama', 'Thriller', 'Horror', 'Action', 'Comedy', 'Documentary', 'Action', 'Drama', 'Mystery', 'Thriller', 'Drama', 'Drama', 'Romance', 'Comedy', 'Drama', 'Action', 'Adventure', 'Comedy', 'Fantasy', 'Horror', 'Drama', 'Romance', 'War', 'Comedy', 'War', 'Comedy', 'Action', 'Adventure', 'Comedy', 'Crime', 'Children', 'Comedy', 'Fantasy', 'Romance', 'Crime', 'Thriller', 'Drama', 'Drama', 'Romance', 'Adventure', 'Fantasy', 'Drama', 'War', 'Drama', 'Romance', 'Documentary', 'Musical', 'Romance', 'Western', 'Drama', 'Thriller', 'Comedy', 'Drama', 'Romance', 'Action', 'Horror', 'Comedy', 'Romance', 'Drama', 'Adventure', 'Drama', 'Comedy', 'Drama', 'Adventure', 'Romance', 'Action', 'Drama', 'Drama', 'Comedy', 'Horror', 'Sci-Fi', 'Thriller', 'Comedy', 'Drama', 'Romance', 'Comedy', 'Crime', 'Drama', 'Thriller', 'Action', 'Adventure', 'Thriller', 'Drama', 'Comedy', 'Drama', 'Drama', 'Thriller', 'War', 'Drama', 'Romance', 'Animation', 'Comedy', 'Musical', 'Action', 'Adventure', 'Crime', 'Thriller', 'Drama', 'Romance', 'Sci-Fi', 'Adventure', 'Animation', 'Children', 'Sci-Fi', 'IMAX', 'Horror', 'Thriller', 'Comedy', 'Horror', 'Crime', 'Drama', 'Drama', 'Romance', 'Comedy', 'Drama', 'Horror', 'Thriller', 'Crime', 'Drama', 'Thriller', 'Comedy', 'Action', 'Drama', 'War', 'Comedy', 'Crime', 'Crime', 'Drama', 'Comedy', 'Drama', 'Romance', 'Action', 'Sci-Fi', 'Thriller', 'Comedy', 'Drama', 'Horror', 'Comedy', 'Crime', 'Action', 'Drama', 'War', 'Sci-Fi', 'Action', 'Horror', 'Comedy', 'Drama', 'Musical', 'Romance', 'Comedy', 'Romance', 'Documentary', 'Comedy', 'Crime', 'Mystery', 'Thriller', 'Comedy', 'Drama', 'Musical', 'Romance', 'Comedy', 'Comedy', 'Romance', 'Action', 'Drama', 'Sci-Fi', 'Thriller', 'Comedy', 'Drama', 'Drama', 'Thriller', 'Drama', 'Adventure', 'Fantasy', 'Drama', 'War', 'Crime', 'Drama', 'Drama', 'Crime', 'Drama', 'Comedy', 'Romance', 'Crime', 'Drama', 'Thriller', 'Action', 'Thriller', 'Drama', 'Thriller', 'Drama', 'Action', 'War', 'Comedy', 'Crime', 'Drama', 'Comedy', 'Drama', 'Romance', 'Comedy', 'Drama', 'Romance', 'Animation', 'Children', 'Drama', 'Fantasy', 'Adventure', 'Fantasy', 'Drama', 'Romance', 'War', 'Horror', 'Sci-Fi', 'Horror', 'Mystery', 'Thriller', 'Drama', 'Romance', 'Drama', 'Drama', 'Crime', 'Drama', 'Children', 'Comedy', 'Fantasy', 'Comedy', 'Crime', 'Drama', 'Musical', 'Drama', 'Romance', 'Drama', 'Drama', 'Romance', 'Drama', 'War', 'Action', 'Adventure', 'Animation', 'Fantasy', 'Sci-Fi', 'Comedy', 'Drama', 'Drama', 'Comedy', 'Crime', 'Drama', 'Thriller', 'Comedy', 'Documentary', 'Comedy', 'Romance', 'Crime', 'Drama', 'Thriller', 'Comedy', 'Romance', 'Action', 'Comedy', 'Action', 'Comedy', 'Action', 'Adventure', 'Crime', 'Drama', 'Thriller', 'Comedy', 'Drama', 'Crime', 'Drama', 'Mystery', 'Thriller', 'Drama', 'Comedy', 'Crime', 'Drama', 'Romance', 'Comedy', 'Drama', 'Romance', 'Comedy', 'Musical', 'Drama', 'Romance', 'Comedy', 'Crime', 'Drama', 'Romance', 'Comedy', 'Romance', 'Comedy', 'Romance', 'Horror', 'Thriller', 'Drama', 'Documentary', 'Horror', 'Thriller', 'Drama', 'Action', 'Crime', 'Drama', 'Drama', 'Action', 'Crime', 'Drama', 'Horror', 'Thriller', 'Action', 'Thriller', 'Comedy', 'Romance', 'Documentary', 'Drama', 'Horror', 'Drama', 'Film-Noir', 'Comedy', 'Crime', 'Drama', 'Action', 'Sci-Fi', 'Thriller', 'Crime', 'Drama', 'Thriller', 'Comedy', 'Animation', 'Children', 'Fantasy', 'Action', 'Comedy', 'Romance', 'Drama', 'Mystery', 'Thriller', 'Comedy', 'Drama', 'War', 'Adventure', 'Romance', 'Adventure', 'Comedy', 'Musical', 'Comedy', 'Comedy', 'Documentary', 'Documentary', 'Comedy', 'Comedy', 'Documentary', 'Musical', 'Horror', 'Mystery', 'Thriller', 'Comedy', 'Comedy', 'Crime', 'Horror', 'Thriller', 'Drama', 'Horror', 'Thriller', 'Comedy', 'Sci-Fi', 'Comedy', 'Romance', 'Action', 'Adventure', 'Comedy', 'Action', 'Crime', 'Animation', 'Children', 'Drama', 'Romance', 'Adventure', 'Drama', 'Romance', 'Thriller', 'Comedy', 'Adventure', 'Children', 'Adventure', 'Children', 'Drama', 'Drama', 'Romance', 'Drama', 'War', 'Comedy', 'Comedy', 'Musical', 'Romance', 'Drama', 'Sci-Fi', 'Action', 'Crime', 'Drama', 'Thriller', 'Action', 'Drama', 'War', 'Crime', 'Drama', 'Thriller', 'Comedy', 'Romance', 'Comedy', 'Drama', 'Thriller', 'Documentary', 'Action', 'Crime', 'Drama', 'Thriller', 'Drama', 'Mystery', 'Drama', 'Romance', 'Comedy', 'Drama', 'Romance', 'Comedy', 'Comedy', 'Action', 'Comedy', 'Comedy', 'Action', 'Drama', 'Thriller', 'Crime', 'Drama', 'Mystery', 'Thriller', 'Drama', 'Drama', 'Drama', 'Comedy', 'Drama', 'Romance', 'Action', 'Drama', 'Thriller', 'Drama', 'Horror', 'Thriller', 'Drama', 'Comedy', 'Crime', 'Drama', 'Drama', 'Comedy', 'Romance', 'Thriller', 'Adventure', 'Children', 'Drama', 'Drama', 'Mystery', 'Drama', 'War', 'Drama', 'Comedy', 'Drama', 'Romance', 'Adventure', 'Children', 'Sci-Fi', 'Comedy', 'Drama', 'Romance', 'Horror', 'Mystery', 'Thriller', 'Drama', 'Comedy', 'Drama', 'Musical', 'Romance', 'Drama', 'Comedy', 'Drama', 'Horror', 'Sci-Fi', 'Thriller', 'Animation', 'Children', 'Comedy', 'Romance', 'Comedy', 'Romance', 'Drama', 'Thriller', 'War', 'Action', 'Drama', 'Sci-Fi', 'Thriller', 'Comedy', 'Comedy', 'Drama', 'Romance', 'Drama', 'Thriller', 'Comedy', 'Drama', 'Romance', 'Documentary', 'Drama', 'Fantasy', 'Comedy', 'Drama', 'Romance', 'Drama', 'Film-Noir', 'Mystery', 'Romance', 'Crime', 'Drama', 'Action', 'Crime', 'Drama', 'Thriller', 'Drama', 'Thriller', 'Action', 'Animation', 'Sci-Fi', 'Thriller', 'Drama', 'Comedy', 'Crime', 'Drama', 'Comedy', 'Crime', 'Drama', 'Documentary', 'IMAX', 'Horror', 'Crime', 'Drama', 'Action', 'Adventure', 'Sci-Fi', 'Comedy', 'Comedy', 'Musical', 'Adventure', 'Children', 'Comedy', 'Mystery', 'Comedy', 'Crime', 'Documentary', 'Action', 'Comedy', 'Crime', 'Drama', 'Thriller', 'Sci-Fi', 'Mystery', 'Sci-Fi', 'Drama', 'Sci-Fi', 'Documentary', 'Comedy', 'Crime', 'Romance', 'Comedy', 'Drama', 'Comedy', 'Comedy', 'Crime', 'Comedy', 'Adventure', 'Children', 'Comedy', 'Fantasy', 'Musical', 'Comedy', 'Drama', 'Comedy', 'Crime', 'Thriller', 'Crime', 'Horror', 'Mystery', 'Thriller', 'Comedy', 'Drama', 'Documentary', 'Drama', 'Crime', 'Drama', 'Documentary', 'Children', 'Comedy', 'Romance', 'Action', 'Adventure', 'Sci-Fi', 'Thriller', 'Drama', 'Crime', 'Drama', 'Thriller', 'Drama', 'Crime', 'Drama', 'Thriller', 'Children', 'Comedy', 'Comedy', 'Drama', 'Drama', 'Comedy', 'Drama', 'Romance', 'Comedy', 'Drama', 'Romance', 'Comedy', 'Drama', 'Musical', 'Drama', 'Musical', 'Musical', 'Drama', 'Musical', 'Action', 'Adventure', 'Animation', 'Children', 'Fantasy', 'Sci-Fi', 'Comedy', 'Musical', 'Romance', 'Comedy', 'Musical', 'Romance', 'Action', 'Adventure', 'Sci-Fi', 'Thriller', 'IMAX', 'Comedy', 'Romance', 'Documentary', 'Comedy', 'Drama', 'Romance', 'Animation', 'Children', 'Comedy', 'Drama', 'Fantasy', 'Romance', 'Comedy', 'Documentary', 'Comedy', 'Drama', 'Adventure', 'Animation', 'Children', 'Comedy', 'Action', 'Crime', 'Horror', 'Thriller', 'Documentary', 'Drama', 'Action', 'Crime', 'Thriller', 'Drama', 'Western', 'Action', 'Comedy', 'Crime', 'Thriller', 'Musical', 'Action', 'Drama', 'Horror', 'Sci-Fi', 'Thriller', 'Documentary', 'Comedy', 'Adventure', 'Children', 'Comedy', 'Romance', 'Comedy', 'Documentary', 'Comedy', 'Comedy', 'Western', 'Comedy', 'Drama', 'Action', 'Drama', 'War', 'Western', 'Comedy', 'Crime', 'Mystery', 'Romance', 'Comedy', 'Children', 'Drama', 'Comedy', 'War', 'Western', 'Western', 'Documentary', 'War', 'Drama', 'Drama', 'Thriller', 'Comedy', 'Romance', 'Action', 'Adventure', 'Drama', 'Drama', 'Drama', 'Documentary', 'Drama', 'Drama', 'Drama', 'Western', 'Children', 'Comedy', 'Drama', 'Drama', 'Romance', 'Mystery', 'Thriller', 'Drama', 'Comedy', 'Musical', 'Comedy', 'Musical', 'Romance', 'Action', 'Crime', 'Drama', 'Comedy', 'Drama', 'Romance', 'Action', 'Horror', 'Sci-Fi', 'Action', 'Adventure', 'Comedy', 'Crime', 'Thriller', 'Action', 'Thriller', 'Drama', 'Romance', 'Drama', 'Romance', 'Horror', 'Crime', 'Film-Noir', 'Drama', 'Drama', 'Comedy', 'Romance', 'Adventure', 'Romance', 'Comedy', 'Drama', 'Horror', 'Mystery', 'Thriller', 'Comedy', 'Action', 'Adventure', 'Sci-Fi', 'Comedy', 'Adventure', 'Animation', 'Children', 'Fantasy', 'Action', 'Adventure', 'Sci-Fi', 'Drama', 'Mystery', 'Thriller', 'Action', 'Adventure', 'Comedy', 'Fantasy', 'Action', 'Fantasy', 'Sci-Fi', 'Comedy', 'Drama', 'War', 'Drama', 'Romance', 'Drama', 'Fantasy', 'Action', 'Comedy', 'Crime', 'Thriller', 'Comedy', 'Drama', 'Romance', 'Action', 'Comedy', 'Thriller', 'Comedy', 'Romance', 'Crime', 'Drama', 'Thriller', 'Drama', 'Comedy', 'Musical', 'Adventure', 'Children', 'Comedy', 'Drama', 'Comedy', 'Drama', 'Children', 'Comedy', 'Action', 'Comedy', 'Comedy', 'War', 'Comedy', 'Drama', 'Action', 'Adventure', 'Comedy', 'Romance', 'Thriller', 'Drama', 'Action', 'Adventure', 'Children', 'Comedy', 'Crime', 'Drama', 'War', 'Comedy', 'Musical', 'Drama', 'Comedy', 'Crime', 'Comedy', 'Drama', 'Action', 'Sci-Fi', 'Thriller', 'Action', 'Drama', 'Comedy', 'Comedy', 'Comedy', 'Drama', 'Mystery', 'Action', 'Comedy', 'Crime', 'Thriller', 'Action', 'Sci-Fi', 'Adventure', 'Comedy', 'Crime', 'Thriller', 'Comedy', 'Comedy', 'Crime', 'Romance', 'Romance', 'Thriller', 'Drama', 'Drama', 'Children', 'Comedy', 'Fantasy', 'Action', 'Thriller', 'Comedy', 'Drama', 'Romance', 'Action', 'Sci-Fi', 'Documentary', 'Crime', 'Drama', 'Film-Noir', 'Comedy', 'Drama', 'Drama', 'Documentary', 'Comedy', 'Crime', 'Action', 'Horror', 'Thriller', 'Action', 'Comedy', 'Western', 'Action', 'Comedy', 'Comedy', 'Comedy', 'Drama', 'Action', 'Adventure', 'Children', 'Fantasy', 'Adventure', 'Children', 'Comedy', 'Comedy', 'Crime', 'Horror', 'Mystery', 'Thriller', 'Horror', 'Sci-Fi', 'Thriller', 'Comedy', 'Romance', 'Comedy', 'Romance', 'Drama', 'Thriller', 'Drama', 'Drama', 'Romance', 'Action', 'Adventure', 'Drama', 'Sci-Fi', 'Comedy', 'Drama', 'Adventure', 'Sci-Fi', 'Horror', 'Sci-Fi', 'Comedy', 'Romance', 'Comedy', 'Horror', 'Sci-Fi', 'Drama', 'Fantasy', 'Musical', 'Romance', 'Comedy', 'Crime', 'Comedy', 'Crime', 'Action', 'Adventure', 'Horror', 'Romance', 'Comedy', 'Drama', 'Fantasy', 'Documentary', 'Drama', 'Romance', 'Drama', 'Comedy', 'Drama', 'Drama', 'Sci-Fi', 'Documentary', 'Drama', 'Romance', 'Action', 'Comedy', 'Crime', 'Fantasy', 'Comedy', 'Romance', 'Comedy', 'Drama', 'Comedy', 'Drama', 'Romance', 'Drama', 'Western', 'Documentary', 'Horror', 'Thriller', 'Comedy', 'Drama', 'Musical', 'Romance', 'Drama', 'Comedy', 'Comedy', 'Crime', 'Drama', 'Thriller', 'Drama', 'Horror', 'Thriller', 'Comedy', 'Crime', 'Drama', 'Action', 'Adventure', 'Crime', 'Thriller', 'Comedy', 'Drama', 'Romance', 'Comedy', 'Drama', 'Romance', 'Animation', 'Drama', 'Romance', 'Horror', 'Comedy', 'Action', 'Comedy', 'Crime', 'Action', 'Adventure', 'Drama', 'Action', 'Romance', 'Action', 'Comedy', 'Crime', 'Drama', 'Horror', 'Sci-Fi', 'Thriller', 'Comedy', 'Musical', 'Romance', 'Comedy', 'Romance', 'Sci-Fi', 'Thriller', 'Comedy', 'Horror', 'Horror', 'Romance', 'Horror', 'Comedy', 'Drama', 'Romance', 'Drama', 'Thriller', 'Drama', 'Children', 'Comedy', 'Drama', 'Action', 'Fantasy', 'Horror', 'Comedy', 'Horror', 'Adventure', 'Drama', 'Comedy', 'Crime', 'Action', 'Adventure', 'Comedy', 'Comedy', 'Drama', 'Romance', 'Drama', 'Comedy', 'Drama', 'Romance', 'Documentary', 'Animation', 'Comedy', 'Fantasy', 'Fantasy', 'Horror', 'Sci-Fi', 'Thriller', 'Documentary', 'Comedy', 'Drama', 'Musical', 'Romance', 'Drama', 'Documentary', 'Comedy', 'Musical', 'Comedy', 'Drama', 'Comedy', 'Musical', 'Romance', 'Western', 'Drama', 'Drama', 'Thriller', 'Comedy', 'Drama', 'Romance', 'Drama', 'Mystery', 'Romance', 'Drama', 'Fantasy', 'Sci-Fi', 'Drama', 'Children', 'Comedy', 'Drama', 'Children', 'Comedy', 'Crime', 'Drama', 'Crime', 'Drama', 'Children', 'Comedy', 'Crime', 'Musical', 'Action', 'Crime', 'Horror', 'Mystery', 'Thriller', 'Comedy', 'Crime', 'Comedy', 'Action', 'Adventure', 'War', 'Thriller', 'Drama', 'Thriller', 'Comedy', 'Action', 'Comedy', 'Thriller', 'Action', 'Comedy', 'Comedy', 'Adventure', 'Drama', 'Drama', 'War', 'Drama', 'Horror', 'Thriller', 'Comedy', 'Comedy', 'Drama', 'Action', 'Horror', 'Sci-Fi', 'Sci-Fi', 'Comedy', 'Drama', 'Romance', 'Drama', 'Fantasy', 'Musical', 'Comedy', 'Drama', 'Drama', 'Romance', 'Crime', 'Drama', 'Comedy', 'Drama', 'Musical', 'Action', 'Adventure', 'Animation', 'Fantasy', 'Drama', 'Crime', 'Drama', 'Crime', 'Drama', 'Thriller', 'Comedy', 'Musical', 'Comedy', 'Drama', 'Crime', 'Drama', 'Mystery', 'Thriller', 'Crime', 'Documentary', 'Crime', 'Drama', 'Mystery', 'Action', 'Horror', 'Comedy', 'Romance', 'Action', 'Crime', 'Thriller', 'Drama', 'Thriller', 'Horror', 'Comedy', 'Drama', 'Action', 'Adventure', 'Sci-Fi', 'Drama', 'Romance', 'Crime', 'Drama', 'Thriller', 'Crime', 'Drama', 'Mystery', 'Romance', 'Thriller', 'Drama', 'Romance', 'War', 'Drama', 'Comedy', 'Horror', 'Adventure', 'Animation', 'Children', 'Drama', 'Action', 'Comedy', 'Crime', 'Drama', 'Sci-Fi', 'Adventure', 'Comedy', 'Drama', 'Fantasy', 'Mystery', 'Sci-Fi', 'Thriller', 'Thriller', 'Musical', 'Comedy', 'Musical', 'Romance', 'Drama', 'Crime', 'Thriller', 'Drama', 'Romance', 'Thriller', 'Crime', 'Drama', 'Action', 'Adventure', 'Sci-Fi', 'Thriller', 'IMAX', 'Documentary', 'Children', 'Comedy', 'Fantasy', 'Documentary', 'Drama', 'Romance', 'Comedy', 'Drama', 'Romance', 'Comedy', 'Documentary', 'Action', 'Animation', 'Children', 'Fantasy', 'Adventure', 'Drama', 'War', 'Documentary', 'Comedy', 'Mystery', 'Sci-Fi', 'Adventure', 'Thriller', 'Western', 'Children', 'Comedy', 'Horror', 'Thriller', 'Crime', 'Drama', 'Mystery', 'Romance', 'Thriller', 'Comedy', 'Crime', 'Drama', 'Mystery', 'Romance', 'Comedy', 'Crime', 'Children', 'Comedy', 'Fantasy', 'Horror', 'Action', 'Adventure', 'Sci-Fi', 'Drama', 'Documentary', 'Documentary', 'Documentary', 'Action', 'Crime', 'Fantasy', 'Sci-Fi', 'Thriller', 'Horror', 'Mystery', 'Drama', 'Sci-Fi', 'Comedy', 'Romance', 'Drama', 'Thriller', 'Drama', 'Romance', 'Thriller', 'Comedy', 'Crime', 'Drama', 'Horror', 'Thriller', 'Comedy', 'Drama', 'Drama', 'Sci-Fi', 'Thriller', 'Drama', 'Drama', 'War', 'Drama', 'Romance', 'Drama', 'Drama', 'Adventure', 'Drama', 'Romance', 'Crime', 'Fantasy', 'Horror', 'Crime', 'Drama', 'Thriller', 'Action', 'Adventure', 'Comedy', 'Crime', 'Drama', 'Comedy', 'Drama', 'Comedy', 'Drama', 'Romance', 'Action', 'Comedy', 'Action', 'Sci-Fi', 'Crime', 'Drama', 'Drama', 'Comedy', 'Romance', 'Action', 'Adventure', 'Comedy', 'Horror', 'Mystery', 'Sci-Fi', 'Thriller', 'Action', 'Comedy', 'Crime', 'Thriller', 'Comedy', 'Action', 'Comedy', 'Crime', 'Drama', 'Thriller', 'Drama', 'Romance', 'Drama', 'Drama', 'Romance', 'Comedy', 'Fantasy', 'Drama', 'Film-Noir', 'Thriller', 'Comedy', 'Romance', 'Action', 'Drama', 'Action', 'Thriller', 'Crime', 'Drama', 'Thriller', 'Comedy', 'Drama', 'Comedy', 'Drama', 'Romance', 'Action', 'Drama', 'Horror', 'Thriller', 'Comedy', 'Drama', 'Romance', 'Drama', 'Drama', 'War', 'Comedy', 'Action', 'Western', 'Comedy', 'Crime', 'Drama', 'Action', 'Crime', 'Drama', 'Thriller', 'Drama', 'Romance', 'Thriller', 'Comedy', 'Romance', 'Drama', 'Romance', 'Comedy', 'Fantasy', 'Comedy', 'Drama', 'Drama', 'Romance', 'Action', 'Crime', 'Drama', 'Thriller', 'Comedy', 'Crime', 'Crime', 'Drama', 'Mystery', 'Romance', 'Thriller', 'Children', 'Fantasy', 'Comedy', 'Fantasy', 'Horror', 'Thriller', 'Action', 'Crime', 'Drama', 'Action', 'Adventure', 'Comedy', 'Crime', 'Comedy', 'Musical', 'Romance', 'Comedy', 'Musical', 'Romance', 'Comedy', 'Drama', 'Comedy', 'Musical', 'Romance', 'Drama', 'Comedy', 'Musical', 'Romance', 'Action', 'Crime', 'Drama', 'Comedy', 'Fantasy', 'Romance', 'Comedy', 'Children', 'Drama', 'Drama', 'Musical', 'Drama', 'Romance', 'Drama', 'Adventure', 'Drama', 'Drama', 'Fantasy', 'Drama', 'War', 'Comedy', 'Drama', 'Fantasy', 'Romance', 'Drama', 'Action', 'Adventure', 'Western', 'Drama', 'Action', 'Drama', 'Romance', 'Western', 'Comedy', 'Crime', 'Mystery', 'Comedy', 'Adventure', 'Comedy', 'Musical', 'Action', 'Crime', 'Drama', 'Thriller', 'Drama', 'Drama', 'Drama', 'Musical', 'Romance', 'Comedy', 'Romance', 'Drama', 'Comedy', 'Romance', 'Comedy', 'Romance', 'Comedy', 'Drama', 'Adventure', 'Drama', 'Drama', 'Romance', 'Comedy', 'Drama', 'Action', 'Adventure', 'Drama', 'Comedy', 'Drama', 'Romance', 'Comedy', 'Documentary', 'Adventure', 'Animation', 'Drama', 'Fantasy', 'Sci-Fi', 'Comedy', 'Romance', 'Comedy', 'Crime', 'Drama', 'Comedy', 'Comedy', 'War', 'Comedy', 'Thriller', 'Action', 'Crime', 'Drama', 'Drama', 'Romance', 'Drama', 'Horror', 'Thriller', 'Horror', 'Mystery', 'Thriller', 'Horror', 'Mystery', 'Thriller', 'Comedy', 'Horror', 'Animation', 'Drama', 'Sci-Fi', 'War', 'Comedy', 'Romance', 'Comedy', 'Drama', 'War', 'Drama', 'Fantasy', 'Mystery', 'Sci-Fi', 'Documentary', 'Drama', 'Action', 'Drama', 'Thriller', 'Drama', 'Comedy', 'Musical', 'Romance', 'Drama', 'Thriller', 'Comedy', 'Drama', 'Romance', 'Drama', 'Romance', 'Documentary', 'Drama', 'Romance', 'Action', 'Adventure', 'Drama', 'War', 'Drama', 'Fantasy', 'Romance', 'Comedy', 'Drama', 'Romance', 'Comedy', 'Drama', 'Romance', 'Action', 'Adventure', 'Drama', 'Fantasy', 'Drama', 'Romance', 'Comedy', 'Documentary', 'War', 'Drama', 'Crime', 'Drama', 'Children', 'Comedy', 'Drama', 'Romance', 'War', 'Action', 'Sci-Fi', 'Thriller', 'Action', 'Adventure', 'Children', 'Fantasy', 'Drama', 'Musical', 'Drama', 'Comedy', 'Romance', 'Documentary', 'Comedy', 'Romance', 'Action', 'Crime', 'Drama', 'Drama', 'Drama', 'Drama', 'Romance', 'Drama', 'Drama', 'Romance', 'Drama', 'Comedy', 'Action', 'Action', 'Comedy', 'Horror', 'Adventure', 'Comedy', 'Drama', 'Horror', 'Comedy', 'Comedy', 'Romance', 'Comedy', 'Romance', 'Adventure', 'Drama', 'Romance', 'Thriller', 'War', 'Crime', 'Drama', 'Film-Noir', 'Thriller', 'Crime', 'Drama', 'Film-Noir', 'Romance', 'Thriller', 'Drama', 'Western', 'Drama', 'Comedy', 'Drama', 'Drama', 'Film-Noir', 'Mystery', 'Documentary', 'Animation', 'Comedy', 'Fantasy', 'Drama', 'Action', 'Comedy', 'Crime', 'Drama', 'Horror', 'Thriller', 'Sci-Fi', 'Drama', 'War', 'Drama', 'Horror', 'Thriller', 'Adventure', 'Children', 'Comedy', 'Fantasy', 'Musical', 'Action', 'Adventure', 'Drama', 'War', 'Drama', 'Drama', 'Sci-Fi', 'Thriller', 'Comedy', 'Romance', 'Adventure', 'Documentary', 'Comedy', 'Crime', 'Thriller', 'Comedy', 'Crime', 'Drama', 'Musical', 'Comedy', 'Drama', 'Romance', 'Comedy', 'Action', 'Adventure', 'Children', 'Comedy', 'Crime', 'Drama', 'Comedy', 'Romance', 'Drama', 'Comedy', 'Horror', 'Sci-Fi', 'Comedy', 'Horror', 'Thriller', 'Drama', 'Comedy', 'War', 'Comedy', 'Romance', 'Comedy', 'Comedy', 'Drama', 'Drama', 'Drama', 'Action', 'Adventure', 'Fantasy', 'Drama', 'War', 'Animation', 'Comedy', 'Fantasy', 'Musical', 'Crime', 'Drama', 'Mystery', 'Thriller', 'Comedy', 'Crime', 'Mystery', 'Action', 'Adventure', 'Drama', 'War', 'Adventure', 'Comedy', 'Action', 'Drama', 'Romance', 'Comedy', 'Drama', 'Comedy', 'Drama', 'Comedy', 'Adventure', 'Comedy', 'Drama', 'Comedy', 'Horror', 'Romance', 'Thriller', 'Comedy', 'Drama', 'Adventure', 'Drama', 'Action', 'Comedy', 'Crime', 'Thriller', 'Crime', 'Drama', 'Drama', 'Drama', 'Crime', 'Drama', 'Thriller', 'Film-Noir', 'Drama', 'War', 'Comedy', 'Comedy', 'Crime', 'Action', 'Adventure', 'Children', 'Comedy', 'Comedy', 'Romance', 'Mystery', 'Thriller', 'Thriller', 'Drama', 'Comedy', 'Drama', 'Romance', 'Comedy', 'Drama', 'Romance', 'Drama', 'Romance', 'Action', 'Drama', 'Horror', 'Thriller', 'Drama', 'Romance', 'Sci-Fi', 'Crime', 'Drama', 'Thriller', 'Comedy', 'Crime', 'Drama', 'Comedy', 'Drama', 'Romance', 'Comedy', 'Crime', 'Crime', 'Drama', 'Thriller', 'Action', 'Adventure', 'Children', 'Comedy', 'Mystery', 'Drama', 'Mystery', 'Thriller', 'Drama', 'Action', 'Adventure', 'Fantasy', 'Horror', 'Comedy', 'Romance', 'Action', 'Crime', 'Drama', 'Drama', 'War', 'Western', 'Comedy', 'Fantasy', 'Romance', 'Action', 'Comedy', 'Crime', 'Drama', 'Mystery', 'Thriller', 'Adventure', 'Drama', 'Action', 'Drama', 'Horror', 'Drama', 'Musical', 'Action', 'Adventure', 'Comedy', 'Comedy', 'Drama', 'Drama', 'Comedy', 'Horror', 'Comedy', 'Drama', 'Comedy', 'Thriller', 'Action', 'Drama', 'Thriller', 'Action', 'Crime', 'Thriller', 'Documentary', 'Documentary', 'Comedy', 'Fantasy', 'Romance', 'Action', 'Crime', 'Drama', 'Mystery', 'Thriller', 'Comedy', 'Drama', 'Horror', 'Thriller', 'Comedy', 'Romance', 'Comedy', 'Action', 'Adventure', 'Fantasy', 'Horror', 'Drama', 'Comedy', 'Romance', 'Action', 'Adventure', 'Drama', 'War', 'Crime', 'Drama', 'Comedy', 'Drama', 'Horror', 'Thriller', 'Drama', 'Adventure', 'Drama', 'Sci-Fi', 'Action', 'Crime', 'Drama', 'Romance', 'Drama', 'Drama', 'Horror', 'Drama', 'Comedy', 'Romance', 'Drama', 'Thriller', 'War', 'Fantasy', 'Horror', 'Thriller', 'Action', 'Crime', 'Horror', 'Documentary', 'Action', 'Adventure', 'Sci-Fi', 'Thriller', 'Action', 'Adventure', 'Thriller', 'Drama', 'Action', 'Adventure', 'Thriller', 'Comedy', 'Drama', 'Romance', 'Drama', 'Comedy', 'Romance', 'Crime', 'Drama', 'Thriller', 'Musical', 'Romance', 'Western', 'Drama', 'Mystery', 'Thriller', 'Drama', 'Drama', 'Comedy', 'Drama', 'Drama', 'Horror', 'Thriller', 'Horror', 'Mystery', 'Thriller', 'Comedy', 'Adventure', 'Sci-Fi', 'Horror', 'Action', 'Comedy', 'Fantasy', 'Horror', 'Drama', 'Romance', 'Drama', 'Thriller', 'Action', 'Adventure', 'Drama', 'Thriller', 'Comedy', 'Romance', 'Drama', 'Action', 'Comedy', 'Romance', 'Comedy', 'Musical', 'Comedy', 'Drama', 'Romance', 'Comedy', 'Fantasy', 'Drama', 'Horror', 'Romance', 'Thriller', 'Drama', 'Musical', 'Romance', 'Comedy', 'Action', 'Adventure', 'Comedy', 'Romance', 'Comedy', 'Crime', 'Drama', 'Film-Noir', 'Thriller', 'Comedy', 'Drama', 'Drama', 'Horror', 'Adventure', 'Children', 'Sci-Fi', 'Drama', 'Crime', 'Drama', 'Drama', 'Drama', 'Action', 'Drama', 'War', 'Action', 'Adventure', 'Fantasy', 'Drama', 'Thriller', 'Action', 'Drama', 'Thriller', 'War', 'Drama', 'Film-Noir', 'Thriller', 'Drama', 'Comedy', 'Action', 'Drama', 'Documentary', 'Drama', 'Thriller', 'Action', 'Adventure', 'Crime', 'Thriller', 'Adventure', 'Sci-Fi', 'Drama', 'Sci-Fi', 'Drama', 'Sci-Fi', 'Comedy', 'Musical', 'Crime', 'Drama', 'Adventure', 'Drama', 'Romance', 'Comedy', 'Romance', 'Thriller', 'Comedy', 'Crime', 'Drama', 'Mystery', 'Romance', 'Comedy', 'Crime', 'Mystery', 'Comedy', 'Crime', 'Mystery', 'Comedy', 'Crime', 'Mystery', 'Romance', 'Comedy', 'Crime', 'Drama', 'Musical', 'Mystery', 'Romance', 'Comedy', 'Adventure', 'Comedy', 'War', 'Fantasy', 'Sci-Fi', 'Drama', 'Fantasy', 'Sci-Fi', 'Comedy', 'Action', 'Comedy', 'Comedy', 'Horror', 'Sci-Fi', 'Comedy', 'Horror', 'Sci-Fi', 'Comedy', 'Horror', 'Drama', 'Horror', 'Comedy', 'Comedy', 'Musical', 'Western', 'Drama', 'Horror', 'Sci-Fi', 'Action', 'Western', 'Crime', 'Drama', 'Thriller', 'Adventure', 'Drama', 'Western', 'Action', 'Drama', 'Horror', 'Sci-Fi', 'Comedy', 'Comedy', 'Crime', 'Drama', 'Film-Noir', 'Thriller', 'Action', 'Adventure', 'Crime', 'Drama', 'Film-Noir', 'Thriller', 'Horror', 'Mystery', 'Thriller', 'Documentary', 'Comedy', 'Drama', 'War', 'Drama', 'Drama', 'Drama', 'Drama', 'Crime', 'Film-Noir', 'Drama', 'Thriller', 'Fantasy', 'Horror', 'Drama', 'Documentary', 'Musical', 'Action', 'Drama', 'War', 'Crime', 'Drama', 'Thriller', 'Drama', 'Horror', 'Mystery', 'Thriller', 'Comedy', 'Horror', 'Sci-Fi', 'Sci-Fi', 'Horror', 'Comedy', 'Sci-Fi', 'Action', 'Sci-Fi', 'Comedy', 'Horror', 'Fantasy', 'Musical', 'Romance', 'Drama', 'Documentary', 'Comedy', 'Drama', 'Drama', 'Adventure', 'Animation', 'Children', 'Fantasy', 'Action', 'Crime', 'Drama', 'Thriller', 'Drama', 'Horror', 'Mystery', 'Thriller', 'Comedy', 'Drama', 'Romance', 'Drama', 'Comedy', 'Crime', 'Romance', 'Crime', 'Horror', 'Thriller', 'Crime', 'Drama', 'Comedy', 'Drama', 'Crime', 'Drama', 'Film-Noir', 'Action', 'Drama', 'War', 'Drama', 'Drama', 'Horror', 'Sci-Fi', 'Action', 'Drama', 'Romance', 'Thriller', 'Drama', 'Thriller', 'Western', 'Action', 'Comedy', 'Action', 'Adventure', 'Thriller', 'War', 'Drama', 'Comedy', 'Drama', 'Romance', 'Drama', 'Drama', 'Comedy', 'Romance', 'Action', 'Drama', 'Crime', 'Horror', 'Sci-Fi', 'Horror', 'Sci-Fi', 'Horror', 'Sci-Fi', 'Action', 'Crime', 'Drama', 'Drama', 'Sci-Fi', 'Drama', 'Drama', 'Animation', 'Fantasy', 'Thriller', 'Crime', 'Drama', 'Action', 'Adventure', 'Romance', 'Children', 'Comedy', 'Fantasy', 'Sci-Fi', 'Comedy', 'Drama', 'Drama', 'Comedy', 'Comedy', 'Drama', 'War', 'Drama', 'Drama', 'Mystery', 'Romance', 'Comedy', 'Horror', 'Drama', 'Romance', 'War', 'Drama', 'Thriller', 'Crime', 'Thriller', 'Horror', 'Mystery', 'Comedy', 'Drama', 'Action', 'Comedy', 'Romance', 'Drama', 'Film-Noir', 'Comedy', 'Crime', 'Comedy', 'Drama', 'Action', 'Comedy', 'Thriller', 'Action', 'Adventure', 'Animation', 'Comedy', 'Crime', 'Mystery', 'Comedy', 'Drama', 'Fantasy', 'Romance', 'Drama', 'Documentary', 'Drama', 'Musical', 'Action', 'Thriller', 'Comedy', 'Drama', 'Romance', 'Comedy', 'Action', 'Crime', 'Comedy', 'Drama', 'Comedy', 'Drama', 'Romance', 'Drama', 'Romance', 'Comedy', 'Drama', 'Comedy', 'Romance', 'Drama', 'War', 'Drama', 'Drama', 'Thriller', 'Adventure', 'Crime', 'Drama', 'Adventure', 'Animation', 'Children', 'Comedy', 'Musical', 'Romance', 'Action', 'Adventure', 'Drama', 'Sci-Fi', 'Thriller', 'Comedy', 'Drama', 'Romance', 'Comedy', 'Drama', 'Comedy', 'Drama', 'Adventure', 'Fantasy', 'IMAX', 'Action', 'Crime', 'Horror', 'Mystery', 'Thriller', 'Action', 'Comedy', 'Crime', 'Drama', 'Action', 'Sci-Fi', 'Thriller', 'Animation', 'Children', 'Comedy', 'Comedy', 'Fantasy', 'Thriller', 'Documentary', 'Comedy', 'Drama', 'Drama', 'Comedy', 'Comedy', 'Comedy', 'Romance', 'Comedy', 'Romance', 'Comedy', 'Crime', 'Comedy', 'Drama', 'Comedy', 'Romance', 'Drama', 'Horror', 'Crime', 'Drama', 'Film-Noir', 'Drama', 'Romance', 'Comedy', 'Animation', 'Comedy', 'Drama', 'Fantasy', 'Sci-Fi', 'Comedy', 'Sci-Fi', 'Action', 'Drama', 'Romance', 'War', 'Sci-Fi', 'Adventure', 'Romance', 'Drama', 'Comedy', 'Drama', 'Fantasy', 'Crime', 'Drama', 'Thriller', 'Drama', 'Drama', 'Romance', 'Drama', 'War', 'Drama', 'Drama', 'Comedy', 'Documentary', 'Drama', 'Crime', 'Drama', 'Film-Noir', 'Romance', 'Romance', 'Sci-Fi', 'Action', 'Adventure', 'Drama', 'Romance', 'Thriller', 'Western', 'Drama', 'Fantasy', 'Horror', 'Drama', 'War', 'Children', 'Comedy', 'Musical', 'Crime', 'Drama', 'Film-Noir', 'Drama', 'Fantasy', 'Action', 'Drama', 'War', 'Drama', 'Crime', 'Drama', 'Action', 'Horror', 'Sci-Fi', 'Action', 'Thriller', 'Drama', 'Musical', 'Romance', 'Mystery', 'Thriller', 'Crime', 'Drama', 'Horror', 'Comedy', 'Comedy', 'Drama', 'Drama', 'Horror', 'Adventure', 'Children', 'Comedy', 'Comedy', 'Comedy', 'Drama', 'Romance', 'Drama', 'Romance', 'Action', 'Comedy', 'Crime', 'Drama', 'Drama', 'Romance', 'Adventure', 'Children', 'Drama', 'Drama', 'Musical', 'Comedy', 'Musical', 'Comedy', 'Drama', 'Animation', 'Children', 'Comedy', 'Musical', 'Comedy', 'Drama', 'Documentary', 'Action', 'Comedy', 'Horror', 'Sci-Fi', 'Adventure', 'Comedy', 'Fantasy', 'Musical', 'Documentary', 'Drama', 'Documentary', 'War', 'Documentary', 'Drama', 'Mystery', 'Romance', 'Thriller', 'Adventure', 'Drama', 'Sci-Fi', 'Action', 'Crime', 'Drama', 'Thriller', 'Comedy', 'Crime', 'Crime', 'Drama', 'Film-Noir', 'Thriller', 'Comedy', 'Drama', 'Action', 'Comedy', 'Action', 'Comedy', 'Adventure', 'Animation', 'Drama', 'Comedy', 'Comedy', 'Fantasy', 'Comedy', 'Comedy', 'Romance', 'Drama', 'Comedy', 'Drama', 'Fantasy', 'Mystery', 'Documentary', 'Comedy', 'Romance', 'Horror', 'Sci-Fi', 'Comedy', 'Action', 'Adventure', 'Comedy', 'Sci-Fi', 'Action', 'Adventure', 'Sci-Fi', 'IMAX', 'Drama', 'Romance', 'Action', 'Adventure', 'Drama', 'War', 'Comedy', 'Comedy', 'Romance', 'Action', 'Adventure', 'Sci-Fi', 'Thriller', 'Crime', 'Drama', 'Drama', 'Crime', 'Drama', 'Action', 'Crime', 'Thriller', 'Action', 'Crime', 'Fantasy', 'Drama', 'Romance', 'Crime', 'Horror', 'Mystery', 'Thriller', 'Action', 'Sci-Fi', 'Adventure', 'Drama', 'Comedy', 'Drama', 'Comedy', 'Drama', 'Sci-Fi', 'War', 'Comedy', 'Comedy', 'Comedy', 'Romance', 'Adventure', 'Children', 'Fantasy', 'Musical', 'Drama', 'Musical', 'Drama', 'Comedy', 'Drama', 'War', 'Drama', 'Action', 'Drama', 'War', 'Comedy', 'Drama', 'Musical', 'Romance', 'Adventure', 'Fantasy', 'Sci-Fi', 'Comedy', 'Documentary', 'Drama', 'Documentary', 'Crime', 'Film-Noir', 'Thriller', 'Crime', 'Mystery', 'Thriller', 'Drama', 'Thriller', 'Crime', 'Mystery', 'Thriller', 'Mystery', 'Crime', 'Mystery', 'Thriller', 'Action', 'Adventure', 'Fantasy', 'Sci-Fi', 'Drama', 'Mystery', 'Thriller', 'Comedy', 'Drama', 'Romance', 'Action', 'Adventure', 'Drama', 'War', 'Comedy', 'Musical', 'Action', 'Crime', 'Drama', 'Thriller', 'Comedy', 'Romance', 'Romance', 'Sci-Fi', 'Drama', 'Adventure', 'Comedy', 'Comedy', 'Romance', 'Comedy', 'Romance', 'Action', 'Horror', 'Sci-Fi', 'Thriller', 'Drama', 'Comedy', 'Horror', 'Thriller', 'Comedy', 'Documentary', 'Adventure', 'Drama', 'Horror', 'Sci-Fi', 'Thriller', 'Crime', 'Thriller', 'Action', 'Adventure', 'Drama', 'Drama', 'Romance', 'Drama', 'Thriller', 'Drama', 'Romance', 'Thriller', 'Drama', 'Romance', 'Drama', 'Drama', 'Drama', 'Action', 'Crime', 'Drama', 'Mystery', 'Thriller', 'Action', 'Horror', 'Sci-Fi', 'Thriller', 'Comedy', 'Drama', 'Action', 'Adventure', 'Sci-Fi', 'Comedy', 'Romance', 'Comedy', 'Romance', 'Drama', 'Mystery', 'Sci-Fi', 'Thriller', 'Adventure', 'Drama', 'Comedy', 'Horror', 'Drama', 'Crime', 'Mystery', 'Thriller', 'Drama', 'Action', 'Drama', 'Horror', 'Thriller', 'Adventure', 'Drama', 'Horror', 'Animation', 'Children', 'Comedy', 'Action', 'Drama', 'Thriller', 'Comedy', 'Romance', 'Action', 'Comedy', 'Drama', 'Sci-Fi', 'Drama', 'Comedy', 'Romance', 'Action', 'Adventure', 'Animation', 'Comedy', 'Comedy', 'Crime', 'Drama', 'Comedy', 'Drama', 'Fantasy', 'Romance', 'Drama', 'Drama', 'Romance', 'Comedy', 'Horror', 'Comedy', 'Drama', 'Animation', 'Children', 'Comedy', 'Action', 'Drama', 'Documentary', 'Sci-Fi', 'Thriller', 'Comedy', 'Drama', 'Comedy', 'Horror', 'Mystery', 'Thriller', 'Comedy', 'Drama', 'Romance', 'Comedy', 'Drama', 'Romance', 'Drama', 'Mystery', 'Thriller', 'Drama', 'Drama', 'Documentary', 'Crime', 'Drama', 'Thriller', 'Horror', 'Mystery', 'Thriller', 'Drama', 'Drama', 'Mystery', 'Action', 'Adventure', 'Animation', 'Children', 'Comedy', 'Drama', 'Adventure', 'Animation', 'Children', 'Fantasy', 'IMAX', 'Drama', 'Comedy', 'Horror', 'Action', 'Adventure', 'Comedy', 'Crime', 'Thriller', 'Comedy', 'Drama', 'Romance', 'Drama', 'Action', 'Adventure', 'Drama', 'Mystery', 'Thriller', 'Drama', 'Thriller', 'Adventure', 'Animation', 'Children', 'Comedy', 'Action', 'Adventure', 'Drama', 'War', 'Children', 'Comedy', 'Documentary', 'Drama', 'Romance', 'Drama', 'Action', 'Drama', 'Romance', 'Action', 'Comedy', 'Crime', 'Thriller', 'Action', 'Fantasy', 'Horror', 'Thriller', 'Documentary', 'Comedy', 'Musical', 'Documentary', 'Adventure', 'Children', 'Sci-Fi', 'Drama', 'Mystery', 'Sci-Fi', 'Horror', 'Sci-Fi', 'Drama', 'Romance', 'Documentary', 'War', 'Drama', 'Horror', 'Comedy', 'Fantasy', 'Romance', 'Comedy', 'Drama', 'Drama', 'Musical', 'Romance', 'Comedy', 'Romance', 'Fantasy', 'Crime', 'Drama', 'Comedy', 'Crime', 'Drama', 'Comedy', 'Drama', 'Romance', 'Musical', 'Comedy', 'Drama', 'Romance', 'Drama', 'Film-Noir', 'Comedy', 'Romance', 'Comedy', 'Romance', 'Drama', 'Romance', 'Adventure', 'Drama', 'Drama', 'Comedy', 'Drama', 'Romance', 'Crime', 'Drama', 'Thriller', 'Drama', 'Romance', 'Drama', 'Film-Noir', 'Comedy', 'Fantasy', 'Romance', 'Drama', 'Romance', 'Comedy', 'Drama', 'Drama', 'Comedy', 'Romance', 'Drama', 'Romance', 'Drama', 'Drama', 'Film-Noir', 'Thriller', 'Musical', 'Romance', 'Drama', 'Film-Noir', 'Mystery', 'Action', 'Adventure', 'Drama', 'Romance', 'Comedy', 'Comedy', 'Drama', 'Comedy', 'Musical', 'Romance', 'Western', 'Action', 'Adventure', 'Romance', 'Crime', 'Drama', 'Drama', 'Musical', 'Drama', 'Crime', 'Drama', 'Mystery', 'Thriller', 'Crime', 'Documentary', 'War', 'Comedy', 'Romance', 'Drama', 'War', 'Crime', 'Drama', 'Drama', 'Drama', 'War', 'Drama', 'Drama', 'Children', 'Comedy', 'Musical', 'Romance', 'Adventure', 'Drama', 'Romance', 'Comedy', 'Drama', 'War', 'Horror', 'Thriller', 'Drama', 'Horror', 'War', 'Sci-Fi', 'Drama', 'War', 'Animation', 'Children', 'Comedy', 'Adventure', 'War', 'Western', 'Comedy', 'Drama', 'Romance', 'Drama', 'War', 'Crime', 'Drama', 'Action', 'Adventure', 'Comedy', 'Comedy', 'Drama', 'War', 'Action', 'Crime', 'Drama', 'Action', 'Crime', 'Drama', 'Comedy', 'Action', 'Crime', 'Drama', 'Thriller', 'Documentary', 'Drama', 'Action', 'Adventure', 'Animation', 'Children', 'Comedy', 'Action', 'Adventure', 'Comedy', 'Crime', 'Thriller', 'Documentary', 'Musical', 'Children', 'Comedy', 'Comedy', 'Romance', 'Crime', 'Drama', 'Thriller', 'Action', 'Adventure', 'Comedy', 'Drama', 'Romance', 'War', 'Drama', 'Romance', 'Action', 'Mystery', 'Thriller', 'Comedy', 'Western', 'Fantasy', 'Western', 'Adventure', 'Comedy', 'Horror', 'Romance', 'Crime', 'Drama', 'Thriller', 'Comedy', 'Sci-Fi', 'Thriller', 'Horror', 'Thriller', 'Drama', 'Romance', 'Comedy', 'Drama', 'Drama', 'Romance', 'Action', 'Crime', 'Drama', 'Drama', 'Action', 'Adventure', 'Animation', 'Children', 'Comedy', 'Fantasy', 'Action', 'Crime', 'Drama', 'Thriller', 'Comedy', 'Drama', 'Romance', 'Drama', 'Horror', 'Thriller', 'Drama', 'War', 'Sci-Fi', 'Thriller', 'Documentary', 'Action', 'Comedy', 'Crime', 'Comedy', 'Thriller', 'Drama', 'Musical', 'Romance', 'Drama', 'Romance', 'Action', 'Action', 'Drama', 'Horror', 'Sci-Fi', 'Action', 'Comedy', 'Comedy', 'Drama', 'Musical', 'Comedy', 'Horror', 'Romance', 'Adventure', 'Comedy', 'Sci-Fi', 'Drama', 'Mystery', 'Action', 'Crime', 'Drama', 'Drama', 'Sci-Fi', 'Comedy', 'Documentary', 'Adventure', 'Drama', 'Fantasy', 'Horror', 'Sci-Fi', 'Thriller', 'Drama', 'Action', 'Adventure', 'Children', 'Crime', 'Mystery', 'Thriller', 'Adventure', 'Children', 'Fantasy', 'Sci-Fi', 'Horror', 'Thriller', 'Documentary', 'Comedy', 'Drama', 'Children', 'Drama', 'Drama', 'Adventure', 'Children', 'Fantasy', 'Sci-Fi', 'Action', 'Comedy', 'Crime', 'Thriller', 'Drama', 'Mystery', 'Sci-Fi', 'Comedy', 'Drama', 'Drama', 'Musical', 'Comedy', 'Drama', 'Crime', 'Drama', 'Thriller', 'Crime', 'Drama', 'Romance', 'Action', 'Adventure', 'Animation', 'Children', 'Fantasy', 'Sci-Fi', 'Action', 'Comedy', 'Sci-Fi', 'Comedy', 'Drama', 'Romance', 'Fantasy', 'Horror', 'Sci-Fi', 'Thriller', 'Action', 'Fantasy', 'Horror', 'Romance', 'Crime', 'Drama', 'Thriller', 'Action', 'Adventure', 'Drama', 'Mystery', 'Thriller', 'Drama', 'Comedy', 'Horror', 'Sci-Fi', 'Musical', 'Animation', 'Fantasy', 'Mystery', 'Comedy', 'Adventure', 'Drama', 'Western', 'Adventure', 'Animation', 'Children', 'Drama', 'Fantasy', 'Comedy', 'Comedy', 'Musical', 'Romance', 'Action', 'Drama', 'War', 'Comedy', 'Fantasy', 'Drama', 'Fantasy', 'Horror', 'Mystery', 'Thriller', 'Drama', 'Drama', 'Action', 'Comedy', 'Crime', 'Action', 'Animation', 'Crime', 'Drama', 'Film-Noir', 'Mystery', 'Sci-Fi', 'Thriller', 'Crime', 'Drama', 'Thriller', 'Documentary', 'Drama', 'Romance', 'Drama', 'Horror', 'Comedy', 'Documentary', 'Comedy', 'Action', 'Crime', 'Thriller', 'Comedy', 'Fantasy', 'Romance', 'Animation', 'Drama', 'Comedy', 'Drama', 'Romance', 'Adventure', 'Drama', 'Western', 'Crime', 'Drama', 'Mystery', 'Romance', 'Thriller', 'Action', 'Fantasy', 'Sci-Fi', 'Thriller', 'War', 'Action', 'Comedy', 'Romance', 'Adventure', 'Animation', 'Comedy', 'Fantasy', 'Romance', 'Drama', 'Comedy', 'Drama', 'Musical', 'Drama', 'Romance', 'Thriller', 'War', 'Action', 'Adventure', 'Children', 'Comedy', 'Drama', 'Romance', 'Documentary', 'Drama', 'Drama', 'Action', 'Sci-Fi', 'Action', 'Children', 'Comedy', 'Comedy', 'Drama', 'Action', 'Comedy', 'Crime', 'Drama', 'Adventure', 'Drama', 'Fantasy', 'Horror', 'Sci-Fi', 'Action', 'Crime', 'Horror', 'Comedy', 'Sci-Fi', 'Action', 'Drama', 'Comedy', 'Comedy', 'Romance', 'Crime', 'Film-Noir', 'Mystery', 'Thriller', 'Drama', 'Fantasy', 'Horror', 'Mystery', 'Sci-Fi', 'Thriller', 'Comedy', 'Drama', 'Adventure', 'Western', 'Animation', 'Drama', 'Romance', 'Action', 'Animation', 'Comedy', 'Drama', 'Romance', 'Comedy', 'Crime', 'Thriller', 'Romance', 'Drama', 'Thriller', 'Drama', 'Action', 'Sci-Fi', 'Adventure', 'Animation', 'Children', 'Musical', 'Romance', 'Action', 'Documentary', 'Drama', 'Thriller', 'Action', 'Horror', 'Sci-Fi', 'Drama', 'Comedy', 'Crime', 'Horror', 'Drama', 'Romance', 'Action', 'Crime', 'Thriller', 'Action', 'Adventure', 'Comedy', 'Sci-Fi', 'Thriller', 'Action', 'Adventure', 'Drama', 'Fantasy', 'Romance', 'Sci-Fi', 'Children', 'Comedy', 'Fantasy', 'Fantasy', 'Western', 'Drama', 'Thriller', 'Action', 'Crime', 'Fantasy', 'Horror', 'Action', 'Adventure', 'Animation', 'Children', 'Fantasy', 'Sci-Fi', 'Action', 'Animation', 'Drama', 'Fantasy', 'Sci-Fi', 'Documentary', 'Comedy', 'Romance', 'Adventure', 'Animation', 'Children', 'Fantasy', 'Action', 'Comedy', 'Drama', 'Romance', 'Adventure', 'Comedy', 'Fantasy', 'Drama', 'Drama', 'Fantasy', 'Romance', 'Sci-Fi', 'Comedy', 'Drama', 'Action', 'Animation', 'Crime', 'Sci-Fi', 'Thriller', 'Drama', 'Horror', 'Mystery', 'Romance', 'Thriller', 'Comedy', 'Drama', 'Fantasy', 'Action', 'Comedy', 'Crime', 'Fantasy', 'Thriller', 'Documentary', 'Adventure', 'Comedy', 'Fantasy', 'Animation', 'Comedy', 'Comedy', 'Drama', 'Crime', 'Drama', 'Mystery', 'Thriller', 'War', 'Drama', 'Thriller', 'Comedy', 'Drama', 'Romance', 'Comedy', 'Drama', 'Romance', 'Sci-Fi', 'Action', 'Comedy', 'Thriller', 'Horror', 'Mystery', 'Action', 'Animation', 'Horror', 'Adventure', 'Western', 'Comedy', 'Crime', 'Horror', 'Mystery', 'Thriller', 'Comedy', 'Action', 'Crime', 'Thriller', 'Horror', 'Mystery', 'Sci-Fi', 'Horror', 'Mystery', 'Thriller', 'Drama', 'Comedy', 'Romance', 'Comedy', 'Fantasy', 'Mystery', 'Sci-Fi', 'Comedy', 'Romance', 'Comedy', 'Crime', 'Drama', 'Sci-Fi', 'Thriller', 'Comedy', 'Comedy', 'Horror', 'Musical', 'Comedy', 'Horror', 'Mystery', 'Thriller', 'Crime', 'Drama', 'Action', 'Comedy', 'Horror', 'Musical', 'Horror', 'Mystery', 'Thriller', 'Drama', 'Sci-Fi', 'War', 'Action', 'Adventure', 'Drama', 'Sci-Fi', 'Thriller', 'Adventure', 'Animation', 'Children', 'Comedy', 'Drama', 'Romance', 'Comedy', 'Drama', 'Romance', 'Action', 'Animation', 'Drama', 'Sci-Fi', 'Drama', 'Horror', 'Comedy', 'Crime', 'Drama', 'Mystery', 'Thriller', 'Action', 'Comedy', 'Horror', 'Sci-Fi', 'Thriller', 'Western', 'Comedy', 'Action', 'Crime', 'Thriller', 'Action', 'Comedy', 'Drama', 'War', 'Action', 'Comedy', 'Drama', 'Action', 'Drama', 'Thriller', 'War', 'Action', 'Drama', 'Thriller', 'Adventure', 'Children', 'Comedy', 'Fantasy', 'Action', 'Adventure', 'Drama', 'Romance', 'Comedy', 'Crime', 'Drama', 'Romance', 'Drama', 'Mystery', 'Romance', 'War', 'Drama', 'Romance', 'Action', 'Animation', 'Drama', 'Sci-Fi', 'Thriller', 'Adventure', 'Animation', 'Children', 'Fantasy', 'Drama', 'Romance', 'Drama', 'Romance', 'Horror', 'Thriller', 'Drama', 'Horror', 'Mystery', 'Thriller', 'Comedy', 'Drama', 'Drama', 'Horror', 'Mystery', 'Thriller', 'Drama', 'Fantasy', 'Horror', 'Horror', 'Mystery', 'Drama', 'Mystery', 'Sci-Fi', 'Thriller', 'Children', 'Comedy', 'Crime', 'Drama', 'Fantasy', 'Action', 'Horror', 'Sci-Fi', 'War', 'Action', 'Thriller', 'Action', 'Crime', 'Drama', 'Thriller', 'Drama', 'Comedy', 'Drama', 'Romance', 'Drama', 'Action', 'Adventure', 'Drama', 'War', 'Documentary', 'Drama', 'Drama', 'Thriller', 'Drama', 'Thriller', 'Comedy', 'Drama', 'Romance', 'Documentary', 'Drama', 'Crime', 'Drama', 'Thriller', 'Drama', 'Action', 'Adventure', 'Drama', 'Thriller', 'Drama', 'Horror', 'Mystery', 'Thriller', 'Documentary', 'Documentary', 'Action', 'Adventure', 'Drama', 'Thriller', 'Drama', 'Action', 'Drama', 'War', 'Documentary', 'Documentary', 'Documentary', 'Documentary', 'Comedy', 'Documentary', 'Drama', 'Animation', 'Drama', 'Mystery', 'Sci-Fi', 'Thriller', 'Action', 'Drama', 'Fantasy', 'Sci-Fi', 'Documentary', 'Drama', 'Comedy', 'Crime', 'Drama', 'Horror', 'Mystery', 'Drama', 'War', 'Adventure', 'Children', 'Comedy', 'Fantasy', 'IMAX', 'Drama', 'Romance', 'Adventure', 'Comedy', 'Fantasy', 'Drama', 'Drama', 'Musical', 'Romance', 'Drama', 'Musical', 'Drama', 'Comedy', 'Drama', 'Comedy', 'Crime', 'Drama', 'Thriller', 'Drama', 'Drama', 'Comedy', 'Fantasy', 'Drama', 'Animation', 'Documentary', 'Drama', 'Horror', 'Mystery', 'Sci-Fi', 'Thriller', 'Comedy', 'Drama', 'Romance', 'Comedy', 'Drama', 'Comedy', 'Children', 'Drama', 'Drama', 'Romance', 'Comedy', 'Thriller', 'Comedy', 'Romance', 'Crime', 'Drama', 'Action', 'Crime', 'Drama', 'Comedy', 'Drama', 'Drama', 'War', 'Comedy', 'Crime', 'Animation', 'Fantasy', 'Sci-Fi', 'War', 'Comedy', 'Drama', 'Action', 'Animation', 'Fantasy', 'Sci-Fi', 'Animation', 'Children', 'Musical', 'Action', 'Adventure', 'Crime', 'Drama', 'Children', 'Comedy', 'Drama', 'Drama', 'Comedy', 'Musical', 'Crime', 'Drama', 'Crime', 'Drama', 'Mystery', 'Thriller', 'Action', 'Adventure', 'Comedy', 'Crime', 'Romance', 'Thriller', 'Drama', 'War', 'Action', 'Crime', 'Drama', 'Thriller', 'Children', 'Comedy', 'Action', 'Horror', 'Sci-Fi', 'Thriller', 'Horror', 'Mystery', 'Thriller', 'Drama', 'Horror', 'Mystery', 'Thriller', 'Comedy', 'Romance', 'Drama', 'Drama', 'Comedy', 'Drama', 'Drama', 'Crime', 'Film-Noir', 'Action', 'Adventure', 'Sci-Fi', 'Crime', 'Drama', 'Thriller', 'Drama', 'Action', 'Adventure', 'Drama', 'Romance', 'War', 'Adventure', 'Animation', 'Fantasy', 'Romance', 'Action', 'Animation', 'Drama', 'Sci-Fi', 'Action', 'Comedy', 'Romance', 'Comedy', 'Romance', 'Comedy', 'Comedy', 'Musical', 'Romance', 'Action', 'Fantasy', 'Horror', 'Thriller', 'Adventure', 'Children', 'Comedy', 'Fantasy', 'Children', 'Comedy', 'Drama', 'Drama', 'War', 'Mystery', 'Thriller', 'Action', 'Fantasy', 'Horror', 'Mystery', 'Sci-Fi', 'Thriller', 'Comedy', 'Action', 'Comedy', 'Action', 'Comedy', 'Drama', 'Romance', 'Comedy', 'Horror', 'Adventure', 'Comedy', 'Crime', 'Drama', 'Mystery', 'Thriller', 'Action', 'Adventure', 'Comedy', 'Adventure', 'Comedy', 'Romance', 'Comedy', 'Crime', 'Drama', 'Mystery', 'Drama', 'War', 'Comedy', 'Drama', 'Romance', 'Horror', 'Thriller', 'Action', 'Comedy', 'Comedy', 'Crime', 'Musical', 'Documentary', 'War', 'Action', 'Crime', 'Drama', 'Thriller', 'Adventure', 'Animation', 'Children', 'Comedy', 'Fantasy', 'Sci-Fi', 'IMAX', 'Drama', 'Horror', 'Mystery', 'Comedy', 'Drama', 'Comedy', 'Crime', 'Drama', 'Thriller', 'Horror', 'Mystery', 'Sci-Fi', 'Thriller', 'Drama', 'Action', 'Comedy', 'Crime', 'Children', 'Comedy', 'Drama', 'Comedy', 'Drama', 'Drama', 'Adventure', 'Comedy', 'Crime', 'Comedy', 'Romance', 'Action', 'Comedy', 'Documentary', 'Adventure', 'Comedy', 'Documentary', 'Crime', 'Drama', 'Film-Noir', 'Action', 'Drama', 'Comedy', 'Crime', 'Drama', 'Western', 'Action', 'Comedy', 'Comedy', 'Animation', 'Comedy', 'Drama', 'Fantasy', 'Action', 'Comedy', 'Crime', 'Drama', 'Comedy', 'Crime', 'Drama', 'Action', 'Adventure', 'Adventure', 'Drama', 'War', 'Western', 'Animation', 'Fantasy', 'Sci-Fi', 'Thriller', 'Documentary', 'Drama', 'Action', 'Crime', 'Film-Noir', 'Mystery', 'Thriller', 'Comedy', 'Action', 'Adventure', 'Comedy', 'Comedy', 'Romance', 'Drama', 'Comedy', 'Musical', 'Romance', 'Action', 'Crime', 'Drama', 'War', 'Animation', 'Drama', 'Comedy', 'Comedy', 'Drama', 'Mystery', 'Thriller', 'Drama', 'Horror', 'Thriller', 'Drama', 'Drama', 'Romance', 'Comedy', 'Romance', 'Comedy', 'Drama', 'War', 'Action', 'Adventure', 'Fantasy', 'Sci-Fi', 'Drama', 'War', 'Drama', 'Horror', 'Thriller', 'Comedy', 'Fantasy', 'Romance', 'Adventure', 'Comedy', 'Sci-Fi', 'Horror', 'Thriller', 'Animation', 'Comedy', 'Sci-Fi', 'Drama', 'War', 'Comedy', 'Western', 'Action', 'Crime', 'Drama', 'Adventure', 'Comedy', 'Drama', 'Comedy', 'Drama', 'Romance', 'Comedy', 'Crime', 'Documentary', 'Action', 'Crime', 'Thriller', 'Action', 'Drama', 'Romance', 'War', 'Horror', 'Thriller', 'Crime', 'Drama', 'Drama', 'Mystery', 'Comedy', 'Romance', 'Drama', 'Mystery', 'Romance', 'Thriller', 'Drama', 'Musical', 'Romance', 'Animation', 'Fantasy', 'Horror', 'Drama', 'Romance', 'Comedy', 'Musical', 'Drama', 'Documentary', 'Action', 'Crime', 'Drama', 'Thriller', 'Action', 'Adventure', 'Sci-Fi', 'Comedy', 'Comedy', 'Romance', 'Adventure', 'Drama', 'Comedy', 'Adventure', 'Animation', 'Children', 'Comedy', 'Adventure', 'Comedy', 'Children', 'Documentary', 'Horror', 'Thriller', 'Comedy', 'Drama', 'Comedy', 'Drama', 'Romance', 'Drama', 'Romance', 'Adventure', 'Comedy', 'Drama', 'Action', 'Comedy', 'Drama', 'Documentary', 'Action', 'Adventure', 'Comedy', 'Romance', 'Action', 'Adventure', 'Children', 'Fantasy', 'Horror', 'Thriller', 'Comedy', 'Drama', 'Musical', 'Comedy', 'Drama', 'Romance', 'Action', 'Crime', 'IMAX', 'Action', 'Adventure', 'Fantasy', 'Sci-Fi', 'Comedy', 'Drama', 'Romance', 'Comedy', 'Drama', 'Adventure', 'Comedy', 'Romance', 'Action', 'Horror', 'Thriller', 'Comedy', 'Fantasy', 'Romance', 'Documentary', 'Comedy', 'Drama', 'Comedy', 'Crime', 'Thriller', 'Horror', 'Comedy', 'Crime', 'Drama', 'Romance', 'Comedy', 'Comedy', 'Musical', 'Action', 'Adventure', 'Sci-Fi', 'Thriller', 'Documentary', 'Comedy', 'Drama', 'Horror', 'Thriller', 'Drama', 'Action', 'Adventure', 'Sci-Fi', 'Documentary', 'Comedy', 'Romance', 'Comedy', 'Drama', 'Crime', 'Drama', 'Action', 'Horror', 'Sci-Fi', 'Comedy', 'Action', 'Sci-Fi', 'Thriller', 'Children', 'Comedy', 'Action', 'Crime', 'Horror', 'Drama', 'Drama', 'Mystery', 'Action', 'Adventure', 'Children', 'Comedy', 'Action', 'Adventure', 'Sci-Fi', 'Thriller', 'Comedy', 'Romance', 'Comedy', 'Documentary', 'Comedy', 'Action', 'Adventure', 'Drama', 'Thriller', 'Action', 'Adventure', 'Sci-Fi', 'Comedy', 'Drama', 'Action', 'Comedy', 'Crime', 'Drama', 'Drama', 'Action', 'Adventure', 'Comedy', 'Comedy', 'Drama', 'Comedy', 'Drama', 'Comedy', 'Drama', 'Horror', 'Mystery', 'Thriller', 'Action', 'Crime', 'Drama', 'Action', 'Drama', 'War', 'Comedy', 'Drama', 'Documentary', 'Comedy', 'Action', 'Crime', 'Drama', 'Thriller', 'Adventure', 'Drama', 'Animation', 'Drama', 'Comedy', 'Comedy', 'Romance', 'Horror', 'Thriller', 'Drama', 'Mystery', 'Thriller', 'Adventure', 'Children', 'Comedy', 'Fantasy', 'Comedy', 'Drama', 'Sci-Fi', 'Adventure', 'Animation', 'Children', 'Comedy', 'Fantasy', 'War', 'Comedy', 'Fantasy', 'Horror', 'Thriller', 'Comedy', 'Drama', 'Romance', 'Action', 'Adventure', 'Horror', 'Mystery', 'Sci-Fi', 'Thriller', 'Drama', 'Thriller', 'Action', 'Crime', 'Thriller', 'Comedy', 'Fantasy', 'Romance', 'Drama', 'Action', 'Crime', 'Drama', 'Thriller', 'War', 'Drama', 'Horror', 'Mystery', 'Thriller', 'Comedy', 'Drama', 'Comedy', 'Drama', 'Adventure', 'Animation', 'Comedy', 'Action', 'Comedy', 'Crime', 'Thriller', 'Action', 'Crime', 'Drama', 'Comedy', 'Musical', 'Western', 'Documentary', 'Action', 'Horror', 'Sci-Fi', 'Crime', 'Drama', 'Thriller', 'Comedy', 'Action', 'Sci-Fi', 'Comedy', 'Horror', 'Romance', 'Drama', 'Action', 'Comedy', 'Crime', 'Fantasy', 'Mystery', 'Romance', 'Thriller', 'Drama', 'Crime', 'Drama', 'Horror', 'Thriller', 'Action', 'Drama', 'Thriller', 'Animation', 'Comedy', 'Fantasy', 'Musical', 'Romance', 'Crime', 'Drama', 'Action', 'Crime', 'Drama', 'Thriller', 'Drama', 'Drama', 'Crime', 'Drama', 'Action', 'Adventure', 'Animation', 'Fantasy', 'Sci-Fi', 'Comedy', 'Drama', 'Romance', 'Action', 'Adventure', 'Crime', 'Thriller', 'Adventure', 'Children', 'Drama', 'Fantasy', 'Adventure', 'Animation', 'Children', 'Comedy', 'Comedy', 'Crime', 'Mystery', 'Thriller', 'Action', 'Crime', 'Drama', 'Drama', 'Romance', 'Drama', 'Romance', 'Documentary', 'Action', 'Adventure', 'Drama', 'Fantasy', 'Documentary', 'Drama', 'Action', 'Horror', 'Sci-Fi', 'Thriller', 'Comedy', 'Drama', 'Comedy', 'Drama', 'Drama', 'Drama', 'Romance', 'Comedy', 'Drama', 'Romance', 'Drama', 'Crime', 'Drama', 'Children', 'Drama', 'Crime', 'Drama', 'Western', 'Action', 'Horror', 'Mystery', 'Thriller', 'Comedy', 'Drama', 'Romance', 'Thriller', 'Action', 'Adventure', 'Drama', 'Western', 'Comedy', 'Drama', 'Horror', 'Thriller', 'Comedy', 'Drama', 'Romance', 'Drama', 'Comedy', 'Adventure', 'Comedy', 'Fantasy', 'Horror', 'Drama', 'Crime', 'Drama', 'Thriller', 'Action', 'Drama', 'War', 'Action', 'Adventure', 'Animation', 'Children', 'Comedy', 'Sci-Fi', 'Crime', 'Thriller', 'Drama', 'War', 'Horror', 'Sci-Fi', 'Thriller', 'Comedy', 'Drama', 'Action', 'Drama', 'Comedy', 'Romance', 'Drama', 'Thriller', 'Comedy', 'Drama', 'Drama', 'Thriller', 'Horror', 'Thriller', 'Drama', 'Romance', 'Sci-Fi', 'Crime', 'Horror', 'Thriller', 'Adventure', 'Drama', 'Horror', 'Thriller', 'Adventure', 'Fantasy', 'Thriller', 'IMAX', 'Drama', 'Musical', 'Romance', 'Drama', 'Musical', 'Romance', 'Action', 'Adventure', 'Children', 'Fantasy', 'Drama', 'Comedy', 'Musical', 'Comedy', 'Drama', 'Action', 'Comedy', 'Crime', 'Thriller', 'Comedy', 'Romance', 'Drama', 'Crime', 'Horror', 'Mystery', 'Thriller', 'Crime', 'Drama', 'Romance', 'Crime', 'Drama', 'Thriller', 'War', 'Adventure', 'Children', 'Fantasy', 'Action', 'Adventure', 'Drama', 'Fantasy', 'Thriller', 'Drama', 'Romance', 'Comedy', 'Drama', 'Romance', 'Crime', 'Drama', 'Romance', 'Action', 'Drama', 'Comedy', 'Drama', 'Comedy', 'Drama', 'Thriller', 'Documentary', 'Comedy', 'Drama', 'Romance', 'Comedy', 'War', 'Adventure', 'Crime', 'Drama', 'Action', 'Crime', 'Drama', 'Thriller', 'Comedy', 'Musical', 'Adventure', 'Comedy', 'Drama', 'Comedy', 'Drama', 'Romance', 'Adventure', 'Comedy', 'Comedy', 'Crime', 'Comedy', 'Action', 'Adventure', 'Comedy', 'Drama', 'Romance', 'Comedy', 'Drama', 'Drama', 'Thriller', 'Animation', 'Children', 'Horror', 'Thriller', 'Adventure', 'Drama', 'Romance', 'Animation', 'Drama', 'Romance', 'Sci-Fi', 'Fantasy', 'Mystery', 'Western', 'Action', 'Adventure', 'Drama', 'Documentary', 'Crime', 'Drama', 'Mystery', 'Thriller', 'Comedy', 'Drama', 'Action', 'Crime', 'Sci-Fi', 'Horror', 'Comedy', 'Drama', 'Romance', 'Drama', 'Comedy', 'Animation', 'Children', 'Comedy', 'Action', 'Fantasy', 'Horror', 'Comedy', 'Adventure', 'Children', 'Comedy', 'Fantasy', 'Adventure', 'Drama', 'War', 'Action', 'Comedy', 'Adventure', 'Comedy', 'Drama', 'Fantasy', 'Drama', 'Romance', 'Drama', 'War', 'Drama', 'Action', 'Comedy', 'Crime', 'Western', 'Comedy', 'Drama', 'Action', 'Crime', 'Drama', 'Horror', 'Drama', 'Action', 'Comedy', 'Crime', 'Children', 'Comedy', 'Fantasy', 'Drama', 'War', 'Horror', 'Mystery', 'Thriller', 'Comedy', 'Drama', 'Romance', 'Comedy', 'Documentary', 'Comedy', 'Drama', 'Romance', 'Adventure', 'Comedy', 'Crime', 'Adventure', 'Animation', 'Children', 'Comedy', 'Crime', 'Drama', 'Thriller', 'Horror', 'Thriller', 'Drama', 'Crime', 'Drama', 'Drama', 'Action', 'Adventure', 'Drama', 'Romance', 'Comedy', 'Romance', 'Action', 'Crime', 'Thriller', 'Action', 'Fantasy', 'Sci-Fi', 'Thriller', 'Comedy', 'Romance', 'Action', 'Drama', 'Fantasy', 'Horror', 'Mystery', 'Sci-Fi', 'Thriller', 'Crime', 'Thriller', 'Comedy', 'Romance', 'Action', 'Animation', 'Children', 'Sci-Fi', 'Adventure', 'Animation', 'Children', 'Comedy', 'Drama', 'Romance', 'Action', 'Sci-Fi', 'Thriller', 'IMAX', 'Comedy', 'Romance', 'Comedy', 'Drama', 'Comedy', 'Crime', 'Drama', 'Crime', 'Drama', 'Thriller', 'Crime', 'Drama', 'Children', 'Comedy', 'Fantasy', 'Comedy', 'Fantasy', 'Horror', 'Comedy', 'Fantasy', 'Horror', 'Comedy', 'Fantasy', 'Horror', 'Sci-Fi', 'Crime', 'Drama', 'Drama', 'Horror', 'Thriller', 'Adventure', 'Children', 'Comedy', 'Fantasy', 'Documentary', 'Drama', 'Romance', 'Thriller', 'Action', 'Crime', 'Mystery', 'Drama', 'Documentary', 'Drama', 'Crime', 'Drama', 'Mystery', 'Comedy', 'Drama', 'Drama', 'Drama', 'Horror', 'Sci-Fi', 'Thriller', 'Crime', 'Drama', 'Mystery', 'Thriller', 'Crime', 'Drama', 'Film-Noir', 'Mystery', 'Comedy', 'Horror', 'Comedy', 'Horror', 'Sci-Fi', 'Documentary', 'Comedy', 'Horror', 'Sci-Fi', 'Comedy', 'Action', 'Animation', 'Film-Noir', 'Sci-Fi', 'Thriller', 'Comedy', 'Comedy', 'Drama', 'Romance', 'Comedy', 'Drama', 'Musical', 'Drama', 'Romance', 'Drama', 'Crime', 'Drama', 'Documentary', 'Comedy', 'Horror', 'Drama', 'Thriller', 'Comedy', 'Drama', 'Musical', 'Crime', 'Drama', 'Thriller', 'Adventure', 'Animation', 'Children', 'Comedy', 'Fantasy', 'Fantasy', 'Horror', 'Thriller', 'Comedy', 'Drama', 'Comedy', 'Drama', 'Action', 'Comedy', 'Crime', 'Thriller', 'Action', 'Adventure', 'Thriller', 'Adventure', 'Children', 'Comedy', 'Crime', 'Drama', 'Comedy', 'Drama', 'Horror', 'Mystery', 'Thriller', 'Drama', 'Romance', 'Adventure', 'Animation', 'Children', 'Comedy', 'Comedy', 'Drama', 'Action', 'Adventure', 'Thriller', 'IMAX', 'Drama', 'Mystery', 'Thriller', 'Action', 'Sci-Fi', 'Thriller', 'Comedy', 'Drama', 'Romance', 'Drama', 'Animation', 'Children', 'Comedy', 'Drama', 'Comedy', 'Drama', 'Drama', 'Horror', 'Thriller', 'Comedy', 'Drama', 'Fantasy', 'Romance', 'Adventure', 'Comedy', 'Drama', 'Fantasy', 'Romance', 'Comedy', 'Drama', 'Action', 'Adventure', 'Fantasy', 'Comedy', 'Comedy', 'Drama', 'Fantasy', 'Mystery', 'Comedy', 'Fantasy', 'Romance', 'Drama', 'Romance', 'Documentary', 'Documentary', 'Comedy', 'Romance', 'Children', 'Comedy', 'Drama', 'Musical', 'Romance', 'Comedy', 'Documentary', 'Romance', 'Drama', 'Action', 'Drama', 'Action', 'Crime', 'Drama', 'Thriller', 'Animation', 'Children', 'Comedy', 'Documentary', 'Crime', 'Thriller', 'Action', 'Adventure', 'Sci-Fi', 'IMAX', 'Drama', 'War', 'Drama', 'Thriller', 'Comedy', 'Adventure', 'Comedy', 'Drama', 'Drama', 'Mystery', 'Thriller', 'Drama', 'Thriller', 'Comedy', 'Documentary', 'Action', 'Drama', 'Thriller', 'War', 'Drama', 'Comedy', 'Animation', 'Children', 'Fantasy', 'Mystery', 'Action', 'Comedy', 'Horror', 'Thriller', 'Comedy', 'Fantasy', 'Mystery', 'Action', 'Comedy', 'Action', 'Comedy', 'Fantasy', 'IMAX', 'Drama', 'Comedy', 'Drama', 'Fantasy', 'Romance', 'Action', 'Crime', 'Drama', 'Thriller', 'Drama', 'Comedy', 'Romance', 'Adventure', 'Animation', 'Children', 'Comedy', 'Fantasy', 'IMAX', 'Action', 'Thriller', 'Drama', 'Romance', 'Action', 'Crime', 'Drama', 'Thriller', 'Fantasy', 'Mystery', 'Thriller', 'Drama', 'Romance', 'Adventure', 'Comedy', 'Drama', 'Fantasy', 'Adventure', 'Animation', 'Comedy', 'Fantasy', 'Romance', 'Sci-Fi', 'Drama', 'Drama', 'Mystery', 'Thriller', 'Drama', 'Fantasy', 'Thriller', 'Comedy', 'Drama', 'Children', 'Comedy', 'Drama', 'Comedy', 'Action', 'Adventure', 'Comedy', 'Crime', 'Crime', 'Drama', 'Film-Noir', 'Drama', 'Fantasy', 'Mystery', 'Romance', 'Drama', 'Comedy', 'Drama', 'Crime', 'Drama', 'Musical', 'Children', 'Fantasy', 'Comedy', 'Drama', 'Fantasy', 'Romance', 'Comedy', 'Comedy', 'Fantasy', 'Drama', 'Romance', 'Horror', 'Mystery', 'Thriller', 'Drama', 'War', 'Comedy', 'Horror', 'Thriller', 'Crime', 'Drama', 'Mystery', 'Thriller', 'Action', 'Horror', 'Thriller', 'Comedy', 'Drama', 'Drama', 'Adventure', 'Comedy', 'Sci-Fi', 'Thriller', 'Documentary', 'Drama', 'Drama', 'Romance', 'Comedy', 'Drama', 'Romance', 'War', 'Drama', 'Fantasy', 'Romance', 'Comedy', 'Comedy', 'Drama', 'Fantasy', 'Romance', 'Crime', 'Drama', 'Mystery', 'Thriller', 'Horror', 'Drama', 'Drama', 'Documentary', 'Adventure', 'Drama', 'Thriller', 'Action', 'Adventure', 'Drama', 'War', 'Comedy', 'Documentary', 'Drama', 'Comedy', 'Drama', 'Romance', 'Comedy', 'Drama', 'Fantasy', 'Thriller', 'Action', 'Adventure', 'Drama', 'Adventure', 'Animation', 'Children', 'Comedy', 'IMAX', 'Comedy', 'Crime', 'Crime', 'Drama', 'Thriller', 'Horror', 'Thriller', 'Comedy', 'Comedy', 'Drama', 'Comedy', 'Thriller', 'Action', 'Drama', 'Thriller', 'Drama', 'Drama', 'Romance', 'Drama', 'War', 'Action', 'Comedy', 'Horror', 'Thriller', 'Drama', 'Romance', 'Documentary', 'Drama', 'Thriller', 'Documentary', 'Comedy', 'Drama', 'Romance', 'Action', 'Adventure', 'Drama', 'Sci-Fi', 'Thriller', 'Drama', 'Mystery', 'Sci-Fi', 'Thriller', 'Drama', 'War', 'Film-Noir', 'Thriller', 'Crime', 'Horror', 'Thriller', 'Drama', 'Thriller', 'Crime', 'Drama', 'Mystery', 'Thriller', 'Animation', 'Comedy', 'Crime', 'Drama', 'Thriller', 'Comedy', 'Fantasy', 'Comedy', 'Sci-Fi', 'Comedy', 'Drama', 'Romance', 'Documentary', 'Comedy', 'Comedy', 'Documentary', 'Documentary', 'Drama', 'War', 'Action', 'Adventure', 'Thriller', 'Adventure', 'Animation', 'Children', 'Comedy', 'IMAX', 'Comedy', 'Action', 'Sci-Fi', 'Thriller', 'Drama', 'Comedy', 'Drama', 'Romance', 'Comedy', 'Romance', 'Action', 'Crime', 'Drama', 'Drama', 'Crime', 'Western', 'Adventure', 'Comedy', 'Musical', 'Drama', 'Action', 'Adventure', 'Crime', 'Drama', 'Thriller', 'War', 'Children', 'Comedy', 'Drama', 'Fantasy', 'Action', 'Adventure', 'Fantasy', 'Action', 'Drama', 'Drama', 'Fantasy', 'Romance', 'Action', 'Drama', 'War', 'Comedy', 'Drama', 'Romance', 'Drama', 'Drama', 'Thriller', 'Drama', 'Musical', 'Drama', 'Documentary', 'Drama', 'Mystery', 'Thriller', 'Comedy', 'Drama', 'Drama', 'Action', 'Adventure', 'Action', 'Drama', 'Drama', 'Mystery', 'Thriller', 'Drama', 'War', 'Action', 'Horror', 'Thriller', 'Drama', 'Musical', 'Drama', 'Comedy', 'Romance', 'Drama', 'Romance', 'Comedy', 'Comedy', 'Horror', 'Thriller', 'Crime', 'Drama', 'Action', 'Horror', 'Thriller', 'Drama', 'Adventure', 'Children', 'Fantasy', 'Comedy', 'Horror', 'Documentary', 'Comedy', 'Drama', 'Romance', 'Documentary', 'Comedy', 'Drama', 'Romance', 'Action', 'Crime', 'Drama', 'Thriller', 'Drama', 'Fantasy', 'Horror', 'Romance', 'Adventure', 'Comedy', 'Drama', 'Horror', 'Thriller', 'Comedy', 'Drama', 'Romance', 'Drama', 'Horror', 'Thriller', 'Comedy', 'Romance', 'Comedy', 'Drama', 'Documentary', 'Animation', 'Children', 'Drama', 'Romance', 'Drama', 'Comedy', 'Comedy', 'Romance', 'Animation', 'Comedy', 'Adventure', 'Drama', 'Fantasy', 'Drama', 'Mystery', 'Thriller', 'Action', 'Fantasy', 'Thriller', 'Drama', 'Thriller', 'Comedy', 'Romance', 'Comedy', 'Romance', 'Drama', 'Mystery', 'Thriller', 'Comedy', 'Drama', 'Drama', 'Drama', 'Action', 'Comedy', 'Crime', 'Mystery', 'Adventure', 'Drama', 'Romance', 'Crime', 'Drama', 'Thriller', 'Action', 'Sci-Fi', 'Thriller', 'Drama', 'Romance', 'Comedy', 'Horror', 'Crime', 'Drama', 'Thriller', 'Action', 'Comedy', 'Drama', 'Horror', 'Thriller', 'Sci-Fi', 'Fantasy', 'Adventure', 'Comedy', 'Action', 'Fantasy', 'War', 'IMAX', 'Horror', 'Mystery', 'Thriller', 'Drama', 'Romance', 'Adventure', 'Children', 'Sci-Fi', 'Comedy', 'Romance', 'Comedy', 'Drama', 'Horror', 'Sci-Fi', 'Thriller', 'Drama', 'Romance', 'Drama', 'Romance', 'Comedy', 'Drama', 'Romance', 'Drama', 'Fantasy', 'Mystery', 'Thriller', 'Horror', 'Mystery', 'Thriller', 'Drama', 'Drama', 'Action', 'Drama', 'Thriller', 'Horror', 'Thriller', 'Action', 'Adventure', 'Animation', 'Children', 'Comedy', 'Fantasy', 'Drama', 'Thriller', 'War', 'Crime', 'Drama', 'Thriller', 'Comedy', 'Romance', 'Comedy', 'Action', 'Crime', 'Horror', 'Sci-Fi', 'Thriller', 'Horror', 'Thriller', 'Action', 'Adventure', 'Animation', 'Children', 'Comedy', 'Sci-Fi', 'Documentary', 'Action', 'Adventure', 'Drama', 'War', 'Adventure', 'Drama', 'Sci-Fi', 'Thriller', 'Crime', 'Drama', 'Animation', 'Comedy', 'Fantasy', 'Musical', 'Drama', 'Thriller', 'Action', 'Adventure', 'Animation', 'Comedy', 'Fantasy', 'Mystery', 'Sci-Fi', 'Drama', 'Musical', 'Crime', 'Drama', 'Mystery', 'Thriller', 'Horror', 'Thriller', 'Comedy', 'Drama', 'Romance', 'Comedy', 'Crime', 'Drama', 'Fantasy', 'Mystery', 'Thriller', 'Comedy', 'Action', 'Adventure', 'Sci-Fi', 'Thriller', 'IMAX', 'Comedy', 'Drama', 'Children', 'Comedy', 'Documentary', 'Documentary', 'Action', 'Crime', 'Horror', 'Thriller', 'Comedy', 'Romance', 'Animation', 'Mystery', 'Sci-Fi', 'Action', 'Fantasy', 'Horror', 'Thriller', 'Drama', 'Drama', 'Comedy', 'Drama', 'Romance', 'Comedy', 'Drama', 'Musical', 'Horror', 'Sci-Fi', 'Thriller', 'Action', 'Comedy', 'Crime', 'Romance', 'Documentary', 'Adventure', 'Animation', 'Children', 'Comedy', 'Fantasy', 'Drama', 'Musical', 'Romance', 'Action', 'Adventure', 'Comedy', 'Fantasy', 'Drama', 'Horror', 'Thriller', 'Crime', 'Drama', 'Thriller', 'Action', 'Adventure', 'Fantasy', 'Action', 'Adventure', 'Comedy', 'Fantasy', 'Romance', 'Action', 'Thriller', 'Comedy', 'Drama', 'Romance', 'Sci-Fi', 'Horror', 'Thriller', 'Comedy', 'Drama', 'Romance', 'Crime', 'Thriller', 'Horror', 'Comedy', 'Romance', 'Crime', 'Horror', 'Thriller', 'Crime', 'Drama', 'Comedy', 'Fantasy', 'Horror', 'Action', 'Adventure', 'Fantasy', 'Sci-Fi', 'Animation', 'Children', 'Comedy', 'Action', 'Adventure', 'Sci-Fi', 'Adventure', 'Crime', 'Thriller', 'Comedy', 'Horror', 'Thriller', 'Action', 'Adventure', 'Crime', 'Horror', 'Thriller', 'Action', 'Adventure', 'Drama', 'War', 'Comedy', 'Drama', 'Comedy', 'Comedy', 'Documentary', 'Documentary', 'Drama', 'Drama', 'Thriller', 'Drama', 'Horror', 'Thriller', 'Comedy', 'Action', 'Adventure', 'Crime', 'Thriller', 'Comedy', 'Romance', 'Comedy', 'Fantasy', 'Action', 'Sci-Fi', 'Thriller', 'IMAX', 'Adventure', 'Drama', 'Fantasy', 'IMAX', 'Comedy', 'Romance', 'Drama', 'Thriller', 'Drama', 'Romance', 'Western', 'Documentary', 'Drama', 'Fantasy', 'Musical', 'Romance', 'Comedy', 'Adventure', 'Comedy', 'Fantasy', 'Romance', 'Animation', 'Comedy', 'Crime', 'Drama', 'Thriller', 'Comedy', 'Drama', 'Romance', 'Comedy', 'Drama', 'Action', 'Crime', 'Thriller', 'Documentary', 'Crime', 'Drama', 'Mystery', 'Thriller', 'Comedy', 'Comedy', 'Action', 'Comedy', 'Crime', 'Thriller', 'Action', 'Adventure', 'Fantasy', 'War', 'Comedy', 'Comedy', 'Action', 'Drama', 'Thriller', 'Comedy', 'Drama', 'Children', 'Comedy', 'Action', 'Drama', 'Horror', 'Sci-Fi', 'Thriller', 'Comedy', 'Drama', 'Romance', 'Horror', 'Drama', 'Thriller', 'Comedy', 'Drama', 'Romance', 'Documentary', 'Action', 'Comedy', 'Comedy', 'Horror', 'Thriller', 'Comedy', 'Drama', 'Mystery', 'Action', 'Horror', 'Sci-Fi', 'Action', 'Crime', 'Drama', 'Western', 'Action', 'Comedy', 'Crime', 'Comedy', 'Crime', 'Drama', 'Drama', 'Romance', 'War', 'Drama', 'Sci-Fi', 'Drama', 'Thriller', 'Drama', 'Documentary', 'Crime', 'Drama', 'Thriller', 'Drama', 'Mystery', 'Drama', 'Comedy', 'Drama', 'Romance', 'Action', 'Adventure', 'Comedy', 'Drama', 'Thriller', 'Crime', 'Drama', 'Thriller', 'Documentary', 'Action', 'Adventure', 'Animation', 'Crime', 'Fantasy', 'Comedy', 'Romance', 'Drama', 'Comedy', 'Drama', 'Action', 'Horror', 'Sci-Fi', 'Thriller', 'Comedy', 'Comedy', 'Romance', 'Action', 'Adventure', 'Drama', 'Comedy', 'Drama', 'Romance', 'Thriller', 'War', 'Action', 'Adventure', 'Drama', 'Fantasy', 'Comedy', 'Drama', 'Romance', 'Comedy', 'Drama', 'Romance', 'Adventure', 'Comedy', 'Drama', 'Crime', 'Drama', 'Drama', 'Drama', 'Thriller', 'Drama', 'Mystery', 'Thriller', 'Comedy', 'Drama', 'Horror', 'Thriller', 'Crime', 'Drama', 'Mystery', 'Comedy', 'Comedy', 'Crime', 'Drama', 'Crime', 'Drama', 'Western', 'Crime', 'Drama', 'Thriller', 'Animation', 'Drama', 'Drama', 'Comedy', 'Drama', 'Romance', 'Horror', 'Comedy', 'Horror', 'Drama', 'Crime', 'Horror', 'Thriller', 'Documentary', 'Documentary', 'Action', 'Crime', 'Drama', 'Thriller', 'Comedy', 'Crime', 'Drama', 'Thriller', 'Animation', 'Comedy', 'Crime', 'Drama', 'Thriller', 'Drama', 'Crime', 'Drama', 'Comedy', 'Comedy', 'Drama', 'Romance', 'Drama', 'Drama', 'Musical', 'Drama', 'Sci-Fi', 'Drama', 'Thriller', 'War', 'Action', 'Adventure', 'Animation', 'Fantasy', 'IMAX', 'Comedy', 'Drama', 'Sci-Fi', 'Thriller', 'Comedy', 'Documentary', 'Drama', 'Sci-Fi', 'Comedy', 'Drama', 'Romance', 'War', 'Horror', 'Sci-Fi', 'Adventure', 'Animation', 'Children', 'Comedy', 'Fantasy', 'Musical', 'Romance', 'Action', 'Crime', 'Thriller', 'Drama', 'Thriller', 'Adventure', 'Children', 'Fantasy', 'Action', 'Horror', 'Sci-Fi', 'Thriller', 'IMAX', 'Children', 'Comedy', 'Animation', 'Comedy', 'Sci-Fi', 'Drama', 'Drama', 'Comedy', 'Drama', 'Action', 'Horror', 'Thriller', 'Drama', 'Horror', 'Mystery', 'Thriller', 'Comedy', 'Drama', 'Romance', 'Documentary', 'Drama', 'Romance', 'Documentary', 'Comedy', 'Drama', 'Drama', 'Horror', 'Thriller', 'Drama', 'Fantasy', 'Romance', 'Drama', 'Horror', 'Musical', 'Thriller', 'Action', 'Adventure', 'Drama', 'Western', 'Comedy', 'Drama', 'War', 'Action', 'Horror', 'Sci-Fi', 'Comedy', 'Musical', 'Comedy', 'Drama', 'Romance', 'Comedy', 'Comedy', 'Drama', 'Romance', 'Adventure', 'Children', 'Fantasy', 'Action', 'Drama', 'Sci-Fi', 'Thriller', 'Comedy', 'Drama', 'Romance', 'Comedy', 'Romance', 'Crime', 'Drama', 'Thriller', 'Drama', 'Comedy', 'Drama', 'Drama', 'Horror', 'Thriller', 'Action', 'Adventure', 'Fantasy', 'Action', 'Mystery', 'Sci-Fi', 'Thriller', 'Comedy', 'Horror', 'Action', 'Adventure', 'Drama', 'War', 'Adventure', 'Animation', 'Drama', 'Horror', 'Animation', 'Comedy', 'Drama', 'Romance', 'Sci-Fi', 'Comedy', 'Crime', 'Crime', 'Thriller', 'Action', 'Drama', 'Thriller', 'War', 'Comedy', 'Comedy', 'Horror', 'Sci-Fi', 'Thriller', 'Action', 'Adventure', 'Fantasy', 'Sci-Fi', 'Comedy', 'Crime', 'Drama', 'Thriller', 'Crime', 'Sci-Fi', 'Action', 'Crime', 'Drama', 'Comedy', 'Horror', 'Action', 'Adventure', 'Comedy', 'Romance', 'Action', 'Adventure', 'Drama', 'Sci-Fi', 'Thriller', 'Comedy', 'Drama', 'Romance', 'Crime', 'Drama', 'Romance', 'Thriller', 'Action', 'Drama', 'Thriller', 'Adventure', 'Children', 'Drama', 'Fantasy', 'IMAX', 'Drama', 'Musical', 'Romance', 'Drama', 'Romance', 'Comedy', 'Comedy', 'Romance', 'Documentary', 'Drama', 'Thriller', 'Comedy', 'Adventure', 'Romance', 'Thriller', 'Action', 'Crime', 'Thriller', 'Action', 'Drama', 'Sci-Fi', 'Thriller', 'Adventure', 'Animation', 'Children', 'Comedy', 'Drama', 'Thriller', 'Crime', 'Drama', 'War', 'Drama', 'War', 'Documentary', 'Comedy', 'Horror', 'Sci-Fi', 'Comedy', 'Fantasy', 'Romance', 'Drama', 'Documentary', 'War', 'Action', 'Adventure', 'Animation', 'Fantasy', 'Sci-Fi', 'Documentary', 'Drama', 'Drama', 'Action', 'Crime', 'Drama', 'IMAX', 'Action', 'Comedy', 'Drama', 'Romance', 'Sci-Fi', 'Crime', 'Drama', 'Romance', 'Thriller', 'Comedy', 'Drama', 'Romance', 'Action', 'Crime', 'Thriller', 'Comedy', 'Drama', 'Romance', 'Action', 'Drama', 'War', 'Comedy', 'Drama', 'War', 'Documentary', 'Musical', 'IMAX', 'Horror', 'Thriller', 'Adventure', 'Comedy', 'Fantasy', 'Horror', 'Thriller', 'Comedy', 'Romance', 'Action', 'Comedy', 'Sci-Fi', 'Crime', 'Drama', 'Thriller', 'Drama', 'Romance', 'Adventure', 'Comedy', 'Comedy', 'Action', 'Children', 'Sci-Fi', 'IMAX', 'Action', 'Adventure', 'Comedy', 'Fantasy', 'Comedy', 'Drama', 'Comedy', 'Documentary', 'Action', 'Horror', 'Horror', 'Children', 'Comedy', 'Drama', 'Comedy', 'Documentary', 'Comedy', 'Romance', 'Comedy', 'Documentary', 'Horror', 'Mystery', 'Thriller', 'Action', 'Adventure', 'Sci-Fi', 'Comedy', 'Romance', 'Action', 'Drama', 'Action', 'Crime', 'Drama', 'Thriller', 'Adventure', 'Drama', 'Fantasy', 'Comedy', 'Romance', 'Comedy', 'Drama', 'Romance', 'Adventure', 'Children', 'Fantasy', 'Drama', 'Romance', 'Crime', 'Drama', 'Horror', 'Thriller', 'Action', 'Adventure', 'Comedy', 'Sci-Fi', 'Comedy', 'Comedy', 'Romance', 'Horror', 'Thriller', 'Documentary', 'Horror', 'Mystery', 'Thriller', 'Action', 'Animation', 'Children', 'Comedy', 'IMAX', 'Drama', 'Comedy', 'Crime', 'Drama', 'Horror', 'Comedy', 'Horror', 'Thriller', 'Action', 'Comedy', 'Drama', 'Thriller', 'Comedy', 'Drama', 'Romance', 'Crime', 'Drama', 'Drama', 'Horror', 'Thriller', 'Drama', 'Sci-Fi', 'Thriller', 'Action', 'Sci-Fi', 'Drama', 'War', 'Adventure', 'Animation', 'Children', 'Romance', 'Sci-Fi', 'Action', 'Thriller', 'Action', 'Adventure', 'Comedy', 'Crime', 'Fantasy', 'Action', 'Comedy', 'Comedy', 'Children', 'Comedy', 'Action', 'Animation', 'Comedy', 'Romance', 'Sci-Fi', 'Children', 'Comedy', 'Drama', 'Mystery', 'Documentary', 'Comedy', 'Drama', 'Romance', 'Horror', 'Mystery', 'Thriller', 'Documentary', 'Comedy', 'Horror', 'Animation', 'Children', 'Comedy', 'Fantasy', 'Musical', 'War', 'Comedy', 'Musical', 'Romance', 'Comedy', 'Action', 'Adventure', 'Horror', 'Sci-Fi', 'Thriller', 'Animation', 'Children', 'Comedy', 'Action', 'Adventure', 'Sci-Fi', 'Adventure', 'Children', 'Comedy', 'Romance', 'Sci-Fi', 'Action', 'Comedy', 'Fantasy', 'Horror', 'Thriller', 'Horror', 'Thriller', 'Crime', 'Drama', 'Thriller', 'Sci-Fi', 'Action', 'Drama', 'Mystery', 'Sci-Fi', 'Thriller', 'IMAX', 'Drama', 'Thriller', 'Comedy', 'Romance', 'Crime', 'Drama', 'Comedy', 'Drama', 'Mystery', 'Sci-Fi', 'Thriller', 'Documentary', 'Animation', 'Children', 'Musical', 'Adventure', 'Fantasy', 'Thriller', 'Crime', 'Horror', 'Thriller', 'Drama', 'Drama', 'Thriller', 'Drama', 'Romance', 'War', 'Comedy', 'Drama', 'Sci-Fi', 'Action', 'Adventure', 'Fantasy', 'Thriller', 'Horror', 'Mystery', 'Thriller', 'Drama', 'Comedy', 'Drama', 'Romance', 'Action', 'Animation', 'Crime', 'Drama', 'Mystery', 'Action', 'Comedy', 'Crime', 'Action', 'Adventure', 'Drama', 'War', 'Adventure', 'Comedy', 'Drama', 'Romance', 'Action', 'Drama', 'Thriller', 'Comedy', 'Drama', 'Musical', 'Romance', 'Action', 'Adventure', 'Comedy', 'War', 'Action', 'Adventure', 'Animation', 'Sci-Fi', 'Drama', 'Mystery', 'Action', 'Adventure', 'Sci-Fi', 'Animation', 'Documentary', 'Drama', 'War', 'Drama', 'Fantasy', 'Horror', 'Romance', 'Comedy', 'Action', 'Adventure', 'Sci-Fi', 'Thriller', 'Comedy', 'Comedy', 'Documentary', 'Horror', 'Mystery', 'Thriller', 'Action', 'Western', 'Drama', 'Comedy', 'Crime', 'Drama', 'Comedy', 'Action', 'Adventure', 'Sci-Fi', 'Thriller', 'Crime', 'Drama', 'Thriller', 'Comedy', 'Action', 'Comedy', 'Fantasy', 'Thriller', 'Drama', 'Action', 'Crime', 'Thriller', 'Drama', 'Horror', 'Sci-Fi', 'Thriller', 'Crime', 'Mystery', 'Thriller', 'Drama', 'Thriller', 'Comedy', 'Fantasy', 'Romance', 'Action', 'Adventure', 'Fantasy', 'Thriller', 'Western', 'Action', 'Animation', 'Comedy', 'Horror', 'Action', 'Crime', 'Thriller', 'IMAX', 'Comedy', 'Comedy', 'Drama', 'Romance', 'Drama', 'Crime', 'Drama', 'Drama', 'Romance', 'Action', 'Horror', 'Animation', 'Comedy', 'Fantasy', 'Sci-Fi', 'Drama', 'Romance', 'Action', 'Drama', 'Thriller', 'Adventure', 'Children', 'Sci-Fi', 'Action', 'Adventure', 'Sci-Fi', 'Action', 'Crime', 'Drama', 'Thriller', 'Comedy', 'Drama', 'Romance', 'Drama', 'Comedy', 'Romance', 'Comedy', 'Drama', 'Drama', 'Comedy', 'Fantasy', 'Drama', 'Documentary', 'Comedy', 'Romance', 'Crime', 'Drama', 'Drama', 'Sci-Fi', 'Sci-Fi', 'Action', 'Crime', 'Action', 'Adventure', 'Animation', 'Comedy', 'Fantasy', 'Sci-Fi', 'Adventure', 'Fantasy', 'Sci-Fi', 'Action', 'Adventure', 'Animation', 'Children', 'Comedy', 'IMAX', 'Drama', 'Mystery', 'Romance', 'Thriller', 'Crime', 'Drama', 'Mystery', 'Adventure', 'Drama', 'Thriller', 'Crime', 'Drama', 'Romance', 'Action', 'Adventure', 'Thriller', 'Comedy', 'Drama', 'Action', 'Drama', 'Thriller', 'Children', 'Fantasy', 'Musical', 'Romance', 'Action', 'Drama', 'Fantasy', 'Comedy', 'Musical', 'Romance', 'Action', 'Adventure', 'Sci-Fi', 'Crime', 'Horror', 'Thriller', 'Comedy', 'Drama', 'Mystery', 'Adventure', 'Children', 'Comedy', 'Crime', 'Drama', 'Drama', 'Action', 'Horror', 'Thriller', 'Adventure', 'Drama', 'War', 'Western', 'Action', 'Adventure', 'Animation', 'Children', 'Comedy', 'Drama', 'Drama', 'Fantasy', 'Romance', 'Thriller', 'Horror', 'Action', 'Adventure', 'Crime', 'Thriller', 'Comedy', 'Drama', 'War', 'Drama', 'Romance', 'Animation', 'Comedy', 'Adventure', 'Fantasy', 'Drama', 'Action', 'Crime', 'Drama', 'Thriller', 'Adventure', 'Animation', 'Comedy', 'Fantasy', 'Documentary', 'Animation', 'Comedy', 'Drama', 'Sci-Fi', 'Thriller', 'IMAX', 'Drama', 'War', 'Drama', 'War', 'Drama', 'Mystery', 'Crime', 'Drama', 'Drama', 'Drama', 'Romance', 'Action', 'Adventure', 'Animation', 'Drama', 'Drama', 'Drama', 'Fantasy', 'Mystery', 'Romance', 'Comedy', 'Drama', 'Thriller', 'War', 'Animation', 'Drama', 'Romance', 'Action', 'Sci-Fi', 'Drama', 'Adventure', 'Children', 'Comedy', 'Comedy', 'Drama', 'Drama', 'Romance', 'Comedy', 'Comedy', 'Documentary', 'Drama', 'Romance', 'Drama', 'Thriller', 'War', 'Documentary', 'Comedy', 'Drama', 'Adventure', 'Animation', 'Children', 'Fantasy', 'Adventure', 'Crime', 'Thriller', 'Adventure', 'Drama', 'Fantasy', 'Action', 'Drama', 'War', 'Adventure', 'Animation', 'Children', 'Comedy', 'Fantasy', 'Comedy', 'Romance', 'Action', 'Adventure', 'Comedy', 'Fantasy', 'Action', 'Crime', 'Drama', 'Thriller', 'Horror', 'Thriller', 'Action', 'Drama', 'Sci-Fi', 'Thriller', 'Adventure', 'Fantasy', 'Action', 'Fantasy', 'Horror', 'Thriller', 'Adventure', 'Fantasy', 'Comedy', 'Comedy', 'Romance', 'Action', 'Comedy', 'Crime', 'Drama', 'Musical', 'Drama', 'Horror', 'Mystery', 'Thriller', 'Action', 'Adventure', 'Sci-Fi', 'Horror', 'Thriller', 'Animation', 'Fantasy', 'Thriller', 'Sci-Fi', 'Thriller', 'Drama', 'Thriller', 'Comedy', 'Drama', 'Romance', 'Comedy', 'Fantasy', 'Action', 'Animation', 'Comedy', 'Sci-Fi', 'Drama', 'Horror', 'Thriller', 'Documentary', 'Animation', 'Drama', 'Comedy', 'Horror', 'Comedy', 'Drama', 'Comedy', 'Drama', 'Drama', 'War', 'Comedy', 'Drama', 'Romance', 'Drama', 'Horror', 'Action', 'Adventure', 'Comedy', 'Western', 'Adventure', 'Comedy', 'Mystery', 'Adventure', 'Animation', 'Children', 'Musical', 'Comedy', 'Drama', 'Musical', 'Sci-Fi', 'Comedy', 'Crime', 'Horror', 'Thriller', 'Comedy', 'Adventure', 'Comedy', 'Horror', 'Horror', 'Thriller', 'Crime', 'Romance', 'Thriller', 'Action', 'Drama', 'Mystery', 'Sci-Fi', 'Thriller', 'Crime', 'Drama', 'Mystery', 'Thriller', 'Comedy', 'Drama', 'Action', 'Animation', 'Children', 'Comedy', 'Action', 'Mystery', 'Thriller', 'Animation', 'Sci-Fi', 'IMAX', 'Action', 'Crime', 'Drama', 'Thriller', 'Comedy', 'Comedy', 'Drama', 'Romance', 'Documentary', 'Musical', 'Action', 'Comedy', 'Comedy', 'Drama', 'Comedy', 'Romance', 'Drama', 'Fantasy', 'Sci-Fi', 'Thriller', 'Comedy', 'Action', 'Crime', 'Drama', 'Thriller', 'Comedy', 'Comedy', 'Drama', 'Comedy', 'Drama', 'Action', 'Drama', 'War', 'Crime', 'Drama', 'Thriller', 'Drama', 'Action', 'Comedy', 'Crime', 'Drama', 'Mystery', 'Sci-Fi', 'Thriller', 'Drama', 'Romance', 'Action', 'Sci-Fi', 'Thriller', 'Crime', 'Drama', 'Thriller', 'Action', 'Adventure', 'Sci-Fi', 'IMAX', 'Comedy', 'Action', 'Comedy', 'Crime', 'Action', 'Drama', 'War', 'Documentary', 'Documentary', 'Drama', 'Crime', 'Drama', 'Mystery', 'Thriller', 'Action', 'Drama', 'Thriller', 'Comedy', 'Drama', 'Adventure', 'Comedy', 'Drama', 'Action', 'Adventure', 'Sci-Fi', 'Thriller', 'Action', 'Comedy', 'IMAX', 'Adventure', 'Fantasy', 'Musical', 'Romance', 'Adventure', 'Comedy', 'Crime', 'Romance', 'Drama', 'War', 'Comedy', 'Romance', 'Drama', 'Musical', 'Action', 'Animation', 'Mystery', 'Sci-Fi', 'Comedy', 'Horror', 'Adventure', 'Animation', 'Children', 'Drama', 'Action', 'Adventure', 'Animation', 'Drama', 'Comedy', 'Drama', 'Mystery', 'Comedy', 'Crime', 'Action', 'Crime', 'Drama', 'Thriller', 'Drama', 'Fantasy', 'Crime', 'Drama', 'Horror', 'Thriller', 'Comedy', 'Horror', 'Comedy', 'Drama', 'Romance', 'Children', 'Comedy', 'Drama', 'Fantasy', 'Action', 'Adventure', 'Comedy', 'Horror', 'Action', 'Adventure', 'Comedy', 'Sci-Fi', 'Comedy', 'Drama', 'Fantasy', 'Crime', 'Drama', 'Thriller', 'Crime', 'Drama', 'Comedy', 'Romance', 'Adventure', 'Comedy', 'Adventure', 'Sci-Fi', 'Animation', 'Action', 'Drama', 'Thriller', 'War', 'Drama', 'Romance', 'Crime', 'Drama', 'Film-Noir', 'Action', 'Adventure', 'Thriller', 'Action', 'Adventure', 'Sci-Fi', 'IMAX', 'Documentary', 'Comedy', 'Romance', 'Comedy', 'Fantasy', 'Romance', 'Crime', 'Drama', 'Thriller', 'Action', 'Adventure', 'Animation', 'Children', 'Comedy', 'Romance', 'Action', 'Drama', 'Thriller', 'Animation', 'Comedy', 'Drama', 'Comedy', 'Drama', 'Horror', 'Action', 'Adventure', 'Animation', 'Horror', 'Comedy', 'Drama', 'Romance', 'Comedy', 'Action', 'Adventure', 'Fantasy', 'Adventure', 'Fantasy', 'Mystery', 'Romance', 'IMAX', 'Drama', 'War', 'Drama', 'War', 'Drama', 'Thriller', 'Drama', 'Fantasy', 'Documentary', 'Comedy', 'Crime', 'Drama', 'Drama', 'Horror', 'Mystery', 'Thriller', 'Comedy', 'Drama', 'Romance', 'Crime', 'Horror', 'Thriller', 'Horror', 'Thriller', 'Mystery', 'Sci-Fi', 'Thriller', 'Comedy', 'Drama', 'Romance', 'Crime', 'Drama', 'Thriller', 'Adventure', 'Children', 'Fantasy', 'Sci-Fi', 'Thriller', 'Comedy', 'Drama', 'Musical', 'Romance', 'Action', 'Adventure', 'Sci-Fi', 'Thriller', 'Action', 'Thriller', 'Action', 'Drama', 'War', 'Western', 'Drama', 'Fantasy', 'Romance', 'Sci-Fi', 'Action', 'Animation', 'Sci-Fi', 'Comedy', 'Comedy', 'Drama', 'Romance', 'Sci-Fi', 'Drama', 'Romance', 'Comedy', 'Comedy', 'Romance', 'Comedy', 'Documentary', 'Drama', 'Romance', 'Action', 'Adventure', 'Children', 'Fantasy', 'Adventure', 'Drama', 'Mystery', 'Action', 'Comedy', 'Drama', 'Thriller', 'Documentary', 'Comedy', 'Fantasy', 'Horror', 'Comedy', 'Drama', 'Horror', 'Thriller', 'Crime', 'Drama', 'Mystery', 'Romance', 'Thriller', 'Adventure', 'Animation', 'Sci-Fi', 'Comedy', 'Sci-Fi', 'Drama', 'Mystery', 'Action', 'Adventure', 'Animation', 'Fantasy', 'Sci-Fi', 'Documentary', 'Horror', 'Sci-Fi', 'Thriller', 'Drama', 'Action', 'Comedy', 'Drama', 'Action', 'Adventure', 'Fantasy', 'Comedy', 'Horror', 'Sci-Fi', 'Thriller', 'Comedy', 'Crime', 'Drama', 'Thriller', 'Comedy', 'Horror', 'Thriller', 'Action', 'Sci-Fi', 'Thriller', 'Animation', 'Children', 'Fantasy', 'IMAX', 'Comedy', 'Drama', 'Documentary', 'Comedy', 'Sci-Fi', 'Drama', 'Horror', 'Drama', 'Romance', 'Horror', 'Horror', 'Thriller', 'Comedy', 'Drama', 'Drama', 'Documentary', 'Drama', 'Documentary', 'Comedy', 'Drama', 'Comedy', 'Drama', 'Action', 'Fantasy', 'Sci-Fi', 'Animation', 'Sci-Fi', 'Action', 'Animation', 'Comedy', 'Horror', 'Thriller', 'Comedy', 'Horror', 'Thriller', 'Comedy', 'Drama', 'Comedy', 'Action', 'Sci-Fi', 'Thriller', 'Action', 'Comedy', 'Horror', 'Comedy', 'Drama', 'Mystery', 'Drama', 'Romance', 'Drama', 'Documentary', 'Comedy', 'Romance', 'Comedy', 'Horror', 'Adventure', 'Children', 'Drama', 'Fantasy', 'IMAX', 'Action', 'Adventure', 'Drama', 'War', 'Drama', 'Romance', 'Drama', 'Thriller', 'Drama', 'Animation', 'Comedy', 'Drama', 'Drama', 'Romance', 'Action', 'Adventure', 'Comedy', 'Romance', 'Action', 'Adventure', 'Drama', 'Fantasy', 'Romance', 'Sci-Fi', 'Thriller', 'Drama', 'Romance', 'Animation', 'Drama', 'Mystery', 'Sci-Fi', 'Thriller', 'Crime', 'Horror', 'Mystery', 'Thriller', 'Action', 'Comedy', 'Drama', 'Romance', 'Action', 'Adventure', 'Comedy', 'Fantasy', 'Horror', 'Thriller', 'Action', 'Crime', 'Drama', 'Thriller', 'Action', 'Comedy', 'Comedy', 'Drama', 'War', 'Comedy', 'Adventure', 'Animation', 'Children', 'Comedy', 'Crime', 'Animation', 'Children', 'Drama', 'Fantasy', 'IMAX', 'Action', 'Adventure', 'Drama', 'Sci-Fi', 'Drama', 'Animation', 'Children', 'Comedy', 'Fantasy', 'Action', 'Drama', 'Sci-Fi', 'Thriller', 'Drama', 'Crime', 'Drama', 'Drama', 'Fantasy', 'Horror', 'Romance', 'Thriller', 'Action', 'Thriller', 'Drama', 'Romance', 'War', 'Action', 'Crime', 'Drama', 'Thriller', 'Action', 'Drama', 'Action', 'Thriller', 'Action', 'Adventure', 'Animation', 'Comedy', 'Thriller', 'Animation', 'Drama', 'Thriller', 'War', 'Drama', 'Drama', 'Animation', 'Comedy', 'Fantasy', 'Drama', 'Comedy', 'Adventure', 'Animation', 'Children', 'Comedy', 'Sci-Fi', 'Documentary', 'Drama', 'Crime', 'Drama', 'Fantasy', 'Horror', 'Thriller', 'Drama', 'Animation', 'Children', 'Fantasy', 'Musical', 'Romance', 'Action', 'Comedy', 'Crime', 'Drama', 'Romance', 'Fantasy', 'Romance', 'Action', 'Adventure', 'Fantasy', 'Action', 'Adventure', 'Sci-Fi', 'IMAX', 'Comedy', 'Romance', 'Action', 'Crime', 'Mystery', 'Thriller', 'Drama', 'Romance', 'Animation', 'Children', 'Comedy', 'Musical', 'Comedy', 'Comedy', 'Horror', 'Horror', 'Thriller', 'Comedy', 'Drama', 'Romance', 'Action', 'Drama', 'Horror', 'Thriller', 'Drama', 'Comedy', 'Romance', 'Action', 'Adventure', 'Drama', 'Action', 'Crime', 'Mystery', 'Crime', 'Drama', 'Crime', 'Drama', 'Comedy', 'Crime', 'Action', 'Horror', 'Thriller', 'Action', 'Adventure', 'Comedy', 'Comedy', 'Romance', 'Action', 'Comedy', 'Crime', 'Action', 'Comedy', 'Drama', 'Comedy', 'Drama', 'Action', 'Crime', 'Drama', 'Thriller', 'Adventure', 'Children', 'Comedy', 'Fantasy', 'Crime', 'Drama', 'Thriller', 'Comedy', 'Drama', 'Adventure', 'Animation', 'Children', 'Fantasy', 'Musical', 'Comedy', 'Action', 'Crime', 'Drama', 'Comedy', 'Drama', 'Romance', 'Action', 'Fantasy', 'Horror', 'Thriller', 'Comedy', 'Horror', 'Children', 'Fantasy', 'Musical', 'Animation', 'Fantasy', 'Horror', 'Sci-Fi', 'Comedy', 'Romance', 'Documentary', 'Drama', 'Drama', 'Horror', 'Mystery', 'Thriller', 'Comedy', 'Drama', 'Romance', 'Children', 'Drama', 'Romance', 'Drama', 'Comedy', 'Drama', 'War', 'Horror', 'Thriller', 'Comedy', 'Romance', 'Horror', 'Thriller', 'Drama', 'Mystery', 'Thriller', 'Drama', 'Romance', 'Action', 'Crime', 'Drama', 'Mystery', 'Thriller', 'Adventure', 'Fantasy', 'Action', 'Comedy', 'Crime', 'Drama', 'Mystery', 'Thriller', 'Animation', 'Fantasy', 'Action', 'Children', 'Comedy', 'Adventure', 'Drama', 'Romance', 'Comedy', 'Action', 'Sci-Fi', 'Documentary', 'Comedy', 'Action', 'Drama', 'Horror', 'Sci-Fi', 'Thriller', 'Drama', 'Romance', 'War', 'Documentary', 'Drama', 'Comedy', 'Fantasy', 'Comedy', 'Crime', 'Drama', 'Mystery', 'Horror', 'Thriller', 'Comedy', 'Drama', 'Romance', 'Adventure', 'Fantasy', 'IMAX', 'Animation', 'Action', 'Drama', 'Thriller', 'War', 'Action', 'Crime', 'Drama', 'Horror', 'Sci-Fi', 'Comedy', 'Drama', 'Comedy', 'Crime', 'Drama', 'Thriller', 'Drama', 'Romance', 'Horror', 'Thriller', 'Western', 'Drama', 'Horror', 'Thriller', 'Action', 'Adventure', 'Sci-Fi', 'Drama', 'Comedy', 'Action', 'Comedy', 'Romance', 'Comedy', 'Crime', 'Drama', 'Thriller', 'Comedy', 'Documentary', 'Action', 'Sci-Fi', 'Thriller', 'Horror', 'Thriller', 'Documentary', 'Drama', 'Comedy', 'Comedy', 'Sci-Fi', 'Crime', 'Drama', 'Mystery', 'Thriller', 'Adventure', 'Animation', 'Children', 'Fantasy', 'IMAX', 'Crime', 'Thriller', 'Comedy', 'Crime', 'Action', 'Adventure', 'Drama', 'Fantasy', 'Action', 'Comedy', 'Action', 'Comedy', 'Romance', 'Animation', 'Children', 'Comedy', 'Romance', 'Documentary', 'Action', 'Adventure', 'Comedy', 'Crime', 'Documentary', 'Drama', 'Musical', 'Documentary', 'Comedy', 'Action', 'Drama', 'War', 'Children', 'Comedy', 'Comedy', 'Documentary', 'Drama', 'Action', 'Adventure', 'Drama', 'Mystery', 'Thriller', 'Drama', 'Romance', 'Comedy', 'Drama', 'Romance', 'Horror', 'Comedy', 'Documentary', 'Action', 'Adventure', 'Sci-Fi', 'Thriller', 'IMAX', 'Action', 'Comedy', 'Comedy', 'Adventure', 'Animation', 'Drama', 'Sci-Fi', 'Fantasy', 'Horror', 'Thriller', 'Comedy', 'Drama', 'Adventure', 'Comedy', 'Crime', 'Drama', 'Action', 'Adventure', 'Drama', 'Romance', 'War', 'Drama', 'Romance', 'Action', 'Drama', 'Comedy', 'Musical', 'Sci-Fi', 'Western', 'Comedy', 'Drama', 'Romance', 'Drama', 'Romance', 'Action', 'Comedy', 'Mystery', 'Thriller', 'Drama', 'War', 'Action', 'Adventure', 'Fantasy', 'Romance', 'IMAX', 'Comedy', 'Drama', 'Comedy', 'Drama', 'War', 'Comedy', 'Comedy', 'Drama', 'Romance', 'Comedy', 'Drama', 'Thriller', 'Comedy', 'Romance', 'Horror', 'Sci-Fi', 'Thriller', 'Drama', 'Romance', 'Mystery', 'Thriller', 'Action', 'Drama', 'Thriller', 'Western', 'Action', 'Comedy', 'Thriller', 'Adventure', 'Animation', 'Children', 'Comedy', 'Fantasy', 'IMAX', 'Comedy', 'Drama', 'Thriller', 'Comedy', 'Western', 'Comedy', 'Horror', 'Adventure', 'Animation', 'Children', 'Comedy', 'Fantasy', 'IMAX', 'Comedy', 'Drama', 'Fantasy', 'Romance', 'Documentary', 'Fantasy', 'Romance', 'Thriller', 'IMAX', 'Drama', 'Action', 'Adventure', 'Fantasy', 'Drama', 'Documentary', 'Animation', 'Comedy', 'Fantasy', 'Action', 'Sci-Fi', 'Thriller', 'Documentary', 'Animation', 'Children', 'Comedy', 'Crime', 'Action', 'Crime', 'Drama', 'Mystery', 'Sci-Fi', 'Thriller', 'IMAX', 'Comedy', 'Action', 'Adventure', 'Children', 'Comedy', 'Fantasy', 'Action', 'Comedy', 'Romance', 'Action', 'Children', 'Drama', 'Comedy', 'Drama', 'Horror', 'Thriller', 'Drama', 'Thriller', 'Action', 'Animation', 'Action', 'Thriller', 'Comedy', 'Crime', 'Mystery', 'Comedy', 'Crime', 'Romance', 'Drama', 'Fantasy', 'Romance', 'Sci-Fi', 'Comedy', 'Crime', 'Drama', 'Thriller', 'Crime', 'Action', 'Children', 'Comedy', 'Comedy', 'Romance', 'Action', 'Comedy', 'Crime', 'Documentary', 'Comedy', 'Drama', 'Action', 'Adventure', 'Thriller', 'Action', 'Comedy', 'Fantasy', 'Musical', 'Romance', 'Drama', 'Fantasy', 'Horror', 'Mystery', 'Thriller', 'Action', 'Horror', 'Thriller', 'Action', 'Adventure', 'Fantasy', 'Mystery', 'Comedy', 'Drama', 'Mystery', 'Comedy', 'Drama', 'Action', 'Adventure', 'Animation', 'Fantasy', 'Sci-Fi', 'Horror', 'Thriller', 'Action', 'Crime', 'Drama', 'Drama', 'Thriller', 'Comedy', 'Documentary', 'Action', 'Horror', 'Thriller', 'Comedy', 'Romance', 'Action', 'Adventure', 'Comedy', 'Crime', 'Thriller', 'Comedy', 'Romance', 'Action', 'Horror', 'Sci-Fi', 'Thriller', 'IMAX', 'Drama', 'Drama', 'Documentary', 'Drama', 'Mystery', 'Crime', 'Drama', 'Thriller', 'Comedy', 'Romance', 'Drama', 'Romance', 'Drama', 'Comedy', 'Drama', 'Comedy', 'Drama', 'Romance', 'Comedy', 'Drama', 'Romance', 'Drama', 'Adventure', 'Animation', 'Fantasy', 'IMAX', 'Comedy', 'Drama', 'Comedy', 'Crime', 'Drama', 'Adventure', 'Children', 'Fantasy', 'Drama', 'Horror', 'Mystery', 'Animation', 'Fantasy', 'Adventure', 'Drama', 'Horror', 'Mystery', 'Thriller', 'Comedy', 'Comedy', 'Romance', 'Documentary', 'Mystery', 'Comedy', 'Romance', 'Drama', 'Thriller', 'Documentary', 'Drama', 'Sci-Fi', 'Drama', 'Romance', 'Sci-Fi', 'Animation', 'Drama', 'Action', 'Adventure', 'Comedy', 'Crime', 'Drama', 'Film-Noir', 'Horror', 'Mystery', 'Thriller', 'Western', 'Action', 'Comedy', 'Documentary', 'Documentary', 'War', 'Documentary', 'Action', 'Comedy', 'Drama', 'Comedy', 'Romance', 'Horror', 'IMAX', 'Drama', 'Romance', 'Drama', 'Fantasy', 'Action', 'Crime', 'Drama', 'Horror', 'Mystery', 'Thriller', 'Comedy', 'Adventure', 'Drama', 'Thriller', 'Action', 'Animation', 'Children', 'Comedy', 'Sci-Fi', 'IMAX', 'Drama', 'Thriller', 'Drama', 'Romance', 'Western', 'Action', 'Drama', 'Thriller', 'Comedy', 'Drama', 'Romance', 'Drama', 'Crime', 'Drama', 'Romance', 'Thriller', 'Drama', 'Drama', 'Comedy', 'Drama', 'Action', 'Adventure', 'Fantasy', 'IMAX', 'Drama', 'Animation', 'Children', 'Comedy', 'Fantasy', 'Musical', 'Romance', 'IMAX', 'Documentary', 'Drama', 'Comedy', 'Drama', 'Romance', 'Horror', 'Comedy', 'Crime', 'Drama', 'Crime', 'Romance', 'Sci-Fi', 'Thriller', 'Drama', 'Fantasy', 'Romance', 'Comedy', 'Drama', 'Romance', 'Adventure', 'Children', 'Fantasy', 'Drama', 'Thriller', 'Action', 'Comedy', 'Comedy', 'Horror', 'Thriller', 'Drama', 'Mystery', 'Thriller', 'Western', 'Action', 'Adventure', 'Sci-Fi', 'IMAX', 'Comedy', 'Drama', 'Romance', 'Drama', 'Drama', 'Action', 'Drama', 'Crime', 'Thriller', 'Drama', 'Action', 'Crime', 'Drama', 'Action', 'Adventure', 'Comedy', 'Drama', 'War', 'Drama', 'Comedy', 'Comedy', 'Adventure', 'Comedy', 'Fantasy', 'Adventure', 'Documentary', 'Western', 'Drama', 'Musical', 'Romance', 'Animation', 'Children', 'Fantasy', 'Comedy', 'Horror', 'Children', 'Comedy', 'Comedy', 'Drama', 'Action', 'Comedy', 'Crime', 'Fantasy', 'Thriller', 'IMAX', 'Drama', 'Action', 'Fantasy', 'Western', 'Adventure', 'Drama', 'Fantasy', 'Drama', 'Horror', 'Action', 'Sci-Fi', 'Thriller', 'Western', 'IMAX', 'Crime', 'Drama', 'Thriller', 'Animation', 'Children', 'Documentary', 'Comedy', 'Drama', 'Comedy', 'Drama', 'Romance', 'Comedy', 'Drama', 'Sci-Fi', 'Thriller', 'Documentary', 'Action', 'Animation', 'Drama', 'Sci-Fi', 'Crime', 'Horror', 'Thriller', 'Drama', 'Comedy', 'Romance', 'Documentary', 'Comedy', 'Romance', 'Crime', 'Drama', 'Thriller', 'Action', 'Adventure', 'Animation', 'Sci-Fi', 'Comedy', 'Action', 'Comedy', 'Drama', 'Comedy', 'Drama', 'Mystery', 'Thriller', 'Comedy', 'Adventure', 'Animation', 'Children', 'Comedy', 'Fantasy', 'Romance', 'Comedy', 'Thriller', 'Comedy', 'Drama', 'Romance', 'Adventure', 'Comedy', 'Sci-Fi', 'Horror', 'Sci-Fi', 'Crime', 'Drama', 'Comedy', 'Drama', 'Romance', 'Action', 'Fantasy', 'Thriller', 'Action', 'Adventure', 'Animation', 'Children', 'Comedy', 'Western', 'Comedy', 'Drama', 'Drama', 'Horror', 'Romance', 'Sci-Fi', 'Thriller', 'Action', 'Drama', 'Thriller', 'Comedy', 'Adventure', 'Drama', 'Action', 'Sci-Fi', 'Thriller', 'IMAX', 'Action', 'Sci-Fi', 'War', 'Adventure', 'Animation', 'Comedy', 'Sci-Fi', 'Drama', 'Animation', 'Children', 'Action', 'Adventure', 'Animation', 'Children', 'Comedy', 'Sci-Fi', 'IMAX', 'Adventure', 'Children', 'Comedy', 'Mystery', 'Animation', 'Children', 'Action', 'Comedy', 'Action', 'Crime', 'Drama', 'Action', 'Crime', 'Comedy', 'Romance', 'Documentary', 'Fantasy', 'Horror', 'Mystery', 'Thriller', 'Comedy', 'Action', 'Comedy', 'Drama', 'Fantasy', 'Horror', 'Action', 'Drama', 'Mystery', 'Sci-Fi', 'Thriller', 'Drama', 'Romance', 'Action', 'Fantasy', 'Thriller', 'IMAX', 'Comedy', 'Romance', 'Adventure', 'Animation', 'Children', 'Sci-Fi', 'Documentary', 'Animation', 'Comedy', 'Sci-Fi', 'Fantasy', 'Horror', 'Thriller', 'Action', 'Adventure', 'Crime', 'Thriller', 'Comedy', 'Drama', 'Drama', 'Romance', 'Comedy', 'Drama', 'Comedy', 'Comedy', 'Crime', 'Animation', 'Children', 'Comedy', 'Comedy', 'Horror', 'Thriller', 'Action', 'Action', 'Adventure', 'Mystery', 'Thriller', 'Documentary', 'Documentary', 'Animation', 'Children', 'Comedy', 'Horror', 'Comedy', 'Documentary', 'Comedy', 'Comedy', 'Horror', 'Mystery', 'Thriller', 'Adventure', 'Animation', 'Children', 'Comedy', 'Drama', 'Sci-Fi', 'Action', 'Adventure', 'Drama', 'Fantasy', 'IMAX', 'Comedy', 'Comedy', 'Drama', 'Mystery', 'Sci-Fi', 'Comedy', 'Drama', 'Documentary', 'Drama', 'Romance', 'Adventure', 'Documentary', 'Action', 'Crime', 'Action', 'Crime', 'Drama', 'Thriller', 'IMAX', 'Documentary', 'Animation', 'Drama', 'Fantasy', 'Drama', 'Mystery', 'War', 'Action', 'Drama', 'Comedy', 'Drama', 'Romance', 'Comedy', 'Action', 'Horror', 'Sci-Fi', 'Thriller', 'Adventure', 'Fantasy', 'Sci-Fi', 'Action', 'Adventure', 'Fantasy', 'IMAX', 'Comedy', 'Fantasy', 'Romance', 'Action', 'Crime', 'Thriller', 'Drama', 'Comedy', 'Comedy', 'Thriller', 'Drama', 'Thriller', 'Action', 'Comedy', 'Sci-Fi', 'Adventure', 'Comedy', 'Drama', 'Action', 'Comedy', 'Action', 'Adventure', 'Animation', 'Children', 'Comedy', 'IMAX', 'Action', 'Adventure', 'Sci-Fi', 'Thriller', 'War', 'Comedy', 'Drama', 'Romance', 'Documentary', 'Comedy', 'Drama', 'Drama', 'Mystery', 'Sci-Fi', 'Thriller', 'IMAX', 'Comedy', 'Drama', 'Action', 'Adventure', 'Sci-Fi', 'Comedy', 'Comedy', 'Comedy', 'Action', 'Adventure', 'Sci-Fi', 'War', 'IMAX', 'Comedy', 'Drama', 'Romance', 'Action', 'Adventure', 'Comedy', 'Fantasy', 'Drama', 'Action', 'Crime', 'Thriller', 'Animation', 'Comedy', 'Drama', 'Comedy', 'Comedy', 'Crime', 'Adventure', 'Animation', 'Children', 'Comedy', 'IMAX', 'Documentary', 'Comedy', 'Crime', 'Documentary', 'Adventure', 'Comedy', 'Romance', 'Action', 'Adventure', 'Drama', 'Fantasy', 'Mystery', 'IMAX', 'Crime', 'Drama', 'Film-Noir', 'Thriller', 'Action', 'Adventure', 'Sci-Fi', 'Thriller', 'War', 'Comedy', 'Drama', 'Romance', 'Drama', 'Romance', 'Comedy', 'Crime', 'Animation', 'Children', 'Comedy', 'Horror', 'Action', 'Drama', 'War', 'Animation', 'Comedy', 'Animation', 'Children', 'Comedy', 'Comedy', 'Romance', 'Comedy', 'Drama', 'Action', 'Crime', 'Thriller', 'Crime', 'Drama', 'Thriller', 'Comedy', 'Drama', 'Action', 'Sci-Fi', 'Thriller', 'Action', 'Drama', 'Sci-Fi', 'Thriller', 'Comedy', 'Comedy', 'Drama', 'Action', 'Comedy', 'Crime', 'Comedy', 'Horror', 'Thriller', 'IMAX', 'Comedy', 'Horror', 'Thriller', 'Comedy', 'Horror', 'Drama', 'Romance', 'Sci-Fi', 'Drama', 'Horror', 'Drama', 'Thriller', 'Action', 'Adventure', 'Drama', 'Thriller', 'Documentary', 'Drama', 'Action', 'Adventure', 'Fantasy', 'Horror', 'Thriller', 'Romance', 'Thriller', 'Adventure', 'Comedy', 'Action', 'Crime', 'Horror', 'Thriller', 'Documentary', 'Musical', 'Comedy', 'Horror', 'Thriller', 'Sci-Fi', 'Thriller', 'IMAX', 'Drama', 'Drama', 'Drama', 'Thriller', 'Adventure', 'Animation', 'Children', 'Drama', 'Romance', 'Action', 'Adventure', 'Sci-Fi', 'IMAX', 'Drama', 'Film-Noir', 'Thriller', 'Drama', 'Drama', 'Thriller', 'Drama', 'Drama', 'Horror', 'Mystery', 'Thriller', 'Action', 'Thriller', 'Action', 'Drama', 'Romance', 'Comedy', 'Drama', 'Comedy', 'Drama', 'Sci-Fi', 'Comedy', 'Drama', 'Romance', 'Comedy', 'Horror', 'Sci-Fi', 'Drama', 'Action', 'Drama', 'Documentary', 'Action', 'Drama', 'Sci-Fi', 'IMAX', 'Comedy', 'Drama', 'Musical', 'Horror', 'Mystery', 'Sci-Fi', 'Thriller', 'Drama', 'Drama', 'Drama', 'Thriller', 'Drama', 'Thriller', 'Action', 'Thriller', 'War', 'Action', 'Adventure', 'Crime', 'Sci-Fi', 'Thriller', 'Drama', 'Comedy', 'Drama', 'Drama', 'Thriller', 'Horror', 'Drama', 'Adventure', 'Comedy', 'Thriller', 'Action', 'Drama', 'Mystery', 'Thriller', 'Crime', 'Drama', 'Thriller', 'Drama', 'Comedy', 'Romance', 'Action', 'Crime', 'Thriller', 'Action', 'Animation', 'Crime', 'Documentary', 'Adventure', 'Animation', 'Comedy', 'Fantasy', 'IMAX', 'Action', 'Comedy', 'Crime', 'Drama', 'Action', 'Crime', 'Drama', 'Mystery', 'Thriller', 'Action', 'Animation', 'Mystery', 'IMAX', 'Documentary', 'Drama', 'Documentary', 'Children', 'Drama', 'Mystery', 'Action', 'Drama', 'Fantasy', 'Comedy', 'Documentary', 'Adventure', 'Crime', 'Drama', 'Comedy', 'Drama', 'Drama', 'Romance', 'Children', 'Comedy', 'Musical', 'Adventure', 'Drama', 'Fantasy', 'Romance', 'Drama', 'War', 'Comedy', 'Drama', 'Thriller', 'Animation', 'Comedy', 'Sci-Fi', 'Drama', 'Musical', 'Romance', 'Children', 'Comedy', 'Musical', 'Romance', 'Action', 'Drama', 'Fantasy', 'Comedy', 'Drama', 'Comedy', 'Romance', 'Adventure', 'Animation', 'Children', 'Comedy', 'Adventure', 'Animation', 'Children', 'Comedy', 'Fantasy', 'Animation', 'Children', 'Comedy', 'IMAX', 'Animation', 'Children', 'Comedy', 'Drama', 'Action', 'Drama', 'Action', 'Crime', 'Film-Noir', 'Action', 'Adventure', 'Animation', 'Children', 'Musical', 'Action', 'Adventure', 'Drama', 'Sci-Fi', 'Thriller', 'Action', 'Adventure', 'Crime', 'IMAX', 'Action', 'Adventure', 'Drama', 'Thriller', 'IMAX', 'Action', 'Adventure', 'Comedy', 'Crime', 'Mystery', 'Thriller', 'Drama', 'Thriller', 'Comedy', 'Drama', 'Comedy', 'Romance', 'Action', 'Adventure', 'Thriller', 'IMAX', 'Comedy', 'Drama', 'Drama', 'Thriller', 'Action', 'Horror', 'Sci-Fi', 'Thriller', 'Comedy', 'Drama', 'Romance', 'Animation', 'Comedy', 'Comedy', 'Thriller', 'Comedy', 'Comedy', 'Drama', 'Fantasy', 'Action', 'Crime', 'Drama', 'Thriller', 'Documentary', 'Documentary', 'Comedy', 'Musical', 'Drama', 'Drama', 'Comedy', 'Horror', 'Action', 'Fantasy', 'Horror', 'IMAX', 'Action', 'Drama', 'Crime', 'Thriller', 'Drama', 'Action', 'Thriller', 'Comedy', 'Drama', 'Thriller', 'Drama', 'Horror', 'Sci-Fi', 'Thriller', 'Action', 'Drama', 'Thriller', 'Action', 'Adventure', 'Drama', 'War', 'Drama', 'War', 'Comedy', 'Drama', 'Action', 'Comedy', 'Crime', 'Horror', 'Thriller', 'Adventure', 'Animation', 'Children', 'Comedy', 'Fantasy', 'Romance', 'Horror', 'Action', 'Sci-Fi', 'Thriller', 'Drama', 'Horror', 'Thriller', 'Comedy', 'Drama', 'Romance', 'Documentary', 'Comedy', 'Documentary', 'Action', 'Crime', 'Mystery', 'Thriller', 'Drama', 'Romance', 'Comedy', 'Crime', 'Drama', 'Fantasy', 'Children', 'Comedy', 'Drama', 'Comedy', 'Drama', 'Romance', 'Drama', 'Musical', 'Action', 'Adventure', 'Comedy', 'Sci-Fi', 'IMAX', 'Drama', 'Romance', 'Sci-Fi', 'Children', 'Fantasy', 'Horror', 'Sci-Fi', 'Action', 'Fantasy', 'Thriller', 'Drama', 'Comedy', 'Musical', 'Comedy', 'Musical', 'Comedy', 'Crime', 'Documentary', 'War', 'Comedy', 'Drama', 'Comedy', 'Action', 'Adventure', 'Horror', 'Crime', 'Thriller', 'Western', 'Animation', 'Children', 'Drama', 'Thriller', 'Comedy', 'Animation', 'Fantasy', 'Musical', 'IMAX', 'Comedy', 'Action', 'Thriller', 'War', 'Comedy', 'Crime', 'Action', 'Comedy', 'Romance', 'Action', 'Adventure', 'Sci-Fi', 'IMAX', 'Comedy', 'Drama', 'Drama', 'Thriller', 'Action', 'Comedy', 'Crime', 'Comedy', 'Drama', 'Action', 'Sci-Fi', 'Thriller', 'Crime', 'Drama', 'Thriller', 'Action', 'Adventure', 'Drama', 'Documentary', 'Comedy', 'Romance', 'Comedy', 'Drama', 'Romance', 'Action', 'Adventure', 'Fantasy', 'IMAX', 'Drama', 'Action', 'Comedy', 'Sci-Fi', 'Horror', 'Comedy', 'Action', 'Crime', 'Comedy', 'Horror', 'Sci-Fi', 'Thriller', 'Comedy', 'Drama', 'Comedy', 'Mystery', 'Thriller', 'Drama', 'Romance', 'Action', 'Thriller', 'Adventure', 'Comedy', 'Fantasy', 'Action', 'Sci-Fi', 'Thriller', 'IMAX', 'Comedy', 'Drama', 'Documentary', 'Documentary', 'Comedy', 'Romance', 'Action', 'Animation', 'Fantasy', 'Sci-Fi', 'Thriller', 'Comedy', 'Romance', 'Comedy', 'Drama', 'Action', 'Crime', 'Thriller', 'Comedy', 'Horror', 'IMAX', 'Drama', 'Thriller', 'Comedy', 'Romance', 'Comedy', 'Drama', 'Comedy', 'Documentary', 'Action', 'Comedy', 'Sci-Fi', 'IMAX', 'Action', 'Adventure', 'Drama', 'Drama', 'Mystery', 'Sci-Fi', 'Drama', 'Fantasy', 'Sci-Fi', 'Adventure', 'Animation', 'Children', 'Comedy', 'Action', 'Horror', 'Sci-Fi', 'IMAX', 'Horror', 'Mystery', 'Thriller', 'Comedy', 'Crime', 'Drama', 'Drama', 'Thriller', 'Drama', 'Romance', 'Comedy', 'Comedy', 'Drama', 'Romance', 'Action', 'Crime', 'Drama', 'Thriller', 'Action', 'Animation', 'Comedy', 'Drama', 'Comedy', 'Drama', 'Adventure', 'Animation', 'Children', 'Comedy', 'IMAX', 'Comedy', 'Drama', 'Action', 'Adventure', 'Animation', 'Children', 'Action', 'Adventure', 'Animation', 'Children', 'Action', 'Animation', 'Fantasy', 'Action', 'Adventure', 'Animation', 'Children', 'Action', 'Adventure', 'Animation', 'Sci-Fi', 'Thriller', 'Action', 'Adventure', 'Animation', 'Children', 'Animation', 'Children', 'Fantasy', 'Musical', 'Drama', 'Action', 'Adventure', 'Animation', 'Sci-Fi', 'Adventure', 'Animation', 'Children', 'Comedy', 'Drama', 'Romance', 'Comedy', 'Action', 'Fantasy', 'Horror', 'Thriller', 'Documentary', 'Comedy', 'Drama', 'Musical', 'IMAX', 'Comedy', 'Drama', 'Romance', 'Animation', 'Children', 'Comedy', 'Fantasy', 'Adventure', 'Animation', 'Children', 'Comedy', 'Animation', 'Comedy', 'Musical', 'Comedy', 'Fantasy', 'Drama', 'Romance', 'Action', 'Adventure', 'Animation', 'Action', 'Adventure', 'Animation', 'Action', 'Adventure', 'Animation', 'Action', 'Adventure', 'Animation', 'Crime', 'Drama', 'Thriller', 'Action', 'Adventure', 'Sci-Fi', 'IMAX', 'Action', 'Adventure', 'Animation', 'Fantasy', 'Adventure', 'Animation', 'Comedy', 'Drama', 'Fantasy', 'Crime', 'Drama', 'Thriller', 'Drama', 'Horror', 'Animation', 'Children', 'Comedy', 'Thriller', 'Adventure', 'Comedy', 'Sci-Fi', 'Children', 'Musical', 'Mystery', 'Comedy', 'Crime', 'Thriller', 'Action', 'Adventure', 'Animation', 'Action', 'Adventure', 'Animation', 'Action', 'Horror', 'Sci-Fi', 'Thriller', 'Drama', 'Fantasy', 'Comedy', 'Fantasy', 'Romance', 'Animation', 'Children', 'Comedy', 'Comedy', 'Fantasy', 'Romance', 'Action', 'Sci-Fi', 'Thriller', 'Comedy', 'Drama', 'Comedy', 'Action', 'Adventure', 'Animation', 'Action', 'Adventure', 'Animation', 'Action', 'Adventure', 'Animation', 'Drama', 'Action', 'Adventure', 'Thriller', 'IMAX', 'Drama', 'Comedy', 'Crime', 'Thriller', 'Comedy', 'Drama', 'Documentary', 'Adventure', 'Animation', 'Comedy', 'Children', 'Comedy', 'Drama', 'Documentary', 'Action', 'Thriller', 'Comedy', 'Drama', 'Fantasy', 'Crime', 'Drama', 'Comedy', 'Horror', 'Crime', 'Drama', 'Mystery', 'Documentary', 'Drama', 'Thriller', 'Drama', 'Mystery', 'Comedy', 'Romance', 'Documentary', 'Drama', 'Romance', 'Comedy', 'Musical', 'Documentary', 'Animation', 'Comedy', 'Sci-Fi', 'Action', 'Crime', 'Sci-Fi', 'Comedy', 'Comedy', 'Drama', 'Sci-Fi', 'Action', 'Horror', 'Sci-Fi', 'IMAX', 'Comedy', 'Romance', 'Drama', 'Action', 'Sci-Fi', 'Crime', 'Drama', 'Thriller', 'Horror', 'Thriller', 'Drama', 'Romance', 'Drama', 'Drama', 'Fantasy', 'Musical', 'Mystery', 'Sci-Fi', 'Action', 'Crime', 'Drama', 'Thriller', 'Horror', 'Thriller', 'Comedy', 'Fantasy', 'Romance', 'Comedy', 'Drama', 'Romance', 'Crime', 'Drama', 'Mystery', 'Comedy', 'Drama', 'Romance', 'Drama', 'Romance', 'Documentary', 'Animation', 'Comedy', 'Horror', 'IMAX', 'Horror', 'Thriller', 'Documentary', 'Animation', 'Children', 'Comedy', 'Documentary', 'Action', 'Crime', 'Mystery', 'Drama', 'Thriller', 'Comedy', 'Crime', 'Comedy', 'Drama', 'Action', 'Drama', 'Thriller', 'Horror', 'Thriller', 'Adventure', 'Comedy', 'Horror', 'IMAX', 'Action', 'Crime', 'Mystery', 'Thriller', 'Drama', 'Sci-Fi', 'IMAX', 'Action', 'Adventure', 'Comedy', 'Documentary', 'Fantasy', 'Horror', 'Mystery', 'Thriller', 'Action', 'Comedy', 'Comedy', 'Drama', 'Crime', 'Drama', 'Thriller', 'Documentary', 'Drama', 'Comedy', 'Drama', 'Animation', 'Comedy', 'Comedy', 'Drama', 'Drama', 'Drama', 'Adventure', 'Drama', 'IMAX', 'Action', 'Adventure', 'Crime', 'Horror', 'Sci-Fi', 'Thriller', 'Children', 'Crime', 'Drama', 'Comedy', 'Documentary', 'Documentary', 'Action', 'Animation', 'Sci-Fi', 'Drama', 'War', 'Comedy', 'Comedy', 'Horror', 'Romance', 'Adventure', 'Drama', 'Fantasy', 'Romance', 'IMAX', 'Comedy', 'Drama', 'Romance', 'Action', 'War', 'Adventure', 'Animation', 'Children', 'Fantasy', 'IMAX', 'Comedy', 'Crime', 'Drama', 'Thriller', 'Drama', 'Fantasy', 'Thriller', 'Animation', 'Comedy', 'Romance', 'Action', 'Comedy', 'Action', 'Comedy', 'Drama', 'Animation', 'Drama', 'Romance', 'Action', 'Animation', 'Sci-Fi', 'Action', 'Comedy', 'Crime', 'Action', 'Comedy', 'Adventure', 'Comedy', 'Animation', 'Comedy', 'Adventure', 'Fantasy', 'IMAX', 'Comedy', 'Drama', 'Comedy', 'Romance', 'Action', 'Drama', 'Thriller', 'Action', 'Crime', 'Drama', 'Comedy', 'Horror', 'Romance', 'Comedy', 'Drama', 'Comedy', 'Romance', 'Comedy', 'Action', 'Crime', 'Thriller', 'Action', 'Drama', 'Western', 'Drama', 'Comedy', 'Horror', 'Comedy', 'Horror', 'Drama', 'Thriller', 'Drama', 'Musical', 'Romance', 'IMAX', 'Horror', 'Comedy', 'Comedy', 'Fantasy', 'Horror', 'Drama', 'Romance', 'Drama', 'Comedy', 'Drama', 'Comedy', 'Horror', 'Mystery', 'Thriller', 'Action', 'Crime', 'Drama', 'Crime', 'Drama', 'Thriller', 'Animation', 'Comedy', 'Drama', 'Fantasy', 'Sci-Fi', 'Action', 'Animation', 'Documentary', 'Comedy', 'Romance', 'Sci-Fi', 'Action', 'Crime', 'Thriller', 'Romance', 'Sci-Fi', 'Thriller', 'Crime', 'Drama', 'Thriller', 'Documentary', 'Comedy', 'Comedy', 'Documentary', 'Comedy', 'Action', 'Fantasy', 'Horror', 'IMAX', 'Comedy', 'Comedy', 'Drama', 'Drama', 'Romance', 'Drama', 'Romance', 'Sci-Fi', 'Action', 'Thriller', 'Drama', 'Horror', 'Comedy', 'Crime', 'Crime', 'Drama', 'Mystery', 'Thriller', 'Comedy', 'Crime', 'Horror', 'Drama', 'Fantasy', 'Romance', 'Action', 'Crime', 'Thriller', 'IMAX', 'Comedy', 'Drama', 'Mystery', 'Romance', 'Documentary', 'Documentary', 'Action', 'Sci-Fi', 'Thriller', 'Adventure', 'Animation', 'Comedy', 'Sci-Fi', 'Drama', 'Romance', 'Action', 'Drama', 'Thriller', 'Horror', 'Sci-Fi', 'Thriller', 'Comedy', 'Drama', 'Adventure', 'Comedy', 'Fantasy', 'Romance', 'IMAX', 'Action', 'Horror', 'Thriller', 'Adventure', 'Fantasy', 'IMAX', 'Drama', 'Comedy', 'Animation', 'Comedy', 'Horror', 'Musical', 'Action', 'Adventure', 'Sci-Fi', 'Thriller', 'IMAX', 'Drama', 'Mystery', 'Thriller', 'Action', 'Adventure', 'Fantasy', 'IMAX', 'Adventure', 'Animation', 'Comedy', 'Comedy', 'Drama', 'Thriller', 'Action', 'Thriller', 'Comedy', 'Drama', 'Romance', 'Action', 'Animation', 'Comedy', 'Crime', 'Drama', 'Comedy', 'Fantasy', 'Thriller', 'Drama', 'Action', 'Adventure', 'Romance', 'Comedy', 'Romance', 'Horror', 'Crime', 'Thriller', 'Adventure', 'Comedy', 'Romance', 'Action', 'Adventure', 'Sci-Fi', 'IMAX', 'Adventure', 'Drama', 'Thriller', 'Drama', 'Animation', 'Fantasy', 'Drama', 'Thriller', 'Animation', 'Children', 'Horror', 'Sci-Fi', 'Action', 'Comedy', 'Crime', 'Animation', 'Horror', 'Thriller', 'Comedy', 'Horror', 'Sci-Fi', 'Action', 'Animation', 'Fantasy', 'Action', 'Drama', 'IMAX', 'Action', 'Comedy', 'Action', 'Sci-Fi', 'Thriller', 'IMAX', 'Comedy', 'Drama', 'Adventure', 'Crime', 'Drama', 'Comedy', 'Crime', 'Thriller', 'Action', 'Adventure', 'Drama', 'Comedy', 'Drama', 'Drama', 'Action', 'Adventure', 'Sci-Fi', 'IMAX', 'Comedy', 'Documentary', 'Fantasy', 'Comedy', 'Adventure', 'Comedy', 'Drama', 'Thriller', 'Comedy', 'Action', 'Crime', 'Thriller', 'IMAX', 'Adventure', 'Animation', 'Fantasy', 'Action', 'Drama', 'Documentary', 'Comedy', 'Action', 'Crime', 'Comedy', 'Crime', 'Drama', 'Comedy', 'Drama', 'Horror', 'Thriller', 'Drama', 'Documentary', 'Documentary', 'Action', 'Adventure', 'Sci-Fi', 'IMAX', 'Crime', 'Mystery', 'Thriller', 'Horror', 'Thriller', 'Comedy', 'Drama', 'Comedy', 'Drama', 'Romance', 'Action', 'Adventure', 'Fantasy', 'Sci-Fi', 'IMAX', 'Comedy', 'Crime', 'Horror', 'Thriller', 'Comedy', 'Fantasy', 'Documentary', 'Crime', 'Drama', 'Adventure', 'Animation', 'Comedy', 'Comedy', 'Action', 'Adventure', 'Animation', 'Horror', 'Thriller', 'Comedy', 'Romance', 'Action', 'Adventure', 'Sci-Fi', 'IMAX', 'Action', 'Adventure', 'Animation', 'Thriller', 'Comedy', 'Drama', 'Romance', 'Action', 'Drama', 'Horror', 'IMAX', 'Action', 'Drama', 'Sci-Fi', 'IMAX', 'Animation', 'Children', 'Comedy', 'IMAX', 'Action', 'Drama', 'Thriller', 'IMAX', 'Action', 'Comedy', 'Sci-Fi', 'Action', 'Crime', 'Thriller', 'Action', 'Comedy', 'Crime', 'Action', 'Adventure', 'Western', 'IMAX', 'Crime', 'Drama', 'Mystery', 'Thriller', 'Horror', 'Thriller', 'Comedy', 'Romance', 'Comedy', 'Drama', 'Romance', 'Comedy', 'Drama', 'Sci-Fi', 'Comedy', 'Documentary', 'Comedy', 'Drama', 'Romance', 'Comedy', 'Drama', 'Action', 'Comedy', 'Fantasy', 'Drama', 'Fantasy', 'Thriller', 'War', 'Horror', 'Thriller', 'Adventure', 'Animation', 'Children', 'Comedy', 'Fantasy', 'Action', 'Adventure', 'Fantasy', 'Sci-Fi', 'Comedy', 'Drama', 'Romance', 'Action', 'Comedy', 'Crime', 'Thriller', 'Comedy', 'Comedy', 'Drama', 'Action', 'Comedy', 'Crime', 'Drama', 'Comedy', 'Drama', 'Action', 'Adventure', 'Sci-Fi', 'Comedy', 'Adventure', 'Children', 'Fantasy', 'Animation', 'Children', 'Comedy', 'Comedy', 'Action', 'IMAX', 'Action', 'Animation', 'Children', 'Crime', 'Comedy', 'Crime', 'Comedy', 'Action', 'Comedy', 'Crime', 'Action', 'Sci-Fi', 'Thriller', 'IMAX', 'Adventure', 'Animation', 'Comedy', 'Documentary', 'Animation', 'Drama', 'Romance', 'Drama', 'Drama', 'Comedy', 'Drama', 'Fantasy', 'Romance', 'Action', 'Animation', 'Sci-Fi', 'Horror', 'Thriller', 'Comedy', 'Action', 'Crime', 'Adventure', 'Animation', 'Sci-Fi', 'Action', 'Crime', 'Action', 'Sci-Fi', 'IMAX', 'Comedy', 'Drama', 'Romance', 'Adventure', 'Comedy', 'Musical', 'Sci-Fi', 'Drama', 'Mystery', 'Thriller', 'Comedy', 'Romance', 'Horror', 'Thriller', 'Action', 'Drama', 'Action', 'Comedy', 'Crime', 'Drama', 'Action', 'Comedy', 'Thriller', 'Comedy', 'Action', 'Drama', 'War', 'Adventure', 'Drama', 'Comedy', 'Drama', 'Romance', 'Comedy', 'Drama', 'Romance', 'Drama', 'Fantasy', 'Documentary', 'Adventure', 'Comedy', 'Comedy', 'Horror', 'Crime', 'Drama', 'Thriller', 'Drama', 'Romance', 'Animation', 'Children', 'Comedy', 'Fantasy', 'Adventure', 'Drama', 'Thriller', 'IMAX', 'Animation', 'Children', 'Comedy', 'Musical', 'Action', 'Crime', 'Thriller', 'Comedy', 'Crime', 'Drama', 'Action', 'Mystery', 'Thriller', 'Comedy', 'Crime', 'Drama', 'Drama', 'Horror', 'Documentary', 'Crime', 'Drama', 'Thriller', 'Drama', 'Fantasy', 'Horror', 'Comedy', 'Drama', 'Thriller', 'Drama', 'Action', 'Adventure', 'Drama', 'Action', 'Adventure', 'Sci-Fi', 'IMAX', 'Comedy', 'Action', 'Adventure', 'Fantasy', 'IMAX', 'Drama', 'Drama', 'Comedy', 'Drama', 'Romance', 'Comedy', 'Drama', 'Children', 'Drama', 'War', 'Action', 'Adventure', 'Sci-Fi', 'IMAX', 'Adventure', 'Fantasy', 'IMAX', 'Action', 'Adventure', 'Fantasy', 'Comedy', 'Action', 'Comedy', 'Romance', 'Comedy', 'Drama', 'Romance', 'Adventure', 'Drama', 'Sci-Fi', 'Crime', 'Drama', 'Horror', 'Adventure', 'Animation', 'Comedy', 'Fantasy', 'Musical', 'Romance', 'Drama', 'Comedy', 'Crime', 'Drama', 'Action', 'Crime', 'Thriller', 'Drama', 'Action', 'Animation', 'Drama', 'Comedy', 'Drama', 'Documentary', 'Crime', 'Drama', 'Adventure', 'Comedy', 'Drama', 'Drama', 'Romance', 'Sci-Fi', 'Action', 'Comedy', 'Sci-Fi', 'Drama', 'Fantasy', 'Action', 'Drama', 'Thriller', 'War', 'Comedy', 'Drama', 'Action', 'Drama', 'Action', 'Drama', 'Mystery', 'Comedy', 'Crime', 'Comedy', 'Action', 'Drama', 'Sci-Fi', 'Comedy', 'Drama', 'War', 'Adventure', 'Drama', 'Sci-Fi', 'Comedy', 'Romance', 'Horror', 'Mystery', 'Thriller', 'Comedy', 'Crime', 'Children', 'Comedy', 'Action', 'Crime', 'Thriller', 'Comedy', 'Comedy', 'Comedy', 'Action', 'Adventure', 'Fantasy', 'Drama', 'Horror', 'Romance', 'Musical', 'Action', 'Adventure', 'Thriller', 'Comedy', 'Crime', 'Action', 'Animation', 'Fantasy', 'IMAX', 'Action', 'Thriller', 'Drama', 'Horror', 'Mystery', 'Thriller', 'Animation', 'Children', 'Comedy', 'Romance', 'Action', 'Adventure', 'Animation', 'Children', 'Action', 'Comedy', 'Action', 'Drama', 'Thriller', 'IMAX', 'Adventure', 'Romance', 'Sci-Fi', 'IMAX', 'Drama', 'Adventure', 'Animation', 'Children', 'Comedy', 'Drama', 'Romance', 'Drama', 'Action', 'Fantasy', 'Sci-Fi', 'IMAX', 'Comedy', 'Drama', 'Drama', 'Mystery', 'Thriller', 'Action', 'Adventure', 'Animation', 'Fantasy', 'Action', 'Drama', 'War', 'Action', 'Adventure', 'Animation', 'Children', 'Comedy', 'Fantasy', 'Action', 'Crime', 'Sci-Fi', 'IMAX', 'Crime', 'Drama', 'Mystery', 'Adventure', 'Comedy', 'Fantasy', 'Drama', 'Comedy', 'Drama', 'Fantasy', 'Sci-Fi', 'Drama', 'Fantasy', 'Mystery', 'Action', 'Comedy', 'Crime', 'Documentary', 'Crime', 'Drama', 'Thriller', 'Comedy', 'Comedy', 'Comedy', 'Romance', 'Comedy', 'Drama', 'Animation', 'Comedy', 'Drama', 'Romance', 'Comedy', 'Comedy', 'Romance', 'Sci-Fi', 'IMAX', 'Action', 'Crime', 'Drama', 'Comedy', 'Action', 'Mystery', 'Thriller', 'Animation', 'Drama', 'Animation', 'Romance', 'Action', 'Drama', 'War', 'IMAX', 'Documentary', 'Crime', 'Drama', 'Thriller', 'Adventure', 'Animation', 'Comedy', 'Horror', 'Sci-Fi', 'Thriller', 'Action', 'Crime', 'Drama', 'IMAX', 'Comedy', 'Drama', 'Romance', 'Comedy', 'Crime', 'Drama', 'Comedy', 'Drama', 'Animation', 'Comedy', 'Action', 'Drama', 'Comedy', 'Action', 'Adventure', 'Sci-Fi', 'IMAX', 'Adventure', 'Drama', 'IMAX', 'Adventure', 'Animation', 'Children', 'Comedy', 'Comedy', 'Drama', 'Romance', 'Horror', 'Thriller', 'Adventure', 'Comedy', 'Crime', 'Drama', 'Documentary', 'Documentary', 'Action', 'Crime', 'Thriller', 'Action', 'Comedy', 'Action', 'Sci-Fi', 'IMAX', 'Comedy', 'Drama', 'Horror', 'Drama', 'Drama', 'Thriller', 'Adventure', 'Animation', 'Children', 'Comedy', 'Comedy', 'Documentary', 'Comedy', 'Drama', 'Sci-Fi', 'IMAX', 'Comedy', 'Horror', 'Comedy', 'Romance', 'Comedy', 'Horror', 'Action', 'Animation', 'Children', 'Comedy', 'Musical', 'Action', 'Crime', 'Drama', 'Drama', 'Comedy', 'Action', 'Adventure', 'Animation', 'Children', 'Comedy', 'Comedy', 'Action', 'Sci-Fi', 'Action', 'Adventure', 'Sci-Fi', 'Action', 'Adventure', 'Sci-Fi', 'IMAX', 'Comedy', 'Thriller', 'Comedy', 'Horror', 'Sci-Fi', 'Thriller', 'Comedy', 'Comedy', 'Romance', 'Action', 'Adventure', 'Children', 'IMAX', 'Action', 'Comedy', 'Horror', 'Comedy', 'Romance', 'Drama', 'Fantasy', 'Comedy', 'Western', 'Action', 'Sci-Fi', 'IMAX', 'Action', 'Adventure', 'Thriller', 'Action', 'Adventure', 'Fantasy', 'Comedy', 'Drama', 'Comedy', 'Drama', 'Action', 'Drama', 'Drama', 'Drama', 'Romance', 'Action', 'Animation', 'Children', 'Drama', 'Action', 'Comedy', 'Crime', 'Action', 'Crime', 'Thriller', 'Action', 'Adventure', 'Animation', 'Comedy', 'Drama', 'Drama', 'Comedy', 'Romance', 'Drama', 'Musical', 'Action', 'Sci-Fi', 'Documentary', 'Action', 'Adventure', 'Sci-Fi', 'Comedy', 'Drama', 'Mystery', 'Comedy', 'Romance', 'Drama', 'Adventure', 'Animation', 'Comedy', 'Comedy', 'Animation', 'Drama', 'Fantasy', 'Mystery', 'Drama', 'Horror', 'Thriller', 'Drama', 'Drama', 'Thriller', 'Comedy', 'Drama', 'Sci-Fi', 'Crime', 'Horror', 'Thriller', 'Comedy', 'Drama', 'Romance', 'Comedy', 'Drama', 'Sci-Fi', 'Action', 'Horror', 'Thriller', 'Action', 'Adventure', 'Sci-Fi', 'Sci-Fi', 'Thriller', 'Action', 'Adventure', 'Action', 'Adventure', 'Thriller', 'Comedy', 'Horror', 'Romance', 'Thriller', 'Drama', 'Musical', 'Comedy', 'Drama', 'Romance', 'Comedy', 'Horror', 'Thriller', 'Comedy', 'Drama', 'Action', 'Animation', 'Crime', 'Thriller', 'Drama', 'Horror', 'Thriller', 'Action', 'Adventure', 'Sci-Fi', 'Action', 'Adventure', 'Comedy', 'Drama', 'Mystery', 'Sci-Fi', 'Animation', 'Comedy', 'Drama', 'Sci-Fi', 'Comedy', 'Drama', 'Action', 'Crime', 'Drama', 'Comedy', 'Crime', 'Comedy', 'Horror', 'Thriller', 'Action', 'Crime', 'Thriller', 'Drama', 'Drama', 'Drama', 'Mystery', 'Sci-Fi', 'Thriller', 'Horror', 'Thriller', 'Comedy', 'Drama', 'Romance', 'Crime', 'Drama', 'Thriller', 'Thriller', 'Comedy', 'Drama', 'Horror', 'Crime', 'Drama', 'Thriller', 'Documentary', 'Drama', 'Musical', 'Drama', 'Documentary', 'Action', 'Mystery', 'Sci-Fi', 'Drama', 'Action', 'Crime', 'Mystery', 'Thriller', 'Comedy', 'Romance', '(no genres listed)', 'Drama', 'Thriller', 'Animation', 'Drama', 'Fantasy', 'Comedy', 'Drama', 'Animation', 'Drama', 'Fantasy', 'Action', 'War', 'Comedy', 'Drama', 'Horror', 'Adventure', 'Comedy', 'Drama', 'Horror', 'Mystery', 'Horror', 'Comedy', 'Romance', 'Action', 'Drama', 'Fantasy', 'Action', 'Comedy', 'Crime', 'Sci-Fi', 'Thriller', 'Crime', 'Drama', 'Thriller', 'Action', 'Mystery', 'Sci-Fi', 'Thriller', 'Adventure', 'Animation', 'Action', 'Animation', 'Comedy', 'Horror', 'Comedy', 'Horror', 'Action', 'Thriller', 'Action', 'Crime', 'Drama', 'Documentary', 'Action', 'Drama', 'War', 'Drama', 'Western', 'Comedy', 'Comedy', 'Romance', 'Crime', 'Drama', 'Thriller', 'Action', 'Animation', 'Comedy', 'Adventure', 'Animation', 'Romance', 'Comedy', 'Romance', 'Crime', 'Drama', 'Sci-Fi', 'Thriller', 'Drama', 'Sci-Fi', 'Thriller', 'Action', 'Adventure', 'Animation', 'Comedy', 'Adventure', 'Drama', 'Romance', 'Animation', 'Comedy', 'Drama', 'War', 'Comedy', 'Romance', 'Drama', 'Action', 'Crime', 'Drama', 'Thriller', 'Drama', 'Comedy', 'Romance', 'Action', 'Comedy', 'Crime', 'Action', 'Comedy', 'Action', 'Drama', 'War', 'IMAX', 'Action', 'Comedy', 'Horror', 'Comedy', 'Musical', 'Comedy', 'Drama', 'Romance', 'Adventure', 'Comedy', 'Horror', 'Drama', 'Thriller', 'War', 'Comedy', 'Crime', 'Drama', 'Mystery', 'Romance', 'Comedy', 'Drama', 'Adventure', 'Sci-Fi', 'Thriller', 'Comedy', 'Romance', 'Action', 'Adventure', 'Drama', 'Comedy', 'Drama', 'Thriller', 'Animation', 'Children', 'Comedy', 'Musical', 'Sci-Fi', 'Comedy', 'Comedy', 'Comedy', 'Drama', 'Drama', 'Comedy', 'Action', 'Drama', 'Thriller', 'Drama', 'Romance', 'Adventure', 'Drama', 'Documentary', 'War', 'Animation', 'Comedy', 'Animation', 'Children', 'Fantasy', 'Action', 'Adventure', 'Drama', 'Comedy', 'Action', 'Adventure', 'Drama', 'Sci-Fi', 'Thriller', 'Documentary', 'Documentary', 'Animation', 'Comedy', 'Crime', 'Romance', 'Comedy', 'Crime', 'Action', 'Comedy', 'Crime', 'Romance', 'Action', 'Adventure', 'Comedy', 'Drama', 'Fantasy', 'Thriller', 'Comedy', 'Adventure', 'Animation', 'Children', 'Comedy', 'Action', 'Drama', 'Thriller', 'War', 'Adventure', 'Animation', 'Drama', 'Children', 'Comedy', 'Action', 'Thriller', 'Adventure', 'Animation', 'Children', 'Comedy', 'Crime', 'Thriller', 'Comedy', 'Drama', 'Romance', 'Documentary', 'Drama', 'Thriller', 'Drama', 'Thriller', 'Comedy', 'Horror', 'Thriller', 'Sci-Fi', 'Crime', 'Drama', 'Thriller', 'Crime', 'Drama', 'Mystery', 'Thriller', 'Comedy', 'Comedy', 'Comedy', 'Crime', 'Drama', 'Adventure', 'Fantasy', 'Drama', 'Drama', 'War', 'Adventure', 'Mystery', 'Thriller', 'Documentary', 'Comedy', 'Romance', 'Comedy', 'Comedy', 'Drama', 'Horror', 'Romance', 'Thriller', 'Comedy', 'Animation', 'Children', 'Mystery', 'Drama', 'Drama', 'Comedy', 'Comedy', 'Drama', 'Children', 'Comedy', 'Fantasy', 'Musical', 'Comedy', 'Drama', 'Action', 'Comedy', 'Action', 'Adventure', 'Comedy', 'Crime', 'Comedy', 'Adventure', 'Children', 'Comedy', 'Fantasy', 'Sci-Fi', 'Thriller', 'Action', 'Crime', 'Drama', 'Adventure', 'Children', 'Fantasy', 'Comedy', 'Action', 'Drama', 'Thriller', 'Western', 'Comedy', 'Animation', 'Drama', 'Fantasy', 'Comedy', 'Drama', 'Fantasy', 'Mystery', 'Romance', 'Action', 'Thriller', 'Documentary', 'Drama', 'Action', 'Crime', 'Thriller', 'Action', 'Crime', 'Drama', 'Mystery', 'Thriller', 'Drama', 'Action', 'Crime', 'Drama', 'Action', 'Adventure', 'Sci-Fi', 'Thriller', 'Comedy', 'Comedy', 'Crime', 'Drama', 'Horror', 'Mystery', 'Action', 'Comedy', 'Adventure', 'Children', 'Fantasy', 'Sci-Fi', 'Drama', 'Adventure', 'Children', 'Comedy', 'Animation', 'Children', 'Comedy', 'Drama', 'Documentary', 'Horror', 'Horror', 'Thriller', 'Adventure', 'Comedy', 'Romance', 'Comedy', 'Romance', 'Comedy', 'Comedy', 'Comedy', 'Horror', 'Mystery', 'Thriller', 'Comedy', 'Animation', 'Children', 'Comedy', 'Fantasy', 'Comedy', 'War', 'Children', 'Comedy', 'Drama', 'War', 'Horror', 'Mystery', 'Thriller', 'Action', 'Drama', 'Thriller', 'Sci-Fi', 'Action', 'Adventure', 'Sci-Fi', 'Thriller', 'Fantasy', 'Horror', 'Thriller', 'Action', 'Adventure', 'Fantasy', 'Sci-Fi', 'IMAX', '(no genres listed)', 'Action', 'Adventure', 'Fantasy', 'Action', 'Adventure', 'Sci-Fi', '(no genres listed)', 'Action', 'Adventure', 'Sci-Fi', 'Action', 'Adventure', 'Sci-Fi', 'Action', 'Adventure', 'Fantasy', 'Sci-Fi', 'Action', 'Adventure', 'Comedy', 'Sci-Fi', 'Action', 'Adventure', 'Sci-Fi', 'Action', 'Adventure', 'Sci-Fi', 'Action', 'Adventure', 'Sci-Fi', 'Action', 'Adventure', 'Sci-Fi', 'Action', 'Sci-Fi', 'Thriller', 'Action', 'Adventure', 'Sci-Fi', 'Action', 'Adventure', 'Fantasy', 'Sci-Fi', 'Action', 'Adventure', 'Fantasy', 'Children', 'Comedy', 'Romance', 'Comedy', 'Action', 'Drama', 'Romance', 'Action', 'Adventure', 'Drama', 'Fantasy', 'Drama', 'Comedy', 'Adventure', 'Animation', 'Children', 'Comedy', 'Comedy', 'Drama', 'Adventure', 'Romance', 'Sci-Fi', 'Animation', 'Documentary', 'Crime', 'Drama', 'Thriller', 'Horror', 'Sci-Fi', 'Western', 'Adventure', 'Comedy', 'Mystery', 'Romance', 'Drama', 'Romance', 'Adventure', 'Children', 'Comedy', 'Fantasy', 'Adventure', 'Children', 'Comedy', 'Fantasy', 'Animation', 'Children', 'Comedy', 'Animation', 'Adventure', 'Children', 'Fantasy', 'Action', 'Drama', 'Sci-Fi', 'Action', 'Adventure', 'Drama', 'War', 'Animation', 'Children', 'Fantasy', 'Musical', 'Comedy', 'Animation', 'Comedy', 'Fantasy', 'Adventure', 'Animation', 'Children', 'Comedy', 'Comedy', 'Crime', 'Romance', 'Sci-Fi', 'Thriller', 'Comedy', 'Drama', 'Romance', 'Drama', 'Drama', 'Comedy', 'Drama', 'Thriller', 'Adventure', 'Comedy', 'Drama', 'Drama', 'Mystery', 'Thriller', 'Documentary', 'Documentary', 'Documentary', 'Documentary', 'Documentary', 'Drama', 'Comedy', 'Comedy', 'Drama', 'Drama', 'Comedy', 'Drama', 'Thriller', 'Comedy', 'Drama', 'Thriller', 'Action', 'Adventure', 'Sci-Fi', 'Thriller', 'Animation', 'Comedy', 'Comedy', 'Western', 'Comedy', 'Comedy', 'Comedy', 'Comedy', 'Romance', 'Western', 'Comedy', 'Action', 'Crime', 'Drama', 'Thriller', 'Drama', 'Mystery', 'Romance', 'Comedy', 'Action', 'Horror', 'Sci-Fi', 'Mystery', 'Thriller', 'Comedy', 'Drama', 'Romance', 'Crime', 'Drama', 'Romance', 'Western', 'Drama', 'Comedy', 'Drama', 'Musical', 'Romance', 'Horror', 'Action', 'Adventure', 'Fantasy', 'Comedy', 'Documentary', 'Documentary', 'Adventure', 'Comedy', 'Drama', 'Comedy', 'Action', 'Adventure', 'Children', 'Comedy', 'Sci-Fi', 'Animation', 'Children', 'Comedy', 'Comedy', 'Sci-Fi', 'Animation', 'Comedy', 'Sci-Fi', 'Comedy', 'Action', 'Adventure', '(no genres listed)', 'Comedy', 'Horror', 'Thriller', 'Comedy', 'Crime', 'Drama', 'Romance', 'Action', 'Fantasy', 'Sci-Fi', 'Comedy', 'Drama', 'Comedy', 'Action', 'Drama', 'Comedy', 'Action', 'Animation', 'Sci-Fi', 'Action', 'Crime', 'Drama', 'Thriller', 'Drama', 'Fantasy', 'Horror', 'Mystery', 'Thriller', 'Drama', 'Horror', 'Children', 'Drama', 'Fantasy', 'Romance', 'Action', 'Crime', 'Drama', 'Thriller', 'Comedy', 'Drama', 'Fantasy', 'Adventure', 'Children', 'Fantasy', 'Sci-Fi', 'Adventure', 'Children', 'Fantasy', 'Comedy', 'Drama', 'Crime', 'Drama', 'Film-Noir', 'Mystery', 'Thriller', 'Action', 'Sci-Fi', 'Thriller', 'Comedy', 'Action', 'Adventure', 'Animation', 'Comedy', 'Sci-Fi', 'Adventure', 'Animation', 'Children', 'Comedy', 'Fantasy', 'Sci-Fi', 'Drama', 'Sci-Fi', 'Action', 'Thriller', 'Action', 'Crime', 'Thriller', 'Comedy', 'Horror', 'Horror', 'Romance', 'Sci-Fi', 'Action', 'Adventure', 'Sci-Fi', 'Comedy', 'Drama', 'Comedy', 'Romance', 'Comedy', 'Crime', 'Documentary', 'Animation', 'Children', 'Comedy', 'Comedy', 'Crime', 'Animation', 'Comedy', 'Comedy', 'Thriller', 'Action', 'Crime', 'Thriller', 'Comedy', 'Comedy', 'Fantasy', 'Adventure', 'Animation', 'Children', 'Comedy', 'Action', 'Adventure', 'Documentary', 'Action', 'Adventure', 'Animation', 'Comedy', 'Drama', 'Comedy', 'Comedy', 'Drama', 'Comedy', 'Action', 'Adventure', 'Children', 'Mystery', 'Sci-Fi', '(no genres listed)', 'Comedy', 'Drama', 'Horror', 'Action', 'Comedy', 'Crime', 'Documentary', 'Drama', 'Drama', 'Action', 'Animation', 'Sci-Fi', 'Comedy', 'Romance', 'Thriller', 'Drama', 'Romance', 'Comedy', 'Crime', 'Drama', 'Action', 'Adventure', 'Drama', 'Comedy', 'Romance', 'Comedy', 'Drama', 'Children', 'Comedy', 'Action', 'Crime', 'Drama', 'Mystery', 'Thriller', 'Comedy', 'Romance', 'Action', 'Drama', 'Thriller', 'Comedy', 'Drama', 'Comedy', 'Documentary', 'Action', 'Crime', 'Thriller', 'Comedy', 'Crime', 'Sci-Fi', 'Comedy', 'Drama', 'Drama', 'Thriller', 'Horror', 'Sci-Fi', 'Thriller', 'Comedy', 'Comedy', 'Drama', 'Drama', 'Romance', 'Comedy', 'Romance', 'Comedy', 'Crime', 'Comedy', 'Romance', 'Sci-Fi', 'Comedy', 'Drama', 'Drama', 'Horror', 'Thriller', 'Action', 'Comedy', 'Action', 'Thriller', 'Western', 'Horror', 'Thriller', 'Action', 'Adventure', 'Comedy', 'Comedy', 'Comedy', 'Romance', 'Animation', 'Comedy', 'Drama', 'Romance', 'Comedy', 'Drama', 'Romance', 'Animation', 'Drama', 'Comedy', 'Adventure', 'Drama', 'Sci-Fi', 'Thriller', 'Action', 'Comedy', 'Fantasy', 'Sci-Fi', 'Comedy', 'Drama', 'Action', 'Thriller', 'Documentary', 'Comedy', 'Drama', 'Fantasy', 'Comedy', 'Comedy', 'Action', 'Comedy', 'Crime', 'Comedy', 'Romance', 'Adventure', 'Crime', 'Drama', 'Documentary', 'Comedy', 'Drama', 'Romance', 'Action', 'Adventure', 'Drama', 'Comedy', 'Documentary', 'Comedy', 'Comedy', 'Animation', 'Children', 'Comedy', 'Adventure', 'Animation', 'Children', 'Comedy', 'Drama', 'Fantasy', 'Documentary', '(no genres listed)', 'Drama', 'Adventure', 'Sci-Fi', 'Action', 'Comedy', 'Sci-Fi', 'Fantasy', 'Comedy', 'Drama', 'Adventure', 'Children', 'Comedy', 'Sci-Fi', 'Drama', 'Mystery', 'Animation', 'Comedy', 'Action', 'Animation', 'Crime', 'Sci-Fi', 'Action', 'Mystery', 'Sci-Fi', 'Thriller', 'Action', 'Adventure', 'Fantasy', 'Comedy', 'Fantasy', 'Horror', 'Action', 'Crime', 'Sci-Fi', 'Action', 'Adventure', 'Sci-Fi', 'Action', 'Adventure', 'Sci-Fi', 'Children', 'Comedy', 'Documentary', 'Action', 'Action', 'Drama', 'Comedy', 'Comedy', 'Sci-Fi', 'Adventure', 'Animation', 'Children', 'Comedy', 'Comedy', 'Thriller', 'Action', 'Thriller', 'Adventure', 'Animation', 'Children', 'Comedy', 'Fantasy', 'Crime', 'Drama', 'Action', 'Adventure', 'Crime', 'Action', 'Animation', 'Crime', 'Action', 'Animation', 'Horror', 'Sci-Fi', 'Animation', 'Children', 'Comedy', 'Animation', 'Children', 'Comedy', 'Animation', 'Children', 'Comedy', 'Animation', 'Children', 'Comedy', 'Comedy', 'Comedy', 'Comedy', 'Action', 'Animation', 'Sci-Fi', 'Comedy', 'Comedy', 'Documentary', 'Animation', 'Children', 'Comedy', 'Comedy', 'Comedy', 'Animation', 'Children', 'Drama', 'Drama', 'Adventure', 'Comedy', 'Horror', 'Thriller', 'Drama', 'Crime', 'Drama', 'Comedy', 'Comedy', 'Drama', 'Thriller', 'Action', 'Adventure', 'Sci-Fi', 'Action', 'Comedy', 'Horror', 'Comedy', 'Romance', 'Comedy', 'Drama', 'Romance', 'Crime', 'Drama', 'Thriller', 'Action', 'Adventure', 'Romance', 'Sci-Fi', 'Action', 'Adventure', 'Fantasy', 'Sci-Fi', 'Adventure', 'Horror', 'Drama', 'Documentary', 'Crime', 'Thriller', 'Drama', 'Fantasy', 'Comedy', 'Drama', 'Adventure', 'Drama', 'Fantasy', 'Action', 'Adventure', 'Animation', 'Action', 'Adventure', 'Animation', 'Fantasy', 'Action', 'Adventure', 'Comedy', 'Crime', 'Drama', 'Horror', 'Comedy', 'Adventure', 'Drama', 'Thriller', 'Drama', 'Comedy', 'Drama', 'Comedy', 'Horror', 'Thriller', 'Action', 'Crime', 'Drama', 'Sci-Fi', 'Animation', 'Children', 'Comedy', 'Drama', 'Romance', 'Comedy', 'Adventure', 'Animation', 'Comedy', 'Animation', 'Drama', 'Mystery', 'Thriller', 'Action', 'Adventure', 'Animation', 'Drama', 'Fantasy', 'Comedy', 'Horror', 'Thriller', 'Adventure', 'Drama', 'Crime', 'Drama', 'Horror', 'Animation', 'Action', 'Drama', 'Crime', 'Drama', 'Mystery', 'Drama', 'Fantasy', 'Horror', 'Thriller', 'Crime', 'Thriller', 'Romance', 'Animation', 'Comedy', 'Fantasy', 'Thriller', 'Action', 'Animation', 'Sci-Fi', 'Thriller', 'Comedy', 'Romance', 'Comedy', 'Horror', 'Horror', 'Comedy', 'Comedy', 'Comedy', 'Horror', 'Drama', 'Romance', 'Drama', 'Drama', 'Drama', 'Horror', 'Comedy', 'Horror', 'Comedy', 'Drama', 'Comedy', 'Romance', 'Adventure', 'Children', 'Sci-Fi', 'Animation', 'Comedy', 'Sci-Fi', 'Comedy', 'Horror', 'Crime', 'Drama', 'Mystery', 'Animation', 'Comedy', 'Sci-Fi', 'Comedy', 'Documentary', 'Drama', 'Romance', 'War', 'Action', 'Comedy', 'Sci-Fi', 'Thriller', 'Drama', 'Crime', 'Thriller', 'Action', 'Fantasy', 'Mystery', 'Comedy', 'Drama', 'Crime', 'Drama', 'Mystery', 'Thriller', 'Horror', 'Sci-Fi', 'Comedy', 'Drama', 'Action', 'Sci-Fi', 'Thriller', 'Drama', 'Horror', 'Sci-Fi', '(no genres listed)', 'Action', 'Action', 'Comedy', 'Horror', 'Drama', 'Comedy', 'Action', 'Adventure', 'Sci-Fi', 'Comedy', 'Drama', 'Drama', 'Crime', 'Thriller', 'Comedy', 'Horror', 'Drama', 'Comedy', 'Horror', 'Comedy', 'Drama', 'Adventure', 'Comedy', 'Comedy', 'Drama', 'Fantasy', 'Romance', 'Comedy', 'Adventure', 'Comedy', 'Comedy', 'Adventure', 'Comedy', 'Documentary', '(no genres listed)', 'Drama', 'War', 'Comedy', 'Horror', 'Children', 'Comedy', 'Comedy', 'Action', 'Adventure', 'Animation', 'Crime', 'Horror', 'Thriller', 'Documentary', 'Comedy', 'Horror', 'Drama', 'Horror', 'Thriller', 'Comedy', 'Drama', 'Action', 'Drama', 'Sci-Fi', 'Comedy', 'Drama', 'Sci-Fi', 'Comedy', 'Horror', 'Mystery', 'Adventure', 'Drama', 'Thriller', '(no genres listed)', 'Thriller', 'Drama', 'Action', 'Adventure', 'Sci-Fi', 'Drama', 'Action', 'Comedy', 'Comedy', 'Horror', 'Comedy', 'Comedy', 'Comedy', 'Crime', 'Thriller', 'Animation', 'Comedy', 'Crime', 'Comedy', 'Drama', 'Romance', 'Animation', 'Fantasy', 'Mystery', 'Sci-Fi', 'Thriller', 'Comedy', 'Drama', 'Action', 'Adventure', 'Fantasy', 'Drama', 'Sci-Fi', 'Thriller', 'Drama', 'Thriller', 'Drama', 'Thriller', '(no genres listed)', 'Drama', 'Mystery', 'Thriller', 'Action', 'Horror', 'Thriller', 'Documentary', 'Comedy', 'Drama', 'Comedy', 'Crime', 'Fantasy', 'Comedy', 'Documentary', 'Comedy', 'Documentary', 'Comedy', 'Comedy', 'Romance', 'Action', 'Crime', 'Drama', 'Comedy', 'Drama', 'Action', 'Horror', 'Thriller', 'Comedy', 'Crime', 'Drama', 'Romance', 'Thriller', 'Adventure', 'Comedy', 'Horror', 'Drama', 'Thriller', 'Comedy', 'Comedy', 'Horror', 'Sci-Fi', 'Horror', 'Western', 'Animation', 'Horror', 'Mystery', 'Comedy', 'Drama', 'Thriller', 'Documentary', 'Drama', 'Children', 'Comedy', 'Drama', 'Sci-Fi', 'Crime', 'Drama', 'Drama', 'Adventure', 'Animation', 'Children', 'Comedy', 'Action', 'Thriller', 'Comedy', 'Comedy', 'Romance', 'Western', 'Crime', 'Mystery', 'Comedy', 'Comedy', 'Drama', 'Romance', 'Action', 'Adventure', 'Animation', 'Drama', 'Adventure', 'Animation', 'Comedy', 'Documentary', 'Animation', 'Children', 'Comedy', 'Fantasy', 'Mystery', 'Thriller', 'Action', 'Drama', 'Thriller', 'Comedy', 'Drama', 'Romance', 'Children', 'Comedy', 'Comedy', 'Romance', '(no genres listed)', 'Comedy', 'Crime', 'Mystery', 'Crime', 'Mystery', 'Crime', 'Mystery', 'Crime', 'Crime', 'Adventure', 'Drama', 'Fantasy', 'Sci-Fi', 'Adventure', 'Drama', 'Sci-Fi', 'Adventure', 'Children', 'Drama', 'Sci-Fi', 'Adventure', 'Children', 'Drama', 'Sci-Fi', 'Action', 'Sci-Fi', 'Sci-Fi', 'Comedy', 'Drama', 'Action', 'Action', 'Adventure', 'Comedy', 'Drama', 'Documentary', 'Adventure', 'Sci-Fi', 'Thriller', 'Comedy', 'Comedy', 'Drama', 'Drama', 'Comedy', 'Drama', 'Comedy', 'Comedy', 'Western', 'Comedy', 'Crime', 'Horror', 'Children', 'Fantasy', 'Thriller', 'Adventure', 'Children', 'Comedy', 'Drama', 'Fantasy', 'Sci-Fi', 'Animation', 'Comedy', 'Comedy', 'Comedy', 'Romance', 'Animation', 'Fantasy', 'Horror', 'Mystery', 'Horror', 'Comedy', 'Drama', 'Horror', 'Horror', 'Sci-Fi', 'Horror', 'Sci-Fi', '(no genres listed)', 'Drama', 'Thriller', 'Comedy', 'Horror', 'Comedy', 'Children', 'Comedy', 'Romance', 'Action', 'Adventure', 'Animation', 'Comedy', 'Romance', 'Comedy', 'Romance', 'Thriller', 'Action', 'Drama', 'Thriller', 'Comedy', 'Horror', 'Romance', 'Thriller', 'Action', 'Sci-Fi', 'Thriller', 'Horror', 'Action', 'Crime', 'Action', 'Crime', 'Drama', 'Mystery', 'Thriller', 'Adventure', 'Children', 'Comedy', 'Fantasy', 'Comedy', 'Drama', 'Sci-Fi', 'Comedy', 'Documentary', 'Action', 'Comedy', 'Comedy', 'Action', 'Comedy', 'Comedy', 'Comedy', 'Action', 'Fantasy', 'Sci-Fi', 'Drama', 'Drama', 'Horror', 'Thriller', 'Comedy', 'Drama', 'Fantasy', 'Children', 'Drama', 'Drama', 'Sci-Fi', 'Thriller', 'Comedy', 'Horror', 'Sci-Fi', 'Documentary', 'Mystery', 'Animation', 'Drama', 'Thriller', 'Action', 'Animation', 'Crime', 'Sci-Fi', 'Thriller', '(no genres listed)', 'Adventure', 'Fantasy', 'Adventure', 'Drama', 'Drama', 'Thriller', 'Action', 'Crime', 'Thriller', 'Action', 'Adventure', 'Animation', 'Children', 'Comedy', 'Comedy', 'War', 'Drama', 'Comedy', 'Comedy', 'Horror', 'Drama', 'Drama', 'Romance', 'Horror', 'Action', 'Children', 'Documentary', 'Adventure', 'Comedy', 'Comedy', 'Drama', 'Fantasy', 'Animation', 'Children', 'Comedy', 'Fantasy', 'Comedy', 'Drama', 'Fantasy', 'Comedy', 'Documentary', 'Comedy', 'Documentary', 'Drama', 'Horror', 'Mystery', 'Comedy', 'Drama', 'Thriller', 'War', 'Action', 'Adventure', 'Thriller', 'Action', 'Comedy', 'Romance', '(no genres listed)', 'Comedy', 'Drama', 'Comedy', 'Adventure', 'Comedy', 'Comedy', 'Comedy', 'Adventure', 'Animation', 'Children', 'Comedy', 'Comedy', 'Drama', 'Animation', 'Comedy', 'Drama', '(no genres listed)', 'Action', 'Adventure', 'Drama', 'Fantasy', 'Comedy', 'Mystery', 'Sci-Fi', 'Crime', 'Thriller', 'Thriller', 'Comedy', 'Comedy', 'Comedy', 'Western', 'Comedy', 'Crime', 'Drama', 'Drama', 'Romance', 'Thriller', 'Action', 'Fantasy', 'Drama', 'Thriller', 'Comedy', 'Adventure', 'Animation', 'Comedy', 'Comedy', 'Animation', 'Comedy', 'Comedy', 'Drama', 'Action', 'Crime', 'Drama', 'Thriller', 'Action', 'Crime', 'Drama', 'Thriller', 'Animation', 'Comedy', 'Action', 'Adventure', 'Animation', 'Children', 'Comedy', 'Sci-Fi', 'Comedy', 'Drama', 'Sci-Fi', 'Action', 'Animation', 'Comedy', 'Crime', 'Mystery', 'Thriller', 'Action', 'Comedy', 'Sci-Fi', 'Comedy', 'Action', 'Drama', 'Thriller', 'Action', 'Comedy', 'Thriller', 'Drama', 'Romance', 'Thriller', 'Adventure', 'Children', 'Fantasy', 'Children', 'Fantasy', 'Documentary', 'Animation', 'Comedy', 'Action', 'Drama', 'Comedy', 'Drama', 'Romance', 'Action', 'Horror', 'Sci-Fi', 'Drama', 'Drama', 'Mystery', 'Thriller', 'Comedy', 'Comedy', 'Drama', 'Action', 'Comedy', 'Thriller', '(no genres listed)', 'Comedy', 'Drama', 'Romance', 'Adventure', 'Animation', 'Fantasy', 'Horror', 'Sci-Fi', 'Comedy', 'Drama', 'Romance', 'Comedy', 'Horror', 'Action', 'Adventure', 'Comedy', 'Drama', 'Comedy', '(no genres listed)', 'Animation', 'Drama', 'Fantasy', 'Documentary', 'Comedy', 'Horror', 'Drama', 'Action', 'Comedy', 'Horror', 'Sci-Fi', 'Action', 'Comedy', 'Documentary', 'Action', 'Thriller', 'Drama', 'Drama', 'War', 'Action', 'Thriller', 'Action', 'Crime', 'Drama', 'Action', 'Adventure', 'Action', 'Horror', 'Sci-Fi', 'Comedy', 'Adventure', 'Animation', 'Children', 'Comedy', 'Horror', 'Adventure', 'Children', 'Fantasy', 'Drama', 'Drama', 'Action', 'Animation', 'Action', 'Drama', 'Thriller', 'Action', 'Drama', 'Thriller', 'Animation', 'Horror', 'Drama', 'Thriller', 'Horror', 'Sci-Fi', 'Drama', '(no genres listed)', 'Comedy', 'Action', 'Drama', 'Sci-Fi', 'Crime', 'Drama', 'Comedy', 'Action', 'Action', 'Animation', 'Crime', 'Drama', 'Comedy', 'Crime', 'Drama', 'Action', 'Adventure', 'Animation', 'Drama', 'Fantasy', 'Sci-Fi', 'Thriller', 'Drama', 'Horror', 'Thriller', 'Action', 'Adventure', 'Horror', 'Sci-Fi', 'Comedy', 'Thriller', 'Action', 'Thriller', 'Comedy', 'Action', 'Western', 'Drama', 'Action', 'Comedy', 'Crime', 'Adventure', 'Animation', 'Children', 'Fantasy', 'Comedy', 'Romance', 'Drama', 'Fantasy', 'Thriller', 'Crime', 'Drama', 'Thriller', 'Crime', 'Drama', 'Thriller', 'Action', 'Animation', 'Mystery', 'Animation', 'Drama', 'Sci-Fi', 'Action', 'Adventure', 'Fantasy', 'Sci-Fi', 'Animation', 'Children', 'Animation', 'Animation', 'Drama', 'Fantasy', 'Romance', 'Animation', 'Comedy', 'Animation', 'Drama', 'War', 'Comedy', 'Adventure', 'Animation', 'Drama', 'Animation', 'Comedy', 'Horror', 'Thriller', 'Horror', 'Sci-Fi', 'Thriller', 'Sci-Fi', 'Animation', 'Children', 'Comedy', 'Action', 'Adventure', 'Comedy', 'Fantasy', 'Sci-Fi', 'Thriller', 'Drama', 'Fantasy', 'Drama', 'Horror', 'Sci-Fi', 'Thriller', 'Comedy', 'Documentary', 'Comedy', 'Romance', 'Documentary', 'Children', 'Comedy', 'Drama', 'Romance', 'Action', 'Sci-Fi', 'Comedy', 'Drama', 'Romance', 'Documentary', 'Drama', 'Mystery', 'Thriller', 'Comedy', 'Comedy', 'Comedy', 'Horror', 'Sci-Fi', 'Thriller', 'Action', 'Crime', 'Drama', 'Mystery', 'Thriller', 'Comedy', '(no genres listed)', 'Drama', 'Drama', 'Drama', 'Thriller', 'Comedy', 'Fantasy', 'Sci-Fi', 'Comedy', 'Documentary', 'Documentary', 'Action', 'Comedy', 'Animation', 'Comedy', 'Drama', 'Documentary', 'Comedy', 'Drama', '(no genres listed)', 'Adventure', 'Animation', 'Children', 'Adventure', 'Children', 'Fantasy', 'Sci-Fi', 'Animation', 'Drama', 'Romance', 'Adventure', 'Animation', 'Children', 'Comedy', 'Fantasy', 'Comedy', 'Adventure', 'Sci-Fi', 'Action', 'Adventure', 'Fantasy', 'Sci-Fi', 'Drama', 'Horror', 'Thriller', 'Action', 'Horror', 'Thriller', 'Adventure', 'Drama', 'Romance', 'Sci-Fi', 'Drama', 'Drama', 'Drama', 'Comedy', 'Animation', 'Children', 'Comedy', 'Documentary', 'Drama', 'Action', 'Adventure', 'Sci-Fi', 'Comedy', 'Drama', 'Horror', '(no genres listed)', 'Comedy', 'Documentary', 'Comedy', 'Drama', 'Action', 'Animation', 'Comedy', 'Animation', 'Comedy', 'Children', 'Comedy', 'Drama', 'Comedy', 'Action', 'Adventure', 'Fantasy', 'Sci-Fi', 'Animation', 'Fantasy', 'Mystery', 'Comedy', 'Comedy', 'Animation', 'Fantasy', 'Mystery', 'Action', 'Crime', 'Thriller', 'Horror', 'Action', 'Sci-Fi', 'Action', 'Adventure', 'Fantasy', 'Crime', 'Drama', 'Comedy', 'Romance', 'Drama', 'Sci-Fi', 'Thriller', 'Fantasy', 'Romance', 'Animation', 'Children', 'Comedy', 'Action', 'Adventure', 'Drama', 'Drama', 'Romance', 'Drama', 'Action', 'Drama', 'Sci-Fi', 'Comedy', 'Drama', 'Romance', 'Comedy', '(no genres listed)', 'Thriller', 'Horror', 'Sci-Fi', 'Comedy', 'Drama', 'Mystery', 'Action', 'Adventure', 'Sci-Fi', 'Action', 'Horror', 'Sci-Fi', 'Thriller', 'Action', 'Crime', 'Drama', 'Action', 'Horror', 'Sci-Fi', 'Action', 'Animation', 'Sci-Fi', 'Drama', 'Mystery', 'Romance', 'Comedy', 'Action', 'Comedy', 'Drama', 'Comedy', 'Drama', 'Comedy', 'Comedy', 'Animation', 'Drama', 'Action', 'Drama', 'War', 'Animation', 'Children', 'Comedy', 'Action', 'Comedy', 'Action', 'Comedy', 'Action', 'Adventure', 'Fantasy', 'Horror', 'Thriller', 'Children', 'Comedy', 'Fantasy', 'Action', 'Crime', 'Drama', 'Thriller', 'Comedy', 'Documentary', 'Comedy', 'Action', 'Animation', 'Children', 'Comedy', 'Horror', 'Mystery', 'Thriller', 'Adventure', 'Animation', 'Comedy', 'Comedy', 'Crime', 'Drama', 'Documentary', 'Drama', 'Documentary', '(no genres listed)', '(no genres listed)', 'Comedy', 'Drama', '(no genres listed)', 'Comedy', 'Drama', 'Thriller', 'Western', 'Action', 'Crime', 'Thriller', 'Action', 'Adventure', 'Drama', 'Sci-Fi', 'Comedy', 'Sci-Fi', 'War', 'Comedy', 'Drama', '(no genres listed)', 'Drama', 'Mystery', 'Thriller', 'Drama', 'Comedy', 'Comedy', 'Mystery', 'Romance', 'Thriller', 'Drama', 'Romance', 'Comedy', 'Comedy', 'Documentary', '(no genres listed)', 'Adventure', 'Animation', 'Children', 'Comedy', 'Animation', 'Children', 'Comedy', 'Fantasy', 'Animation', 'Adventure', 'Animation', 'Children', 'Animation', 'Animation', '(no genres listed)', 'Action', 'Adventure', 'Animation', 'Comedy', 'Documentary', 'Adventure', 'Animation', 'Children', 'Fantasy', 'Adventure', 'Animation', 'Children', 'Animation', 'Sci-Fi', 'Action', 'Animation', 'Sci-Fi', 'Animation', 'Sci-Fi', 'Animation', 'Action', 'Adventure', 'Drama', 'Sci-Fi', 'Drama', 'Comedy', 'Comedy', 'Drama', 'War', 'Documentary', 'Comedy', 'Comedy', 'Action', 'Adventure', 'Sci-Fi', 'Action', 'Horror', 'Sci-Fi', 'Documentary', 'Animation', 'Children', 'Comedy', 'Fantasy', 'Animation', '(no genres listed)', 'Comedy', 'Crime', 'Thriller', 'Adventure', 'Children', 'Fantasy', 'Sci-Fi', 'Thriller', 'Thriller', 'Comedy', 'Comedy', 'Drama', 'Horror', 'Mystery', 'Sci-Fi', 'Thriller', 'Action', 'Drama', 'Thriller', 'War', 'Animation', 'Drama', 'Fantasy', '(no genres listed)', 'Horror', 'Thriller', 'Comedy', 'Comedy', 'Crime', 'Drama', 'Comedy', 'Comedy', 'Comedy', 'Fantasy', 'Horror', 'Sci-Fi', 'Western', 'Horror', 'Animation', 'Children', 'Horror', 'Adventure', 'Animation', 'Children', 'Animation', 'Children', 'Fantasy', 'Animation', 'Animation', 'Comedy', 'Animation', 'Fantasy', 'Animation', 'Children', 'Comedy', 'Horror', 'Thriller', 'Action', 'Crime', 'Mystery', 'Thriller', 'Comedy', 'Action', 'Crime', 'Drama', 'Thriller', 'Action', 'Comedy', 'Comedy', 'Crime', 'Comedy', 'Horror', 'Documentary', 'Comedy', 'Comedy', 'Animation', 'Action', 'Adventure', 'Comedy', 'Comedy', 'Sci-Fi', 'Adventure', 'Animation', 'Children', 'Comedy', 'Drama', 'Comedy', 'Drama', 'Drama', 'Horror', 'Mystery', 'Thriller', 'Documentary', 'Drama', 'Horror', 'Thriller', '(no genres listed)', 'Animation', 'Children', 'Comedy', 'Romance', 'Crime', 'Thriller', 'Comedy', 'Drama', 'Action', 'Comedy', 'Action', 'Adventure', 'Animation', 'Fantasy', 'Sci-Fi', 'Crime', 'Drama', 'Comedy', 'Crime', 'Drama', 'Mystery', 'Adventure', 'Animation', 'Children', 'Animation', 'Romance', 'Drama', 'Animation', 'Documentary', 'Documentary', 'Comedy', 'Comedy', 'Drama', 'Romance', 'Adventure', 'Animation', 'Children', 'Comedy', 'Sci-Fi', 'Thriller', 'Comedy', 'Comedy', 'Animation', 'Crime', 'Drama', 'Documentary', 'Comedy', 'Action', 'Adventure', 'Children', 'Comedy', 'Action', 'Horror', 'Adventure', 'Drama', 'Fantasy', 'Romance', 'Drama', 'Comedy', 'Horror', 'Drama', 'Drama', 'Thriller', 'Drama', 'War', 'Action', 'Adventure', 'Fantasy', 'Sci-Fi', 'Comedy', 'Adventure', 'Drama', 'Fantasy', 'Drama', 'Drama', 'Comedy', 'Drama', 'Drama', 'Horror', 'Thriller', 'Documentary', 'Comedy', 'Drama', 'Drama', 'Thriller', 'Documentary', 'Drama', 'Animation', 'Children', 'Comedy', 'Comedy', 'Comedy', 'Drama', 'Romance', '(no genres listed)', 'Comedy', '(no genres listed)', 'Animation', 'Children', 'Comedy', 'Animation', 'Comedy', 'Fantasy', 'Animation', 'Children', 'Comedy', 'Animation', 'Sci-Fi', 'Adventure', 'Mystery', 'Sci-Fi', 'Thriller', '(no genres listed)', 'Children', 'Comedy', 'Sci-Fi', 'Comedy', 'Drama', 'Action', 'Crime', 'Fantasy', 'Crime', 'Drama', 'Mystery', 'Thriller', 'Comedy', 'Documentary', 'Comedy', 'Horror', 'Mystery', 'Thriller', 'Children', 'Comedy', 'Drama', 'Action', 'Comedy', 'Crime', 'Horror', 'Action', 'Mystery', 'Sci-Fi', 'Thriller', 'Animation', 'Comedy', 'Comedy', 'Comedy', 'Comedy', 'Action', 'Sci-Fi', 'Documentary', 'Horror', 'Mystery', 'Sci-Fi', 'Thriller', 'Crime', 'Documentary', 'Comedy', 'Drama', 'Romance', 'Action', 'Adventure', 'Fantasy', 'Action', 'Adventure', 'Fantasy', 'Drama', 'Thriller', 'Comedy', 'Action', 'Crime', 'Drama', 'Thriller', 'Adventure', 'Children', 'Fantasy', 'Sci-Fi', 'Comedy', 'Drama', 'Drama', 'Horror', 'Thriller', 'Adventure', 'Thriller', 'Drama', 'Fantasy', 'Thriller', 'Crime', 'Action', 'Comedy', 'Comedy', 'Action', 'Fantasy', 'Sci-Fi', 'Action', 'Adventure', 'Sci-Fi', 'Action', 'Adventure', 'Drama', 'Sci-Fi', 'Thriller', 'Action', 'Adventure', 'Animation', 'Children', 'Action', 'Comedy', 'Sci-Fi', 'Action', 'Adventure', 'Children', 'Sci-Fi', 'Documentary', 'Comedy', 'Fantasy', 'Sci-Fi', 'Action', 'Adventure', 'Comedy', 'Fantasy', 'Sci-Fi', 'Crime', 'Drama', 'Comedy', 'Romance', 'Comedy', 'Adventure', 'Comedy', 'Fantasy', 'Comedy', 'Drama', 'Documentary', 'Action', 'Adventure', 'Thriller', 'Action', 'Crime', 'Thriller', 'Action', 'Sci-Fi', 'Comedy', 'Crime', 'Drama', 'Sci-Fi', 'Thriller', 'Drama', 'Romance', 'Comedy', 'Drama', 'Drama', 'Animation', 'Documentary', 'Action', 'Adventure', 'Comedy', 'Sci-Fi', 'Action', 'Animation', 'Comedy', 'Sci-Fi', 'Animation', 'Drama', 'Comedy', 'Drama', 'Animation', 'Documentary', 'Action', 'Animation', 'Comedy', 'Fantasy', 'Animation', 'Comedy', 'Fantasy', 'Drama', 'Action', 'Animation', 'Comedy']\n"
     ]
    }
   ],
   "source": [
    "# 데이터 셋에서 유일한 장르목록 추출\n",
    "for x in movies.genres:\n",
    "    if x == 'genres':\n",
    "        continue\n",
    "    #a = x.split('|')\n",
    "    all_genres.extend(x.split('|'))\n",
    "print(all_genres)\n",
    "    "
   ]
  },
  {
   "cell_type": "code",
   "execution_count": 302,
   "id": "fd9f0fc5",
   "metadata": {},
   "outputs": [],
   "source": [
    "genres = pd.unique(all_genres)"
   ]
  },
  {
   "cell_type": "code",
   "execution_count": 303,
   "id": "6c567991",
   "metadata": {},
   "outputs": [
    {
     "data": {
      "text/plain": [
       "array(['Adventure', 'Animation', 'Children', 'Comedy', 'Fantasy',\n",
       "       'Romance', 'Drama', 'Action', 'Crime', 'Thriller', 'Horror',\n",
       "       'Mystery', 'Sci-Fi', 'War', 'Musical', 'Documentary', 'IMAX',\n",
       "       'Western', 'Film-Noir', '(no genres listed)'], dtype=object)"
      ]
     },
     "execution_count": 303,
     "metadata": {},
     "output_type": "execute_result"
    }
   ],
   "source": [
    "genres"
   ]
  },
  {
   "cell_type": "code",
   "execution_count": 304,
   "id": "597514c7",
   "metadata": {},
   "outputs": [],
   "source": [
    "# 표시자 DataFrame 생성(0으로 초기화)\n",
    "zero_metrix = np.zeros((len(movies), len(genres)))"
   ]
  },
  {
   "cell_type": "code",
   "execution_count": 305,
   "id": "14373c10",
   "metadata": {},
   "outputs": [
    {
     "data": {
      "text/html": [
       "<div>\n",
       "<style scoped>\n",
       "    .dataframe tbody tr th:only-of-type {\n",
       "        vertical-align: middle;\n",
       "    }\n",
       "\n",
       "    .dataframe tbody tr th {\n",
       "        vertical-align: top;\n",
       "    }\n",
       "\n",
       "    .dataframe thead th {\n",
       "        text-align: right;\n",
       "    }\n",
       "</style>\n",
       "<table border=\"1\" class=\"dataframe\">\n",
       "  <thead>\n",
       "    <tr style=\"text-align: right;\">\n",
       "      <th></th>\n",
       "      <th>Adventure</th>\n",
       "      <th>Animation</th>\n",
       "      <th>Children</th>\n",
       "      <th>Comedy</th>\n",
       "      <th>Fantasy</th>\n",
       "      <th>Romance</th>\n",
       "      <th>Drama</th>\n",
       "      <th>Action</th>\n",
       "      <th>Crime</th>\n",
       "      <th>Thriller</th>\n",
       "      <th>Horror</th>\n",
       "      <th>Mystery</th>\n",
       "      <th>Sci-Fi</th>\n",
       "      <th>War</th>\n",
       "      <th>Musical</th>\n",
       "      <th>Documentary</th>\n",
       "      <th>IMAX</th>\n",
       "      <th>Western</th>\n",
       "      <th>Film-Noir</th>\n",
       "      <th>(no genres listed)</th>\n",
       "    </tr>\n",
       "  </thead>\n",
       "  <tbody>\n",
       "    <tr>\n",
       "      <th>0</th>\n",
       "      <td>0.0</td>\n",
       "      <td>0.0</td>\n",
       "      <td>0.0</td>\n",
       "      <td>0.0</td>\n",
       "      <td>0.0</td>\n",
       "      <td>0.0</td>\n",
       "      <td>0.0</td>\n",
       "      <td>0.0</td>\n",
       "      <td>0.0</td>\n",
       "      <td>0.0</td>\n",
       "      <td>0.0</td>\n",
       "      <td>0.0</td>\n",
       "      <td>0.0</td>\n",
       "      <td>0.0</td>\n",
       "      <td>0.0</td>\n",
       "      <td>0.0</td>\n",
       "      <td>0.0</td>\n",
       "      <td>0.0</td>\n",
       "      <td>0.0</td>\n",
       "      <td>0.0</td>\n",
       "    </tr>\n",
       "    <tr>\n",
       "      <th>1</th>\n",
       "      <td>0.0</td>\n",
       "      <td>0.0</td>\n",
       "      <td>0.0</td>\n",
       "      <td>0.0</td>\n",
       "      <td>0.0</td>\n",
       "      <td>0.0</td>\n",
       "      <td>0.0</td>\n",
       "      <td>0.0</td>\n",
       "      <td>0.0</td>\n",
       "      <td>0.0</td>\n",
       "      <td>0.0</td>\n",
       "      <td>0.0</td>\n",
       "      <td>0.0</td>\n",
       "      <td>0.0</td>\n",
       "      <td>0.0</td>\n",
       "      <td>0.0</td>\n",
       "      <td>0.0</td>\n",
       "      <td>0.0</td>\n",
       "      <td>0.0</td>\n",
       "      <td>0.0</td>\n",
       "    </tr>\n",
       "    <tr>\n",
       "      <th>2</th>\n",
       "      <td>0.0</td>\n",
       "      <td>0.0</td>\n",
       "      <td>0.0</td>\n",
       "      <td>0.0</td>\n",
       "      <td>0.0</td>\n",
       "      <td>0.0</td>\n",
       "      <td>0.0</td>\n",
       "      <td>0.0</td>\n",
       "      <td>0.0</td>\n",
       "      <td>0.0</td>\n",
       "      <td>0.0</td>\n",
       "      <td>0.0</td>\n",
       "      <td>0.0</td>\n",
       "      <td>0.0</td>\n",
       "      <td>0.0</td>\n",
       "      <td>0.0</td>\n",
       "      <td>0.0</td>\n",
       "      <td>0.0</td>\n",
       "      <td>0.0</td>\n",
       "      <td>0.0</td>\n",
       "    </tr>\n",
       "    <tr>\n",
       "      <th>3</th>\n",
       "      <td>0.0</td>\n",
       "      <td>0.0</td>\n",
       "      <td>0.0</td>\n",
       "      <td>0.0</td>\n",
       "      <td>0.0</td>\n",
       "      <td>0.0</td>\n",
       "      <td>0.0</td>\n",
       "      <td>0.0</td>\n",
       "      <td>0.0</td>\n",
       "      <td>0.0</td>\n",
       "      <td>0.0</td>\n",
       "      <td>0.0</td>\n",
       "      <td>0.0</td>\n",
       "      <td>0.0</td>\n",
       "      <td>0.0</td>\n",
       "      <td>0.0</td>\n",
       "      <td>0.0</td>\n",
       "      <td>0.0</td>\n",
       "      <td>0.0</td>\n",
       "      <td>0.0</td>\n",
       "    </tr>\n",
       "    <tr>\n",
       "      <th>4</th>\n",
       "      <td>0.0</td>\n",
       "      <td>0.0</td>\n",
       "      <td>0.0</td>\n",
       "      <td>0.0</td>\n",
       "      <td>0.0</td>\n",
       "      <td>0.0</td>\n",
       "      <td>0.0</td>\n",
       "      <td>0.0</td>\n",
       "      <td>0.0</td>\n",
       "      <td>0.0</td>\n",
       "      <td>0.0</td>\n",
       "      <td>0.0</td>\n",
       "      <td>0.0</td>\n",
       "      <td>0.0</td>\n",
       "      <td>0.0</td>\n",
       "      <td>0.0</td>\n",
       "      <td>0.0</td>\n",
       "      <td>0.0</td>\n",
       "      <td>0.0</td>\n",
       "      <td>0.0</td>\n",
       "    </tr>\n",
       "    <tr>\n",
       "      <th>...</th>\n",
       "      <td>...</td>\n",
       "      <td>...</td>\n",
       "      <td>...</td>\n",
       "      <td>...</td>\n",
       "      <td>...</td>\n",
       "      <td>...</td>\n",
       "      <td>...</td>\n",
       "      <td>...</td>\n",
       "      <td>...</td>\n",
       "      <td>...</td>\n",
       "      <td>...</td>\n",
       "      <td>...</td>\n",
       "      <td>...</td>\n",
       "      <td>...</td>\n",
       "      <td>...</td>\n",
       "      <td>...</td>\n",
       "      <td>...</td>\n",
       "      <td>...</td>\n",
       "      <td>...</td>\n",
       "      <td>...</td>\n",
       "    </tr>\n",
       "    <tr>\n",
       "      <th>9738</th>\n",
       "      <td>0.0</td>\n",
       "      <td>0.0</td>\n",
       "      <td>0.0</td>\n",
       "      <td>0.0</td>\n",
       "      <td>0.0</td>\n",
       "      <td>0.0</td>\n",
       "      <td>0.0</td>\n",
       "      <td>0.0</td>\n",
       "      <td>0.0</td>\n",
       "      <td>0.0</td>\n",
       "      <td>0.0</td>\n",
       "      <td>0.0</td>\n",
       "      <td>0.0</td>\n",
       "      <td>0.0</td>\n",
       "      <td>0.0</td>\n",
       "      <td>0.0</td>\n",
       "      <td>0.0</td>\n",
       "      <td>0.0</td>\n",
       "      <td>0.0</td>\n",
       "      <td>0.0</td>\n",
       "    </tr>\n",
       "    <tr>\n",
       "      <th>9739</th>\n",
       "      <td>0.0</td>\n",
       "      <td>0.0</td>\n",
       "      <td>0.0</td>\n",
       "      <td>0.0</td>\n",
       "      <td>0.0</td>\n",
       "      <td>0.0</td>\n",
       "      <td>0.0</td>\n",
       "      <td>0.0</td>\n",
       "      <td>0.0</td>\n",
       "      <td>0.0</td>\n",
       "      <td>0.0</td>\n",
       "      <td>0.0</td>\n",
       "      <td>0.0</td>\n",
       "      <td>0.0</td>\n",
       "      <td>0.0</td>\n",
       "      <td>0.0</td>\n",
       "      <td>0.0</td>\n",
       "      <td>0.0</td>\n",
       "      <td>0.0</td>\n",
       "      <td>0.0</td>\n",
       "    </tr>\n",
       "    <tr>\n",
       "      <th>9740</th>\n",
       "      <td>0.0</td>\n",
       "      <td>0.0</td>\n",
       "      <td>0.0</td>\n",
       "      <td>0.0</td>\n",
       "      <td>0.0</td>\n",
       "      <td>0.0</td>\n",
       "      <td>0.0</td>\n",
       "      <td>0.0</td>\n",
       "      <td>0.0</td>\n",
       "      <td>0.0</td>\n",
       "      <td>0.0</td>\n",
       "      <td>0.0</td>\n",
       "      <td>0.0</td>\n",
       "      <td>0.0</td>\n",
       "      <td>0.0</td>\n",
       "      <td>0.0</td>\n",
       "      <td>0.0</td>\n",
       "      <td>0.0</td>\n",
       "      <td>0.0</td>\n",
       "      <td>0.0</td>\n",
       "    </tr>\n",
       "    <tr>\n",
       "      <th>9741</th>\n",
       "      <td>0.0</td>\n",
       "      <td>0.0</td>\n",
       "      <td>0.0</td>\n",
       "      <td>0.0</td>\n",
       "      <td>0.0</td>\n",
       "      <td>0.0</td>\n",
       "      <td>0.0</td>\n",
       "      <td>0.0</td>\n",
       "      <td>0.0</td>\n",
       "      <td>0.0</td>\n",
       "      <td>0.0</td>\n",
       "      <td>0.0</td>\n",
       "      <td>0.0</td>\n",
       "      <td>0.0</td>\n",
       "      <td>0.0</td>\n",
       "      <td>0.0</td>\n",
       "      <td>0.0</td>\n",
       "      <td>0.0</td>\n",
       "      <td>0.0</td>\n",
       "      <td>0.0</td>\n",
       "    </tr>\n",
       "    <tr>\n",
       "      <th>9742</th>\n",
       "      <td>0.0</td>\n",
       "      <td>0.0</td>\n",
       "      <td>0.0</td>\n",
       "      <td>0.0</td>\n",
       "      <td>0.0</td>\n",
       "      <td>0.0</td>\n",
       "      <td>0.0</td>\n",
       "      <td>0.0</td>\n",
       "      <td>0.0</td>\n",
       "      <td>0.0</td>\n",
       "      <td>0.0</td>\n",
       "      <td>0.0</td>\n",
       "      <td>0.0</td>\n",
       "      <td>0.0</td>\n",
       "      <td>0.0</td>\n",
       "      <td>0.0</td>\n",
       "      <td>0.0</td>\n",
       "      <td>0.0</td>\n",
       "      <td>0.0</td>\n",
       "      <td>0.0</td>\n",
       "    </tr>\n",
       "  </tbody>\n",
       "</table>\n",
       "<p>9743 rows × 20 columns</p>\n",
       "</div>"
      ],
      "text/plain": [
       "      Adventure  Animation  Children  Comedy  Fantasy  Romance  Drama  Action  \\\n",
       "0           0.0        0.0       0.0     0.0      0.0      0.0    0.0     0.0   \n",
       "1           0.0        0.0       0.0     0.0      0.0      0.0    0.0     0.0   \n",
       "2           0.0        0.0       0.0     0.0      0.0      0.0    0.0     0.0   \n",
       "3           0.0        0.0       0.0     0.0      0.0      0.0    0.0     0.0   \n",
       "4           0.0        0.0       0.0     0.0      0.0      0.0    0.0     0.0   \n",
       "...         ...        ...       ...     ...      ...      ...    ...     ...   \n",
       "9738        0.0        0.0       0.0     0.0      0.0      0.0    0.0     0.0   \n",
       "9739        0.0        0.0       0.0     0.0      0.0      0.0    0.0     0.0   \n",
       "9740        0.0        0.0       0.0     0.0      0.0      0.0    0.0     0.0   \n",
       "9741        0.0        0.0       0.0     0.0      0.0      0.0    0.0     0.0   \n",
       "9742        0.0        0.0       0.0     0.0      0.0      0.0    0.0     0.0   \n",
       "\n",
       "      Crime  Thriller  Horror  Mystery  Sci-Fi  War  Musical  Documentary  \\\n",
       "0       0.0       0.0     0.0      0.0     0.0  0.0      0.0          0.0   \n",
       "1       0.0       0.0     0.0      0.0     0.0  0.0      0.0          0.0   \n",
       "2       0.0       0.0     0.0      0.0     0.0  0.0      0.0          0.0   \n",
       "3       0.0       0.0     0.0      0.0     0.0  0.0      0.0          0.0   \n",
       "4       0.0       0.0     0.0      0.0     0.0  0.0      0.0          0.0   \n",
       "...     ...       ...     ...      ...     ...  ...      ...          ...   \n",
       "9738    0.0       0.0     0.0      0.0     0.0  0.0      0.0          0.0   \n",
       "9739    0.0       0.0     0.0      0.0     0.0  0.0      0.0          0.0   \n",
       "9740    0.0       0.0     0.0      0.0     0.0  0.0      0.0          0.0   \n",
       "9741    0.0       0.0     0.0      0.0     0.0  0.0      0.0          0.0   \n",
       "9742    0.0       0.0     0.0      0.0     0.0  0.0      0.0          0.0   \n",
       "\n",
       "      IMAX  Western  Film-Noir  (no genres listed)  \n",
       "0      0.0      0.0        0.0                 0.0  \n",
       "1      0.0      0.0        0.0                 0.0  \n",
       "2      0.0      0.0        0.0                 0.0  \n",
       "3      0.0      0.0        0.0                 0.0  \n",
       "4      0.0      0.0        0.0                 0.0  \n",
       "...    ...      ...        ...                 ...  \n",
       "9738   0.0      0.0        0.0                 0.0  \n",
       "9739   0.0      0.0        0.0                 0.0  \n",
       "9740   0.0      0.0        0.0                 0.0  \n",
       "9741   0.0      0.0        0.0                 0.0  \n",
       "9742   0.0      0.0        0.0                 0.0  \n",
       "\n",
       "[9743 rows x 20 columns]"
      ]
     },
     "execution_count": 305,
     "metadata": {},
     "output_type": "execute_result"
    }
   ],
   "source": [
    "dummies = pd.DataFrame(zero_metrix, columns=genres)\n",
    "dummies"
   ]
  },
  {
   "cell_type": "code",
   "execution_count": 312,
   "id": "21e348cb",
   "metadata": {},
   "outputs": [
    {
     "data": {
      "text/plain": [
       "['Adventure', 'Animation', 'Children', 'Comedy', 'Fantasy']"
      ]
     },
     "execution_count": 312,
     "metadata": {},
     "output_type": "execute_result"
    }
   ],
   "source": [
    "# 각 영화 순회하며 dummies 각 row항목을 1로 설정\n",
    "gen = movies.genres[1]\n",
    "gen.split('|')"
   ]
  },
  {
   "cell_type": "code",
   "execution_count": 313,
   "id": "ce3bf287",
   "metadata": {},
   "outputs": [
    {
     "data": {
      "text/plain": [
       "array([0, 1, 2, 3, 4], dtype=int64)"
      ]
     },
     "execution_count": 313,
     "metadata": {},
     "output_type": "execute_result"
    }
   ],
   "source": [
    "dummies.columns.get_indexer(gen.split('|'))"
   ]
  },
  {
   "cell_type": "code",
   "execution_count": 314,
   "id": "20c7114e",
   "metadata": {},
   "outputs": [],
   "source": [
    "# .iloc활용해 색인에 맞게 값 대입\n",
    "for i, gen in enumerate(movies.genres):\n",
    "    if gen == 'genres':\n",
    "        continue\n",
    "    indices = dummies.columns.get_indexer(gen.split('|'))\n",
    "    dummies.iloc[i, indices] = 1"
   ]
  },
  {
   "cell_type": "code",
   "execution_count": 315,
   "id": "ae5b588b",
   "metadata": {},
   "outputs": [],
   "source": [
    "movies_windic = movies.join(dummies.add_prefix('Genre_'))"
   ]
  },
  {
   "cell_type": "code",
   "execution_count": 319,
   "id": "bfeb436e",
   "metadata": {},
   "outputs": [
    {
     "data": {
      "text/plain": [
       "movie_id                                                              1\n",
       "title                                                  Toy Story (1995)\n",
       "genres                      Adventure|Animation|Children|Comedy|Fantasy\n",
       "Genre_Adventure                                                     1.0\n",
       "Genre_Animation                                                     1.0\n",
       "Genre_Children                                                      1.0\n",
       "Genre_Comedy                                                        1.0\n",
       "Genre_Fantasy                                                       1.0\n",
       "Genre_Romance                                                       0.0\n",
       "Genre_Drama                                                         0.0\n",
       "Genre_Action                                                        0.0\n",
       "Genre_Crime                                                         0.0\n",
       "Genre_Thriller                                                      0.0\n",
       "Genre_Horror                                                        0.0\n",
       "Genre_Mystery                                                       0.0\n",
       "Genre_Sci-Fi                                                        0.0\n",
       "Genre_War                                                           0.0\n",
       "Genre_Musical                                                       0.0\n",
       "Genre_Documentary                                                   0.0\n",
       "Genre_IMAX                                                          0.0\n",
       "Genre_Western                                                       0.0\n",
       "Genre_Film-Noir                                                     0.0\n",
       "Genre_(no genres listed)                                            0.0\n",
       "Name: 1, dtype: object"
      ]
     },
     "execution_count": 319,
     "metadata": {},
     "output_type": "execute_result"
    }
   ],
   "source": [
    "movies_windic.iloc[1]"
   ]
  },
  {
   "cell_type": "markdown",
   "id": "37c6610e",
   "metadata": {},
   "source": [
    "#### get_dummies와 cut의 조합\n",
    "* 이 같은 이산함수의 조합을 잘활용하면 통계 애플리케이션에서 유용하다"
   ]
  },
  {
   "cell_type": "code",
   "execution_count": 321,
   "id": "732468ba",
   "metadata": {},
   "outputs": [],
   "source": [
    "# 난수 seed 값을 지정하여 값이 불변하게 함.\n",
    "np.random.seed(12345)"
   ]
  },
  {
   "cell_type": "code",
   "execution_count": 322,
   "id": "bce534bb",
   "metadata": {},
   "outputs": [],
   "source": [
    "values = np.random.rand(10)"
   ]
  },
  {
   "cell_type": "code",
   "execution_count": 323,
   "id": "e62d203d",
   "metadata": {},
   "outputs": [
    {
     "data": {
      "text/plain": [
       "array([0.92961609, 0.31637555, 0.18391881, 0.20456028, 0.56772503,\n",
       "       0.5955447 , 0.96451452, 0.6531771 , 0.74890664, 0.65356987])"
      ]
     },
     "execution_count": 323,
     "metadata": {},
     "output_type": "execute_result"
    }
   ],
   "source": [
    "values"
   ]
  },
  {
   "cell_type": "code",
   "execution_count": 324,
   "id": "e96a4015",
   "metadata": {},
   "outputs": [],
   "source": [
    "bins = [0, 0.2, 0.4, 0.6, 0.8, 1]"
   ]
  },
  {
   "cell_type": "code",
   "execution_count": 325,
   "id": "2cf3f8ab",
   "metadata": {},
   "outputs": [
    {
     "data": {
      "text/html": [
       "<div>\n",
       "<style scoped>\n",
       "    .dataframe tbody tr th:only-of-type {\n",
       "        vertical-align: middle;\n",
       "    }\n",
       "\n",
       "    .dataframe tbody tr th {\n",
       "        vertical-align: top;\n",
       "    }\n",
       "\n",
       "    .dataframe thead th {\n",
       "        text-align: right;\n",
       "    }\n",
       "</style>\n",
       "<table border=\"1\" class=\"dataframe\">\n",
       "  <thead>\n",
       "    <tr style=\"text-align: right;\">\n",
       "      <th></th>\n",
       "      <th>(0.0, 0.2]</th>\n",
       "      <th>(0.2, 0.4]</th>\n",
       "      <th>(0.4, 0.6]</th>\n",
       "      <th>(0.6, 0.8]</th>\n",
       "      <th>(0.8, 1.0]</th>\n",
       "    </tr>\n",
       "  </thead>\n",
       "  <tbody>\n",
       "    <tr>\n",
       "      <th>0</th>\n",
       "      <td>0</td>\n",
       "      <td>0</td>\n",
       "      <td>0</td>\n",
       "      <td>0</td>\n",
       "      <td>1</td>\n",
       "    </tr>\n",
       "    <tr>\n",
       "      <th>1</th>\n",
       "      <td>0</td>\n",
       "      <td>1</td>\n",
       "      <td>0</td>\n",
       "      <td>0</td>\n",
       "      <td>0</td>\n",
       "    </tr>\n",
       "    <tr>\n",
       "      <th>2</th>\n",
       "      <td>1</td>\n",
       "      <td>0</td>\n",
       "      <td>0</td>\n",
       "      <td>0</td>\n",
       "      <td>0</td>\n",
       "    </tr>\n",
       "    <tr>\n",
       "      <th>3</th>\n",
       "      <td>0</td>\n",
       "      <td>1</td>\n",
       "      <td>0</td>\n",
       "      <td>0</td>\n",
       "      <td>0</td>\n",
       "    </tr>\n",
       "    <tr>\n",
       "      <th>4</th>\n",
       "      <td>0</td>\n",
       "      <td>0</td>\n",
       "      <td>1</td>\n",
       "      <td>0</td>\n",
       "      <td>0</td>\n",
       "    </tr>\n",
       "    <tr>\n",
       "      <th>5</th>\n",
       "      <td>0</td>\n",
       "      <td>0</td>\n",
       "      <td>1</td>\n",
       "      <td>0</td>\n",
       "      <td>0</td>\n",
       "    </tr>\n",
       "    <tr>\n",
       "      <th>6</th>\n",
       "      <td>0</td>\n",
       "      <td>0</td>\n",
       "      <td>0</td>\n",
       "      <td>0</td>\n",
       "      <td>1</td>\n",
       "    </tr>\n",
       "    <tr>\n",
       "      <th>7</th>\n",
       "      <td>0</td>\n",
       "      <td>0</td>\n",
       "      <td>0</td>\n",
       "      <td>1</td>\n",
       "      <td>0</td>\n",
       "    </tr>\n",
       "    <tr>\n",
       "      <th>8</th>\n",
       "      <td>0</td>\n",
       "      <td>0</td>\n",
       "      <td>0</td>\n",
       "      <td>1</td>\n",
       "      <td>0</td>\n",
       "    </tr>\n",
       "    <tr>\n",
       "      <th>9</th>\n",
       "      <td>0</td>\n",
       "      <td>0</td>\n",
       "      <td>0</td>\n",
       "      <td>1</td>\n",
       "      <td>0</td>\n",
       "    </tr>\n",
       "  </tbody>\n",
       "</table>\n",
       "</div>"
      ],
      "text/plain": [
       "   (0.0, 0.2]  (0.2, 0.4]  (0.4, 0.6]  (0.6, 0.8]  (0.8, 1.0]\n",
       "0           0           0           0           0           1\n",
       "1           0           1           0           0           0\n",
       "2           1           0           0           0           0\n",
       "3           0           1           0           0           0\n",
       "4           0           0           1           0           0\n",
       "5           0           0           1           0           0\n",
       "6           0           0           0           0           1\n",
       "7           0           0           0           1           0\n",
       "8           0           0           0           1           0\n",
       "9           0           0           0           1           0"
      ]
     },
     "execution_count": 325,
     "metadata": {},
     "output_type": "execute_result"
    }
   ],
   "source": [
    "pd.get_dummies(pd.cut(values, bins))"
   ]
  },
  {
   "cell_type": "markdown",
   "id": "0faad407",
   "metadata": {},
   "source": [
    "### To be continue...\n",
    "7.3부터는 다음 시간에 "
   ]
  },
  {
   "cell_type": "markdown",
   "id": "4682f294",
   "metadata": {},
   "source": [
    "### 소정님 물어보신 것"
   ]
  },
  {
   "cell_type": "code",
   "execution_count": 76,
   "id": "4674c1bd",
   "metadata": {},
   "outputs": [
    {
     "data": {
      "text/plain": [
       "<pandas.io.parsers.TextFileReader at 0x1d143a8c6d0>"
      ]
     },
     "execution_count": 76,
     "metadata": {},
     "output_type": "execute_result"
    }
   ],
   "source": [
    "import pandas as pd\n",
    "chunker = pd.read_csv('ml-latest-small\\movies.csv', chunksize=1000)\n",
    "chunker"
   ]
  },
  {
   "cell_type": "code",
   "execution_count": 80,
   "id": "bd3bfb61",
   "metadata": {},
   "outputs": [
    {
     "data": {
      "text/html": [
       "<div>\n",
       "<style scoped>\n",
       "    .dataframe tbody tr th:only-of-type {\n",
       "        vertical-align: middle;\n",
       "    }\n",
       "\n",
       "    .dataframe tbody tr th {\n",
       "        vertical-align: top;\n",
       "    }\n",
       "\n",
       "    .dataframe thead th {\n",
       "        text-align: right;\n",
       "    }\n",
       "</style>\n",
       "<table border=\"1\" class=\"dataframe\">\n",
       "  <thead>\n",
       "    <tr style=\"text-align: right;\">\n",
       "      <th></th>\n",
       "      <th>movieId</th>\n",
       "      <th>title</th>\n",
       "      <th>genres</th>\n",
       "    </tr>\n",
       "  </thead>\n",
       "  <tbody>\n",
       "    <tr>\n",
       "      <th>3000</th>\n",
       "      <td>4016</td>\n",
       "      <td>Emperor's New Groove, The (2000)</td>\n",
       "      <td>Adventure|Animation|Children|Comedy|Fantasy</td>\n",
       "    </tr>\n",
       "    <tr>\n",
       "      <th>3001</th>\n",
       "      <td>4017</td>\n",
       "      <td>Pollock (2000)</td>\n",
       "      <td>Drama</td>\n",
       "    </tr>\n",
       "    <tr>\n",
       "      <th>3002</th>\n",
       "      <td>4018</td>\n",
       "      <td>What Women Want (2000)</td>\n",
       "      <td>Comedy|Romance</td>\n",
       "    </tr>\n",
       "    <tr>\n",
       "      <th>3003</th>\n",
       "      <td>4019</td>\n",
       "      <td>Finding Forrester (2000)</td>\n",
       "      <td>Drama</td>\n",
       "    </tr>\n",
       "    <tr>\n",
       "      <th>3004</th>\n",
       "      <td>4020</td>\n",
       "      <td>Gift, The (2000)</td>\n",
       "      <td>Thriller</td>\n",
       "    </tr>\n",
       "    <tr>\n",
       "      <th>...</th>\n",
       "      <td>...</td>\n",
       "      <td>...</td>\n",
       "      <td>...</td>\n",
       "    </tr>\n",
       "    <tr>\n",
       "      <th>3995</th>\n",
       "      <td>5636</td>\n",
       "      <td>Welcome to Collinwood (2002)</td>\n",
       "      <td>Comedy|Crime</td>\n",
       "    </tr>\n",
       "    <tr>\n",
       "      <th>3996</th>\n",
       "      <td>5637</td>\n",
       "      <td>Flirting (1991)</td>\n",
       "      <td>Drama</td>\n",
       "    </tr>\n",
       "    <tr>\n",
       "      <th>3997</th>\n",
       "      <td>5638</td>\n",
       "      <td>Godzilla vs. Mothra (Mosura tai Gojira) (1964)</td>\n",
       "      <td>Action|Adventure|Fantasy|Sci-Fi</td>\n",
       "    </tr>\n",
       "    <tr>\n",
       "      <th>3998</th>\n",
       "      <td>5640</td>\n",
       "      <td>Godzilla, King of the Monsters! (Kaijû-ô Gojir...</td>\n",
       "      <td>Horror|Sci-Fi</td>\n",
       "    </tr>\n",
       "    <tr>\n",
       "      <th>3999</th>\n",
       "      <td>5643</td>\n",
       "      <td>Powaqqatsi (1988)</td>\n",
       "      <td>Documentary</td>\n",
       "    </tr>\n",
       "  </tbody>\n",
       "</table>\n",
       "<p>1000 rows × 3 columns</p>\n",
       "</div>"
      ],
      "text/plain": [
       "      movieId                                              title  \\\n",
       "3000     4016                   Emperor's New Groove, The (2000)   \n",
       "3001     4017                                     Pollock (2000)   \n",
       "3002     4018                             What Women Want (2000)   \n",
       "3003     4019                           Finding Forrester (2000)   \n",
       "3004     4020                                   Gift, The (2000)   \n",
       "...       ...                                                ...   \n",
       "3995     5636                       Welcome to Collinwood (2002)   \n",
       "3996     5637                                    Flirting (1991)   \n",
       "3997     5638     Godzilla vs. Mothra (Mosura tai Gojira) (1964)   \n",
       "3998     5640  Godzilla, King of the Monsters! (Kaijû-ô Gojir...   \n",
       "3999     5643                                  Powaqqatsi (1988)   \n",
       "\n",
       "                                           genres  \n",
       "3000  Adventure|Animation|Children|Comedy|Fantasy  \n",
       "3001                                        Drama  \n",
       "3002                               Comedy|Romance  \n",
       "3003                                        Drama  \n",
       "3004                                     Thriller  \n",
       "...                                           ...  \n",
       "3995                                 Comedy|Crime  \n",
       "3996                                        Drama  \n",
       "3997              Action|Adventure|Fantasy|Sci-Fi  \n",
       "3998                                Horror|Sci-Fi  \n",
       "3999                                  Documentary  \n",
       "\n",
       "[1000 rows x 3 columns]"
      ]
     },
     "execution_count": 80,
     "metadata": {},
     "output_type": "execute_result"
    }
   ],
   "source": [
    "next(chunker)"
   ]
  },
  {
   "cell_type": "code",
   "execution_count": 54,
   "id": "1e6aeccd",
   "metadata": {},
   "outputs": [
    {
     "name": "stdout",
     "output_type": "stream",
     "text": [
      "True True\n"
     ]
    }
   ],
   "source": [
    "print('__iter__' in dir(chunker), '__next__' in dir(chunker)) "
   ]
  },
  {
   "cell_type": "code",
   "execution_count": null,
   "id": "778f924f",
   "metadata": {},
   "outputs": [],
   "source": [
    "list(chunker)"
   ]
  },
  {
   "cell_type": "code",
   "execution_count": 24,
   "id": "a0b95eb2",
   "metadata": {},
   "outputs": [],
   "source": [
    "import csv"
   ]
  },
  {
   "cell_type": "code",
   "execution_count": 26,
   "id": "ed047dcc",
   "metadata": {},
   "outputs": [],
   "source": [
    "class my_dialect(csv.Dialect):\n",
    "    lineterminator = '\\n'\n",
    "    delimiter = ';'\n",
    "    quotechar = '\"'\n",
    "    quoting = csv.QUOTE_MINIMAL\n",
    "\n",
    "with open('ml-latest-small\\movies.csv') as f:\n",
    "    reader = csv.reader(f, dialect=my_dialect)"
   ]
  },
  {
   "cell_type": "code",
   "execution_count": null,
   "id": "c73214f5",
   "metadata": {},
   "outputs": [],
   "source": []
  }
 ],
 "metadata": {
  "kernelspec": {
   "display_name": "Python 3",
   "language": "python",
   "name": "python3"
  },
  "language_info": {
   "codemirror_mode": {
    "name": "ipython",
    "version": 3
   },
   "file_extension": ".py",
   "mimetype": "text/x-python",
   "name": "python",
   "nbconvert_exporter": "python",
   "pygments_lexer": "ipython3",
   "version": "3.8.8"
  }
 },
 "nbformat": 4,
 "nbformat_minor": 5
}
