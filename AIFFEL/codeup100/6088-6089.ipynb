{
 "cells": [
  {
   "cell_type": "markdown",
   "id": "483c7ec2",
   "metadata": {},
   "source": [
    "### 6088 수나열하기 1"
   ]
  },
  {
   "cell_type": "markdown",
   "id": "5fc1149e",
   "metadata": {},
   "source": [
    "1부터 입력한 정수까지 1씩 증가시켜 출력하는 프로그램을 작성하되,\n",
    "3의 배수인 경우는 출력하지 않도록 만들어보자.\n",
    "\n",
    "예를 들면,\n",
    "1 2 4 5 7 8 10 11 13 14 ...\n",
    "와 같이 출력하는 것이다.\n",
    "\n",
    "예시\n",
    "...\n",
    "for i in range(1, n+1) :\n",
    "  if i%2==0 :\n",
    "    continue            #다음 반복 단계로 넘어간다.\n",
    "  print(i, end=' ')    #i가 짝수가 아닐 때만 실행된다.\n",
    "...\n",
    "위 코드는 홀 수만 출력하는 예시이다.\n",
    "\n",
    "참고\n",
    "조건문이나 반복문의 코드블록 안에서 continue 가 실행되면,\n",
    "반복 블록 안에 있는 나머지 부분을 실행하지 않고, 다음 반복 단계로 넘어간다.\n",
    "즉, 반복 블록의 나머지 부분은 실행되지 않고, 다음 단계의 반복을 계속(continue)하는 것이다.\n"
   ]
  },
  {
   "cell_type": "markdown",
   "id": "4d232297",
   "metadata": {},
   "source": [
    "#### 입력\n",
    "정수 1개를 입력받는다.\n",
    "(1 ~ 100)\n",
    "\n",
    "#### 출력\n",
    "1부터 입력한 정수보다 작거나 같을 때까지 1씩 증가시켜 출력하되\n",
    "3의 배수는 출력하지 않는다.\n",
    "\n",
    "\n",
    "#### 입력 예시   \n",
    "1 3 5\n",
    "\n",
    "#### 출력 예시\n",
    "13"
   ]
  },
  {
   "cell_type": "code",
   "execution_count": null,
   "id": "a6776fac",
   "metadata": {},
   "outputs": [],
   "source": [
    "while inputvalue := tuple(input(\"시작값, 등차의 값, 종료값을 공백으로 구분해 입력하세요:\\n\").split()):\n",
    "    if len(inputvalue) > 3:\n",
    "        continue\n",
    "    elif inputvalue[0].isdigit() is False or inputvalue[1].isdigit() is False or inputvalue[2].isdigit() is False: \n",
    "        continue\n",
    "    break\n",
    "\n",
    "a, r, n= map(int,inputvalue)\n",
    "for _ in range(1,n):\n",
    "    a += r\n",
    "print(a + r *(n-1))"
   ]
  },
  {
   "cell_type": "markdown",
   "id": "d7e3d8d4",
   "metadata": {},
   "source": [
    "### 6089. 수 나열하기2"
   ]
  },
  {
   "cell_type": "markdown",
   "id": "81c5e6f3",
   "metadata": {},
   "source": [
    "\n",
    "어떤 규칙에 따라 수를 순서대로 나열한 것을 수열(sequences)이라고 한다.\n",
    "\n",
    "예를 들어\n",
    "2 6 18 54 162 486 ... 은\n",
    "2부터 시작해 이전에 만든 수에 3을 곱해 다음 수를 만든 수열이다.\n",
    "\n",
    "이러한 것을 수학에서는 앞뒤 수들의 비율이 같다고 하여\n",
    "등비(비율이 같다의 한문 말) 수열이라고 한다. (등비수열 : geometric progression/sequence)\n",
    "\n",
    "등비 수열을 알게된 영일이는 갑자기 궁금해졌다.\n",
    "\"그럼.... 13번째 나오는 수는 뭘까?\"\n",
    "영일이는 프로그램을 만들어 더 큰 수도 자동으로 계산하고 싶어졌다.\n",
    "\n",
    "시작 값(a), 등비(r), 몇 번째인지를 나타내는 정수(n)가 입력될 때\n",
    "n번째 수를 출력하는 프로그램을 만들어보자.\n",
    "\n",
    "\n",
    "\n",
    "#### 입력\n",
    "시작 값(a), 등비의 값(r), 몇 번째 인지를 나타내는 정수(n)가\n",
    "공백을 두고 입력된다.(모두 0 ~ 10)\n",
    "\n",
    "#### 출력\n",
    "n번째 수를 출력한다.\n",
    "\n",
    "#### 입력 예시   \n",
    "2 3 7\n",
    "\n",
    "#### 출력 예시\n",
    "1458"
   ]
  },
  {
   "cell_type": "code",
   "execution_count": null,
   "id": "7204b40d",
   "metadata": {},
   "outputs": [],
   "source": [
    "'''\n",
    "시간복잡도 O(N)\n",
    "공간복잡도 O(1)\n",
    "'''\n",
    "\n",
    "while inputvalue := tuple(input(\"시작값, 등비의 값, 종료값을 공백으로 구분해 입력하세요:\\n\").split()):\n",
    "    if len(inputvalue) > 3:\n",
    "        continue\n",
    "    elif not all ([inputvalue[0].isdigit(), inputvalue[1].isdigit(), inputvalue[2].isdigit()]): \n",
    "        continue\n",
    "    break\n",
    "\n",
    "a, r, n= map(int,inputvalue)\n",
    "print(a * r **(n-1))"
   ]
  },
  {
   "cell_type": "code",
   "execution_count": 18,
   "id": "bfd3f908",
   "metadata": {},
   "outputs": [
    {
     "name": "stdout",
     "output_type": "stream",
     "text": [
      "시작값, 등차의 값, 종료값을 공백으로 구분해 입력하세요:\n",
      "1 3 5\n",
      "13\n"
     ]
    }
   ],
   "source": []
  },
  {
   "cell_type": "code",
   "execution_count": null,
   "id": "1b2d266e",
   "metadata": {},
   "outputs": [],
   "source": []
  }
 ],
 "metadata": {
  "kernelspec": {
   "display_name": "Python 3",
   "language": "python",
   "name": "python3"
  }
 },
 "nbformat": 4,
 "nbformat_minor": 5
}
