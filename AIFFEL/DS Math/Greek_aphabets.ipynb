{
 "cells": [
  {
   "cell_type": "markdown",
   "id": "b8bfc438",
   "metadata": {},
   "source": [
    "$$ \\alpha = \\beta $$\n",
    "$$ \\gamma = \\delta $$\n",
    "$$ \\epsilon = \\zeta $$\n",
    "$$ \\eta = \\theta $$\n",
    "$$ \\kappa = \\lambda $$\n",
    "$$ \\mu = \\nu $$\n",
    "$$ \\xi = \\pi $$\n",
    "$$ \\rho = \\sigma $$\n",
    "$$ \\tau = \\phi $$\n",
    "$$ \\chi = \\psi = \\omega $$"
   ]
  },
  {
   "cell_type": "markdown",
   "id": "9d12b3ec",
   "metadata": {},
   "source": [
    "$ \\alpha = \\beta $\n",
    "$ \\gamma = \\delta $\n",
    "$ \\epsilon = \\zeta $\n",
    "$ \\eta = \\theta $\n",
    "$ \\kappa = \\lambda $\n",
    "$ \\mu = \\nu $\n",
    "$ \\xi = \\pi $\n",
    "$ \\rho = \\sigma $\n",
    "$ \\tau = \\phi $\n",
    "$ \\chi = \\psi = \\omega $"
   ]
  },
  {
   "cell_type": "code",
   "execution_count": null,
   "id": "11e3513a",
   "metadata": {},
   "outputs": [],
   "source": []
  }
 ],
 "metadata": {
  "kernelspec": {
   "display_name": "Python 3",
   "language": "python",
   "name": "python3"
  },
  "language_info": {
   "codemirror_mode": {
    "name": "ipython",
    "version": 3
   },
   "file_extension": ".py",
   "mimetype": "text/x-python",
   "name": "python",
   "nbconvert_exporter": "python",
   "pygments_lexer": "ipython3",
   "version": "3.8.8"
  }
 },
 "nbformat": 4,
 "nbformat_minor": 5
}
