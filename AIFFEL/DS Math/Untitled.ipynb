{
 "cells": [
  {
   "cell_type": "code",
   "execution_count": 3,
   "id": "cea03a8d",
   "metadata": {},
   "outputs": [
    {
     "name": "stdout",
     "output_type": "stream",
     "text": [
      "A 주식의 주가는100, 구매할 주식 수는 3주, 총비용은 300만원 입니다.\n",
      "B 주식의 주가는80, 구매할 주식 수는 4주, 총비용은 320만원 입니다.\n",
      "C 주식의 주가는50, 구매할 주식 수는 5주, 총비용은 250만원 입니다.\n"
     ]
    }
   ],
   "source": [
    "import numpy as np\n",
    "\n",
    "name = (['A', 'B', 'C'])\n",
    "p = np.array([100, 80, 50])\n",
    "n = np.array([3,4,5])\n",
    "np = p.T * n\n",
    "for i in range(len(name)):\n",
    "    print(f'{name[i]} 주식의 주가는{p[i]}, 구매할 주식 수는 {n[i]}주, 총비용은 {np[i]}만원 입니다.')\n"
   ]
  },
  {
   "cell_type": "code",
   "execution_count": 7,
   "id": "129ef6c1",
   "metadata": {},
   "outputs": [
    {
     "name": "stdout",
     "output_type": "stream",
     "text": [
      "[300 320 250]\n"
     ]
    }
   ],
   "source": []
  },
  {
   "cell_type": "code",
   "execution_count": null,
   "id": "aeabe838",
   "metadata": {},
   "outputs": [],
   "source": []
  }
 ],
 "metadata": {
  "kernelspec": {
   "display_name": "Python 3",
   "language": "python",
   "name": "python3"
  },
  "language_info": {
   "codemirror_mode": {
    "name": "ipython",
    "version": 3
   },
   "file_extension": ".py",
   "mimetype": "text/x-python",
   "name": "python",
   "nbconvert_exporter": "python",
   "pygments_lexer": "ipython3",
   "version": "3.8.8"
  }
 },
 "nbformat": 4,
 "nbformat_minor": 5
}
