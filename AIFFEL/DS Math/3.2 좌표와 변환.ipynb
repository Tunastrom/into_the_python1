{
 "cells": [
  {
   "cell_type": "code",
   "execution_count": 2,
   "id": "5f1ce063",
   "metadata": {},
   "outputs": [
    {
     "data": {
      "text/plain": [
       "array([0., 0.])"
      ]
     },
     "execution_count": 2,
     "metadata": {},
     "output_type": "execute_result"
    }
   ],
   "source": [
    "import numpy as np\n",
    "x1 = np.array([1,2])\n",
    "x2 = np.array([3,3])\n",
    "x3 = np.array([10,14])\n",
    "2 * x1 + x2 - 0.5 * x3  "
   ]
  },
  {
   "cell_type": "code",
   "execution_count": 3,
   "id": "797b26bf",
   "metadata": {},
   "outputs": [
    {
     "data": {
      "text/plain": [
       "2"
      ]
     },
     "execution_count": 3,
     "metadata": {},
     "output_type": "execute_result"
    }
   ],
   "source": [
    "X1 = np.array([[1,3], [2,4]])\n",
    "np.linalg.matrix_rank(X1)"
   ]
  },
  {
   "cell_type": "code",
   "execution_count": 5,
   "id": "b2285073",
   "metadata": {},
   "outputs": [
    {
     "data": {
      "text/plain": [
       "2"
      ]
     },
     "execution_count": 5,
     "metadata": {},
     "output_type": "execute_result"
    }
   ],
   "source": [
    "X2 = np.array([[1,3,5],[2,3,7]])\n",
    "np.linalg.matrix_rank(X2)"
   ]
  },
  {
   "cell_type": "code",
   "execution_count": 6,
   "id": "655fe7b5",
   "metadata": {},
   "outputs": [
    {
     "data": {
      "text/plain": [
       "1"
      ]
     },
     "execution_count": 6,
     "metadata": {},
     "output_type": "execute_result"
    }
   ],
   "source": [
    "x = np.array([[1],[1]])\n",
    "np.linalg.matrix_rank(x @ x.T)"
   ]
  },
  {
   "cell_type": "code",
   "execution_count": 18,
   "id": "994286ed",
   "metadata": {},
   "outputs": [
    {
     "data": {
      "text/plain": [
       "2"
      ]
     },
     "execution_count": 18,
     "metadata": {},
     "output_type": "execute_result"
    }
   ],
   "source": [
    "x1 = np.array([[1], [1]])\n",
    "x2 = np.array([[1], [-1]])\n",
    "x3 = np.concatenate((x1,x2),axis=1)\n",
    "np.linalg.matrix_rank(x3 @ x3.T)"
   ]
  },
  {
   "cell_type": "code",
   "execution_count": null,
   "id": "5dea54ce",
   "metadata": {},
   "outputs": [],
   "source": []
  }
 ],
 "metadata": {
  "kernelspec": {
   "display_name": "Python 3",
   "language": "python",
   "name": "python3"
  },
  "language_info": {
   "codemirror_mode": {
    "name": "ipython",
    "version": 3
   },
   "file_extension": ".py",
   "mimetype": "text/x-python",
   "name": "python",
   "nbconvert_exporter": "python",
   "pygments_lexer": "ipython3",
   "version": "3.8.8"
  }
 },
 "nbformat": 4,
 "nbformat_minor": 5
}
