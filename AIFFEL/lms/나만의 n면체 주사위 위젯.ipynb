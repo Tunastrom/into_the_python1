{
 "cells": [
  {
   "cell_type": "markdown",
   "id": "9e33eb6a",
   "metadata": {},
   "source": [
    "## 객체지향프로그래밍\n",
    "-----"
   ]
  },
  {
   "cell_type": "code",
   "execution_count": 2,
   "id": "f7249ebc",
   "metadata": {},
   "outputs": [],
   "source": [
    "class Car:\n",
    "    corlor = 'red'\n",
    "    category = 'sports car'\n",
    "    \n",
    "    def drive(self):\n",
    "        print(\"I'm driving\")\n",
    "        \n",
    "    def accel(self, speed_up, current_speed=10):\n",
    "        self.speed_up = speed_up\n",
    "        self.current_speed = current_speed + speed_up\n",
    "        print(\"speed_up\", self.speed_up, \"driving at\", self.current_speed)"
   ]
  },
  {
   "cell_type": "markdown",
   "id": "2e325382",
   "metadata": {},
   "source": [
    "## n면체 주사위\n",
    "-----"
   ]
  },
  {
   "cell_type": "code",
   "execution_count": 14,
   "id": "5e7ccc72",
   "metadata": {},
   "outputs": [],
   "source": [
    "from random import randrange\n",
    "\n",
    "class FunnyDice:\n",
    "    def __init__(self, n=6):\n",
    "        self.n = int(n)\n",
    "        self.numbers = list(range(1, self.n+1))\n",
    "        self.index = randrange(0, self.n)\n",
    "        self.val = self.numbers[self.index]\n",
    "        \n",
    "    def throw(self):\n",
    "        self.index = randrange(0, self.n)\n",
    "        self.val = self.numbers[self.index]\n",
    "    \n",
    "    def getval(self):\n",
    "        return self.val\n",
    "    \n",
    "    def setval(self, val:int):\n",
    "        if val <= self.n:\n",
    "            self.val = val\n",
    "        else:\n",
    "            msg = f\"주사위에 없는 숫자입니다. 주사위는 1 ~ {self.n}까지 있습니다.\"\n",
    "            raise ValueError(msg)"
   ]
  },
  {
   "cell_type": "code",
   "execution_count": 15,
   "id": "17a2fdf3",
   "metadata": {},
   "outputs": [],
   "source": [
    "def get_inputs():\n",
    "    while n := input(\"면의 수를 입력하세요\"):\n",
    "        if not n.isdigit():\n",
    "            continue\n",
    "        return n\n",
    "\n",
    "def main():\n",
    "    number = get_inputs()\n",
    "    mydice = FunnyDice(number)\n",
    "    mydice.throw()\n",
    "    print(f\"행운의 숫자는? {mydice.getv8al()}\")    "
   ]
  },
  {
   "cell_type": "code",
   "execution_count": 17,
   "id": "753ed24f",
   "metadata": {},
   "outputs": [
    {
     "name": "stdout",
     "output_type": "stream",
     "text": [
      "면의 수를 입력하세요10\n",
      "행운의 숫자는? 9\n"
     ]
    }
   ],
   "source": [
    "if __name__ == '__main__':\n",
    "    main()"
   ]
  },
  {
   "cell_type": "markdown",
   "id": "0f473a95",
   "metadata": {},
   "source": []
  }
 ],
 "metadata": {
  "kernelspec": {
   "display_name": "Python 3",
   "language": "python",
   "name": "python3"
  },
  "language_info": {
   "codemirror_mode": {
    "name": "ipython",
    "version": 3
   },
   "file_extension": ".py",
   "mimetype": "text/x-python",
   "name": "python",
   "nbconvert_exporter": "python",
   "pygments_lexer": "ipython3",
   "version": "3.8.8"
  }
 },
 "nbformat": 4,
 "nbformat_minor": 5
}
