{
 "cells": [
  {
   "cell_type": "code",
   "execution_count": 66,
   "id": "4c0485da",
   "metadata": {},
   "outputs": [],
   "source": [
    "from typing import Optional\n",
    "\n",
    "\n",
    "# 숫자 연속으로 입력받아서 리스트 X에 저장하는 코드  \n",
    "def numbers ():\n",
    "    X =[]\n",
    "    while True:\n",
    "        number = input(\"input your number: (<Enter Key> to quit)\")\n",
    "        while number !=\"\":\n",
    "            try:\n",
    "                x = float(number)\n",
    "                X.append(x)\n",
    "            except ValueError:\n",
    "                print('>>> NOT a number! Ignored.')\n",
    "            number = input(\"Enter a number (<Enter key> to quit)\")\n",
    "        if len(X) > 1:\n",
    "            return X\n",
    "        \n",
    "# 리스트 활용한 시그마 연산 코드\n",
    "def sigma(X: Optional[list]) -> float:\n",
    "    sigma, n = 0.0, len(X)\n",
    "    for i in range(n):\n",
    "        sigma = sigma + X[i]\n",
    "    return sigma, n\n",
    "\n",
    "# 평균 연산 코드\n",
    "def average(sigma: Optional[float], n: Optional[int]) -> float:\n",
    "    total, n = sigma, n\n",
    "    avg = total/n\n",
    "    return avg\n",
    "\n",
    "# 중앙값 연산 코드                   \n",
    "def median(X: Optional[list]) -> float:\n",
    "    X.sort()\n",
    "    n = len(X)\n",
    "    p = n // 2\n",
    "    if n % 2 ==0:\n",
    "        pr, pl = p, p-1\n",
    "        mid = (X[pl]+X[pr])/2\n",
    "    else:\n",
    "        mid = X[p]\n",
    "    return mid    \n",
    "\n",
    "# 표준편차\n",
    "def std_dev(X: Optional[list], avg: Optional[float]) -> float:\n",
    "    texp = 0.0\n",
    "    for i in range(len(X)):\n",
    "        texp += (X[i] - avg)**2       # 각 숫자와 평균값의 차이의 제곱을 시그마\n",
    "    return ((texp/len(X)-1)) ** 0.5  # texp를 n-1로 나눈 값의 제곱근 리턴\n",
    "\n",
    "\n",
    "# main\n",
    "def main():\n",
    "    X = numbers()\n",
    "    med = median(X)\n",
    "    sig,n = sigma(X)\n",
    "    avg = average(sig, n)\n",
    "    std = std_dev(X, avg)\n",
    "    print(f\"당신이 입력한 숫자{X}의\")\n",
    "    print(f\"중앙값은{med}, 평균은{avg}, 표준편차는{std}입니다.\")"
   ]
  },
  {
   "cell_type": "code",
   "execution_count": 65,
   "id": "ec1dee35",
   "metadata": {},
   "outputs": [
    {
     "name": "stdout",
     "output_type": "stream",
     "text": [
      "input your number: (<Enter Key> to quit)1\n",
      "Enter a number (<Enter key> to quit)321\n",
      "Enter a number (<Enter key> to quit)423\n",
      "Enter a number (<Enter key> to quit)12\n",
      "Enter a number (<Enter key> to quit)5132\n",
      "Enter a number (<Enter key> to quit)412\n",
      "Enter a number (<Enter key> to quit)4231\n",
      "Enter a number (<Enter key> to quit)4125\n",
      "Enter a number (<Enter key> to quit)1325\n",
      "Enter a number (<Enter key> to quit)1\n",
      "Enter a number (<Enter key> to quit)\n",
      "당신이 입력한 숫자[1.0, 1.0, 12.0, 321.0, 412.0, 423.0, 1325.0, 4125.0, 4231.0, 5132.0]의\n",
      "중앙은417.5, 평균은1598.3, 표준편차는1947.2096985173423입니다.\n"
     ]
    }
   ],
   "source": [
    "main()"
   ]
  },
  {
   "cell_type": "markdown",
   "id": "88027f4a",
   "metadata": {},
   "source": []
  }
 ],
 "metadata": {
  "kernelspec": {
   "display_name": "Python 3",
   "language": "python",
   "name": "python3"
  }
 },
 "nbformat": 4,
 "nbformat_minor": 5
}
