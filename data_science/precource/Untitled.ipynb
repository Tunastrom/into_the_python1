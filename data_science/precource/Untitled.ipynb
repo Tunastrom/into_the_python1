{
 "cells": [
  {
   "cell_type": "code",
   "execution_count": 1,
   "metadata": {},
   "outputs": [],
   "source": [
    "class SoccerPlayer(object):\n",
    "    def __init__(self, name : str, position : str, back_number : int):\n",
    "        self.name = name\n",
    "        self.position = position\n",
    "        self.back_number = back_number\n",
    "        \n",
    "    ## magic method, ex) __main__, __add__, __str__, __eq__\n",
    "    def __str__(self):\n",
    "        return f'Hello, My name is {self.name},. I play in {self.position} in center'\n",
    "\n",
    "    def __add__(self, other):\n",
    "        return self.name + other.name\n",
    "\n",
    "    def change_back_number(self, new_number):\n",
    "        print('선수의 등번호를 변경합니다 : From %d to %d' %(self.back_number, new_number))\n",
    "        self.back_number = new_number"
   ]
  },
  {
   "cell_type": "code",
   "execution_count": 4,
   "metadata": {},
   "outputs": [
    {
     "name": "stdout",
     "output_type": "stream",
     "text": [
      "Hello, My name is Ji,. I play in ST in center\n",
      "Hello, My name is Sangryeol ,. I play in ST in center\n"
     ]
    }
   ],
   "source": [
    "Ji = SoccerPlayer('Ji', 'ST', 1)\n",
    "Sangryeol = SoccerPlayer('Sangryeol ', 'ST', 1)\n",
    "print(Ji)\n",
    "print(Sangryeol)"
   ]
  },
  {
   "cell_type": "code",
   "execution_count": 3,
   "metadata": {},
   "outputs": [
    {
     "data": {
      "text/plain": [
       "'JiSangryeol '"
      ]
     },
     "execution_count": 3,
     "metadata": {},
     "output_type": "execute_result"
    }
   ],
   "source": [
    "Ji + Sangryeol"
   ]
  },
  {
   "cell_type": "code",
   "execution_count": null,
   "metadata": {},
   "outputs": [],
   "source": []
  }
 ],
 "metadata": {
  "kernelspec": {
   "display_name": "Python 3",
   "language": "python",
   "name": "python3"
  },
  "language_info": {
   "codemirror_mode": {
    "name": "ipython",
    "version": 3
   },
   "file_extension": ".py",
   "mimetype": "text/x-python",
   "name": "python",
   "nbconvert_exporter": "python",
   "pygments_lexer": "ipython3",
   "version": "3.8.5"
  }
 },
 "nbformat": 4,
 "nbformat_minor": 4
}
