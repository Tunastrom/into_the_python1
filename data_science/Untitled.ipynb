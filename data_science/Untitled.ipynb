{
 "cells": [
  {
   "cell_type": "markdown",
   "metadata": {},
   "source": [
    "# 가장 큰 제목\n",
    "## 두번째 큰 제목\n",
    "### 세 번째 큰 제목\n",
    "\n",
    "그냥글."
   ]
  },
  {
   "cell_type": "markdown",
   "metadata": {},
   "source": [
    "글을 **두껍게** 쓰기, *날려* 쓰기"
   ]
  },
  {
   "cell_type": "code",
   "execution_count": null,
   "metadata": {},
   "outputs": [],
   "source": []
  },
  {
   "cell_type": "markdown",
   "metadata": {},
   "source": [
    "이렇게 리스트를 쓸수도 있다\n",
    "* list item1\n",
    "* list item2\n",
    "* list item3\n"
   ]
  },
  {
   "cell_type": "markdown",
   "metadata": {},
   "source": [
    "1. 첫째\n",
    "2. 둘째\n",
    "3. 셋째"
   ]
  },
  {
   "cell_type": "markdown",
   "metadata": {},
   "source": [
    "* 번호없음1\n",
    "* 번호없음2\n",
    "* 번호없음3\n"
   ]
  },
  {
   "cell_type": "markdown",
   "metadata": {},
   "source": [
    "경찰청 철창살은 외철창살이냐 쌍철창살이냐?\n",
    "\n",
    "\n",
    "내가 그린 기린 그림은 잘 그린 기린 그림이고 네가 그린 기린 그림은 잘 못 그린 기린 그림이다.\n",
    "\n",
    "\n",
    "신인 샹송 가수의 신춘 샹송 쇼  "
   ]
  },
  {
   "cell_type": "markdown",
   "metadata": {},
   "source": [
    "이탈릭체는 *별표*나 _언더바_로.\n",
    "\n",
    "볼드체는 **별표 두 개**나 __언더바 두 개__로.\n",
    "\n",
    "**별표와 _언더바_**를 섞어서.\n",
    "\n",
    "취소선은 ~~물결~~로."
   ]
  },
  {
   "cell_type": "markdown",
   "metadata": {},
   "source": [
    "코딩 강의는 역시 [코드잇](https://www.codeit.kr)이죠!\n"
   ]
  },
  {
   "cell_type": "markdown",
   "metadata": {},
   "source": [
    "![코드잇](https://www.codeit.kr/static/images/brand/logo_original.png)"
   ]
  },
  {
   "cell_type": "markdown",
   "metadata": {},
   "source": [
    "'''\n",
    "python  \n",
    "print('hello world!')  \n",
    "for i in range(10):  \n",
    "    print(i)  \n",
    "'''"
   ]
  },
  {
   "cell_type": "markdown",
   "metadata": {},
   "source": [
    "값을 출력하고 싶으면 'print' 함수를 사용하면 됨"
   ]
  },
  {
   "cell_type": "markdown",
   "metadata": {},
   "source": [
    "구분 선 위\n",
    "\n",
    "---\n",
    "\n",
    "구분 선 아래"
   ]
  },
  {
   "cell_type": "code",
   "execution_count": 10,
   "metadata": {},
   "outputs": [],
   "source": [
    "x = 17"
   ]
  },
  {
   "cell_type": "code",
   "execution_count": 11,
   "metadata": {},
   "outputs": [
    {
     "name": "stdout",
     "output_type": "stream",
     "text": [
      "17\n"
     ]
    }
   ],
   "source": [
    "print(x)"
   ]
  },
  {
   "cell_type": "code",
   "execution_count": 14,
   "metadata": {},
   "outputs": [
    {
     "data": {
      "text/plain": [
       "17"
      ]
     },
     "execution_count": 14,
     "metadata": {},
     "output_type": "execute_result"
    }
   ],
   "source": [
    "x"
   ]
  },
  {
   "cell_type": "code",
   "execution_count": 12,
   "metadata": {},
   "outputs": [
    {
     "name": "stdout",
     "output_type": "stream",
     "text": [
      "7\n",
      "17\n",
      "12\n"
     ]
    }
   ],
   "source": [
    "print(2 + 5)\n",
    "print(x)\n",
    "print(3 * 4)"
   ]
  },
  {
   "cell_type": "code",
   "execution_count": 13,
   "metadata": {},
   "outputs": [
    {
     "data": {
      "text/plain": [
       "12"
      ]
     },
     "execution_count": 13,
     "metadata": {},
     "output_type": "execute_result"
    }
   ],
   "source": [
    "2 + 5\n",
    "x \n",
    "3 * 4"
   ]
  },
  {
   "cell_type": "code",
   "execution_count": 15,
   "metadata": {},
   "outputs": [
    {
     "name": "stdout",
     "output_type": "stream",
     "text": [
      "7\n",
      "17\n",
      "12\n"
     ]
    },
    {
     "data": {
      "text/plain": [
       "12"
      ]
     },
     "execution_count": 15,
     "metadata": {},
     "output_type": "execute_result"
    }
   ],
   "source": [
    "2 + 5\n",
    "x\n",
    "print(2 + 5)\n",
    "print(x)\n",
    "print(3 * 4)\n",
    "3 * 4"
   ]
  },
  {
   "cell_type": "code",
   "execution_count": 23,
   "metadata": {
    "scrolled": true
   },
   "outputs": [],
   "source": [
    "import pandas as pd\n",
    "df = pd.read_csv('liverpool.csv')"
   ]
  },
  {
   "cell_type": "code",
   "execution_count": 24,
   "metadata": {
    "scrolled": false
   },
   "outputs": [
    {
     "name": "stdout",
     "output_type": "stream",
     "text": [
      "              Name Position  Born  Number Nationality\n",
      "0  Roberto Firmino       FW  1991   no. 9      Brazil\n",
      "1       Sadio Mane       FW  1992  no. 10     Senegal\n",
      "2    Mohamed Salah       FW  1992  no. 11       Egypt\n",
      "3        Joe Gomez       DF  1997  no. 12     England\n",
      "4   Alisson Becker       GK  1992  no. 13      Brazil\n"
     ]
    }
   ],
   "source": [
    "print(df)"
   ]
  },
  {
   "cell_type": "code",
   "execution_count": null,
   "metadata": {},
   "outputs": [],
   "source": []
  }
 ],
 "metadata": {
  "kernelspec": {
   "display_name": "Python 3",
   "language": "python",
   "name": "python3"
  },
  "language_info": {
   "codemirror_mode": {
    "name": "ipython",
    "version": 3
   },
   "file_extension": ".py",
   "mimetype": "text/x-python",
   "name": "python",
   "nbconvert_exporter": "python",
   "pygments_lexer": "ipython3",
   "version": "3.8.5"
  }
 },
 "nbformat": 4,
 "nbformat_minor": 4
}
